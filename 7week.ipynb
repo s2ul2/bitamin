{
  "nbformat": 4,
  "nbformat_minor": 0,
  "metadata": {
    "colab": {
      "name": "7week.ipynb",
      "private_outputs": true,
      "provenance": [],
      "collapsed_sections": [],
      "authorship_tag": "ABX9TyNQPsIs0dWxzrVsgXRZf0v4",
      "include_colab_link": true
    },
    "kernelspec": {
      "name": "python3",
      "display_name": "Python 3"
    },
    "language_info": {
      "name": "python"
    }
  },
  "cells": [
    {
      "cell_type": "markdown",
      "metadata": {
        "id": "view-in-github",
        "colab_type": "text"
      },
      "source": [
        "<a href=\"https://colab.research.google.com/github/s2ul2/bitamin/blob/main/7week.ipynb\" target=\"_parent\"><img src=\"https://colab.research.google.com/assets/colab-badge.svg\" alt=\"Open In Colab\"/></a>"
      ]
    },
    {
      "cell_type": "code",
      "metadata": {
        "id": "aNedLZEqFUCs"
      },
      "source": [
        "import pandas as pd\n",
        "import numpy as np\n",
        "import matplotlib.pyplot as plt\n",
        "import seaborn as sns"
      ],
      "execution_count": null,
      "outputs": []
    },
    {
      "cell_type": "markdown",
      "metadata": {
        "id": "CVK_CT8DkMkC"
      },
      "source": [
        "# 선형 회귀"
      ]
    },
    {
      "cell_type": "code",
      "metadata": {
        "id": "iS76OWXRGA6Z"
      },
      "source": [
        "# 보스턴 주택 데이터셋\n",
        "from sklearn import datasets\n",
        "housing = datasets.load_boston()"
      ],
      "execution_count": null,
      "outputs": []
    },
    {
      "cell_type": "code",
      "metadata": {
        "id": "q2chF3AeGDOq"
      },
      "source": [
        "housing.keys()"
      ],
      "execution_count": null,
      "outputs": []
    },
    {
      "cell_type": "code",
      "metadata": {
        "id": "uSJa-vubGDUJ"
      },
      "source": [
        "# pandas dataframe로 변환\n",
        "data = pd.DataFrame(housing['data'], columns = housing['feature_names'])\n",
        "target = pd.DataFrame(housing['target'], columns = ['Target']) \n",
        "\n",
        "# 데이터 셋 크기\n",
        "print(data.shape)\n",
        "print(target.shape)"
      ],
      "execution_count": null,
      "outputs": []
    },
    {
      "cell_type": "code",
      "metadata": {
        "id": "iXzoSuvMGDaE"
      },
      "source": [
        "# 데이터 프레임 결합 - data와 target\n",
        "df = pd.concat([data, target], axis = 1)\n",
        "df.head(3)"
      ],
      "execution_count": null,
      "outputs": []
    },
    {
      "cell_type": "code",
      "metadata": {
        "id": "mPZQwkyRGDfy"
      },
      "source": [
        "df.info"
      ],
      "execution_count": null,
      "outputs": []
    },
    {
      "cell_type": "code",
      "metadata": {
        "id": "bJorqzOCGDlg"
      },
      "source": [
        "df.isnull().sum()"
      ],
      "execution_count": null,
      "outputs": []
    },
    {
      "cell_type": "code",
      "metadata": {
        "id": "9-tPiQY4GDq8"
      },
      "source": [
        "# 상관관계 분석\n",
        "df_corr = df.corr()\n",
        "\n",
        "plt.figure(figsize = (10, 10))\n",
        "sns.set(font_scale = 0.8)\n",
        "sns.heatmap(df_corr, annot = True, cbar = False)\n",
        "plt.show()"
      ],
      "execution_count": null,
      "outputs": []
    },
    {
      "cell_type": "code",
      "metadata": {
        "id": "mzS7BAFqGDxT"
      },
      "source": [
        "# target 변수와 상관관계가 높은 순으로 출력\n",
        "corr_order = df.corr().loc[:'LSTAT', 'Target'].abs().sort_values(ascending = False)\n",
        "corr_order"
      ],
      "execution_count": null,
      "outputs": []
    },
    {
      "cell_type": "code",
      "metadata": {
        "id": "d0ueaz8AGD2u"
      },
      "source": [
        "# 시각화로 분석할 피처 선택 추출\n",
        "plot_cols = ['Target', 'LSTAT', 'RM', 'PTRATIO', 'INDUS']\n",
        "plot_df = df.loc[:, plot_cols]\n",
        "plot_df.head()"
      ],
      "execution_count": null,
      "outputs": []
    },
    {
      "cell_type": "code",
      "metadata": {
        "id": "kE82miwIGD8b"
      },
      "source": [
        "# regplot으로 선형회귀선 표시\n",
        "plt.figure(figsize = (10, 10))\n",
        "for idx, col in enumerate(plot_cols[1:]):\n",
        "    ax1 = plt.subplot(2, 2, idx + 1)\n",
        "    sns.regplot(x = col, y = plot_cols[0], data = plot_df, ax = ax1)\n",
        "plt.show()"
      ],
      "execution_count": null,
      "outputs": []
    },
    {
      "cell_type": "code",
      "metadata": {
        "id": "LvWdpu3RGECT"
      },
      "source": [
        "# 피처 스케일링\n",
        "from sklearn.preprocessing import MinMaxScaler\n",
        "scaler = MinMaxScaler()\n",
        "\n",
        "df_scaled = df.iloc[:, :-1] # 마지막 열인 target을 제외하고 스케일러를 돌림\n",
        "scaler.fit(df_scaled)\n",
        "df_scaled = scaler.transform(df_scaled)\n",
        "\n",
        "# 스케일링 변환된 값을 데이터프레임에 반영\n",
        "df.iloc[:, :-1] = df_scaled[:, :]\n",
        "df.head()\n",
        "\n"
      ],
      "execution_count": null,
      "outputs": []
    },
    {
      "cell_type": "code",
      "metadata": {
        "id": "FQ9NYmjFGEIT"
      },
      "source": [
        "# 학습 데이터와 테스트 데이터 분할\n",
        "from sklearn.model_selection import train_test_split\n",
        "x_data = df.loc[:, ['LSTAT', 'RM']]\n",
        "y_data = df.loc[:, 'Target']\n",
        "x_train, x_test, y_train, y_test = train_test_split(x_data,\n",
        "                                                    y_data,\n",
        "                                                    test_size = 0.2,\n",
        "                                                    shuffle = True,\n",
        "                                                    random_state = 12)\n",
        "print(x_train.shape, y_train.shape)\n",
        "print(x_test.shape, y_test.shape)"
      ],
      "execution_count": null,
      "outputs": []
    },
    {
      "cell_type": "code",
      "metadata": {
        "id": "fX2-cApeGEN-"
      },
      "source": [
        "from sklearn.linear_model import LinearRegression\n",
        "lr = LinearRegression()\n",
        "lr.fit(x_train, y_train)\n",
        "\n",
        "print(\"회귀계수(기울기) : \", np.round(lr.coef_, 1))\n",
        "print(\"상수항(절편) : \", np.round(lr.intercept_, 1))"
      ],
      "execution_count": null,
      "outputs": []
    },
    {
      "cell_type": "code",
      "metadata": {
        "id": "qFirOfzYgVqX"
      },
      "source": [
        "y_test_pred = lr.predict(x_test)\n",
        "\n",
        "# 예측값과 실제값의 분포\n",
        "plt.figure(figsize = (10, 5))\n",
        "plt.scatter(x_test['LSTAT'], y_test, label = 'y_test')\n",
        "plt.scatter(x_test['LSTAT'], y_test_pred, c = 'r', label = 'y_pred')\n",
        "plt.legend(loc = 'best')\n",
        "plt.show()"
      ],
      "execution_count": null,
      "outputs": []
    },
    {
      "cell_type": "code",
      "metadata": {
        "id": "vWK2NCwJgVv6"
      },
      "source": [
        "# 성능 평가 - MSE 사용\n",
        "from sklearn.metrics import mean_squared_error\n",
        "y_train_pred = lr.predict(x_train)\n",
        "\n",
        "train_mse = mean_squared_error(y_train, y_train_pred)  # 훈련 데이터의 평가 점수\n",
        "print('Train MSE : %.4f' % train_mse)\n",
        "\n",
        "test_mse = mean_squared_error(y_test, y_test_pred)\n",
        "print('Test MSE : %.4f' % test_mse)"
      ],
      "execution_count": null,
      "outputs": []
    },
    {
      "cell_type": "markdown",
      "metadata": {
        "id": "5Ee0rRHHkP2o"
      },
      "source": [
        "# 로버스트 회귀"
      ]
    },
    {
      "cell_type": "code",
      "metadata": {
        "id": "L-0XN7UigV1e"
      },
      "source": [
        "df.head()"
      ],
      "execution_count": null,
      "outputs": []
    },
    {
      "cell_type": "code",
      "metadata": {
        "id": "4MFQkFCpmcAA"
      },
      "source": [
        "from google.colab import drive\n",
        "drive.mount('/content/drive')"
      ],
      "execution_count": null,
      "outputs": []
    },
    {
      "cell_type": "code",
      "metadata": {
        "id": "P4NPJRbmgV7C"
      },
      "source": [
        "df = pd.read_csv('/content/drive/MyDrive/housing.data.txt', header = None, sep='\\s+')\n",
        "df.columns = ['CRIM', 'ZN', 'INDUS', 'CHAS', 'NOX', 'RM', 'AGE', 'DIS', 'RAD', 'TAX', 'PTRATIO', 'B', 'LSTAT', 'MEDV']\n",
        "df.head()"
      ],
      "execution_count": null,
      "outputs": []
    },
    {
      "cell_type": "code",
      "metadata": {
        "id": "kAOEqDdXgWAX"
      },
      "source": [
        "# 선형 회귀\n",
        "from sklearn.linear_model import LinearRegression\n",
        "slr = LinearRegression(fit_intercept = True)\n",
        "X = df[['RM']].values\n",
        "y = df[['MEDV']].values\n",
        "slr.fit(X, y)\n",
        "print('기울기 : %.3f' % slr.coef_[0])\n",
        "print('절편 : %.3f' % slr.intercept_)\n",
        "\n",
        "import matplotlib.pyplot as plt\n",
        "plt.scatter(X, y, c = 'steelblue', edgecolor = 'white', s = 70)\n",
        "plt.plot(X, slr.predict(X), color = 'black', lw = 2)\n",
        "plt.xlabel('Average number of rooms [RM]')\n",
        "plt.ylabel('Price in $1000s [MEDV]')\n",
        "\n",
        "plt.show()"
      ],
      "execution_count": null,
      "outputs": []
    },
    {
      "cell_type": "code",
      "metadata": {
        "id": "pVkwr4HXgWK8"
      },
      "source": [
        "# RANSAC Regressor\n",
        "from sklearn.linear_model import RANSACRegressor\n",
        "ransac = RANSACRegressor(LinearRegression(),\n",
        "                         max_trials = 100,\n",
        "                         min_samples = 50,\n",
        "                         loss = 'absolute_loss',\n",
        "                         residual_threshold = 5.0,\n",
        "                         random_state = 0)\n",
        "\n",
        "# 선형회귀분석 수행\n",
        "ransac.fit(X, y)\n",
        "\n",
        "# 데이터들이 오차 범위 내에 있는지 여부를 저장한 배열을 가져와서 저장\n",
        "inlier_mask = ransac.inlier_mask_\n",
        "\n",
        "# 배열 값을 반대로 만들어서 저장\n",
        "outlier_mask = np.logical_not(inlier_mask)\n",
        "\n",
        "# 그래프를 그릴 범위 설정\n",
        "line_X = np.arange(3, 10, 1)\n",
        "\n",
        "# 그릴 범위에 해당하는 데이터의 예측값 가져오기\n",
        "line_y_ransac = ransac.predict(line_X[:, np.newaxis])"
      ],
      "execution_count": null,
      "outputs": []
    },
    {
      "cell_type": "code",
      "metadata": {
        "id": "T-ddJtvLquog"
      },
      "source": [
        "# 실제 데이터를 산점도로 표현\n",
        "plt.scatter(X[inlier_mask], y[inlier_mask],\n",
        "            c = 'steelblue', edgecolor = 'white',\n",
        "            marker = 'o', label = 'Inliers')\n",
        "plt.scatter(X[outlier_mask], y [outlier_mask],\n",
        "            c = 'limegreen', edgecolor = 'white',\n",
        "            marker = 's', label = 'Outliers')\n",
        "# 예측 모델을 선 그래프로 표현\n",
        "plt.plot(line_X, line_y_ransac, color = 'black', lw = 2)\n",
        "plt.xlabel(\"Average number of rooms [RM]\")\n",
        "plt.ylabel('Price in $1000s [MEDV]')\n",
        "plt.legend(loc = 'upper left')\n",
        "\n",
        "print('기울기 : %.3f' % ransac.estimator_.coef_[0])\n",
        "print('절편 : %.3f' % ransac.estimator_.intercept_)\n",
        "plt.show()"
      ],
      "execution_count": null,
      "outputs": []
    },
    {
      "cell_type": "code",
      "metadata": {
        "id": "aQr5P6lHpU5K"
      },
      "source": [
        ""
      ],
      "execution_count": null,
      "outputs": []
    },
    {
      "cell_type": "code",
      "metadata": {
        "id": "55N6goF7pU8e"
      },
      "source": [
        ""
      ],
      "execution_count": null,
      "outputs": []
    },
    {
      "cell_type": "code",
      "metadata": {
        "id": "k5u8QVM7pU_v"
      },
      "source": [
        ""
      ],
      "execution_count": null,
      "outputs": []
    },
    {
      "cell_type": "code",
      "metadata": {
        "id": "JjkftLzbpVDl"
      },
      "source": [
        ""
      ],
      "execution_count": null,
      "outputs": []
    },
    {
      "cell_type": "code",
      "metadata": {
        "id": "CnfYSYDIgWP0"
      },
      "source": [
        ""
      ],
      "execution_count": null,
      "outputs": []
    }
  ]
}