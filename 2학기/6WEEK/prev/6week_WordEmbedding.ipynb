{
  "nbformat": 4,
  "nbformat_minor": 0,
  "metadata": {
    "colab": {
      "name": "6week_WordEmbedding.ipynb",
      "provenance": [],
      "authorship_tag": "ABX9TyNJozVV2KYgECRCv/Cyb6IA",
      "include_colab_link": true
    },
    "kernelspec": {
      "name": "python3",
      "display_name": "Python 3"
    },
    "language_info": {
      "name": "python"
    },
    "accelerator": "GPU"
  },
  "cells": [
    {
      "cell_type": "markdown",
      "metadata": {
        "id": "view-in-github",
        "colab_type": "text"
      },
      "source": [
        "<a href=\"https://colab.research.google.com/github/s2ul2/bitamin/blob/main/6week_WordEmbedding.ipynb\" target=\"_parent\"><img src=\"https://colab.research.google.com/assets/colab-badge.svg\" alt=\"Open In Colab\"/></a>"
      ]
    },
    {
      "cell_type": "code",
      "execution_count": 1,
      "metadata": {
        "colab": {
          "base_uri": "https://localhost:8080/"
        },
        "id": "tCJrJTE_Wgkd",
        "outputId": "94129308-cfe7-4af3-de37-3b65a12317a9"
      },
      "outputs": [
        {
          "output_type": "stream",
          "name": "stdout",
          "text": [
            "원문 : \n",
            " 해보지 않으면 해낼 수 없다\n",
            "\n",
            "토큰화 : \n",
            " ['해보지', '않으면', '해낼', '수', '없다']\n"
          ]
        }
      ],
      "source": [
        "from tensorflow.keras.preprocessing.text import text_to_word_sequence\n",
        "\n",
        "text = \"해보지 않으면 해낼 수 없다\"\n",
        "\n",
        "result = text_to_word_sequence(text)\n",
        "print(\"원문 : \\n\", text)\n",
        "print(\"\\n토큰화 : \\n\", result)"
      ]
    },
    {
      "cell_type": "markdown",
      "source": [
        "# FastText & Glove실습"
      ],
      "metadata": {
        "id": "YtmYOAX7asb6"
      }
    },
    {
      "cell_type": "code",
      "source": [
        "import numpy as np\n",
        "import matplotlib.pyplot as plt\n",
        "from matplotlib import font_manager, rc\n",
        "\n",
        "from nltk.tokenize import word_tokenize\n",
        "from nltk.corpus import stopwords\n",
        "\n",
        "import warnings\n",
        "warnings.filterwarnings('ignore')\n",
        "%matplotlib inline"
      ],
      "metadata": {
        "id": "zj9hjNXFWuGP"
      },
      "execution_count": 1,
      "outputs": []
    },
    {
      "cell_type": "code",
      "source": [
        "import nltk\n",
        "nltk.download('punkt')"
      ],
      "metadata": {
        "colab": {
          "base_uri": "https://localhost:8080/"
        },
        "id": "LXaidq8Lg5bx",
        "outputId": "5bd09e99-c4fe-4f53-a1da-945a9543a329"
      },
      "execution_count": 7,
      "outputs": [
        {
          "output_type": "stream",
          "name": "stdout",
          "text": [
            "[nltk_data] Downloading package punkt to /root/nltk_data...\n",
            "[nltk_data]   Unzipping tokenizers/punkt.zip.\n"
          ]
        },
        {
          "output_type": "execute_result",
          "data": {
            "text/plain": [
              "True"
            ]
          },
          "metadata": {},
          "execution_count": 7
        }
      ]
    },
    {
      "cell_type": "code",
      "source": [
        "import re\n",
        "import urllib.request\n",
        "import zipfile\n",
        "from lxml import etree\n",
        "from nltk.tokenize import word_tokenize, sent_tokenize\n",
        "\n",
        "urllib.request.urlretrieve(\"https://raw.githubusercontent.com/ukairia777/tensorflow-nlp-tutorial/main/09.%20Word%20Embedding/dataset/ted_en-20160408.xml\", filename=\"ted_en-20160408.xml\")\n",
        "targetXML = open('ted_en-20160408.xml', 'r', encoding='UTF8')\n",
        "target_text = etree.parse(targetXML)\n",
        "parse_text = '\\n'.join(target_text.xpath('//content/text()'))\n",
        "content_text = re.sub(r'\\([^)]*\\)', '', parse_text)\n",
        "sent_text = sent_tokenize(content_text)\n",
        "normalized_text = []\n",
        "\n",
        "for string in sent_text:\n",
        "    tokens = re.sub(r\"[^a-z0-9]+\", \" \", string.lower())\n",
        "    normalized_text.append(tokens)\n",
        "\n",
        "result = [word_tokenize(sentence) for sentence in normalized_text]\n"
      ],
      "metadata": {
        "id": "xzyCxq6PWuKR"
      },
      "execution_count": 8,
      "outputs": []
    },
    {
      "cell_type": "code",
      "source": [
        "from gensim.models import FastText\n",
        "model = FastText(result, size=100,  window = 5, min_count = 5, workers = 4, sg = 1)"
      ],
      "metadata": {
        "id": "YmI5HAl6WuO3"
      },
      "execution_count": 14,
      "outputs": []
    },
    {
      "cell_type": "code",
      "source": [
        "model.wv['man']"
      ],
      "metadata": {
        "colab": {
          "base_uri": "https://localhost:8080/"
        },
        "id": "JKcAkLOIWuSb",
        "outputId": "200870f5-2d56-4ecd-c2e5-0541ea228aac"
      },
      "execution_count": 15,
      "outputs": [
        {
          "output_type": "execute_result",
          "data": {
            "text/plain": [
              "array([ 2.4593151e-01,  7.7986467e-01, -3.4457189e-01, -3.7506098e-01,\n",
              "        2.9399818e-01,  2.4272403e-01,  7.9590857e-02,  3.2319111e-01,\n",
              "       -1.9689107e-01,  3.4416279e-01, -6.4711911e-03, -8.2396306e-02,\n",
              "       -4.9597841e-02,  1.9377755e-02, -1.9609740e-01,  2.1611449e-01,\n",
              "       -1.7658825e-01, -4.2087179e-01,  2.4283302e-01,  2.0130980e-01,\n",
              "        8.8523529e-02,  4.8056751e-01,  1.3011719e-02, -7.9116803e-01,\n",
              "        3.8578090e-01, -5.8579862e-02, -3.4767812e-01,  1.5521574e-01,\n",
              "       -4.9736938e-01, -9.0103149e-03, -8.0594793e-02,  3.0712556e-02,\n",
              "        1.9097683e-01, -3.1651345e-03,  3.6152270e-01, -1.3389663e-01,\n",
              "        2.4202943e-02, -2.8888533e-01, -8.7604523e-02, -6.4251252e-04,\n",
              "       -1.0246045e-01, -1.6434068e-02,  3.0469134e-01, -1.1592449e-01,\n",
              "        5.8694261e-01,  3.1241354e-01, -1.9383383e-01,  1.1755972e-01,\n",
              "        9.0927482e-02, -2.5490437e-02,  1.8153940e-01, -3.5813433e-01,\n",
              "       -1.2593733e-01, -7.7940039e-02,  5.4977107e-01, -2.6232696e-01,\n",
              "       -1.6098075e-01,  3.6660305e-01,  2.6361451e-01,  1.9329058e-01,\n",
              "        1.8157485e-01,  6.4272247e-02,  3.9849660e-01,  3.4588382e-01,\n",
              "        1.9958268e-01,  5.9403557e-01,  5.8154043e-02, -3.5946682e-01,\n",
              "        1.4928825e-01, -5.8348906e-01, -1.6538455e-01,  3.8312441e-01,\n",
              "        1.7917445e-01,  4.1790813e-01,  7.9566643e-02,  5.2124586e-02,\n",
              "        8.6492980e-03, -8.8998981e-02, -3.4412935e-01, -3.8771504e-01,\n",
              "       -1.0663761e-02,  5.4636186e-01, -2.0216836e-01,  1.8925306e-01,\n",
              "       -5.0811303e-01, -2.1076311e-01, -2.9763427e-01,  8.5730597e-02,\n",
              "       -2.3363696e-01, -3.7042862e-01, -4.2835972e-01, -2.7281967e-01,\n",
              "        4.6020728e-02, -3.8671747e-01,  3.3749071e-01,  1.9043957e-01,\n",
              "        2.7435264e-01,  2.4114764e-01,  5.0342876e-02,  1.9294170e-01],\n",
              "      dtype=float32)"
            ]
          },
          "metadata": {},
          "execution_count": 15
        }
      ]
    },
    {
      "cell_type": "code",
      "source": [
        "model.wv.most_similar('electrofishing')"
      ],
      "metadata": {
        "colab": {
          "base_uri": "https://localhost:8080/"
        },
        "id": "rw92awDXWuWB",
        "outputId": "75208232-713d-4917-8772-4442caed46a2"
      },
      "execution_count": 17,
      "outputs": [
        {
          "output_type": "execute_result",
          "data": {
            "text/plain": [
              "[('electrolux', 0.8084871172904968),\n",
              " ('electro', 0.7906161546707153),\n",
              " ('electrolyte', 0.7892001867294312),\n",
              " ('electric', 0.7782672643661499),\n",
              " ('electroshock', 0.7672708630561829),\n",
              " ('electrochemical', 0.7660350799560547),\n",
              " ('gastric', 0.7594130039215088),\n",
              " ('overfishing', 0.7530572414398193),\n",
              " ('airbus', 0.7520583868026733),\n",
              " ('fishing', 0.7506319284439087)]"
            ]
          },
          "metadata": {},
          "execution_count": 17
        }
      ]
    },
    {
      "cell_type": "code",
      "source": [
        "pip install glove_python_binary"
      ],
      "metadata": {
        "colab": {
          "base_uri": "https://localhost:8080/"
        },
        "id": "EJ4ocIa8WuZO",
        "outputId": "c04847ac-bf0a-45cd-c4c6-baebce24399a"
      },
      "execution_count": 18,
      "outputs": [
        {
          "output_type": "stream",
          "name": "stdout",
          "text": [
            "Collecting glove_python_binary\n",
            "  Downloading glove_python_binary-0.2.0-cp37-cp37m-manylinux1_x86_64.whl (948 kB)\n",
            "\u001b[K     |████████████████████████████████| 948 kB 4.1 MB/s \n",
            "\u001b[?25hRequirement already satisfied: scipy in /usr/local/lib/python3.7/dist-packages (from glove_python_binary) (1.4.1)\n",
            "Requirement already satisfied: numpy in /usr/local/lib/python3.7/dist-packages (from glove_python_binary) (1.21.5)\n",
            "Installing collected packages: glove-python-binary\n",
            "Successfully installed glove-python-binary-0.2.0\n"
          ]
        }
      ]
    },
    {
      "cell_type": "code",
      "source": [
        "from glove import Corpus, Glove\n",
        "\n",
        "corpus = Corpus()\n",
        "\n",
        "corpus.fit(result, window = 5)\n",
        "glove = Glove(no_components = 100, learning_rate = 0.05)\n",
        "\n",
        "# 학습\n",
        "glove.fit(corpus.matrix, epochs = 20, no_threads = 4, verbose = True)\n",
        "glove.add_dictionary(corpus.dictionary)"
      ],
      "metadata": {
        "colab": {
          "base_uri": "https://localhost:8080/"
        },
        "id": "Dwz046eZWucj",
        "outputId": "a165da89-9b37-4eca-9c8f-3429ef5c4575"
      },
      "execution_count": 19,
      "outputs": [
        {
          "output_type": "stream",
          "name": "stdout",
          "text": [
            "Performing 20 training epochs with 4 threads\n",
            "Epoch 0\n",
            "Epoch 1\n",
            "Epoch 2\n",
            "Epoch 3\n",
            "Epoch 4\n",
            "Epoch 5\n",
            "Epoch 6\n",
            "Epoch 7\n",
            "Epoch 8\n",
            "Epoch 9\n",
            "Epoch 10\n",
            "Epoch 11\n",
            "Epoch 12\n",
            "Epoch 13\n",
            "Epoch 14\n",
            "Epoch 15\n",
            "Epoch 16\n",
            "Epoch 17\n",
            "Epoch 18\n",
            "Epoch 19\n"
          ]
        }
      ]
    },
    {
      "cell_type": "code",
      "source": [
        "glove.most_similar('man')"
      ],
      "metadata": {
        "colab": {
          "base_uri": "https://localhost:8080/"
        },
        "id": "f12sl2vNWuf6",
        "outputId": "a524162b-2a8a-49c9-b4d9-ac9b33c0a4d6"
      },
      "execution_count": 20,
      "outputs": [
        {
          "output_type": "execute_result",
          "data": {
            "text/plain": [
              "[('woman', 0.9605496647684298),\n",
              " ('guy', 0.8874339733405103),\n",
              " ('girl', 0.8511348356837268),\n",
              " ('young', 0.8458955598061602)]"
            ]
          },
          "metadata": {},
          "execution_count": 20
        }
      ]
    },
    {
      "cell_type": "code",
      "source": [
        "glove.most_similar('water')"
      ],
      "metadata": {
        "colab": {
          "base_uri": "https://localhost:8080/"
        },
        "id": "RC_D4g9WWujM",
        "outputId": "69d81e6d-ec91-42c4-d5cc-4222de018573"
      },
      "execution_count": 21,
      "outputs": [
        {
          "output_type": "execute_result",
          "data": {
            "text/plain": [
              "[('clean', 0.8500364034508788),\n",
              " ('air', 0.8433729083604333),\n",
              " ('fresh', 0.8296182660902678),\n",
              " ('electricity', 0.8204649746906137)]"
            ]
          },
          "metadata": {},
          "execution_count": 21
        }
      ]
    },
    {
      "cell_type": "markdown",
      "source": [
        "# 전이학습"
      ],
      "metadata": {
        "id": "mpUXQT_nj5PG"
      }
    },
    {
      "cell_type": "code",
      "source": [
        "import os\n",
        "import sys\n",
        "\n",
        "import numpy as np\n",
        "import pandas as pd\n",
        "from numpy import array\n",
        "from numpy import asarray\n",
        "from numpy import zeros\n",
        "\n",
        "from tensorflow.keras.preprocessing.text import Tokenizer\n",
        "from tensorflow.keras.preprocessing.sequence import pad_sequences\n",
        "from tensorflow.keras import models, regularizers, layers, optimizers, losses, metrics\n",
        "from tensorflow.keras.models import Sequential\n",
        "from tensorflow.keras.layers import Dense, Embedding, LSTM, Flatten\n",
        "from tensorflow.keras.utils import to_categorical\n",
        "from tensorflow.keras.datasets import imdb\n",
        "from tensorflow.keras.preprocessing import sequence\n",
        "\n",
        "import tensorflow as tf\n",
        "tf.random.set_seed(1)\n",
        "np.random.seed(1)"
      ],
      "metadata": {
        "id": "lzegftAoWumh"
      },
      "execution_count": 23,
      "outputs": []
    },
    {
      "cell_type": "code",
      "source": [
        "from google.colab import drive\n",
        "drive.mount('/content/drive')\n"
      ],
      "metadata": {
        "colab": {
          "base_uri": "https://localhost:8080/"
        },
        "id": "frExn5sYk7uN",
        "outputId": "62aa8bc5-e66e-4a31-bee9-176bc6c0c464"
      },
      "execution_count": 25,
      "outputs": [
        {
          "output_type": "stream",
          "name": "stdout",
          "text": [
            "Mounted at /content/drive\n"
          ]
        }
      ]
    },
    {
      "cell_type": "code",
      "source": [
        "df = pd.read_csv('/content/drive/MyDrive/비타민/2학기/6week_WordEmbedding/data.csv')\n",
        "df.head()"
      ],
      "metadata": {
        "colab": {
          "base_uri": "https://localhost:8080/",
          "height": 206
        },
        "id": "YiFhU2DsWup4",
        "outputId": "c3e37c56-6452-48de-a8f6-20820062cf4d"
      },
      "execution_count": 26,
      "outputs": [
        {
          "output_type": "execute_result",
          "data": {
            "text/plain": [
              "                                           paragraph category\n",
              "0  dishplace is located in sunnyvale downtown the...     food\n",
              "1  service can be slower during busy hours but ou...     food\n",
              "2  portions are huge both french toast and their ...     food\n",
              "3  we started with apps going the chicken and waf...     food\n",
              "4  the biscuits and gravy was too salty two peopl...     food"
            ],
            "text/html": [
              "\n",
              "  <div id=\"df-582849c0-93e3-4343-82f9-1f6eb014de0b\">\n",
              "    <div class=\"colab-df-container\">\n",
              "      <div>\n",
              "<style scoped>\n",
              "    .dataframe tbody tr th:only-of-type {\n",
              "        vertical-align: middle;\n",
              "    }\n",
              "\n",
              "    .dataframe tbody tr th {\n",
              "        vertical-align: top;\n",
              "    }\n",
              "\n",
              "    .dataframe thead th {\n",
              "        text-align: right;\n",
              "    }\n",
              "</style>\n",
              "<table border=\"1\" class=\"dataframe\">\n",
              "  <thead>\n",
              "    <tr style=\"text-align: right;\">\n",
              "      <th></th>\n",
              "      <th>paragraph</th>\n",
              "      <th>category</th>\n",
              "    </tr>\n",
              "  </thead>\n",
              "  <tbody>\n",
              "    <tr>\n",
              "      <th>0</th>\n",
              "      <td>dishplace is located in sunnyvale downtown the...</td>\n",
              "      <td>food</td>\n",
              "    </tr>\n",
              "    <tr>\n",
              "      <th>1</th>\n",
              "      <td>service can be slower during busy hours but ou...</td>\n",
              "      <td>food</td>\n",
              "    </tr>\n",
              "    <tr>\n",
              "      <th>2</th>\n",
              "      <td>portions are huge both french toast and their ...</td>\n",
              "      <td>food</td>\n",
              "    </tr>\n",
              "    <tr>\n",
              "      <th>3</th>\n",
              "      <td>we started with apps going the chicken and waf...</td>\n",
              "      <td>food</td>\n",
              "    </tr>\n",
              "    <tr>\n",
              "      <th>4</th>\n",
              "      <td>the biscuits and gravy was too salty two peopl...</td>\n",
              "      <td>food</td>\n",
              "    </tr>\n",
              "  </tbody>\n",
              "</table>\n",
              "</div>\n",
              "      <button class=\"colab-df-convert\" onclick=\"convertToInteractive('df-582849c0-93e3-4343-82f9-1f6eb014de0b')\"\n",
              "              title=\"Convert this dataframe to an interactive table.\"\n",
              "              style=\"display:none;\">\n",
              "        \n",
              "  <svg xmlns=\"http://www.w3.org/2000/svg\" height=\"24px\"viewBox=\"0 0 24 24\"\n",
              "       width=\"24px\">\n",
              "    <path d=\"M0 0h24v24H0V0z\" fill=\"none\"/>\n",
              "    <path d=\"M18.56 5.44l.94 2.06.94-2.06 2.06-.94-2.06-.94-.94-2.06-.94 2.06-2.06.94zm-11 1L8.5 8.5l.94-2.06 2.06-.94-2.06-.94L8.5 2.5l-.94 2.06-2.06.94zm10 10l.94 2.06.94-2.06 2.06-.94-2.06-.94-.94-2.06-.94 2.06-2.06.94z\"/><path d=\"M17.41 7.96l-1.37-1.37c-.4-.4-.92-.59-1.43-.59-.52 0-1.04.2-1.43.59L10.3 9.45l-7.72 7.72c-.78.78-.78 2.05 0 2.83L4 21.41c.39.39.9.59 1.41.59.51 0 1.02-.2 1.41-.59l7.78-7.78 2.81-2.81c.8-.78.8-2.07 0-2.86zM5.41 20L4 18.59l7.72-7.72 1.47 1.35L5.41 20z\"/>\n",
              "  </svg>\n",
              "      </button>\n",
              "      \n",
              "  <style>\n",
              "    .colab-df-container {\n",
              "      display:flex;\n",
              "      flex-wrap:wrap;\n",
              "      gap: 12px;\n",
              "    }\n",
              "\n",
              "    .colab-df-convert {\n",
              "      background-color: #E8F0FE;\n",
              "      border: none;\n",
              "      border-radius: 50%;\n",
              "      cursor: pointer;\n",
              "      display: none;\n",
              "      fill: #1967D2;\n",
              "      height: 32px;\n",
              "      padding: 0 0 0 0;\n",
              "      width: 32px;\n",
              "    }\n",
              "\n",
              "    .colab-df-convert:hover {\n",
              "      background-color: #E2EBFA;\n",
              "      box-shadow: 0px 1px 2px rgba(60, 64, 67, 0.3), 0px 1px 3px 1px rgba(60, 64, 67, 0.15);\n",
              "      fill: #174EA6;\n",
              "    }\n",
              "\n",
              "    [theme=dark] .colab-df-convert {\n",
              "      background-color: #3B4455;\n",
              "      fill: #D2E3FC;\n",
              "    }\n",
              "\n",
              "    [theme=dark] .colab-df-convert:hover {\n",
              "      background-color: #434B5C;\n",
              "      box-shadow: 0px 1px 3px 1px rgba(0, 0, 0, 0.15);\n",
              "      filter: drop-shadow(0px 1px 2px rgba(0, 0, 0, 0.3));\n",
              "      fill: #FFFFFF;\n",
              "    }\n",
              "  </style>\n",
              "\n",
              "      <script>\n",
              "        const buttonEl =\n",
              "          document.querySelector('#df-582849c0-93e3-4343-82f9-1f6eb014de0b button.colab-df-convert');\n",
              "        buttonEl.style.display =\n",
              "          google.colab.kernel.accessAllowed ? 'block' : 'none';\n",
              "\n",
              "        async function convertToInteractive(key) {\n",
              "          const element = document.querySelector('#df-582849c0-93e3-4343-82f9-1f6eb014de0b');\n",
              "          const dataTable =\n",
              "            await google.colab.kernel.invokeFunction('convertToInteractive',\n",
              "                                                     [key], {});\n",
              "          if (!dataTable) return;\n",
              "\n",
              "          const docLinkHtml = 'Like what you see? Visit the ' +\n",
              "            '<a target=\"_blank\" href=https://colab.research.google.com/notebooks/data_table.ipynb>data table notebook</a>'\n",
              "            + ' to learn more about interactive tables.';\n",
              "          element.innerHTML = '';\n",
              "          dataTable['output_type'] = 'display_data';\n",
              "          await google.colab.output.renderOutput(dataTable, element);\n",
              "          const docLink = document.createElement('div');\n",
              "          docLink.innerHTML = docLinkHtml;\n",
              "          element.appendChild(docLink);\n",
              "        }\n",
              "      </script>\n",
              "    </div>\n",
              "  </div>\n",
              "  "
            ]
          },
          "metadata": {},
          "execution_count": 26
        }
      ]
    },
    {
      "cell_type": "code",
      "source": [
        "docs = df['paragraph'].tolist()\n",
        "categories = df['category'].tolist()"
      ],
      "metadata": {
        "id": "6Jh3daqykoFU"
      },
      "execution_count": 27,
      "outputs": []
    },
    {
      "cell_type": "code",
      "source": [
        "t = Tokenizer()\n",
        "t.fit_on_texts(docs)\n",
        "vocab_size = len(t.word_index) + 1\n",
        "encoded_docs = t.texts_to_sequences(docs)\n",
        "\n",
        "def get_max_length(df):\n",
        "    max_length = 0\n",
        "    for row in df['paragraph']:\n",
        "        if len(row.split(\" \")) > max_length:\n",
        "            max_length = len(row.split(\" \"))\n",
        "    return max_length\n",
        "\n",
        "max_length = get_max_length(df)\n",
        "print (max_length)\n",
        "\n",
        "padded_docs = pad_sequences(encoded_docs, maxlen = max_length, padding = 'post')"
      ],
      "metadata": {
        "colab": {
          "base_uri": "https://localhost:8080/"
        },
        "id": "V6n6qrMXkoVh",
        "outputId": "d86a0d5f-af23-431c-f300-91f7d7caa4ea"
      },
      "execution_count": 31,
      "outputs": [
        {
          "output_type": "stream",
          "name": "stdout",
          "text": [
            "91\n"
          ]
        }
      ]
    },
    {
      "cell_type": "code",
      "source": [
        "padded_docs[0]"
      ],
      "metadata": {
        "colab": {
          "base_uri": "https://localhost:8080/"
        },
        "id": "IEJdRcOJkoab",
        "outputId": "2f666943-2b5d-46f2-ba4d-ea8f3307c5fa"
      },
      "execution_count": 32,
      "outputs": [
        {
          "output_type": "execute_result",
          "data": {
            "text/plain": [
              "array([162,  16, 163,   5, 164, 165,  56,  16, 166, 167,   1, 168,   9,\n",
              "         6,  91,  25,  92,   2, 169,  40, 170, 171,  57,  26, 172,   3,\n",
              "        12,  41,   2,  23,  58,   8, 173,  15,   4, 174,  10,  13,  59,\n",
              "        93,  17,  12, 175, 176, 177, 178, 179,  94,  42,   1, 180,   2,\n",
              "        95,   0,   0,   0,   0,   0,   0,   0,   0,   0,   0,   0,   0,\n",
              "         0,   0,   0,   0,   0,   0,   0,   0,   0,   0,   0,   0,   0,\n",
              "         0,   0,   0,   0,   0,   0,   0,   0,   0,   0,   0,   0,   0],\n",
              "      dtype=int32)"
            ]
          },
          "metadata": {},
          "execution_count": 32
        }
      ]
    },
    {
      "cell_type": "code",
      "source": [
        "def category_encode(category):\n",
        "    if category == 'food':\n",
        "        return[1, 0]\n",
        "    else:\n",
        "        return [0, 1]\n",
        "\n",
        "labels = array([category_encode(category) for category in categories])\n",
        "print(\"first document's label : \", labels[0])"
      ],
      "metadata": {
        "colab": {
          "base_uri": "https://localhost:8080/"
        },
        "id": "Xsifc9aRkoeT",
        "outputId": "38dfffb8-3c30-4868-9c80-1f779013e2bf"
      },
      "execution_count": 33,
      "outputs": [
        {
          "output_type": "stream",
          "name": "stdout",
          "text": [
            "first document's label :  [1 0]\n"
          ]
        }
      ]
    },
    {
      "cell_type": "code",
      "source": [
        "# Glove 다운\n",
        "\n",
        "from urllib.request import urlretrieve, urlopen\n",
        "import gzip\n",
        "import zipfile\n",
        "\n",
        "urlretrieve(\"http://nlp.stanford.edu/data/glove.6B.zip\", filename = 'glove.6B.zip')\n",
        "zf = zipfile.ZipFile('glove.6B.zip')\n",
        "zf.extractall()\n",
        "zf.close"
      ],
      "metadata": {
        "colab": {
          "base_uri": "https://localhost:8080/"
        },
        "id": "qsJMlte_mIX8",
        "outputId": "6dc22e75-eae0-48a1-8edf-a7c658c00400"
      },
      "execution_count": 35,
      "outputs": [
        {
          "output_type": "execute_result",
          "data": {
            "text/plain": [
              "<bound method ZipFile.close of <zipfile.ZipFile filename='glove.6B.zip' mode='r'>>"
            ]
          },
          "metadata": {},
          "execution_count": 35
        }
      ]
    },
    {
      "cell_type": "code",
      "source": [
        "# 다운로드 받은 Glove 벡터 불러오기\n",
        "embeddings_index = dict()\n",
        "f = open('glove.6B.100d.txt', encoding = 'utf-8')\n",
        "for line in f:\n",
        "    values = line.split()\n",
        "    word = values[0]\n",
        "    coefs = asarray(values[1:], dtype = 'float32')\n",
        "    embeddings_index[word] = coefs\n",
        "\n",
        "f.close()\n",
        "\n",
        "embedding_matrix = zeros((vocab_size, 100))\n",
        "for word, i in t.word_index.items():\n",
        "    embedding_vector = embeddings_index.get(word)\n",
        "    if embedding_vector is not None:\n",
        "        embedding_matrix[i] = embedding_vector"
      ],
      "metadata": {
        "id": "zLZ3B3LKmIcn"
      },
      "execution_count": 36,
      "outputs": []
    },
    {
      "cell_type": "code",
      "source": [
        "model = Sequential()\n",
        "e = Embedding(vocab_size, 100, weights = [embedding_matrix], input_length = max_length, trainable = False)\n",
        "model.add(e)\n",
        "model.add(Flatten())\n",
        "model.add(Dense(2, activation = 'softmax'))\n",
        "\n",
        "model. compile(loss = 'categorical_crossentropy',\n",
        "               optimizer = 'adam',\n",
        "               metrics = ['accuracy'])\n",
        "\n",
        "model.fit(padded_docs, array(labels), epochs = 5, verbose = 1)"
      ],
      "metadata": {
        "colab": {
          "base_uri": "https://localhost:8080/"
        },
        "id": "6HiPCEr2mIgF",
        "outputId": "2beb4200-526b-4331-dbf5-be9991e137f0"
      },
      "execution_count": 39,
      "outputs": [
        {
          "output_type": "stream",
          "name": "stdout",
          "text": [
            "Epoch 1/5\n",
            "1/1 [==============================] - 1s 791ms/step - loss: 0.7972 - accuracy: 0.4500\n",
            "Epoch 2/5\n",
            "1/1 [==============================] - 0s 34ms/step - loss: 0.3481 - accuracy: 0.9000\n",
            "Epoch 3/5\n",
            "1/1 [==============================] - 0s 12ms/step - loss: 0.1604 - accuracy: 1.0000\n",
            "Epoch 4/5\n",
            "1/1 [==============================] - 0s 13ms/step - loss: 0.0866 - accuracy: 1.0000\n",
            "Epoch 5/5\n",
            "1/1 [==============================] - 0s 17ms/step - loss: 0.0496 - accuracy: 1.0000\n"
          ]
        },
        {
          "output_type": "execute_result",
          "data": {
            "text/plain": [
              "<keras.callbacks.History at 0x7f44eb608290>"
            ]
          },
          "metadata": {},
          "execution_count": 39
        }
      ]
    },
    {
      "cell_type": "code",
      "source": [
        "# 모델 생성\n",
        "model = Sequential()\n",
        "model.add(Embedding(vocab_size, 100, weights = [embedding_matrix], input_length = max_length, trainable = True))\n",
        "model.add(Flatten())\n",
        "model.add(Dense(2, activation = 'softmax'))\n",
        "\n",
        "model.compile(loss = 'categorical_crossentropy',\n",
        "              optimizer = 'adam',\n",
        "              metrics = ['accuracy'])\n",
        "\n",
        "model.fit(padded_docs, labels, epochs = 5, verbose = 1)"
      ],
      "metadata": {
        "colab": {
          "base_uri": "https://localhost:8080/"
        },
        "id": "KX7FEpsUmIjv",
        "outputId": "d993aa50-2131-450c-adf2-6cd1ab40438e"
      },
      "execution_count": 38,
      "outputs": [
        {
          "output_type": "stream",
          "name": "stdout",
          "text": [
            "Epoch 1/5\n",
            "1/1 [==============================] - 4s 4s/step - loss: 0.6478 - accuracy: 0.6000\n",
            "Epoch 2/5\n",
            "1/1 [==============================] - 0s 18ms/step - loss: 0.2867 - accuracy: 0.9000\n",
            "Epoch 3/5\n",
            "1/1 [==============================] - 0s 17ms/step - loss: 0.1236 - accuracy: 1.0000\n",
            "Epoch 4/5\n",
            "1/1 [==============================] - 0s 14ms/step - loss: 0.0680 - accuracy: 1.0000\n",
            "Epoch 5/5\n",
            "1/1 [==============================] - 0s 15ms/step - loss: 0.0410 - accuracy: 1.0000\n"
          ]
        },
        {
          "output_type": "execute_result",
          "data": {
            "text/plain": [
              "<keras.callbacks.History at 0x7f44eb7c2a10>"
            ]
          },
          "metadata": {},
          "execution_count": 38
        }
      ]
    },
    {
      "cell_type": "code",
      "source": [
        ""
      ],
      "metadata": {
        "id": "3Sdrvo0DoAUZ"
      },
      "execution_count": null,
      "outputs": []
    }
  ]
}
