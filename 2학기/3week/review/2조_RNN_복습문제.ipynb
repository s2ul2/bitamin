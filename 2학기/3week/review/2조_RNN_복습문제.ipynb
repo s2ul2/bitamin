{
  "cells": [
    {
      "cell_type": "markdown",
      "metadata": {
        "id": "view-in-github",
        "colab_type": "text"
      },
      "source": [
        "<a href=\"https://colab.research.google.com/github/s2ul2/bitamin/blob/main/2%EC%A1%B0_RNN_%EB%B3%B5%EC%8A%B5%EB%AC%B8%EC%A0%9C.ipynb\" target=\"_parent\"><img src=\"https://colab.research.google.com/assets/colab-badge.svg\" alt=\"Open In Colab\"/></a>"
      ]
    },
    {
      "cell_type": "markdown",
      "metadata": {
        "id": "van1K7RGlqQd"
      },
      "source": [
        "# 1. 순차데이터와 RNN의 기본구조"
      ]
    },
    {
      "cell_type": "markdown",
      "metadata": {
        "id": "Q1EycGqblqQi"
      },
      "source": [
        "## 1. 순차데이터의 특징 3가지는?"
      ]
    },
    {
      "cell_type": "markdown",
      "metadata": {
        "id": "b_psjNvelqQk"
      },
      "source": [
        "정답: \n",
        "1. 특징이 나타나는 순서가 중요하다\n",
        "2. 샘플마다 입력차원의 길이가 다르다.\n",
        "3. 문맥에 의존한다."
      ]
    },
    {
      "cell_type": "markdown",
      "metadata": {
        "id": "NdgDC3FMlqQp"
      },
      "source": [
        "## 2. RNN이 시간성, 가변길이, 문맥의존성을 모두 처리하기 위해 은닉층이 가지는 연결로, t-1 순간에 발생한 정보를 t순간으로 전달 가능케 하는 것은?"
      ]
    },
    {
      "cell_type": "markdown",
      "metadata": {
        "id": "7etNaRaElqQq"
      },
      "source": [
        "정답: hidden state"
      ]
    },
    {
      "cell_type": "markdown",
      "metadata": {
        "id": "kOzlkjehlqQr"
      },
      "source": [
        "# 2. PyTorch RNN(빈칸 채우기문제)\n",
        "복습과제 폴더에 포함되어 같이 제공되는 PyTorch_RNN_과제.ipynb를 참고해주세요."
      ]
    },
    {
      "cell_type": "markdown",
      "source": [
        "죄송합니다. 시간이 없어서 못했습니다. ㅜㅜ"
      ],
      "metadata": {
        "id": "ESKH6yjypTl1"
      }
    },
    {
      "cell_type": "markdown",
      "metadata": {
        "id": "kWwZK0uytB11"
      },
      "source": [
        "## 3. BPTT 개념문제\n",
        "1. RNN은 순환 구조를 띄는 신경망이기 때문에 하단의 그림에서 〖𝑑ℎ〗(𝑡−1) 은 t-1 시점의 Loss에서 흘러들어온 그래디언트 뿐 아니라 ⭐️에 해당하는 그래디언트가 더해집니다. ⭐️이 의미하는 것을 수식으로 표현해주세요. (힌트 : h(t-1)= *)\n",
        "\n",
        "**사진이 잘 안보인다면 발표자료pdf 32쪽 그림을 참고해주세요!\n",
        "<img src='p1.png' width='400px' height='300px'></img>"
      ]
    },
    {
      "cell_type": "markdown",
      "metadata": {
        "id": "71HZ6BYwlqQt"
      },
      "source": [
        "답 : W_xh * x_t"
      ]
    },
    {
      "cell_type": "markdown",
      "metadata": {
        "id": "HmlDBDxdlqQu"
      },
      "source": [
        "2. BPTT와 Truncated BPTT의 단점을 설명하고 이를 보완하는 방법을 설명해주세요."
      ]
    },
    {
      "cell_type": "markdown",
      "metadata": {
        "id": "Ppjy4A5ilqQv"
      },
      "source": [
        "답: Gradient Vanishing 문제 --> LSTM 사용"
      ]
    },
    {
      "cell_type": "markdown",
      "metadata": {
        "id": "djfHTxD7lqQw"
      },
      "source": [
        "## 4.  RNN을 사용해 주식가격의 변동 예측하기"
      ]
    },
    {
      "cell_type": "code",
      "source": [
        "from google.colab import drive\n",
        "drive.mount('/content/drive')\n"
      ],
      "metadata": {
        "colab": {
          "base_uri": "https://localhost:8080/"
        },
        "id": "G-qqPC_ZuPCf",
        "outputId": "222afb46-2ef5-4ab3-d2f4-764eafc9d645"
      },
      "execution_count": 2,
      "outputs": [
        {
          "output_type": "stream",
          "name": "stdout",
          "text": [
            "Mounted at /content/drive\n"
          ]
        }
      ]
    },
    {
      "cell_type": "code",
      "source": [
        "%cd /content/drive/MyDrive/비타민/2학기/3week_RNN/복습과제"
      ],
      "metadata": {
        "colab": {
          "base_uri": "https://localhost:8080/"
        },
        "id": "h4L6o3Ktua2Q",
        "outputId": "c4b9b9e6-997f-480a-c9ba-a0f3d85da10a"
      },
      "execution_count": 3,
      "outputs": [
        {
          "output_type": "stream",
          "name": "stdout",
          "text": [
            "/content/drive/MyDrive/비타민/2학기/3week_RNN/복습과제\n"
          ]
        }
      ]
    },
    {
      "cell_type": "code",
      "execution_count": 4,
      "metadata": {
        "id": "6tNHIT2jlqQx"
      },
      "outputs": [],
      "source": [
        "import numpy as np\n",
        "import pandas as pd\n",
        "import matplotlib.pyplot as plt\n",
        "from sklearn.preprocessing import MinMaxScaler\n",
        "from tensorflow.keras.models import Sequential\n",
        "from tensorflow.keras.layers import Dropout, Dense, SimpleRNN\n",
        "from tensorflow.keras.callbacks import EarlyStopping, ModelCheckpoint\n",
        "from tensorflow.keras.models import Sequential"
      ]
    },
    {
      "cell_type": "code",
      "execution_count": 5,
      "metadata": {
        "colab": {
          "base_uri": "https://localhost:8080/",
          "height": 455
        },
        "id": "h7EaRILllqQz",
        "outputId": "12f16011-f6ea-4a82-b94e-4610978203f3"
      },
      "outputs": [
        {
          "output_type": "execute_result",
          "data": {
            "text/plain": [
              "               Open     High      Low    Close     Adj Close    Volume\n",
              "Date                                                                  \n",
              "2000-01-04   6000.0   6110.0   5660.0   6110.0   4675.782715  74195000\n",
              "2000-01-05   5800.0   6060.0   5520.0   5580.0   4270.191895  74680000\n",
              "2000-01-06   5750.0   5780.0   5580.0   5620.0   4300.801758  54390000\n",
              "2000-01-07   5560.0   5670.0   5360.0   5540.0   4239.581055  40305000\n",
              "2000-01-10   5600.0   5770.0   5580.0   5770.0   4415.591309  46880000\n",
              "...             ...      ...      ...      ...           ...       ...\n",
              "2017-06-26  47520.0  48360.0  47520.0  48280.0  42038.109375   8552800\n",
              "2017-06-27  48220.0  48400.0  47900.0  48300.0  42055.515625   9616750\n",
              "2017-06-28  47600.0  48000.0  47560.0  47700.0  41533.097656   9572500\n",
              "2017-06-29  48040.0  48320.0  47940.0  47940.0  41864.945312   8306550\n",
              "2017-06-30  47500.0  47620.0  47100.0  47540.0  41515.628906  11877550\n",
              "\n",
              "[4423 rows x 6 columns]"
            ],
            "text/html": [
              "\n",
              "  <div id=\"df-365dbb86-e8e5-478b-8099-d06689e5aa14\">\n",
              "    <div class=\"colab-df-container\">\n",
              "      <div>\n",
              "<style scoped>\n",
              "    .dataframe tbody tr th:only-of-type {\n",
              "        vertical-align: middle;\n",
              "    }\n",
              "\n",
              "    .dataframe tbody tr th {\n",
              "        vertical-align: top;\n",
              "    }\n",
              "\n",
              "    .dataframe thead th {\n",
              "        text-align: right;\n",
              "    }\n",
              "</style>\n",
              "<table border=\"1\" class=\"dataframe\">\n",
              "  <thead>\n",
              "    <tr style=\"text-align: right;\">\n",
              "      <th></th>\n",
              "      <th>Open</th>\n",
              "      <th>High</th>\n",
              "      <th>Low</th>\n",
              "      <th>Close</th>\n",
              "      <th>Adj Close</th>\n",
              "      <th>Volume</th>\n",
              "    </tr>\n",
              "    <tr>\n",
              "      <th>Date</th>\n",
              "      <th></th>\n",
              "      <th></th>\n",
              "      <th></th>\n",
              "      <th></th>\n",
              "      <th></th>\n",
              "      <th></th>\n",
              "    </tr>\n",
              "  </thead>\n",
              "  <tbody>\n",
              "    <tr>\n",
              "      <th>2000-01-04</th>\n",
              "      <td>6000.0</td>\n",
              "      <td>6110.0</td>\n",
              "      <td>5660.0</td>\n",
              "      <td>6110.0</td>\n",
              "      <td>4675.782715</td>\n",
              "      <td>74195000</td>\n",
              "    </tr>\n",
              "    <tr>\n",
              "      <th>2000-01-05</th>\n",
              "      <td>5800.0</td>\n",
              "      <td>6060.0</td>\n",
              "      <td>5520.0</td>\n",
              "      <td>5580.0</td>\n",
              "      <td>4270.191895</td>\n",
              "      <td>74680000</td>\n",
              "    </tr>\n",
              "    <tr>\n",
              "      <th>2000-01-06</th>\n",
              "      <td>5750.0</td>\n",
              "      <td>5780.0</td>\n",
              "      <td>5580.0</td>\n",
              "      <td>5620.0</td>\n",
              "      <td>4300.801758</td>\n",
              "      <td>54390000</td>\n",
              "    </tr>\n",
              "    <tr>\n",
              "      <th>2000-01-07</th>\n",
              "      <td>5560.0</td>\n",
              "      <td>5670.0</td>\n",
              "      <td>5360.0</td>\n",
              "      <td>5540.0</td>\n",
              "      <td>4239.581055</td>\n",
              "      <td>40305000</td>\n",
              "    </tr>\n",
              "    <tr>\n",
              "      <th>2000-01-10</th>\n",
              "      <td>5600.0</td>\n",
              "      <td>5770.0</td>\n",
              "      <td>5580.0</td>\n",
              "      <td>5770.0</td>\n",
              "      <td>4415.591309</td>\n",
              "      <td>46880000</td>\n",
              "    </tr>\n",
              "    <tr>\n",
              "      <th>...</th>\n",
              "      <td>...</td>\n",
              "      <td>...</td>\n",
              "      <td>...</td>\n",
              "      <td>...</td>\n",
              "      <td>...</td>\n",
              "      <td>...</td>\n",
              "    </tr>\n",
              "    <tr>\n",
              "      <th>2017-06-26</th>\n",
              "      <td>47520.0</td>\n",
              "      <td>48360.0</td>\n",
              "      <td>47520.0</td>\n",
              "      <td>48280.0</td>\n",
              "      <td>42038.109375</td>\n",
              "      <td>8552800</td>\n",
              "    </tr>\n",
              "    <tr>\n",
              "      <th>2017-06-27</th>\n",
              "      <td>48220.0</td>\n",
              "      <td>48400.0</td>\n",
              "      <td>47900.0</td>\n",
              "      <td>48300.0</td>\n",
              "      <td>42055.515625</td>\n",
              "      <td>9616750</td>\n",
              "    </tr>\n",
              "    <tr>\n",
              "      <th>2017-06-28</th>\n",
              "      <td>47600.0</td>\n",
              "      <td>48000.0</td>\n",
              "      <td>47560.0</td>\n",
              "      <td>47700.0</td>\n",
              "      <td>41533.097656</td>\n",
              "      <td>9572500</td>\n",
              "    </tr>\n",
              "    <tr>\n",
              "      <th>2017-06-29</th>\n",
              "      <td>48040.0</td>\n",
              "      <td>48320.0</td>\n",
              "      <td>47940.0</td>\n",
              "      <td>47940.0</td>\n",
              "      <td>41864.945312</td>\n",
              "      <td>8306550</td>\n",
              "    </tr>\n",
              "    <tr>\n",
              "      <th>2017-06-30</th>\n",
              "      <td>47500.0</td>\n",
              "      <td>47620.0</td>\n",
              "      <td>47100.0</td>\n",
              "      <td>47540.0</td>\n",
              "      <td>41515.628906</td>\n",
              "      <td>11877550</td>\n",
              "    </tr>\n",
              "  </tbody>\n",
              "</table>\n",
              "<p>4423 rows × 6 columns</p>\n",
              "</div>\n",
              "      <button class=\"colab-df-convert\" onclick=\"convertToInteractive('df-365dbb86-e8e5-478b-8099-d06689e5aa14')\"\n",
              "              title=\"Convert this dataframe to an interactive table.\"\n",
              "              style=\"display:none;\">\n",
              "        \n",
              "  <svg xmlns=\"http://www.w3.org/2000/svg\" height=\"24px\"viewBox=\"0 0 24 24\"\n",
              "       width=\"24px\">\n",
              "    <path d=\"M0 0h24v24H0V0z\" fill=\"none\"/>\n",
              "    <path d=\"M18.56 5.44l.94 2.06.94-2.06 2.06-.94-2.06-.94-.94-2.06-.94 2.06-2.06.94zm-11 1L8.5 8.5l.94-2.06 2.06-.94-2.06-.94L8.5 2.5l-.94 2.06-2.06.94zm10 10l.94 2.06.94-2.06 2.06-.94-2.06-.94-.94-2.06-.94 2.06-2.06.94z\"/><path d=\"M17.41 7.96l-1.37-1.37c-.4-.4-.92-.59-1.43-.59-.52 0-1.04.2-1.43.59L10.3 9.45l-7.72 7.72c-.78.78-.78 2.05 0 2.83L4 21.41c.39.39.9.59 1.41.59.51 0 1.02-.2 1.41-.59l7.78-7.78 2.81-2.81c.8-.78.8-2.07 0-2.86zM5.41 20L4 18.59l7.72-7.72 1.47 1.35L5.41 20z\"/>\n",
              "  </svg>\n",
              "      </button>\n",
              "      \n",
              "  <style>\n",
              "    .colab-df-container {\n",
              "      display:flex;\n",
              "      flex-wrap:wrap;\n",
              "      gap: 12px;\n",
              "    }\n",
              "\n",
              "    .colab-df-convert {\n",
              "      background-color: #E8F0FE;\n",
              "      border: none;\n",
              "      border-radius: 50%;\n",
              "      cursor: pointer;\n",
              "      display: none;\n",
              "      fill: #1967D2;\n",
              "      height: 32px;\n",
              "      padding: 0 0 0 0;\n",
              "      width: 32px;\n",
              "    }\n",
              "\n",
              "    .colab-df-convert:hover {\n",
              "      background-color: #E2EBFA;\n",
              "      box-shadow: 0px 1px 2px rgba(60, 64, 67, 0.3), 0px 1px 3px 1px rgba(60, 64, 67, 0.15);\n",
              "      fill: #174EA6;\n",
              "    }\n",
              "\n",
              "    [theme=dark] .colab-df-convert {\n",
              "      background-color: #3B4455;\n",
              "      fill: #D2E3FC;\n",
              "    }\n",
              "\n",
              "    [theme=dark] .colab-df-convert:hover {\n",
              "      background-color: #434B5C;\n",
              "      box-shadow: 0px 1px 3px 1px rgba(0, 0, 0, 0.15);\n",
              "      filter: drop-shadow(0px 1px 2px rgba(0, 0, 0, 0.3));\n",
              "      fill: #FFFFFF;\n",
              "    }\n",
              "  </style>\n",
              "\n",
              "      <script>\n",
              "        const buttonEl =\n",
              "          document.querySelector('#df-365dbb86-e8e5-478b-8099-d06689e5aa14 button.colab-df-convert');\n",
              "        buttonEl.style.display =\n",
              "          google.colab.kernel.accessAllowed ? 'block' : 'none';\n",
              "\n",
              "        async function convertToInteractive(key) {\n",
              "          const element = document.querySelector('#df-365dbb86-e8e5-478b-8099-d06689e5aa14');\n",
              "          const dataTable =\n",
              "            await google.colab.kernel.invokeFunction('convertToInteractive',\n",
              "                                                     [key], {});\n",
              "          if (!dataTable) return;\n",
              "\n",
              "          const docLinkHtml = 'Like what you see? Visit the ' +\n",
              "            '<a target=\"_blank\" href=https://colab.research.google.com/notebooks/data_table.ipynb>data table notebook</a>'\n",
              "            + ' to learn more about interactive tables.';\n",
              "          element.innerHTML = '';\n",
              "          dataTable['output_type'] = 'display_data';\n",
              "          await google.colab.output.renderOutput(dataTable, element);\n",
              "          const docLink = document.createElement('div');\n",
              "          docLink.innerHTML = docLinkHtml;\n",
              "          element.appendChild(docLink);\n",
              "        }\n",
              "      </script>\n",
              "    </div>\n",
              "  </div>\n",
              "  "
            ]
          },
          "metadata": {},
          "execution_count": 5
        }
      ],
      "source": [
        "# 데이터 불러오기\n",
        "samsung = pd.read_csv(\"samsung.csv\", index_col=0)\n",
        "samsung"
      ]
    },
    {
      "cell_type": "code",
      "execution_count": 6,
      "metadata": {
        "colab": {
          "base_uri": "https://localhost:8080/"
        },
        "id": "QkEJw4NjlqQ0",
        "outputId": "6c6829ad-6883-452f-c909-155701d17666"
      },
      "outputs": [
        {
          "output_type": "stream",
          "name": "stdout",
          "text": [
            "<class 'pandas.core.frame.DataFrame'>\n",
            "Index: 4423 entries, 2000-01-04 to 2017-06-30\n",
            "Data columns (total 6 columns):\n",
            " #   Column     Non-Null Count  Dtype  \n",
            "---  ------     --------------  -----  \n",
            " 0   Open       4423 non-null   float64\n",
            " 1   High       4423 non-null   float64\n",
            " 2   Low        4423 non-null   float64\n",
            " 3   Close      4423 non-null   float64\n",
            " 4   Adj Close  4423 non-null   float64\n",
            " 5   Volume     4423 non-null   int64  \n",
            "dtypes: float64(5), int64(1)\n",
            "memory usage: 241.9+ KB\n"
          ]
        }
      ],
      "source": [
        "samsung.info()"
      ]
    },
    {
      "cell_type": "code",
      "execution_count": 7,
      "metadata": {
        "colab": {
          "base_uri": "https://localhost:8080/",
          "height": 300
        },
        "id": "ynWyGWPglqQ0",
        "outputId": "d6ce5455-1857-4b69-95a6-046724c223b4"
      },
      "outputs": [
        {
          "output_type": "execute_result",
          "data": {
            "text/plain": [
              "               Open          High           Low         Close     Adj Close  \\\n",
              "count   4423.000000   4423.000000   4423.000000   4423.000000   4423.000000   \n",
              "mean   15930.510965  16104.872259  15757.399955  15934.141985  12929.152827   \n",
              "std     9335.341841   9412.066133   9266.702969   9343.505417   8102.258153   \n",
              "min     2540.000000   2760.000000   2420.000000   2730.000000   2089.180176   \n",
              "25%     8965.000000   9050.000000   8820.000000   8930.000000   6865.008301   \n",
              "50%    12600.000000  12760.000000  12480.000000  12600.000000   9681.326172   \n",
              "75%    24610.000000  24940.000000  24410.000000  24600.000000  20358.583984   \n",
              "max    48220.000000  48400.000000  47940.000000  48300.000000  42055.515625   \n",
              "\n",
              "             Volume  \n",
              "count  4.423000e+03  \n",
              "mean   2.352588e+07  \n",
              "std    1.640211e+07  \n",
              "min    0.000000e+00  \n",
              "25%    1.267628e+07  \n",
              "50%    1.941200e+07  \n",
              "75%    2.961750e+07  \n",
              "max    1.642150e+08  "
            ],
            "text/html": [
              "\n",
              "  <div id=\"df-81d30d17-1f36-4623-90b7-a4810f53792e\">\n",
              "    <div class=\"colab-df-container\">\n",
              "      <div>\n",
              "<style scoped>\n",
              "    .dataframe tbody tr th:only-of-type {\n",
              "        vertical-align: middle;\n",
              "    }\n",
              "\n",
              "    .dataframe tbody tr th {\n",
              "        vertical-align: top;\n",
              "    }\n",
              "\n",
              "    .dataframe thead th {\n",
              "        text-align: right;\n",
              "    }\n",
              "</style>\n",
              "<table border=\"1\" class=\"dataframe\">\n",
              "  <thead>\n",
              "    <tr style=\"text-align: right;\">\n",
              "      <th></th>\n",
              "      <th>Open</th>\n",
              "      <th>High</th>\n",
              "      <th>Low</th>\n",
              "      <th>Close</th>\n",
              "      <th>Adj Close</th>\n",
              "      <th>Volume</th>\n",
              "    </tr>\n",
              "  </thead>\n",
              "  <tbody>\n",
              "    <tr>\n",
              "      <th>count</th>\n",
              "      <td>4423.000000</td>\n",
              "      <td>4423.000000</td>\n",
              "      <td>4423.000000</td>\n",
              "      <td>4423.000000</td>\n",
              "      <td>4423.000000</td>\n",
              "      <td>4.423000e+03</td>\n",
              "    </tr>\n",
              "    <tr>\n",
              "      <th>mean</th>\n",
              "      <td>15930.510965</td>\n",
              "      <td>16104.872259</td>\n",
              "      <td>15757.399955</td>\n",
              "      <td>15934.141985</td>\n",
              "      <td>12929.152827</td>\n",
              "      <td>2.352588e+07</td>\n",
              "    </tr>\n",
              "    <tr>\n",
              "      <th>std</th>\n",
              "      <td>9335.341841</td>\n",
              "      <td>9412.066133</td>\n",
              "      <td>9266.702969</td>\n",
              "      <td>9343.505417</td>\n",
              "      <td>8102.258153</td>\n",
              "      <td>1.640211e+07</td>\n",
              "    </tr>\n",
              "    <tr>\n",
              "      <th>min</th>\n",
              "      <td>2540.000000</td>\n",
              "      <td>2760.000000</td>\n",
              "      <td>2420.000000</td>\n",
              "      <td>2730.000000</td>\n",
              "      <td>2089.180176</td>\n",
              "      <td>0.000000e+00</td>\n",
              "    </tr>\n",
              "    <tr>\n",
              "      <th>25%</th>\n",
              "      <td>8965.000000</td>\n",
              "      <td>9050.000000</td>\n",
              "      <td>8820.000000</td>\n",
              "      <td>8930.000000</td>\n",
              "      <td>6865.008301</td>\n",
              "      <td>1.267628e+07</td>\n",
              "    </tr>\n",
              "    <tr>\n",
              "      <th>50%</th>\n",
              "      <td>12600.000000</td>\n",
              "      <td>12760.000000</td>\n",
              "      <td>12480.000000</td>\n",
              "      <td>12600.000000</td>\n",
              "      <td>9681.326172</td>\n",
              "      <td>1.941200e+07</td>\n",
              "    </tr>\n",
              "    <tr>\n",
              "      <th>75%</th>\n",
              "      <td>24610.000000</td>\n",
              "      <td>24940.000000</td>\n",
              "      <td>24410.000000</td>\n",
              "      <td>24600.000000</td>\n",
              "      <td>20358.583984</td>\n",
              "      <td>2.961750e+07</td>\n",
              "    </tr>\n",
              "    <tr>\n",
              "      <th>max</th>\n",
              "      <td>48220.000000</td>\n",
              "      <td>48400.000000</td>\n",
              "      <td>47940.000000</td>\n",
              "      <td>48300.000000</td>\n",
              "      <td>42055.515625</td>\n",
              "      <td>1.642150e+08</td>\n",
              "    </tr>\n",
              "  </tbody>\n",
              "</table>\n",
              "</div>\n",
              "      <button class=\"colab-df-convert\" onclick=\"convertToInteractive('df-81d30d17-1f36-4623-90b7-a4810f53792e')\"\n",
              "              title=\"Convert this dataframe to an interactive table.\"\n",
              "              style=\"display:none;\">\n",
              "        \n",
              "  <svg xmlns=\"http://www.w3.org/2000/svg\" height=\"24px\"viewBox=\"0 0 24 24\"\n",
              "       width=\"24px\">\n",
              "    <path d=\"M0 0h24v24H0V0z\" fill=\"none\"/>\n",
              "    <path d=\"M18.56 5.44l.94 2.06.94-2.06 2.06-.94-2.06-.94-.94-2.06-.94 2.06-2.06.94zm-11 1L8.5 8.5l.94-2.06 2.06-.94-2.06-.94L8.5 2.5l-.94 2.06-2.06.94zm10 10l.94 2.06.94-2.06 2.06-.94-2.06-.94-.94-2.06-.94 2.06-2.06.94z\"/><path d=\"M17.41 7.96l-1.37-1.37c-.4-.4-.92-.59-1.43-.59-.52 0-1.04.2-1.43.59L10.3 9.45l-7.72 7.72c-.78.78-.78 2.05 0 2.83L4 21.41c.39.39.9.59 1.41.59.51 0 1.02-.2 1.41-.59l7.78-7.78 2.81-2.81c.8-.78.8-2.07 0-2.86zM5.41 20L4 18.59l7.72-7.72 1.47 1.35L5.41 20z\"/>\n",
              "  </svg>\n",
              "      </button>\n",
              "      \n",
              "  <style>\n",
              "    .colab-df-container {\n",
              "      display:flex;\n",
              "      flex-wrap:wrap;\n",
              "      gap: 12px;\n",
              "    }\n",
              "\n",
              "    .colab-df-convert {\n",
              "      background-color: #E8F0FE;\n",
              "      border: none;\n",
              "      border-radius: 50%;\n",
              "      cursor: pointer;\n",
              "      display: none;\n",
              "      fill: #1967D2;\n",
              "      height: 32px;\n",
              "      padding: 0 0 0 0;\n",
              "      width: 32px;\n",
              "    }\n",
              "\n",
              "    .colab-df-convert:hover {\n",
              "      background-color: #E2EBFA;\n",
              "      box-shadow: 0px 1px 2px rgba(60, 64, 67, 0.3), 0px 1px 3px 1px rgba(60, 64, 67, 0.15);\n",
              "      fill: #174EA6;\n",
              "    }\n",
              "\n",
              "    [theme=dark] .colab-df-convert {\n",
              "      background-color: #3B4455;\n",
              "      fill: #D2E3FC;\n",
              "    }\n",
              "\n",
              "    [theme=dark] .colab-df-convert:hover {\n",
              "      background-color: #434B5C;\n",
              "      box-shadow: 0px 1px 3px 1px rgba(0, 0, 0, 0.15);\n",
              "      filter: drop-shadow(0px 1px 2px rgba(0, 0, 0, 0.3));\n",
              "      fill: #FFFFFF;\n",
              "    }\n",
              "  </style>\n",
              "\n",
              "      <script>\n",
              "        const buttonEl =\n",
              "          document.querySelector('#df-81d30d17-1f36-4623-90b7-a4810f53792e button.colab-df-convert');\n",
              "        buttonEl.style.display =\n",
              "          google.colab.kernel.accessAllowed ? 'block' : 'none';\n",
              "\n",
              "        async function convertToInteractive(key) {\n",
              "          const element = document.querySelector('#df-81d30d17-1f36-4623-90b7-a4810f53792e');\n",
              "          const dataTable =\n",
              "            await google.colab.kernel.invokeFunction('convertToInteractive',\n",
              "                                                     [key], {});\n",
              "          if (!dataTable) return;\n",
              "\n",
              "          const docLinkHtml = 'Like what you see? Visit the ' +\n",
              "            '<a target=\"_blank\" href=https://colab.research.google.com/notebooks/data_table.ipynb>data table notebook</a>'\n",
              "            + ' to learn more about interactive tables.';\n",
              "          element.innerHTML = '';\n",
              "          dataTable['output_type'] = 'display_data';\n",
              "          await google.colab.output.renderOutput(dataTable, element);\n",
              "          const docLink = document.createElement('div');\n",
              "          docLink.innerHTML = docLinkHtml;\n",
              "          element.appendChild(docLink);\n",
              "        }\n",
              "      </script>\n",
              "    </div>\n",
              "  </div>\n",
              "  "
            ]
          },
          "metadata": {},
          "execution_count": 7
        }
      ],
      "source": [
        "samsung.describe()"
      ]
    },
    {
      "cell_type": "code",
      "execution_count": 8,
      "metadata": {
        "colab": {
          "base_uri": "https://localhost:8080/"
        },
        "id": "9gG-BetmlqQ1",
        "outputId": "eea5cfa8-b37a-45cc-a76e-4d913d16d3a3"
      },
      "outputs": [
        {
          "output_type": "execute_result",
          "data": {
            "text/plain": [
              "Open         0\n",
              "High         0\n",
              "Low          0\n",
              "Close        0\n",
              "Adj Close    0\n",
              "Volume       0\n",
              "dtype: int64"
            ]
          },
          "metadata": {},
          "execution_count": 8
        }
      ],
      "source": [
        "samsung.isnull().sum()"
      ]
    },
    {
      "cell_type": "code",
      "execution_count": 9,
      "metadata": {
        "id": "2hrZnqWGlqQ2"
      },
      "outputs": [],
      "source": [
        "high_prices = samsung['High'].values\n",
        "low_prices = samsung['Low'].values\n",
        "mid_prices = (high_prices+low_prices)/2\n",
        "mid_prices\n",
        "\n",
        "#중간 값 요소 추가하기\n",
        "samsung['Mid'] = mid_prices\n",
        "samsung\n",
        "\n",
        "#Close 제거\n",
        "samsung.drop(\"Close\", axis=1,inplace=True)"
      ]
    },
    {
      "cell_type": "code",
      "execution_count": 10,
      "metadata": {
        "colab": {
          "base_uri": "https://localhost:8080/",
          "height": 336
        },
        "id": "j0EoxiRhlqQ2",
        "outputId": "4bd7fc75-14a1-4d7f-ccb0-a8fd60a69e1a"
      },
      "outputs": [
        {
          "output_type": "display_data",
          "data": {
            "text/plain": [
              "<Figure size 720x360 with 1 Axes>"
            ],
            "image/png": "[encoded data removed]"
          },
          "metadata": {
            "needs_background": "light"
          }
        }
      ],
      "source": [
        "plt.figure(figsize=(10,5))\n",
        "plt.plot(samsung['Adj Close'])\n",
        "plt.title(\"Stock Price of Samsung\")\n",
        "plt.show()"
      ]
    },
    {
      "cell_type": "code",
      "execution_count": 11,
      "metadata": {
        "colab": {
          "base_uri": "https://localhost:8080/",
          "height": 424
        },
        "id": "eNNcMMjUlqQ3",
        "outputId": "9301283c-2144-49da-ab6b-03ae82e70195"
      },
      "outputs": [
        {
          "output_type": "execute_result",
          "data": {
            "text/plain": [
              "                Open      High       Low  Adj Close    Volume       Mid\n",
              "2000-01-04  0.075744  0.073401  0.071178   0.064720  0.451816  0.072322\n",
              "2000-01-05  0.071366  0.072305  0.068102   0.054571  0.454770  0.070237\n",
              "2000-01-06  0.070271  0.066170  0.069420   0.055337  0.331212  0.067823\n",
              "2000-01-07  0.066112  0.063760  0.064587   0.053805  0.245440  0.064201\n",
              "2000-01-10  0.066988  0.065951  0.069420   0.058209  0.285479  0.067713\n",
              "...              ...       ...       ...        ...       ...       ...\n",
              "2017-06-26  0.984676  0.999124  0.990773   0.999564  0.052083  0.995391\n",
              "2017-06-27  1.000000  1.000000  0.999121   1.000000  0.058562  1.000000\n",
              "2017-06-28  0.986427  0.991236  0.991652   0.986929  0.058292  0.991879\n",
              "2017-06-29  0.996060  0.998247  1.000000   0.995232  0.050583  0.999561\n",
              "2017-06-30  0.984238  0.982910  0.981547   0.986491  0.072329  0.982660\n",
              "\n",
              "[4423 rows x 6 columns]"
            ],
            "text/html": [
              "\n",
              "  <div id=\"df-1719e7e3-9f1f-4861-86d5-197e376f57aa\">\n",
              "    <div class=\"colab-df-container\">\n",
              "      <div>\n",
              "<style scoped>\n",
              "    .dataframe tbody tr th:only-of-type {\n",
              "        vertical-align: middle;\n",
              "    }\n",
              "\n",
              "    .dataframe tbody tr th {\n",
              "        vertical-align: top;\n",
              "    }\n",
              "\n",
              "    .dataframe thead th {\n",
              "        text-align: right;\n",
              "    }\n",
              "</style>\n",
              "<table border=\"1\" class=\"dataframe\">\n",
              "  <thead>\n",
              "    <tr style=\"text-align: right;\">\n",
              "      <th></th>\n",
              "      <th>Open</th>\n",
              "      <th>High</th>\n",
              "      <th>Low</th>\n",
              "      <th>Adj Close</th>\n",
              "      <th>Volume</th>\n",
              "      <th>Mid</th>\n",
              "    </tr>\n",
              "  </thead>\n",
              "  <tbody>\n",
              "    <tr>\n",
              "      <th>2000-01-04</th>\n",
              "      <td>0.075744</td>\n",
              "      <td>0.073401</td>\n",
              "      <td>0.071178</td>\n",
              "      <td>0.064720</td>\n",
              "      <td>0.451816</td>\n",
              "      <td>0.072322</td>\n",
              "    </tr>\n",
              "    <tr>\n",
              "      <th>2000-01-05</th>\n",
              "      <td>0.071366</td>\n",
              "      <td>0.072305</td>\n",
              "      <td>0.068102</td>\n",
              "      <td>0.054571</td>\n",
              "      <td>0.454770</td>\n",
              "      <td>0.070237</td>\n",
              "    </tr>\n",
              "    <tr>\n",
              "      <th>2000-01-06</th>\n",
              "      <td>0.070271</td>\n",
              "      <td>0.066170</td>\n",
              "      <td>0.069420</td>\n",
              "      <td>0.055337</td>\n",
              "      <td>0.331212</td>\n",
              "      <td>0.067823</td>\n",
              "    </tr>\n",
              "    <tr>\n",
              "      <th>2000-01-07</th>\n",
              "      <td>0.066112</td>\n",
              "      <td>0.063760</td>\n",
              "      <td>0.064587</td>\n",
              "      <td>0.053805</td>\n",
              "      <td>0.245440</td>\n",
              "      <td>0.064201</td>\n",
              "    </tr>\n",
              "    <tr>\n",
              "      <th>2000-01-10</th>\n",
              "      <td>0.066988</td>\n",
              "      <td>0.065951</td>\n",
              "      <td>0.069420</td>\n",
              "      <td>0.058209</td>\n",
              "      <td>0.285479</td>\n",
              "      <td>0.067713</td>\n",
              "    </tr>\n",
              "    <tr>\n",
              "      <th>...</th>\n",
              "      <td>...</td>\n",
              "      <td>...</td>\n",
              "      <td>...</td>\n",
              "      <td>...</td>\n",
              "      <td>...</td>\n",
              "      <td>...</td>\n",
              "    </tr>\n",
              "    <tr>\n",
              "      <th>2017-06-26</th>\n",
              "      <td>0.984676</td>\n",
              "      <td>0.999124</td>\n",
              "      <td>0.990773</td>\n",
              "      <td>0.999564</td>\n",
              "      <td>0.052083</td>\n",
              "      <td>0.995391</td>\n",
              "    </tr>\n",
              "    <tr>\n",
              "      <th>2017-06-27</th>\n",
              "      <td>1.000000</td>\n",
              "      <td>1.000000</td>\n",
              "      <td>0.999121</td>\n",
              "      <td>1.000000</td>\n",
              "      <td>0.058562</td>\n",
              "      <td>1.000000</td>\n",
              "    </tr>\n",
              "    <tr>\n",
              "      <th>2017-06-28</th>\n",
              "      <td>0.986427</td>\n",
              "      <td>0.991236</td>\n",
              "      <td>0.991652</td>\n",
              "      <td>0.986929</td>\n",
              "      <td>0.058292</td>\n",
              "      <td>0.991879</td>\n",
              "    </tr>\n",
              "    <tr>\n",
              "      <th>2017-06-29</th>\n",
              "      <td>0.996060</td>\n",
              "      <td>0.998247</td>\n",
              "      <td>1.000000</td>\n",
              "      <td>0.995232</td>\n",
              "      <td>0.050583</td>\n",
              "      <td>0.999561</td>\n",
              "    </tr>\n",
              "    <tr>\n",
              "      <th>2017-06-30</th>\n",
              "      <td>0.984238</td>\n",
              "      <td>0.982910</td>\n",
              "      <td>0.981547</td>\n",
              "      <td>0.986491</td>\n",
              "      <td>0.072329</td>\n",
              "      <td>0.982660</td>\n",
              "    </tr>\n",
              "  </tbody>\n",
              "</table>\n",
              "<p>4423 rows × 6 columns</p>\n",
              "</div>\n",
              "      <button class=\"colab-df-convert\" onclick=\"convertToInteractive('df-1719e7e3-9f1f-4861-86d5-197e376f57aa')\"\n",
              "              title=\"Convert this dataframe to an interactive table.\"\n",
              "              style=\"display:none;\">\n",
              "        \n",
              "  <svg xmlns=\"http://www.w3.org/2000/svg\" height=\"24px\"viewBox=\"0 0 24 24\"\n",
              "       width=\"24px\">\n",
              "    <path d=\"M0 0h24v24H0V0z\" fill=\"none\"/>\n",
              "    <path d=\"M18.56 5.44l.94 2.06.94-2.06 2.06-.94-2.06-.94-.94-2.06-.94 2.06-2.06.94zm-11 1L8.5 8.5l.94-2.06 2.06-.94-2.06-.94L8.5 2.5l-.94 2.06-2.06.94zm10 10l.94 2.06.94-2.06 2.06-.94-2.06-.94-.94-2.06-.94 2.06-2.06.94z\"/><path d=\"M17.41 7.96l-1.37-1.37c-.4-.4-.92-.59-1.43-.59-.52 0-1.04.2-1.43.59L10.3 9.45l-7.72 7.72c-.78.78-.78 2.05 0 2.83L4 21.41c.39.39.9.59 1.41.59.51 0 1.02-.2 1.41-.59l7.78-7.78 2.81-2.81c.8-.78.8-2.07 0-2.86zM5.41 20L4 18.59l7.72-7.72 1.47 1.35L5.41 20z\"/>\n",
              "  </svg>\n",
              "      </button>\n",
              "      \n",
              "  <style>\n",
              "    .colab-df-container {\n",
              "      display:flex;\n",
              "      flex-wrap:wrap;\n",
              "      gap: 12px;\n",
              "    }\n",
              "\n",
              "    .colab-df-convert {\n",
              "      background-color: #E8F0FE;\n",
              "      border: none;\n",
              "      border-radius: 50%;\n",
              "      cursor: pointer;\n",
              "      display: none;\n",
              "      fill: #1967D2;\n",
              "      height: 32px;\n",
              "      padding: 0 0 0 0;\n",
              "      width: 32px;\n",
              "    }\n",
              "\n",
              "    .colab-df-convert:hover {\n",
              "      background-color: #E2EBFA;\n",
              "      box-shadow: 0px 1px 2px rgba(60, 64, 67, 0.3), 0px 1px 3px 1px rgba(60, 64, 67, 0.15);\n",
              "      fill: #174EA6;\n",
              "    }\n",
              "\n",
              "    [theme=dark] .colab-df-convert {\n",
              "      background-color: #3B4455;\n",
              "      fill: #D2E3FC;\n",
              "    }\n",
              "\n",
              "    [theme=dark] .colab-df-convert:hover {\n",
              "      background-color: #434B5C;\n",
              "      box-shadow: 0px 1px 3px 1px rgba(0, 0, 0, 0.15);\n",
              "      filter: drop-shadow(0px 1px 2px rgba(0, 0, 0, 0.3));\n",
              "      fill: #FFFFFF;\n",
              "    }\n",
              "  </style>\n",
              "\n",
              "      <script>\n",
              "        const buttonEl =\n",
              "          document.querySelector('#df-1719e7e3-9f1f-4861-86d5-197e376f57aa button.colab-df-convert');\n",
              "        buttonEl.style.display =\n",
              "          google.colab.kernel.accessAllowed ? 'block' : 'none';\n",
              "\n",
              "        async function convertToInteractive(key) {\n",
              "          const element = document.querySelector('#df-1719e7e3-9f1f-4861-86d5-197e376f57aa');\n",
              "          const dataTable =\n",
              "            await google.colab.kernel.invokeFunction('convertToInteractive',\n",
              "                                                     [key], {});\n",
              "          if (!dataTable) return;\n",
              "\n",
              "          const docLinkHtml = 'Like what you see? Visit the ' +\n",
              "            '<a target=\"_blank\" href=https://colab.research.google.com/notebooks/data_table.ipynb>data table notebook</a>'\n",
              "            + ' to learn more about interactive tables.';\n",
              "          element.innerHTML = '';\n",
              "          dataTable['output_type'] = 'display_data';\n",
              "          await google.colab.output.renderOutput(dataTable, element);\n",
              "          const docLink = document.createElement('div');\n",
              "          docLink.innerHTML = docLinkHtml;\n",
              "          element.appendChild(docLink);\n",
              "        }\n",
              "      </script>\n",
              "    </div>\n",
              "  </div>\n",
              "  "
            ]
          },
          "metadata": {},
          "execution_count": 11
        }
      ],
      "source": [
        "#데이터 스케일링 \n",
        "\n",
        "samsung_minimum = samsung['Adj Close'].min()\n",
        "samsung_maximum = samsung['Adj Close'].max()\n",
        "\n",
        "from sklearn.preprocessing import MinMaxScaler\n",
        "scaler = MinMaxScaler()\n",
        "samsung_scaled = scaler.fit_transform(samsung)\n",
        "samsung = pd.DataFrame(samsung_scaled, columns=samsung.columns, index=list(samsung.index.values))\n",
        "samsung"
      ]
    },
    {
      "cell_type": "code",
      "execution_count": 12,
      "metadata": {
        "id": "xEU3ES9HlqQ4"
      },
      "outputs": [],
      "source": [
        "# train/test set 나누기\n",
        "# 앞에서부터 90%의 데이터를 train set으로, 나머지 10%를 test set으로 사용\n",
        "train_size = int(len(samsung)*0.9)\n",
        "X_train = np.array(samsung.drop('Adj Close', axis=1)[:train_size])\n",
        "y_train = np.array(samsung['Adj Closea'][:train_size])\n",
        "\n",
        "X_test =np.array(samsung.drop(\"Adj Close\", axis=1)[train_size:])\n",
        "y_test = np.array(samsung['Adj Close'][train_size:])"
      ]
    },
    {
      "cell_type": "code",
      "execution_count": 13,
      "metadata": {
        "colab": {
          "base_uri": "https://localhost:8080/"
        },
        "id": "2rrSyt6blqQ4",
        "outputId": "f95096cf-bc6e-4981-ecb2-587702c473c2"
      },
      "outputs": [
        {
          "output_type": "stream",
          "name": "stdout",
          "text": [
            "shape of X_train: (3980, 5)\n",
            "shape of y_train: (3980,)\n",
            "shape of X_test: (443, 5)\n",
            "shape of y_test: (443,)\n"
          ]
        }
      ],
      "source": [
        "print(f\"shape of X_train: {X_train.shape}\")\n",
        "print(f\"shape of y_train: {y_train.shape}\")\n",
        "print(f\"shape of X_test: {X_test.shape}\")\n",
        "print(f\"shape of y_test: {y_test.shape}\")"
      ]
    },
    {
      "cell_type": "markdown",
      "metadata": {
        "id": "rHwoLdg0lqQ5"
      },
      "source": [
        "### 문제4-1 아래와 같이 데이터의 구조를 바꿔주는 이유를 간단하게 설명해주세요. 만약, MLP를 사용해서 이 데이터를 분석하려고 한다면 데이터의 구조를 어떻게 해야 할까요"
      ]
    },
    {
      "cell_type": "code",
      "execution_count": 18,
      "metadata": {
        "colab": {
          "base_uri": "https://localhost:8080/"
        },
        "id": "XGXChMNnlqQ5",
        "outputId": "80cec395-a9c5-4360-90cc-f0b76b53e9cc"
      },
      "outputs": [
        {
          "output_type": "stream",
          "name": "stdout",
          "text": [
            "shape of X_train: (3980, 1, 5)\n",
            "shape of X_test: (443, 1, 5)\n"
          ]
        }
      ],
      "source": [
        "# 구조 바꾸기\n",
        "input_size = 5\n",
        "X_train = X_train.reshape(X_train.shape[0], 1 , input_size)\n",
        "X_test = X_test.reshape(X_test.shape[0],1, input_size)\n",
        "print(f\"shape of X_train: {X_train.shape}\")\n",
        "print(f\"shape of X_test: {X_test.shape}\")"
      ]
    },
    {
      "cell_type": "markdown",
      "metadata": {
        "id": "l75_qYr_lqQ6"
      },
      "source": [
        "데이터의 구조를 바꿔주는 이유: RNN은 3D 텐서를 입력받기 때문"
      ]
    },
    {
      "cell_type": "markdown",
      "metadata": {
        "id": "XzLeKdlilqQ7"
      },
      "source": [
        "MLP를 사용할 시 데이터의 구조: "
      ]
    },
    {
      "cell_type": "markdown",
      "metadata": {
        "id": "N7OSN60flqQ7"
      },
      "source": [
        "### 문제 4-2 주어진 설명에 맞춰 빈 부분을 채워 모델 구조를 완성해 주세요"
      ]
    },
    {
      "cell_type": "code",
      "execution_count": 20,
      "metadata": {
        "colab": {
          "base_uri": "https://localhost:8080/"
        },
        "id": "1ff7-y7XlqQ8",
        "outputId": "81d0852b-d114-4db8-b357-8d7c267d667e"
      },
      "outputs": [
        {
          "output_type": "stream",
          "name": "stdout",
          "text": [
            "Model: \"sequential_2\"\n",
            "_________________________________________________________________\n",
            " Layer (type)                Output Shape              Param #   \n",
            "=================================================================\n",
            " simple_rnn_2 (SimpleRNN)    (None, 1000)              1006000   \n",
            "                                                                 \n",
            " dense (Dense)               (None, 1)                 1001      \n",
            "                                                                 \n",
            " dropout (Dropout)           (None, 1)                 0         \n",
            "                                                                 \n",
            "=================================================================\n",
            "Total params: 1,007,001\n",
            "Trainable params: 1,007,001\n",
            "Non-trainable params: 0\n",
            "_________________________________________________________________\n"
          ]
        }
      ],
      "source": [
        "# 모델 구조 설정\n",
        "model = Sequential()\n",
        "model.add(SimpleRNN(1000, input_shape=(1, 5))) # units=1000으로 설정하고, 적절한 input_shape를 찾아 값을 넣어주세요.\n",
        "model.add(Dense(1,activation='tanh')) \n",
        "model.add(Dropout(0.25)) #Dropout 레이어를 추가해주세요. Dropout비율은 0.25로 설정해주세요\n",
        "\n",
        "callbacks = [EarlyStopping(monitor = 'val_loss', patience=5), #기준 값이 연속으로 5 번 이상 향상되지 않을 때 종료하도록 설정하세요\n",
        "             ModelCheckpoint(filepath='best_model.h5', monitor='val_loss', save_best_model=True)] # 이전보다 성능이 향상이 모델을 저장할 수 있도록 설정하세요.\n",
        "model.compile(optimizer='sgd', loss='mse', metrics=['mae', 'mse']) # optimizer를 sgd으로, loss를 mse로 설정해주세요.\n",
        "model.summary()"
      ]
    },
    {
      "cell_type": "code",
      "execution_count": 21,
      "metadata": {
        "id": "8fQpjokflqQ8"
      },
      "outputs": [],
      "source": [
        "history = model.fit(X_train, y_train, epochs=500, batch_size=100, verbose=0, #훈련과정이 출력되지 않도록 설정하세요\n",
        "                  validation_split =0.2,callbacks=callbacks)  # Train 데이터 셋의 20%를 validation 셋으로 사용하도록 설정하세요"
      ]
    },
    {
      "cell_type": "code",
      "execution_count": 22,
      "metadata": {
        "colab": {
          "base_uri": "https://localhost:8080/",
          "height": 320
        },
        "id": "rvIWUp4ElqQ9",
        "outputId": "5d833710-7981-4f87-ad21-f6c79d1688fe"
      },
      "outputs": [
        {
          "output_type": "display_data",
          "data": {
            "text/plain": [
              "<Figure size 720x360 with 1 Axes>"
            ],
            "image/png": "[encoded data removed]"
          },
          "metadata": {
            "needs_background": "light"
          }
        }
      ],
      "source": [
        "# 예측 결과 확인하기\n",
        "predictions = model.predict(X_test)\n",
        "\n",
        "predictions_unscaled = predictions * (samsung_maximum-samsung_minimum) +samsung_minimum\n",
        "y_test_unscaled = y_test * (samsung_maximum-samsung_minimum) +samsung_minimum\n",
        "\n",
        "plt.figure(figsize=(10,5))\n",
        "plt.plot(y_test_unscaled, label='actual')\n",
        "plt.plot(predictions_unscaled, label='Prediction')\n",
        "plt.legend(loc='upper right')\n",
        "plt.show()"
      ]
    },
    {
      "cell_type": "code",
      "source": [
        ""
      ],
      "metadata": {
        "id": "fV4mZwdD1qjX"
      },
      "execution_count": null,
      "outputs": []
    }
  ],
  "metadata": {
    "colab": {
      "collapsed_sections": [],
      "name": "2조_RNN 복습문제.ipynb",
      "provenance": [],
      "include_colab_link": true
    },
    "kernelspec": {
      "display_name": "Python 3",
      "language": "python",
      "name": "python3"
    },
    "language_info": {
      "codemirror_mode": {
        "name": "ipython",
        "version": 3
      },
      "file_extension": ".py",
      "mimetype": "text/x-python",
      "name": "python",
      "nbconvert_exporter": "python",
      "pygments_lexer": "ipython3",
      "version": "3.9.4"
    }
  },
  "nbformat": 4,
  "nbformat_minor": 0
}
