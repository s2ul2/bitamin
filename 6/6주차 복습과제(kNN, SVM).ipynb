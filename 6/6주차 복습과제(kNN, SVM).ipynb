{
 "cells": [
  {
   "cell_type": "markdown",
   "metadata": {},
   "source": [
    "# 문제 1. KNN 실습\n",
    "\n",
    "* 아래의 코드를 사용해 이번 문제에서 사용할 데이터 셋을 불러와주세요."
   ]
  },
  {
   "cell_type": "code",
   "execution_count": 1,
   "metadata": {},
   "outputs": [],
   "source": [
    "import seaborn as sns\n",
    "\n",
    "df = sns.load_dataset('titanic')"
   ]
  },
  {
   "cell_type": "markdown",
   "metadata": {},
   "source": [
    " ### 1-1\n",
    " * 각 column의 결측치 개수를 확인하고, survived, pclass, sex, age, sibsp,parch 열만을 남기고 남은열들을 모두 삭제해주세요."
   ]
  },
  {
   "cell_type": "code",
   "execution_count": null,
   "metadata": {},
   "outputs": [],
   "source": []
  },
  {
   "cell_type": "markdown",
   "metadata": {},
   "source": [
    "### 1-2\n",
    "* age열의 데이터가 존재하지 않는 행을 모두 삭제해주세요.  \n",
    "* one_hot_encoding을 사용해 sex열의 데이터를 숫자형으로 변환하고, 변환이 끝나면 기존의 sex열을 삭제해주세요."
   ]
  },
  {
   "cell_type": "code",
   "execution_count": null,
   "metadata": {},
   "outputs": [],
   "source": []
  },
  {
   "cell_type": "markdown",
   "metadata": {},
   "source": [
    "### 1-3\n",
    "* X = df[['pclass', 'age', 'sibsp', 'parch', 'female', 'male']]\n",
    "* Y = df['survived']\n",
    "* 위의 코드를 실행하고, X를 StandardScaler를 사용해 정규화해주세요."
   ]
  },
  {
   "cell_type": "code",
   "execution_count": null,
   "metadata": {},
   "outputs": [],
   "source": [
    "X = df[['pclass', 'age', 'sibsp', 'parch', 'female', 'male']]\n",
    "Y = df['survived']"
   ]
  },
  {
   "cell_type": "code",
   "execution_count": null,
   "metadata": {},
   "outputs": [],
   "source": []
  },
  {
   "cell_type": "markdown",
   "metadata": {},
   "source": [
    "### 1-4\n",
    "* 테스트 데이터의 비율은 30%로 하고, 학습 데이터는 train, 테스트 데이터는 test로 저장해주세요. 이 때 데이터 분할 시 랜덤 난수 임의값을 10으로 지정해주세요.\n",
    "* k를 찾는 과정을 실행해주세요."
   ]
  },
  {
   "cell_type": "code",
   "execution_count": null,
   "metadata": {},
   "outputs": [],
   "source": [
    "#train_test_split"
   ]
  },
  {
   "cell_type": "code",
   "execution_count": null,
   "metadata": {},
   "outputs": [],
   "source": [
    "from sklearn.model_selection import cross_val_score\n",
    "import numpy as np\n",
    "from sklearn.neighbors import KNeighborsClassifier\n",
    "\n",
    "# 1부터 100까지의 K 중 10겹교차검증을 통해 KNN 알고리즘의 성능을 가장 좋게하는 K를 찾는 과정입니다.\n",
    "k_range= np.arange(1,101)\n",
    "k_scores = []\n",
    "\n",
    "for k in k_range:\n",
    "    model = KNeighborsClassifier(k)\n",
    "    scores = cross_val_score(model, X_train,Y_train, cv=10, scoring='accuracy')\n",
    "    k_scores.append(scores.mean())\n",
    "\n",
    "#코드를 완성하시오."
   ]
  },
  {
   "cell_type": "code",
   "execution_count": null,
   "metadata": {},
   "outputs": [],
   "source": []
  },
  {
   "cell_type": "markdown",
   "metadata": {},
   "source": [
    "### 1-5 \n",
    "* 2.4에서 얻은 k를 하이퍼파라미터로 하는 KNN 알고리즘을 사용해 Survived의 값을 예측하고, accuracy_score를 사용해 모델의 평가해주세요."
   ]
  },
  {
   "cell_type": "code",
   "execution_count": null,
   "metadata": {},
   "outputs": [],
   "source": []
  },
  {
   "cell_type": "markdown",
   "metadata": {},
   "source": [
    "\n",
    "\n"
   ]
  },
  {
   "cell_type": "markdown",
   "metadata": {
    "id": "4JUrPWnfDFc3"
   },
   "source": [
    "# 문제 2. SVM 실습"
   ]
  },
  {
   "cell_type": "markdown",
   "metadata": {
    "id": "UPPTs6s8DFdE"
   },
   "source": [
    "사용할 breast cancer 데이터는 유방암 진단을 위한 데이터셋으로 30개의 속성과 malignant(악성), benign(양성)의 두가지 타겟값을 가지고 있습니다. \n",
    " \n",
    "30개의 독립변수를 통해 유방암을 예측하는 SVM 모델을 만들 예정입니다. "
   ]
  },
  {
   "cell_type": "markdown",
   "metadata": {
    "id": "HRlTu-yODFdG"
   },
   "source": [
    "### 2-1. 유방암 데이터 불러오기"
   ]
  },
  {
   "cell_type": "code",
   "execution_count": null,
   "metadata": {},
   "outputs": [],
   "source": [
    "import pandas as pd\n",
    "from sklearn import datasets\n",
    "\n",
    "datasets=datasets.load_breast_cancer()\n",
    "\n",
    "df=pd.DataFrame(data=datasets.data, columns=datasets.feature_names)\n",
    "\n",
    "df['target'] = datasets.target\n",
    "\n",
    "\n",
    "print(df.info())\n",
    "df.head()"
   ]
  },
  {
   "cell_type": "markdown",
   "metadata": {
    "id": "RwVTMa3IErCS"
   },
   "source": [
    "### 2-2. 데이터 탐색\n",
    "데이터에 대해 다음 특성을 탐색해보세요.\n",
    "- 데이터 형태 확인 (shape)\n",
    "- 'target' 변수의 범주(0 or 1)별 개수 확인 (value_counts)\n",
    "- 열별 결측값 확인 (isna)"
   ]
  },
  {
   "cell_type": "code",
   "execution_count": null,
   "metadata": {},
   "outputs": [],
   "source": []
  },
  {
   "cell_type": "markdown",
   "metadata": {
    "id": "0URR7Eu9DFdJ"
   },
   "source": [
    "### 2-3.  선형분리/비선형분리 선택하기\n",
    "선형분리 중 linear와 비선형분리 중 rbf를 선택했습니다.\n",
    "\n",
    "아래 코드를 실행한 후, 둘 중 무엇이 좋을지, 그 이유는 무엇일지 적어주세요.\n",
    "* hint: cross validation, kernel, linear, rbf"
   ]
  },
  {
   "cell_type": "code",
   "execution_count": null,
   "metadata": {},
   "outputs": [],
   "source": [
    "import sklearn.svm as svm\n",
    "import sklearn.metrics as mt\n",
    "import sklearn.model_selection as ms\n",
    "from sklearn.model_selection import cross_val_score, cross_validate\n",
    "\n",
    "X = df.iloc[:,:-1]\n",
    "y = df.iloc[:,-1]"
   ]
  },
  {
   "cell_type": "code",
   "execution_count": null,
   "metadata": {},
   "outputs": [],
   "source": [
    "# 선형분리 진행\n",
    "svm_clf_l =svm.SVC(kernel = 'linear')\n",
    "\n",
    "# 교차검증\n",
    "scores_l = cross_val_score(svm_clf_l, X, y, cv = 5)\n",
    "scores_l\n",
    "\n",
    "print('교차검증 평균: ', scores_l.mean())"
   ]
  },
  {
   "cell_type": "code",
   "execution_count": null,
   "metadata": {},
   "outputs": [],
   "source": [
    "# 비선형분리 진행\n",
    "svm_clf_r =svm.SVC(kernel = 'rbf')\n",
    "\n",
    "# 교차검증\n",
    "scores = cross_val_score(svm_clf_r, X, y, cv = 5)\n",
    "scores\n",
    "\n",
    "print('교차검증 평균: ', scores.mean())"
   ]
  },
  {
   "cell_type": "markdown",
   "metadata": {
    "id": "8rcSK8v_IYk1"
   },
   "source": [
    "무엇이 좋을까요?: \n",
    "이유:"
   ]
  },
  {
   "cell_type": "markdown",
   "metadata": {
    "id": "IxHgymaZDFdP"
   },
   "source": [
    "### 2-4. 데이터 나누기\n",
    "데이터를 학습 데이터와 테스트 데이터로 나누세요.\n",
    "\n",
    "- 테스트 데이터의 비율은 20%로 하고, 학습 데이터는 train, 테스트 데이터는 test로 저장해주세요! \n",
    "\n",
    "- 데이터 분할 시 랜덤 난수 임의값을 100으로 지정해주세요.\n",
    "\n",
    "* hint: sklearn, train_test_split, random_state"
   ]
  },
  {
   "cell_type": "code",
   "execution_count": null,
   "metadata": {},
   "outputs": [],
   "source": []
  },
  {
   "cell_type": "markdown",
   "metadata": {
    "id": "Mlek5i6oDFdR"
   },
   "source": [
    "### 2-5 하이퍼파라미터 구하고 SVM 적용하기\n",
    "3-3에서 정한 방법에 필요한 파라미터값을 구해준 후, 구한 파라미터로 학습된 모델을 clf에 저장하는 과정입니다.\n",
    "\n",
    "1.선형분리를 택했다면 c 튜닝\n",
    "\n",
    "2.비선형분리를 택했다면 c와 gamma 튜닝 \n",
    "\n",
    "1번과 2번 중 하나를 선택하고, 해당하는 과정에서 빠진 부분을 채운 후 실행해주세요. "
   ]
  },
  {
   "cell_type": "code",
   "execution_count": null,
   "metadata": {},
   "outputs": [],
   "source": [
    "from sklearn.model_selection import GridSearchCV\n",
    "from sklearn.svm import SVC\n",
    "from sklearn.metrics import classification_report, accuracy_score\n",
    "import numpy as np\n",
    "\n",
    "#빠진 부분을 채우고 실행하세요. \n",
    "#hint: train data를 X_train, y_train으로 나누는 것을 잊지 말아주세요.\n",
    "\n"
   ]
  },
  {
   "cell_type": "code",
   "execution_count": null,
   "metadata": {},
   "outputs": [],
   "source": [
    "#1번 선형을 선택한 경우 빠진 부분을 채우고 실행하세요.\n",
    "\n",
    "\n",
    "def svc_param_selection(X,y,nfolds):\n",
    "    svm_parameters = [\n",
    "                        {'kernel': [''],\n",
    "                         'C': [0.01, 0.1, 1, 10, 100, 1000]\n",
    "                        }\n",
    "                       ]\n",
    "    clf = GridSearchCV(SVC(), svm_parameters, cv=10)\n",
    "    clf.fit(X_train, y_train)\n",
    "    print(clf.best_params_)\n",
    "    \n",
    "    return clf"
   ]
  },
  {
   "cell_type": "code",
   "execution_count": null,
   "metadata": {},
   "outputs": [],
   "source": [
    "#2번 비선형을 선택한 경우 빠진 부분을 채우고 실행하세요.\n",
    "\n",
    "\n",
    "def svc_param_selection(X,y,nfolds):\n",
    "    svm_parameters = [\n",
    "                        {'kernel': [''],\n",
    "                         'C': [0.01, 0.1, 1, 10, 100, 1000],\n",
    "                         'gamma': [0.00001,0.0001, 0.001, 0.01, 0.1, 1],\n",
    "                        }\n",
    "                       ]\n",
    "    clf = GridSearchCV(SVC(), svm_parameters, cv=10)\n",
    "    clf.fit(X_train, y_train)\n",
    "    print(clf.best_params_)\n",
    "    \n",
    "    return clf"
   ]
  },
  {
   "cell_type": "code",
   "execution_count": null,
   "metadata": {},
   "outputs": [],
   "source": [
    "clf = svc_param_selection(X_train, y_train, 10) "
   ]
  },
  {
   "cell_type": "code",
   "execution_count": null,
   "metadata": {},
   "outputs": [],
   "source": [
    "#clf로 저장한 모델의 train 정확도를 확인하는 코드입니다. 실행하세요. \n",
    "result = pd.DataFrame(clf.cv_results_['params'])\n",
    "result['mean_test_score'] = clf.cv_results_['mean_test_score']\n",
    "result.sort_values(by='mean_test_score', ascending=False)"
   ]
  },
  {
   "cell_type": "markdown",
   "metadata": {
    "id": "_sj9QwRRDFdW"
   },
   "source": [
    "### 2-6. 테스트 \n",
    "최적의 파라미터로 학습된 clf를 이용하여,\n",
    "테스트를 진행해봅시다.\n",
    "\n",
    "테스트 결과 정확도는 어떻게 나왔나요?"
   ]
  },
  {
   "cell_type": "code",
   "execution_count": null,
   "metadata": {},
   "outputs": [],
   "source": [
    "#test data를 X_test, y_test으로 나누는 것을 잊지 말아주세요.\n"
   ]
  },
  {
   "cell_type": "code",
   "execution_count": null,
   "metadata": {},
   "outputs": [],
   "source": [
    "정확도:"
   ]
  },
  {
   "cell_type": "markdown",
   "metadata": {
    "id": "vQ6oTuB1DFdZ"
   },
   "source": [
    "## 3. SVM 성능 개선하기\n",
    "발표에서도 언급했듯이 SVM 모델은 \"______\"에 민감하기 때문에\n",
    "전처리에서 이 과정을 꼭 거쳐야 합니다.\n",
    "위에서 빼먹은 이 과정은 무엇일까요?"
   ]
  },
  {
   "cell_type": "markdown",
   "metadata": {
    "id": "IlSDURIPDFdZ"
   },
   "source": [
    "답:"
   ]
  }
 ],
 "metadata": {
  "kernelspec": {
   "display_name": "Python 3",
   "language": "python",
   "name": "python3"
  },
  "language_info": {
   "codemirror_mode": {
    "name": "ipython",
    "version": 3
   },
   "file_extension": ".py",
   "mimetype": "text/x-python",
   "name": "python",
   "nbconvert_exporter": "python",
   "pygments_lexer": "ipython3",
   "version": "3.8.5"
  },
  "toc": {
   "base_numbering": 1,
   "nav_menu": {},
   "number_sections": true,
   "sideBar": true,
   "skip_h1_title": false,
   "title_cell": "Table of Contents",
   "title_sidebar": "Contents",
   "toc_cell": false,
   "toc_position": {},
   "toc_section_display": true,
   "toc_window_display": false
  },
  "varInspector": {
   "cols": {
    "lenName": 16,
    "lenType": 16,
    "lenVar": 40
   },
   "kernels_config": {
    "python": {
     "delete_cmd_postfix": "",
     "delete_cmd_prefix": "del ",
     "library": "var_list.py",
     "varRefreshCmd": "print(var_dic_list())"
    },
    "r": {
     "delete_cmd_postfix": ") ",
     "delete_cmd_prefix": "rm(",
     "library": "var_list.r",
     "varRefreshCmd": "cat(var_dic_list()) "
    }
   },
   "types_to_exclude": [
    "module",
    "function",
    "builtin_function_or_method",
    "instance",
    "_Feature"
   ],
   "window_display": false
  }
 },
 "nbformat": 4,
 "nbformat_minor": 5
}
