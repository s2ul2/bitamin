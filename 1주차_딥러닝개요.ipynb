{
  "nbformat": 4,
  "nbformat_minor": 0,
  "metadata": {
    "colab": {
      "name": "1주차_딥러닝개요                                                                                                                                                                                                                                                ",
      "provenance": [],
      "collapsed_sections": [],
      "authorship_tag": "ABX9TyMSZ1dHkmbqTOtVpXBEbojD",
      "include_colab_link": true
    },
    "kernelspec": {
      "name": "python3",
      "display_name": "Python 3"
    },
    "language_info": {
      "name": "python"
    }
  },
  "cells": [
    {
      "cell_type": "markdown",
      "metadata": {
        "id": "view-in-github",
        "colab_type": "text"
      },
      "source": [
        "<a href=\"https://colab.research.google.com/github/s2ul2/bitamin/blob/main/1%EC%A3%BC%EC%B0%A8_%EB%94%A5%EB%9F%AC%EB%8B%9D%EA%B0%9C%EC%9A%94.ipynb\" target=\"_parent\"><img src=\"https://colab.research.google.com/assets/colab-badge.svg\" alt=\"Open In Colab\"/></a>"
      ]
    },
    {
      "cell_type": "code",
      "execution_count": 3,
      "metadata": {
        "colab": {
          "base_uri": "https://localhost:8080/",
          "height": 346
        },
        "id": "qg2thLN8d-M7",
        "outputId": "5c89bea6-8dec-4ee6-a449-bcb87a3eb1bb"
      },
      "outputs": [
        {
          "output_type": "error",
          "ename": "MessageError",
          "evalue": "ignored",
          "traceback": [
            "\u001b[0;31m---------------------------------------------------------------------------\u001b[0m",
            "\u001b[0;31mMessageError\u001b[0m                              Traceback (most recent call last)",
            "\u001b[0;32m<ipython-input-3-d5df0069828e>\u001b[0m in \u001b[0;36m<module>\u001b[0;34m()\u001b[0m\n\u001b[1;32m      1\u001b[0m \u001b[0;32mfrom\u001b[0m \u001b[0mgoogle\u001b[0m\u001b[0;34m.\u001b[0m\u001b[0mcolab\u001b[0m \u001b[0;32mimport\u001b[0m \u001b[0mdrive\u001b[0m\u001b[0;34m\u001b[0m\u001b[0;34m\u001b[0m\u001b[0m\n\u001b[0;32m----> 2\u001b[0;31m \u001b[0mdrive\u001b[0m\u001b[0;34m.\u001b[0m\u001b[0mmount\u001b[0m\u001b[0;34m(\u001b[0m\u001b[0;34m'/content/drive'\u001b[0m\u001b[0;34m)\u001b[0m\u001b[0;34m\u001b[0m\u001b[0;34m\u001b[0m\u001b[0m\n\u001b[0m",
            "\u001b[0;32m/usr/local/lib/python3.7/dist-packages/google/colab/drive.py\u001b[0m in \u001b[0;36mmount\u001b[0;34m(mountpoint, force_remount, timeout_ms, use_metadata_server)\u001b[0m\n\u001b[1;32m    116\u001b[0m       \u001b[0mtimeout_ms\u001b[0m\u001b[0;34m=\u001b[0m\u001b[0mtimeout_ms\u001b[0m\u001b[0;34m,\u001b[0m\u001b[0;34m\u001b[0m\u001b[0;34m\u001b[0m\u001b[0m\n\u001b[1;32m    117\u001b[0m       \u001b[0muse_metadata_server\u001b[0m\u001b[0;34m=\u001b[0m\u001b[0muse_metadata_server\u001b[0m\u001b[0;34m,\u001b[0m\u001b[0;34m\u001b[0m\u001b[0;34m\u001b[0m\u001b[0m\n\u001b[0;32m--> 118\u001b[0;31m       ephemeral=ephemeral)\n\u001b[0m\u001b[1;32m    119\u001b[0m \u001b[0;34m\u001b[0m\u001b[0m\n\u001b[1;32m    120\u001b[0m \u001b[0;34m\u001b[0m\u001b[0m\n",
            "\u001b[0;32m/usr/local/lib/python3.7/dist-packages/google/colab/drive.py\u001b[0m in \u001b[0;36m_mount\u001b[0;34m(mountpoint, force_remount, timeout_ms, use_metadata_server, ephemeral)\u001b[0m\n\u001b[1;32m    139\u001b[0m   \u001b[0;32mif\u001b[0m \u001b[0mephemeral\u001b[0m\u001b[0;34m:\u001b[0m\u001b[0;34m\u001b[0m\u001b[0;34m\u001b[0m\u001b[0m\n\u001b[1;32m    140\u001b[0m     _message.blocking_request(\n\u001b[0;32m--> 141\u001b[0;31m         'request_auth', request={'authType': 'dfs_ephemeral'}, timeout_sec=None)\n\u001b[0m\u001b[1;32m    142\u001b[0m \u001b[0;34m\u001b[0m\u001b[0m\n\u001b[1;32m    143\u001b[0m   \u001b[0mmountpoint\u001b[0m \u001b[0;34m=\u001b[0m \u001b[0m_os\u001b[0m\u001b[0;34m.\u001b[0m\u001b[0mpath\u001b[0m\u001b[0;34m.\u001b[0m\u001b[0mexpanduser\u001b[0m\u001b[0;34m(\u001b[0m\u001b[0mmountpoint\u001b[0m\u001b[0;34m)\u001b[0m\u001b[0;34m\u001b[0m\u001b[0;34m\u001b[0m\u001b[0m\n",
            "\u001b[0;32m/usr/local/lib/python3.7/dist-packages/google/colab/_message.py\u001b[0m in \u001b[0;36mblocking_request\u001b[0;34m(request_type, request, timeout_sec, parent)\u001b[0m\n\u001b[1;32m    173\u001b[0m   request_id = send_request(\n\u001b[1;32m    174\u001b[0m       request_type, request, parent=parent, expect_reply=True)\n\u001b[0;32m--> 175\u001b[0;31m   \u001b[0;32mreturn\u001b[0m \u001b[0mread_reply_from_input\u001b[0m\u001b[0;34m(\u001b[0m\u001b[0mrequest_id\u001b[0m\u001b[0;34m,\u001b[0m \u001b[0mtimeout_sec\u001b[0m\u001b[0;34m)\u001b[0m\u001b[0;34m\u001b[0m\u001b[0;34m\u001b[0m\u001b[0m\n\u001b[0m",
            "\u001b[0;32m/usr/local/lib/python3.7/dist-packages/google/colab/_message.py\u001b[0m in \u001b[0;36mread_reply_from_input\u001b[0;34m(message_id, timeout_sec)\u001b[0m\n\u001b[1;32m    104\u001b[0m         reply.get('colab_msg_id') == message_id):\n\u001b[1;32m    105\u001b[0m       \u001b[0;32mif\u001b[0m \u001b[0;34m'error'\u001b[0m \u001b[0;32min\u001b[0m \u001b[0mreply\u001b[0m\u001b[0;34m:\u001b[0m\u001b[0;34m\u001b[0m\u001b[0;34m\u001b[0m\u001b[0m\n\u001b[0;32m--> 106\u001b[0;31m         \u001b[0;32mraise\u001b[0m \u001b[0mMessageError\u001b[0m\u001b[0;34m(\u001b[0m\u001b[0mreply\u001b[0m\u001b[0;34m[\u001b[0m\u001b[0;34m'error'\u001b[0m\u001b[0;34m]\u001b[0m\u001b[0;34m)\u001b[0m\u001b[0;34m\u001b[0m\u001b[0;34m\u001b[0m\u001b[0m\n\u001b[0m\u001b[1;32m    107\u001b[0m       \u001b[0;32mreturn\u001b[0m \u001b[0mreply\u001b[0m\u001b[0;34m.\u001b[0m\u001b[0mget\u001b[0m\u001b[0;34m(\u001b[0m\u001b[0;34m'data'\u001b[0m\u001b[0;34m,\u001b[0m \u001b[0;32mNone\u001b[0m\u001b[0;34m)\u001b[0m\u001b[0;34m\u001b[0m\u001b[0;34m\u001b[0m\u001b[0m\n\u001b[1;32m    108\u001b[0m \u001b[0;34m\u001b[0m\u001b[0m\n",
            "\u001b[0;31mMessageError\u001b[0m: Error: credential propagation was unsuccessful"
          ]
        }
      ],
      "source": [
        "from google.colab import drive\n",
        "drive.mount('/content/drive')\n"
      ]
    },
    {
      "cell_type": "code",
      "source": [
        "import pandas as pd\n",
        "import numpy as np\n",
        "import matplotlib.pyplot as plt"
      ],
      "metadata": {
        "id": "V0ASWbfeitlu"
      },
      "execution_count": 2,
      "outputs": []
    },
    {
      "cell_type": "markdown",
      "source": [
        "# 퍼셉트론"
      ],
      "metadata": {
        "id": "gzBtjiSpiNzH"
      }
    },
    {
      "cell_type": "code",
      "source": [
        "import tensorflow as tf"
      ],
      "metadata": {
        "id": "Kt-3rYXldRg2"
      },
      "execution_count": 14,
      "outputs": []
    },
    {
      "cell_type": "code",
      "source": [
        "# 퍼셉트론 구현\n",
        "class Perceptron:\n",
        "    def __init__(self):\n",
        "        self.W = tf.Variable(tf.random.normal([3, 1]))\n",
        "\n",
        "    def train(self, X):\n",
        "        err = 1\n",
        "        epoch, max_epochs = 0, 20\n",
        "        while err > 0.0 and epoch < max_epochs:\n",
        "            epoch += 1\n",
        "            self.optimize(X)\n",
        "            err = self.mse(Y, self.pred(X)).numpy()\n",
        "            print('epoch : ', epoch, 'mse : ', err)\n",
        "        \n",
        "    def pred(self, X):\n",
        "        return self.step(tf.matmul(X, self.W))\n",
        "    \n",
        "    def mse(self, Y, y_hat):\n",
        "        return tf.reduce_mean(tf.square(tf.subtract(Y, y_hat)))\n",
        "\n",
        "    def step(self, x):\n",
        "        return tf.dtypes.cast(tf.math.greater(x, 0), tf.float32)\n",
        "    \n",
        "    def optimize(self, X):\n",
        "        delta = tf.matmul(X, tf.subtract(Y, self.step(tf.matmul(X, self.W))), transpose_a = True)\n",
        "        self.W.assign(self.W + delta)"
      ],
      "metadata": {
        "id": "d236dLyAddH9"
      },
      "execution_count": 30,
      "outputs": []
    },
    {
      "cell_type": "markdown",
      "source": [
        "## AND gate"
      ],
      "metadata": {
        "id": "aYEkPQuZdT3T"
      }
    },
    {
      "cell_type": "code",
      "source": [
        "# 데이터 생성\n",
        "T = 1.0\n",
        "F = 0.0\n",
        "bias = 1.0\n",
        "\n",
        "def get_AND_data():\n",
        "    X = [\n",
        "         [F, F, bias],\n",
        "         [F, T, bias],\n",
        "         [T, F, bias],\n",
        "         [T, T, bias]\n",
        "    ]\n",
        "    Y = [ [F], [F], [F], [T] ]\n",
        "    return X, Y"
      ],
      "metadata": {
        "id": "60r53jbObj19"
      },
      "execution_count": 27,
      "outputs": []
    },
    {
      "cell_type": "code",
      "source": [
        "X, Y = get_AND_data()"
      ],
      "metadata": {
        "id": "5ztR8mGHdsfB"
      },
      "execution_count": 28,
      "outputs": []
    },
    {
      "cell_type": "code",
      "source": [
        "# 학습\n",
        "perceptron = Perceptron()\n",
        "perceptron.train(X)"
      ],
      "metadata": {
        "colab": {
          "base_uri": "https://localhost:8080/"
        },
        "id": "WbMWVhWvcGlY",
        "outputId": "ee34fb7f-cd31-4a35-8541-24e905766772"
      },
      "execution_count": 31,
      "outputs": [
        {
          "output_type": "stream",
          "name": "stdout",
          "text": [
            "epoch :  1 mse :  0.25\n",
            "epoch :  2 mse :  0.25\n",
            "epoch :  3 mse :  0.5\n",
            "epoch :  4 mse :  0.25\n",
            "epoch :  5 mse :  0.0\n"
          ]
        }
      ]
    },
    {
      "cell_type": "code",
      "source": [
        "# 테스트\n",
        "print(perceptron.pred(X).numpy())"
      ],
      "metadata": {
        "colab": {
          "base_uri": "https://localhost:8080/"
        },
        "id": "J6zfRoO2avNg",
        "outputId": "1786c4e5-ced7-4b55-d8ab-e7dc7c13e5b4"
      },
      "execution_count": 32,
      "outputs": [
        {
          "output_type": "stream",
          "name": "stdout",
          "text": [
            "[[0.]\n",
            " [0.]\n",
            " [0.]\n",
            " [1.]]\n"
          ]
        }
      ]
    },
    {
      "cell_type": "markdown",
      "source": [
        "## NAND Gate 구현"
      ],
      "metadata": {
        "id": "xkxJirTUiRcQ"
      }
    },
    {
      "cell_type": "code",
      "source": [
        "def NAND(a,b):\n",
        "    input = np.array([a, b])\n",
        "    weights = np.array([-0.6, -0.5])\n",
        "    bias = 0.7\n",
        "    value = np.sum(input*weights) + bias\n",
        "\n",
        "    # 계단 함수가 활성화 함수\n",
        "    if value <= 0:\n",
        "        return 0\n",
        "    else:\n",
        "        return 1"
      ],
      "metadata": {
        "id": "kAZmRR0ceox3"
      },
      "execution_count": 4,
      "outputs": []
    },
    {
      "cell_type": "code",
      "source": [
        "print(NAND(0, 0))\n",
        "print(NAND(0, 1))\n",
        "print(NAND(1, 0))\n",
        "print(NAND(1, 1))"
      ],
      "metadata": {
        "colab": {
          "base_uri": "https://localhost:8080/"
        },
        "id": "rQdmmSL0i5Dh",
        "outputId": "e33c84de-b880-4804-c0f0-8cf13bf4dfe6"
      },
      "execution_count": 5,
      "outputs": [
        {
          "output_type": "stream",
          "name": "stdout",
          "text": [
            "1\n",
            "1\n",
            "1\n",
            "0\n"
          ]
        }
      ]
    },
    {
      "cell_type": "code",
      "source": [
        "x1 = np.arange(-2, 2, 0.01)\n",
        "x2 = np.arange(-2, 2, 0.01)\n",
        "bias = 0.7\n",
        "y = (0.6*x1 - bias)/-0.5\n",
        "\n",
        "plt.axvline(x=0)\n",
        "plt.axhline(y = 0)\n",
        "\n",
        "\n",
        "plt.plot(x1, y, 'r--')\n",
        "\n",
        "plt.scatter(0, 0, color = 'black', marker = '^', s = 150)\n",
        "plt.scatter(0, 1, color = 'black', marker = '^', s = 150)\n",
        "plt.scatter(1, 0, color = 'black', marker = '^', s = 150)\n",
        "plt.scatter(1, 1, color = 'orange', marker = 'o', s = 150)\n",
        "plt.xlim(-0.5, 1.5)\n",
        "plt.ylim(-0.5, 1.5)\n",
        "plt.grid()\n",
        "plt.show()"
      ],
      "metadata": {
        "colab": {
          "base_uri": "https://localhost:8080/",
          "height": 268
        },
        "id": "qf6VmeNBjSZk",
        "outputId": "ff0f8ef1-a62f-460c-8c58-56a99224e2d3"
      },
      "execution_count": 6,
      "outputs": [
        {
          "output_type": "display_data",
          "data": {
            "image/png": "[encoded data removed]",
            "text/plain": [
              "<Figure size 432x288 with 1 Axes>"
            ]
          },
          "metadata": {
            "needs_background": "light"
          }
        }
      ]
    },
    {
      "cell_type": "markdown",
      "source": [
        "# 다층 퍼셉트론"
      ],
      "metadata": {
        "id": "cEfX8R6yXiKy"
      }
    },
    {
      "cell_type": "markdown",
      "source": [
        "## XOR 구현"
      ],
      "metadata": {
        "id": "EzPx2an-pdIV"
      }
    },
    {
      "cell_type": "code",
      "source": [
        "def NAND(a,b):\n",
        "    input = np.array([a, b])\n",
        "    weights = np.array([-0.6, -0.5])\n",
        "    bias = 0.7\n",
        "    value = np.sum(input*weights) + bias\n",
        "\n",
        "    # 계단 함수가 활성화 함수\n",
        "    if value <= 0:\n",
        "        return 0\n",
        "    else:\n",
        "        return 1"
      ],
      "metadata": {
        "id": "7VygfXsYkAGn"
      },
      "execution_count": null,
      "outputs": []
    },
    {
      "cell_type": "code",
      "source": [
        "def AND(a,b):\n",
        "    input = np.array([a, b])\n",
        "    weights = np.array([0.4, 0.4])\n",
        "    bias = -0.6\n",
        "    value = np.sum(input*weights) + bias\n",
        "\n",
        "    # 계단 함수가 활성화 함수\n",
        "    if value <= 0:\n",
        "        return 0\n",
        "    else:\n",
        "        return 1"
      ],
      "metadata": {
        "id": "z347CTqTltb-"
      },
      "execution_count": 33,
      "outputs": []
    },
    {
      "cell_type": "code",
      "source": [
        "def OR(a,b):\n",
        "    input = np.array([a, b])\n",
        "    weights = np.array([0.4, 0.5])\n",
        "    bias = -0.3\n",
        "    value = np.sum(input*weights) + bias\n",
        "\n",
        "    # 계단 함수가 활성화 함수\n",
        "    if value <= 0:\n",
        "        return 0\n",
        "    else:\n",
        "        return 1"
      ],
      "metadata": {
        "id": "KSDTlg5Zltg9"
      },
      "execution_count": 35,
      "outputs": []
    },
    {
      "cell_type": "code",
      "source": [
        "def XOR(x1, x2):\n",
        "    s1 = NAND(x1, x2)\n",
        "    s2 = OR(x1, x2)\n",
        "    y = AND(s1, s2)\n",
        "    return y"
      ],
      "metadata": {
        "id": "eQGf1EoOltlm"
      },
      "execution_count": 34,
      "outputs": []
    },
    {
      "cell_type": "code",
      "source": [
        "# 활성화 함수\n",
        "def sigmoid(x):\n",
        "    return 1/(1+np.exp(-x))"
      ],
      "metadata": {
        "id": "WUy8uZPzqLLU"
      },
      "execution_count": 36,
      "outputs": []
    },
    {
      "cell_type": "code",
      "source": [
        "# 입력 데이터\n",
        "X = np.array([1.0, 0.5, 0.4])\n",
        "\n",
        "W1 = np.array([ [0.1, 0.3, 0.5], [0.2, 0.4, 0.6], [0.3, 0.5, 0.7] ])\n",
        "B1 = np.array([1, 1, 1])\n",
        "\n",
        "print(W1.shape)\n",
        "\n",
        "A1 = np.dot(X, W1) + B1\n",
        "Z1 = sigmoid(A1)\n",
        "\n",
        "# 활성화 함수 전\n",
        "print(A1)\n",
        "# 활성화 함수 적용 후\n",
        "print(Z1)"
      ],
      "metadata": {
        "colab": {
          "base_uri": "https://localhost:8080/"
        },
        "id": "E8bPa6wNqoCk",
        "outputId": "d2ab1162-567a-4a7b-ca51-50721d9513a9"
      },
      "execution_count": 38,
      "outputs": [
        {
          "output_type": "stream",
          "name": "stdout",
          "text": [
            "(3, 3)\n",
            "[1.32 1.7  2.08]\n",
            "[0.78918171 0.84553473 0.88894403]\n"
          ]
        }
      ]
    },
    {
      "cell_type": "code",
      "source": [
        "W2 = np.array([[0.2, 0.4, 0.6], [0.1, 0.3, 0.5], [0.4, 0.6, 0.8]])\n",
        "B2 = np.array([1 , 1, 1])\n",
        "\n",
        "print(W2.shape)\n",
        "\n",
        "A2 = np.dot(Z1, W2) + B2\n",
        "Z2 = sigmoid(A2)\n",
        "\n",
        "print(Z2)"
      ],
      "metadata": {
        "colab": {
          "base_uri": "https://localhost:8080/"
        },
        "id": "ugaiKOydqoLV",
        "outputId": "15cce2a0-7bd7-4f6d-f357-4f169dbea127"
      },
      "execution_count": 39,
      "outputs": [
        {
          "output_type": "stream",
          "name": "stdout",
          "text": [
            "(3, 3)\n",
            "[0.83173411 0.89116528 0.93133834]\n"
          ]
        }
      ]
    },
    {
      "cell_type": "code",
      "source": [
        "# 3가지 입력을 받고 이후 뉴런 2개로 들어가야 하므로 3*2 행렬이 됩니다.\n",
        "W3 = np.array([ [0.1, 0.3], [-0.1, -0.5], [0.3, 0.5] ])\n",
        "B3 = np.array([1, 1])\n",
        "\n",
        "print(W3.shape)\n",
        "\n",
        "A3 = np.dot(Z1, W3) + B3\n",
        "Z3 = sigmoid(A3)\n",
        "\n",
        "print(Z3)"
      ],
      "metadata": {
        "colab": {
          "base_uri": "https://localhost:8080/"
        },
        "id": "kjWy-l_dtPvU",
        "outputId": "cb55a448-6013-432b-9e7b-1ddf3a67196a"
      },
      "execution_count": 41,
      "outputs": [
        {
          "output_type": "stream",
          "name": "stdout",
          "text": [
            "(3, 2)\n",
            "[0.77920645 0.77876075]\n"
          ]
        }
      ]
    },
    {
      "cell_type": "code",
      "source": [
        ""
      ],
      "metadata": {
        "id": "vrhNuuZptl8M"
      },
      "execution_count": null,
      "outputs": []
    },
    {
      "cell_type": "code",
      "source": [
        ""
      ],
      "metadata": {
        "id": "CUxhVXrIy0WN"
      },
      "execution_count": null,
      "outputs": []
    },
    {
      "cell_type": "code",
      "source": [
        ""
      ],
      "metadata": {
        "id": "KBSlQq8Py0cQ"
      },
      "execution_count": null,
      "outputs": []
    },
    {
      "cell_type": "code",
      "source": [
        ""
      ],
      "metadata": {
        "id": "azLnoH0oy0gU"
      },
      "execution_count": null,
      "outputs": []
    },
    {
      "cell_type": "code",
      "source": [
        ""
      ],
      "metadata": {
        "id": "4YcHP5Cfy0k5"
      },
      "execution_count": null,
      "outputs": []
    },
    {
      "cell_type": "code",
      "source": [
        ""
      ],
      "metadata": {
        "id": "3BNAQtCXy0pC"
      },
      "execution_count": null,
      "outputs": []
    },
    {
      "cell_type": "code",
      "source": [
        ""
      ],
      "metadata": {
        "id": "f2TgEAxJy0td"
      },
      "execution_count": null,
      "outputs": []
    }
  ]
}