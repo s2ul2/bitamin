{
  "nbformat": 4,
  "nbformat_minor": 0,
  "metadata": {
    "colab": {
      "name": "12week.ipynb",
      "provenance": [],
      "collapsed_sections": [],
      "authorship_tag": "ABX9TyMA2XGbXN7Gt9m81ynG0j72",
      "include_colab_link": true
    },
    "kernelspec": {
      "name": "python3",
      "display_name": "Python 3"
    },
    "language_info": {
      "name": "python"
    }
  },
  "cells": [
    {
      "cell_type": "markdown",
      "metadata": {
        "id": "view-in-github",
        "colab_type": "text"
      },
      "source": [
        "<a href=\"https://colab.research.google.com/github/s2ul2/bitamin/blob/main/12week.ipynb\" target=\"_parent\"><img src=\"https://colab.research.google.com/assets/colab-badge.svg\" alt=\"Open In Colab\"/></a>"
      ]
    },
    {
      "cell_type": "markdown",
      "source": [
        "# PCA"
      ],
      "metadata": {
        "id": "CA2T90-5jjCv"
      }
    },
    {
      "cell_type": "code",
      "execution_count": 1,
      "metadata": {
        "colab": {
          "base_uri": "https://localhost:8080/",
          "height": 424
        },
        "id": "uZYyL6I0VG-l",
        "outputId": "694fa213-b5a5-438e-beb4-01918c5fff9e"
      },
      "outputs": [
        {
          "output_type": "execute_result",
          "data": {
            "text/html": [
              "\n",
              "  <div id=\"df-40c7868b-08d3-46dc-b93a-ccd9ac993085\">\n",
              "    <div class=\"colab-df-container\">\n",
              "      <div>\n",
              "<style scoped>\n",
              "    .dataframe tbody tr th:only-of-type {\n",
              "        vertical-align: middle;\n",
              "    }\n",
              "\n",
              "    .dataframe tbody tr th {\n",
              "        vertical-align: top;\n",
              "    }\n",
              "\n",
              "    .dataframe thead th {\n",
              "        text-align: right;\n",
              "    }\n",
              "</style>\n",
              "<table border=\"1\" class=\"dataframe\">\n",
              "  <thead>\n",
              "    <tr style=\"text-align: right;\">\n",
              "      <th></th>\n",
              "      <th>sepal length (cm)</th>\n",
              "      <th>sepal width (cm)</th>\n",
              "      <th>petal length (cm)</th>\n",
              "      <th>petal width (cm)</th>\n",
              "    </tr>\n",
              "  </thead>\n",
              "  <tbody>\n",
              "    <tr>\n",
              "      <th>0</th>\n",
              "      <td>5.1</td>\n",
              "      <td>3.5</td>\n",
              "      <td>1.4</td>\n",
              "      <td>0.2</td>\n",
              "    </tr>\n",
              "    <tr>\n",
              "      <th>1</th>\n",
              "      <td>4.9</td>\n",
              "      <td>3.0</td>\n",
              "      <td>1.4</td>\n",
              "      <td>0.2</td>\n",
              "    </tr>\n",
              "    <tr>\n",
              "      <th>2</th>\n",
              "      <td>4.7</td>\n",
              "      <td>3.2</td>\n",
              "      <td>1.3</td>\n",
              "      <td>0.2</td>\n",
              "    </tr>\n",
              "    <tr>\n",
              "      <th>3</th>\n",
              "      <td>4.6</td>\n",
              "      <td>3.1</td>\n",
              "      <td>1.5</td>\n",
              "      <td>0.2</td>\n",
              "    </tr>\n",
              "    <tr>\n",
              "      <th>4</th>\n",
              "      <td>5.0</td>\n",
              "      <td>3.6</td>\n",
              "      <td>1.4</td>\n",
              "      <td>0.2</td>\n",
              "    </tr>\n",
              "    <tr>\n",
              "      <th>...</th>\n",
              "      <td>...</td>\n",
              "      <td>...</td>\n",
              "      <td>...</td>\n",
              "      <td>...</td>\n",
              "    </tr>\n",
              "    <tr>\n",
              "      <th>145</th>\n",
              "      <td>6.7</td>\n",
              "      <td>3.0</td>\n",
              "      <td>5.2</td>\n",
              "      <td>2.3</td>\n",
              "    </tr>\n",
              "    <tr>\n",
              "      <th>146</th>\n",
              "      <td>6.3</td>\n",
              "      <td>2.5</td>\n",
              "      <td>5.0</td>\n",
              "      <td>1.9</td>\n",
              "    </tr>\n",
              "    <tr>\n",
              "      <th>147</th>\n",
              "      <td>6.5</td>\n",
              "      <td>3.0</td>\n",
              "      <td>5.2</td>\n",
              "      <td>2.0</td>\n",
              "    </tr>\n",
              "    <tr>\n",
              "      <th>148</th>\n",
              "      <td>6.2</td>\n",
              "      <td>3.4</td>\n",
              "      <td>5.4</td>\n",
              "      <td>2.3</td>\n",
              "    </tr>\n",
              "    <tr>\n",
              "      <th>149</th>\n",
              "      <td>5.9</td>\n",
              "      <td>3.0</td>\n",
              "      <td>5.1</td>\n",
              "      <td>1.8</td>\n",
              "    </tr>\n",
              "  </tbody>\n",
              "</table>\n",
              "<p>150 rows × 4 columns</p>\n",
              "</div>\n",
              "      <button class=\"colab-df-convert\" onclick=\"convertToInteractive('df-40c7868b-08d3-46dc-b93a-ccd9ac993085')\"\n",
              "              title=\"Convert this dataframe to an interactive table.\"\n",
              "              style=\"display:none;\">\n",
              "        \n",
              "  <svg xmlns=\"http://www.w3.org/2000/svg\" height=\"24px\"viewBox=\"0 0 24 24\"\n",
              "       width=\"24px\">\n",
              "    <path d=\"M0 0h24v24H0V0z\" fill=\"none\"/>\n",
              "    <path d=\"M18.56 5.44l.94 2.06.94-2.06 2.06-.94-2.06-.94-.94-2.06-.94 2.06-2.06.94zm-11 1L8.5 8.5l.94-2.06 2.06-.94-2.06-.94L8.5 2.5l-.94 2.06-2.06.94zm10 10l.94 2.06.94-2.06 2.06-.94-2.06-.94-.94-2.06-.94 2.06-2.06.94z\"/><path d=\"M17.41 7.96l-1.37-1.37c-.4-.4-.92-.59-1.43-.59-.52 0-1.04.2-1.43.59L10.3 9.45l-7.72 7.72c-.78.78-.78 2.05 0 2.83L4 21.41c.39.39.9.59 1.41.59.51 0 1.02-.2 1.41-.59l7.78-7.78 2.81-2.81c.8-.78.8-2.07 0-2.86zM5.41 20L4 18.59l7.72-7.72 1.47 1.35L5.41 20z\"/>\n",
              "  </svg>\n",
              "      </button>\n",
              "      \n",
              "  <style>\n",
              "    .colab-df-container {\n",
              "      display:flex;\n",
              "      flex-wrap:wrap;\n",
              "      gap: 12px;\n",
              "    }\n",
              "\n",
              "    .colab-df-convert {\n",
              "      background-color: #E8F0FE;\n",
              "      border: none;\n",
              "      border-radius: 50%;\n",
              "      cursor: pointer;\n",
              "      display: none;\n",
              "      fill: #1967D2;\n",
              "      height: 32px;\n",
              "      padding: 0 0 0 0;\n",
              "      width: 32px;\n",
              "    }\n",
              "\n",
              "    .colab-df-convert:hover {\n",
              "      background-color: #E2EBFA;\n",
              "      box-shadow: 0px 1px 2px rgba(60, 64, 67, 0.3), 0px 1px 3px 1px rgba(60, 64, 67, 0.15);\n",
              "      fill: #174EA6;\n",
              "    }\n",
              "\n",
              "    [theme=dark] .colab-df-convert {\n",
              "      background-color: #3B4455;\n",
              "      fill: #D2E3FC;\n",
              "    }\n",
              "\n",
              "    [theme=dark] .colab-df-convert:hover {\n",
              "      background-color: #434B5C;\n",
              "      box-shadow: 0px 1px 3px 1px rgba(0, 0, 0, 0.15);\n",
              "      filter: drop-shadow(0px 1px 2px rgba(0, 0, 0, 0.3));\n",
              "      fill: #FFFFFF;\n",
              "    }\n",
              "  </style>\n",
              "\n",
              "      <script>\n",
              "        const buttonEl =\n",
              "          document.querySelector('#df-40c7868b-08d3-46dc-b93a-ccd9ac993085 button.colab-df-convert');\n",
              "        buttonEl.style.display =\n",
              "          google.colab.kernel.accessAllowed ? 'block' : 'none';\n",
              "\n",
              "        async function convertToInteractive(key) {\n",
              "          const element = document.querySelector('#df-40c7868b-08d3-46dc-b93a-ccd9ac993085');\n",
              "          const dataTable =\n",
              "            await google.colab.kernel.invokeFunction('convertToInteractive',\n",
              "                                                     [key], {});\n",
              "          if (!dataTable) return;\n",
              "\n",
              "          const docLinkHtml = 'Like what you see? Visit the ' +\n",
              "            '<a target=\"_blank\" href=https://colab.research.google.com/notebooks/data_table.ipynb>data table notebook</a>'\n",
              "            + ' to learn more about interactive tables.';\n",
              "          element.innerHTML = '';\n",
              "          dataTable['output_type'] = 'display_data';\n",
              "          await google.colab.output.renderOutput(dataTable, element);\n",
              "          const docLink = document.createElement('div');\n",
              "          docLink.innerHTML = docLinkHtml;\n",
              "          element.appendChild(docLink);\n",
              "        }\n",
              "      </script>\n",
              "    </div>\n",
              "  </div>\n",
              "  "
            ],
            "text/plain": [
              "     sepal length (cm)  sepal width (cm)  petal length (cm)  petal width (cm)\n",
              "0                  5.1               3.5                1.4               0.2\n",
              "1                  4.9               3.0                1.4               0.2\n",
              "2                  4.7               3.2                1.3               0.2\n",
              "3                  4.6               3.1                1.5               0.2\n",
              "4                  5.0               3.6                1.4               0.2\n",
              "..                 ...               ...                ...               ...\n",
              "145                6.7               3.0                5.2               2.3\n",
              "146                6.3               2.5                5.0               1.9\n",
              "147                6.5               3.0                5.2               2.0\n",
              "148                6.2               3.4                5.4               2.3\n",
              "149                5.9               3.0                5.1               1.8\n",
              "\n",
              "[150 rows x 4 columns]"
            ]
          },
          "metadata": {},
          "execution_count": 1
        }
      ],
      "source": [
        "import matplotlib.pyplot as plt\n",
        "from mpl_toolkits.mplot3d import Axes3D\n",
        "from sklearn import datasets\n",
        "import pandas as pd\n",
        "\n",
        "iris = datasets.load_iris()\n",
        "X = iris.data\n",
        "y = iris.target\n",
        "\n",
        "pd.DataFrame(X, columns = iris.feature_names)"
      ]
    },
    {
      "cell_type": "code",
      "source": [
        "from sklearn.decomposition import PCA\n",
        "\n",
        "X_reduced = PCA(n_components = 3).fit_transform(X)\n",
        "pd.DataFrame(X_reduced, columns = [\"1_?\", \"2_?\", \"3_?\"])"
      ],
      "metadata": {
        "colab": {
          "base_uri": "https://localhost:8080/",
          "height": 424
        },
        "id": "Dt5wQDOlZoel",
        "outputId": "fcbb8d29-6d8f-43ab-83d5-0bdcfdc83f74"
      },
      "execution_count": 2,
      "outputs": [
        {
          "output_type": "execute_result",
          "data": {
            "text/html": [
              "\n",
              "  <div id=\"df-bb9d3763-86aa-414e-b866-b85dd8813ec8\">\n",
              "    <div class=\"colab-df-container\">\n",
              "      <div>\n",
              "<style scoped>\n",
              "    .dataframe tbody tr th:only-of-type {\n",
              "        vertical-align: middle;\n",
              "    }\n",
              "\n",
              "    .dataframe tbody tr th {\n",
              "        vertical-align: top;\n",
              "    }\n",
              "\n",
              "    .dataframe thead th {\n",
              "        text-align: right;\n",
              "    }\n",
              "</style>\n",
              "<table border=\"1\" class=\"dataframe\">\n",
              "  <thead>\n",
              "    <tr style=\"text-align: right;\">\n",
              "      <th></th>\n",
              "      <th>1_?</th>\n",
              "      <th>2_?</th>\n",
              "      <th>3_?</th>\n",
              "    </tr>\n",
              "  </thead>\n",
              "  <tbody>\n",
              "    <tr>\n",
              "      <th>0</th>\n",
              "      <td>-2.684126</td>\n",
              "      <td>0.319397</td>\n",
              "      <td>-0.027915</td>\n",
              "    </tr>\n",
              "    <tr>\n",
              "      <th>1</th>\n",
              "      <td>-2.714142</td>\n",
              "      <td>-0.177001</td>\n",
              "      <td>-0.210464</td>\n",
              "    </tr>\n",
              "    <tr>\n",
              "      <th>2</th>\n",
              "      <td>-2.888991</td>\n",
              "      <td>-0.144949</td>\n",
              "      <td>0.017900</td>\n",
              "    </tr>\n",
              "    <tr>\n",
              "      <th>3</th>\n",
              "      <td>-2.745343</td>\n",
              "      <td>-0.318299</td>\n",
              "      <td>0.031559</td>\n",
              "    </tr>\n",
              "    <tr>\n",
              "      <th>4</th>\n",
              "      <td>-2.728717</td>\n",
              "      <td>0.326755</td>\n",
              "      <td>0.090079</td>\n",
              "    </tr>\n",
              "    <tr>\n",
              "      <th>...</th>\n",
              "      <td>...</td>\n",
              "      <td>...</td>\n",
              "      <td>...</td>\n",
              "    </tr>\n",
              "    <tr>\n",
              "      <th>145</th>\n",
              "      <td>1.944110</td>\n",
              "      <td>0.187532</td>\n",
              "      <td>0.177825</td>\n",
              "    </tr>\n",
              "    <tr>\n",
              "      <th>146</th>\n",
              "      <td>1.527167</td>\n",
              "      <td>-0.375317</td>\n",
              "      <td>-0.121898</td>\n",
              "    </tr>\n",
              "    <tr>\n",
              "      <th>147</th>\n",
              "      <td>1.764346</td>\n",
              "      <td>0.078859</td>\n",
              "      <td>0.130482</td>\n",
              "    </tr>\n",
              "    <tr>\n",
              "      <th>148</th>\n",
              "      <td>1.900942</td>\n",
              "      <td>0.116628</td>\n",
              "      <td>0.723252</td>\n",
              "    </tr>\n",
              "    <tr>\n",
              "      <th>149</th>\n",
              "      <td>1.390189</td>\n",
              "      <td>-0.282661</td>\n",
              "      <td>0.362910</td>\n",
              "    </tr>\n",
              "  </tbody>\n",
              "</table>\n",
              "<p>150 rows × 3 columns</p>\n",
              "</div>\n",
              "      <button class=\"colab-df-convert\" onclick=\"convertToInteractive('df-bb9d3763-86aa-414e-b866-b85dd8813ec8')\"\n",
              "              title=\"Convert this dataframe to an interactive table.\"\n",
              "              style=\"display:none;\">\n",
              "        \n",
              "  <svg xmlns=\"http://www.w3.org/2000/svg\" height=\"24px\"viewBox=\"0 0 24 24\"\n",
              "       width=\"24px\">\n",
              "    <path d=\"M0 0h24v24H0V0z\" fill=\"none\"/>\n",
              "    <path d=\"M18.56 5.44l.94 2.06.94-2.06 2.06-.94-2.06-.94-.94-2.06-.94 2.06-2.06.94zm-11 1L8.5 8.5l.94-2.06 2.06-.94-2.06-.94L8.5 2.5l-.94 2.06-2.06.94zm10 10l.94 2.06.94-2.06 2.06-.94-2.06-.94-.94-2.06-.94 2.06-2.06.94z\"/><path d=\"M17.41 7.96l-1.37-1.37c-.4-.4-.92-.59-1.43-.59-.52 0-1.04.2-1.43.59L10.3 9.45l-7.72 7.72c-.78.78-.78 2.05 0 2.83L4 21.41c.39.39.9.59 1.41.59.51 0 1.02-.2 1.41-.59l7.78-7.78 2.81-2.81c.8-.78.8-2.07 0-2.86zM5.41 20L4 18.59l7.72-7.72 1.47 1.35L5.41 20z\"/>\n",
              "  </svg>\n",
              "      </button>\n",
              "      \n",
              "  <style>\n",
              "    .colab-df-container {\n",
              "      display:flex;\n",
              "      flex-wrap:wrap;\n",
              "      gap: 12px;\n",
              "    }\n",
              "\n",
              "    .colab-df-convert {\n",
              "      background-color: #E8F0FE;\n",
              "      border: none;\n",
              "      border-radius: 50%;\n",
              "      cursor: pointer;\n",
              "      display: none;\n",
              "      fill: #1967D2;\n",
              "      height: 32px;\n",
              "      padding: 0 0 0 0;\n",
              "      width: 32px;\n",
              "    }\n",
              "\n",
              "    .colab-df-convert:hover {\n",
              "      background-color: #E2EBFA;\n",
              "      box-shadow: 0px 1px 2px rgba(60, 64, 67, 0.3), 0px 1px 3px 1px rgba(60, 64, 67, 0.15);\n",
              "      fill: #174EA6;\n",
              "    }\n",
              "\n",
              "    [theme=dark] .colab-df-convert {\n",
              "      background-color: #3B4455;\n",
              "      fill: #D2E3FC;\n",
              "    }\n",
              "\n",
              "    [theme=dark] .colab-df-convert:hover {\n",
              "      background-color: #434B5C;\n",
              "      box-shadow: 0px 1px 3px 1px rgba(0, 0, 0, 0.15);\n",
              "      filter: drop-shadow(0px 1px 2px rgba(0, 0, 0, 0.3));\n",
              "      fill: #FFFFFF;\n",
              "    }\n",
              "  </style>\n",
              "\n",
              "      <script>\n",
              "        const buttonEl =\n",
              "          document.querySelector('#df-bb9d3763-86aa-414e-b866-b85dd8813ec8 button.colab-df-convert');\n",
              "        buttonEl.style.display =\n",
              "          google.colab.kernel.accessAllowed ? 'block' : 'none';\n",
              "\n",
              "        async function convertToInteractive(key) {\n",
              "          const element = document.querySelector('#df-bb9d3763-86aa-414e-b866-b85dd8813ec8');\n",
              "          const dataTable =\n",
              "            await google.colab.kernel.invokeFunction('convertToInteractive',\n",
              "                                                     [key], {});\n",
              "          if (!dataTable) return;\n",
              "\n",
              "          const docLinkHtml = 'Like what you see? Visit the ' +\n",
              "            '<a target=\"_blank\" href=https://colab.research.google.com/notebooks/data_table.ipynb>data table notebook</a>'\n",
              "            + ' to learn more about interactive tables.';\n",
              "          element.innerHTML = '';\n",
              "          dataTable['output_type'] = 'display_data';\n",
              "          await google.colab.output.renderOutput(dataTable, element);\n",
              "          const docLink = document.createElement('div');\n",
              "          docLink.innerHTML = docLinkHtml;\n",
              "          element.appendChild(docLink);\n",
              "        }\n",
              "      </script>\n",
              "    </div>\n",
              "  </div>\n",
              "  "
            ],
            "text/plain": [
              "          1_?       2_?       3_?\n",
              "0   -2.684126  0.319397 -0.027915\n",
              "1   -2.714142 -0.177001 -0.210464\n",
              "2   -2.888991 -0.144949  0.017900\n",
              "3   -2.745343 -0.318299  0.031559\n",
              "4   -2.728717  0.326755  0.090079\n",
              "..        ...       ...       ...\n",
              "145  1.944110  0.187532  0.177825\n",
              "146  1.527167 -0.375317 -0.121898\n",
              "147  1.764346  0.078859  0.130482\n",
              "148  1.900942  0.116628  0.723252\n",
              "149  1.390189 -0.282661  0.362910\n",
              "\n",
              "[150 rows x 3 columns]"
            ]
          },
          "metadata": {},
          "execution_count": 2
        }
      ]
    },
    {
      "cell_type": "code",
      "source": [
        "X_95 = PCA(n_components = 0.95).fit_transform(X)"
      ],
      "metadata": {
        "id": "y7rclrQ6Zojj"
      },
      "execution_count": 3,
      "outputs": []
    },
    {
      "cell_type": "code",
      "source": [
        "X_95"
      ],
      "metadata": {
        "colab": {
          "base_uri": "https://localhost:8080/"
        },
        "id": "wdjetxXlZone",
        "outputId": "20f3265b-bc1b-4dd8-eb95-d286e8af9e06"
      },
      "execution_count": 4,
      "outputs": [
        {
          "output_type": "execute_result",
          "data": {
            "text/plain": [
              "array([[-2.68412563,  0.31939725],\n",
              "       [-2.71414169, -0.17700123],\n",
              "       [-2.88899057, -0.14494943],\n",
              "       [-2.74534286, -0.31829898],\n",
              "       [-2.72871654,  0.32675451],\n",
              "       [-2.28085963,  0.74133045],\n",
              "       [-2.82053775, -0.08946138],\n",
              "       [-2.62614497,  0.16338496],\n",
              "       [-2.88638273, -0.57831175],\n",
              "       [-2.6727558 , -0.11377425],\n",
              "       [-2.50694709,  0.6450689 ],\n",
              "       [-2.61275523,  0.01472994],\n",
              "       [-2.78610927, -0.235112  ],\n",
              "       [-3.22380374, -0.51139459],\n",
              "       [-2.64475039,  1.17876464],\n",
              "       [-2.38603903,  1.33806233],\n",
              "       [-2.62352788,  0.81067951],\n",
              "       [-2.64829671,  0.31184914],\n",
              "       [-2.19982032,  0.87283904],\n",
              "       [-2.5879864 ,  0.51356031],\n",
              "       [-2.31025622,  0.39134594],\n",
              "       [-2.54370523,  0.43299606],\n",
              "       [-3.21593942,  0.13346807],\n",
              "       [-2.30273318,  0.09870885],\n",
              "       [-2.35575405, -0.03728186],\n",
              "       [-2.50666891, -0.14601688],\n",
              "       [-2.46882007,  0.13095149],\n",
              "       [-2.56231991,  0.36771886],\n",
              "       [-2.63953472,  0.31203998],\n",
              "       [-2.63198939, -0.19696122],\n",
              "       [-2.58739848, -0.20431849],\n",
              "       [-2.4099325 ,  0.41092426],\n",
              "       [-2.64886233,  0.81336382],\n",
              "       [-2.59873675,  1.09314576],\n",
              "       [-2.63692688, -0.12132235],\n",
              "       [-2.86624165,  0.06936447],\n",
              "       [-2.62523805,  0.59937002],\n",
              "       [-2.80068412,  0.26864374],\n",
              "       [-2.98050204, -0.48795834],\n",
              "       [-2.59000631,  0.22904384],\n",
              "       [-2.77010243,  0.26352753],\n",
              "       [-2.84936871, -0.94096057],\n",
              "       [-2.99740655, -0.34192606],\n",
              "       [-2.40561449,  0.18887143],\n",
              "       [-2.20948924,  0.43666314],\n",
              "       [-2.71445143, -0.2502082 ],\n",
              "       [-2.53814826,  0.50377114],\n",
              "       [-2.83946217, -0.22794557],\n",
              "       [-2.54308575,  0.57941002],\n",
              "       [-2.70335978,  0.10770608],\n",
              "       [ 1.28482569,  0.68516047],\n",
              "       [ 0.93248853,  0.31833364],\n",
              "       [ 1.46430232,  0.50426282],\n",
              "       [ 0.18331772, -0.82795901],\n",
              "       [ 1.08810326,  0.07459068],\n",
              "       [ 0.64166908, -0.41824687],\n",
              "       [ 1.09506066,  0.28346827],\n",
              "       [-0.74912267, -1.00489096],\n",
              "       [ 1.04413183,  0.2283619 ],\n",
              "       [-0.0087454 , -0.72308191],\n",
              "       [-0.50784088, -1.26597119],\n",
              "       [ 0.51169856, -0.10398124],\n",
              "       [ 0.26497651, -0.55003646],\n",
              "       [ 0.98493451, -0.12481785],\n",
              "       [-0.17392537, -0.25485421],\n",
              "       [ 0.92786078,  0.46717949],\n",
              "       [ 0.66028376, -0.35296967],\n",
              "       [ 0.23610499, -0.33361077],\n",
              "       [ 0.94473373, -0.54314555],\n",
              "       [ 0.04522698, -0.58383438],\n",
              "       [ 1.11628318, -0.08461685],\n",
              "       [ 0.35788842, -0.06892503],\n",
              "       [ 1.29818388, -0.32778731],\n",
              "       [ 0.92172892, -0.18273779],\n",
              "       [ 0.71485333,  0.14905594],\n",
              "       [ 0.90017437,  0.32850447],\n",
              "       [ 1.33202444,  0.24444088],\n",
              "       [ 1.55780216,  0.26749545],\n",
              "       [ 0.81329065, -0.1633503 ],\n",
              "       [-0.30558378, -0.36826219],\n",
              "       [-0.06812649, -0.70517213],\n",
              "       [-0.18962247, -0.68028676],\n",
              "       [ 0.13642871, -0.31403244],\n",
              "       [ 1.38002644, -0.42095429],\n",
              "       [ 0.58800644, -0.48428742],\n",
              "       [ 0.80685831,  0.19418231],\n",
              "       [ 1.22069088,  0.40761959],\n",
              "       [ 0.81509524, -0.37203706],\n",
              "       [ 0.24595768, -0.2685244 ],\n",
              "       [ 0.16641322, -0.68192672],\n",
              "       [ 0.46480029, -0.67071154],\n",
              "       [ 0.8908152 , -0.03446444],\n",
              "       [ 0.23054802, -0.40438585],\n",
              "       [-0.70453176, -1.01224823],\n",
              "       [ 0.35698149, -0.50491009],\n",
              "       [ 0.33193448, -0.21265468],\n",
              "       [ 0.37621565, -0.29321893],\n",
              "       [ 0.64257601,  0.01773819],\n",
              "       [-0.90646986, -0.75609337],\n",
              "       [ 0.29900084, -0.34889781],\n",
              "       [ 2.53119273, -0.00984911],\n",
              "       [ 1.41523588, -0.57491635],\n",
              "       [ 2.61667602,  0.34390315],\n",
              "       [ 1.97153105, -0.1797279 ],\n",
              "       [ 2.35000592, -0.04026095],\n",
              "       [ 3.39703874,  0.55083667],\n",
              "       [ 0.52123224, -1.19275873],\n",
              "       [ 2.93258707,  0.3555    ],\n",
              "       [ 2.32122882, -0.2438315 ],\n",
              "       [ 2.91675097,  0.78279195],\n",
              "       [ 1.66177415,  0.24222841],\n",
              "       [ 1.80340195, -0.21563762],\n",
              "       [ 2.1655918 ,  0.21627559],\n",
              "       [ 1.34616358, -0.77681835],\n",
              "       [ 1.58592822, -0.53964071],\n",
              "       [ 1.90445637,  0.11925069],\n",
              "       [ 1.94968906,  0.04194326],\n",
              "       [ 3.48705536,  1.17573933],\n",
              "       [ 3.79564542,  0.25732297],\n",
              "       [ 1.30079171, -0.76114964],\n",
              "       [ 2.42781791,  0.37819601],\n",
              "       [ 1.19900111, -0.60609153],\n",
              "       [ 3.49992004,  0.4606741 ],\n",
              "       [ 1.38876613, -0.20439933],\n",
              "       [ 2.2754305 ,  0.33499061],\n",
              "       [ 2.61409047,  0.56090136],\n",
              "       [ 1.25850816, -0.17970479],\n",
              "       [ 1.29113206, -0.11666865],\n",
              "       [ 2.12360872, -0.20972948],\n",
              "       [ 2.38800302,  0.4646398 ],\n",
              "       [ 2.84167278,  0.37526917],\n",
              "       [ 3.23067366,  1.37416509],\n",
              "       [ 2.15943764, -0.21727758],\n",
              "       [ 1.44416124, -0.14341341],\n",
              "       [ 1.78129481, -0.49990168],\n",
              "       [ 3.07649993,  0.68808568],\n",
              "       [ 2.14424331,  0.1400642 ],\n",
              "       [ 1.90509815,  0.04930053],\n",
              "       [ 1.16932634, -0.16499026],\n",
              "       [ 2.10761114,  0.37228787],\n",
              "       [ 2.31415471,  0.18365128],\n",
              "       [ 1.9222678 ,  0.40920347],\n",
              "       [ 1.41523588, -0.57491635],\n",
              "       [ 2.56301338,  0.2778626 ],\n",
              "       [ 2.41874618,  0.3047982 ],\n",
              "       [ 1.94410979,  0.1875323 ],\n",
              "       [ 1.52716661, -0.37531698],\n",
              "       [ 1.76434572,  0.07885885],\n",
              "       [ 1.90094161,  0.11662796],\n",
              "       [ 1.39018886, -0.28266094]])"
            ]
          },
          "metadata": {},
          "execution_count": 4
        }
      ]
    },
    {
      "cell_type": "code",
      "source": [
        "pca = PCA(n_components = 3)\n",
        "X_reduced = pca.fit_transform(X)\n",
        "X4D = pca.inverse_transform(X_reduced)\n",
        "pd.DataFrame(X4D, columns = iris.feature_names)"
      ],
      "metadata": {
        "colab": {
          "base_uri": "https://localhost:8080/",
          "height": 424
        },
        "id": "2nC3qbh2ZorP",
        "outputId": "03810bd1-e46b-466d-883c-d7b3b1c06106"
      },
      "execution_count": 5,
      "outputs": [
        {
          "output_type": "execute_result",
          "data": {
            "text/html": [
              "\n",
              "  <div id=\"df-8493f66b-1be0-46dc-b453-9b3b368870c0\">\n",
              "    <div class=\"colab-df-container\">\n",
              "      <div>\n",
              "<style scoped>\n",
              "    .dataframe tbody tr th:only-of-type {\n",
              "        vertical-align: middle;\n",
              "    }\n",
              "\n",
              "    .dataframe tbody tr th {\n",
              "        vertical-align: top;\n",
              "    }\n",
              "\n",
              "    .dataframe thead th {\n",
              "        text-align: right;\n",
              "    }\n",
              "</style>\n",
              "<table border=\"1\" class=\"dataframe\">\n",
              "  <thead>\n",
              "    <tr style=\"text-align: right;\">\n",
              "      <th></th>\n",
              "      <th>sepal length (cm)</th>\n",
              "      <th>sepal width (cm)</th>\n",
              "      <th>petal length (cm)</th>\n",
              "      <th>petal width (cm)</th>\n",
              "    </tr>\n",
              "  </thead>\n",
              "  <tbody>\n",
              "    <tr>\n",
              "      <th>0</th>\n",
              "      <td>5.099286</td>\n",
              "      <td>3.500723</td>\n",
              "      <td>1.401086</td>\n",
              "      <td>0.198295</td>\n",
              "    </tr>\n",
              "    <tr>\n",
              "      <th>1</th>\n",
              "      <td>4.868758</td>\n",
              "      <td>3.031661</td>\n",
              "      <td>1.447517</td>\n",
              "      <td>0.125368</td>\n",
              "    </tr>\n",
              "    <tr>\n",
              "      <th>2</th>\n",
              "      <td>4.693700</td>\n",
              "      <td>3.206384</td>\n",
              "      <td>1.309582</td>\n",
              "      <td>0.184951</td>\n",
              "    </tr>\n",
              "    <tr>\n",
              "      <th>3</th>\n",
              "      <td>4.623843</td>\n",
              "      <td>3.075837</td>\n",
              "      <td>1.463736</td>\n",
              "      <td>0.256958</td>\n",
              "    </tr>\n",
              "    <tr>\n",
              "      <th>4</th>\n",
              "      <td>5.019326</td>\n",
              "      <td>3.580414</td>\n",
              "      <td>1.370606</td>\n",
              "      <td>0.246168</td>\n",
              "    </tr>\n",
              "    <tr>\n",
              "      <th>...</th>\n",
              "      <td>...</td>\n",
              "      <td>...</td>\n",
              "      <td>...</td>\n",
              "      <td>...</td>\n",
              "    </tr>\n",
              "    <tr>\n",
              "      <th>145</th>\n",
              "      <td>6.565541</td>\n",
              "      <td>3.136265</td>\n",
              "      <td>5.404505</td>\n",
              "      <td>1.978794</td>\n",
              "    </tr>\n",
              "    <tr>\n",
              "      <th>146</th>\n",
              "      <td>6.219750</td>\n",
              "      <td>2.581327</td>\n",
              "      <td>5.122055</td>\n",
              "      <td>1.708294</td>\n",
              "    </tr>\n",
              "    <tr>\n",
              "      <th>147</th>\n",
              "      <td>6.456778</td>\n",
              "      <td>3.043802</td>\n",
              "      <td>5.265739</td>\n",
              "      <td>1.896748</td>\n",
              "    </tr>\n",
              "    <tr>\n",
              "      <th>148</th>\n",
              "      <td>6.185931</td>\n",
              "      <td>3.414258</td>\n",
              "      <td>5.421399</td>\n",
              "      <td>2.266390</td>\n",
              "    </tr>\n",
              "    <tr>\n",
              "      <th>149</th>\n",
              "      <td>5.948913</td>\n",
              "      <td>2.950431</td>\n",
              "      <td>5.025606</td>\n",
              "      <td>1.916846</td>\n",
              "    </tr>\n",
              "  </tbody>\n",
              "</table>\n",
              "<p>150 rows × 4 columns</p>\n",
              "</div>\n",
              "      <button class=\"colab-df-convert\" onclick=\"convertToInteractive('df-8493f66b-1be0-46dc-b453-9b3b368870c0')\"\n",
              "              title=\"Convert this dataframe to an interactive table.\"\n",
              "              style=\"display:none;\">\n",
              "        \n",
              "  <svg xmlns=\"http://www.w3.org/2000/svg\" height=\"24px\"viewBox=\"0 0 24 24\"\n",
              "       width=\"24px\">\n",
              "    <path d=\"M0 0h24v24H0V0z\" fill=\"none\"/>\n",
              "    <path d=\"M18.56 5.44l.94 2.06.94-2.06 2.06-.94-2.06-.94-.94-2.06-.94 2.06-2.06.94zm-11 1L8.5 8.5l.94-2.06 2.06-.94-2.06-.94L8.5 2.5l-.94 2.06-2.06.94zm10 10l.94 2.06.94-2.06 2.06-.94-2.06-.94-.94-2.06-.94 2.06-2.06.94z\"/><path d=\"M17.41 7.96l-1.37-1.37c-.4-.4-.92-.59-1.43-.59-.52 0-1.04.2-1.43.59L10.3 9.45l-7.72 7.72c-.78.78-.78 2.05 0 2.83L4 21.41c.39.39.9.59 1.41.59.51 0 1.02-.2 1.41-.59l7.78-7.78 2.81-2.81c.8-.78.8-2.07 0-2.86zM5.41 20L4 18.59l7.72-7.72 1.47 1.35L5.41 20z\"/>\n",
              "  </svg>\n",
              "      </button>\n",
              "      \n",
              "  <style>\n",
              "    .colab-df-container {\n",
              "      display:flex;\n",
              "      flex-wrap:wrap;\n",
              "      gap: 12px;\n",
              "    }\n",
              "\n",
              "    .colab-df-convert {\n",
              "      background-color: #E8F0FE;\n",
              "      border: none;\n",
              "      border-radius: 50%;\n",
              "      cursor: pointer;\n",
              "      display: none;\n",
              "      fill: #1967D2;\n",
              "      height: 32px;\n",
              "      padding: 0 0 0 0;\n",
              "      width: 32px;\n",
              "    }\n",
              "\n",
              "    .colab-df-convert:hover {\n",
              "      background-color: #E2EBFA;\n",
              "      box-shadow: 0px 1px 2px rgba(60, 64, 67, 0.3), 0px 1px 3px 1px rgba(60, 64, 67, 0.15);\n",
              "      fill: #174EA6;\n",
              "    }\n",
              "\n",
              "    [theme=dark] .colab-df-convert {\n",
              "      background-color: #3B4455;\n",
              "      fill: #D2E3FC;\n",
              "    }\n",
              "\n",
              "    [theme=dark] .colab-df-convert:hover {\n",
              "      background-color: #434B5C;\n",
              "      box-shadow: 0px 1px 3px 1px rgba(0, 0, 0, 0.15);\n",
              "      filter: drop-shadow(0px 1px 2px rgba(0, 0, 0, 0.3));\n",
              "      fill: #FFFFFF;\n",
              "    }\n",
              "  </style>\n",
              "\n",
              "      <script>\n",
              "        const buttonEl =\n",
              "          document.querySelector('#df-8493f66b-1be0-46dc-b453-9b3b368870c0 button.colab-df-convert');\n",
              "        buttonEl.style.display =\n",
              "          google.colab.kernel.accessAllowed ? 'block' : 'none';\n",
              "\n",
              "        async function convertToInteractive(key) {\n",
              "          const element = document.querySelector('#df-8493f66b-1be0-46dc-b453-9b3b368870c0');\n",
              "          const dataTable =\n",
              "            await google.colab.kernel.invokeFunction('convertToInteractive',\n",
              "                                                     [key], {});\n",
              "          if (!dataTable) return;\n",
              "\n",
              "          const docLinkHtml = 'Like what you see? Visit the ' +\n",
              "            '<a target=\"_blank\" href=https://colab.research.google.com/notebooks/data_table.ipynb>data table notebook</a>'\n",
              "            + ' to learn more about interactive tables.';\n",
              "          element.innerHTML = '';\n",
              "          dataTable['output_type'] = 'display_data';\n",
              "          await google.colab.output.renderOutput(dataTable, element);\n",
              "          const docLink = document.createElement('div');\n",
              "          docLink.innerHTML = docLinkHtml;\n",
              "          element.appendChild(docLink);\n",
              "        }\n",
              "      </script>\n",
              "    </div>\n",
              "  </div>\n",
              "  "
            ],
            "text/plain": [
              "     sepal length (cm)  sepal width (cm)  petal length (cm)  petal width (cm)\n",
              "0             5.099286          3.500723           1.401086          0.198295\n",
              "1             4.868758          3.031661           1.447517          0.125368\n",
              "2             4.693700          3.206384           1.309582          0.184951\n",
              "3             4.623843          3.075837           1.463736          0.256958\n",
              "4             5.019326          3.580414           1.370606          0.246168\n",
              "..                 ...               ...                ...               ...\n",
              "145           6.565541          3.136265           5.404505          1.978794\n",
              "146           6.219750          2.581327           5.122055          1.708294\n",
              "147           6.456778          3.043802           5.265739          1.896748\n",
              "148           6.185931          3.414258           5.421399          2.266390\n",
              "149           5.948913          2.950431           5.025606          1.916846\n",
              "\n",
              "[150 rows x 4 columns]"
            ]
          },
          "metadata": {},
          "execution_count": 5
        }
      ]
    },
    {
      "cell_type": "code",
      "source": [
        "# 주성분\n",
        "print(\"주성분 : \\n\", pca.components_)\n",
        "\n",
        "# 표현 분산\n",
        "print(\"표현분산 : \\n\", pca.explained_variance_ratio_)"
      ],
      "metadata": {
        "colab": {
          "base_uri": "https://localhost:8080/"
        },
        "id": "SfMHsTHAZovX",
        "outputId": "616bd176-4550-41cc-c4db-2b98cc905e7a"
      },
      "execution_count": 6,
      "outputs": [
        {
          "output_type": "stream",
          "name": "stdout",
          "text": [
            "주성분 : \n",
            " [[ 0.36138659 -0.08452251  0.85667061  0.3582892 ]\n",
            " [ 0.65658877  0.73016143 -0.17337266 -0.07548102]\n",
            " [-0.58202985  0.59791083  0.07623608  0.54583143]]\n",
            "표현분산 : \n",
            " [0.92461872 0.05306648 0.01710261]\n"
          ]
        }
      ]
    },
    {
      "cell_type": "code",
      "source": [
        "ratio = pca.explained_variance_ratio_\n",
        "df_v = pd.DataFrame(ratio, index = ['PC1', 'PC2', 'PC3'], columns = ['V_ratio'])\n",
        "plt.pie(df_v['V_ratio'], labels = df_v.index, autopct = '%.2f%%')\n",
        "plt.title('explained_variance_ratio')\n",
        "plt.show()"
      ],
      "metadata": {
        "colab": {
          "base_uri": "https://localhost:8080/",
          "height": 264
        },
        "id": "jU_Wp3EbZozP",
        "outputId": "6cbd9856-60ab-47ea-f38d-b30d40f659c5"
      },
      "execution_count": 7,
      "outputs": [
        {
          "output_type": "display_data",
          "data": {
            "image/png": "[encoded data removed]",
            "text/plain": [
              "<Figure size 432x288 with 1 Axes>"
            ]
          },
          "metadata": {}
        }
      ]
    },
    {
      "cell_type": "code",
      "source": [
        "df_v"
      ],
      "metadata": {
        "colab": {
          "base_uri": "https://localhost:8080/",
          "height": 143
        },
        "id": "Z4n8mj_FZo3M",
        "outputId": "1176719e-e17d-434f-bf43-84cd3479f0c6"
      },
      "execution_count": 8,
      "outputs": [
        {
          "output_type": "execute_result",
          "data": {
            "text/html": [
              "\n",
              "  <div id=\"df-a481cf94-8abb-47e2-89be-d7eb2c50cd4d\">\n",
              "    <div class=\"colab-df-container\">\n",
              "      <div>\n",
              "<style scoped>\n",
              "    .dataframe tbody tr th:only-of-type {\n",
              "        vertical-align: middle;\n",
              "    }\n",
              "\n",
              "    .dataframe tbody tr th {\n",
              "        vertical-align: top;\n",
              "    }\n",
              "\n",
              "    .dataframe thead th {\n",
              "        text-align: right;\n",
              "    }\n",
              "</style>\n",
              "<table border=\"1\" class=\"dataframe\">\n",
              "  <thead>\n",
              "    <tr style=\"text-align: right;\">\n",
              "      <th></th>\n",
              "      <th>V_ratio</th>\n",
              "    </tr>\n",
              "  </thead>\n",
              "  <tbody>\n",
              "    <tr>\n",
              "      <th>PC1</th>\n",
              "      <td>0.924619</td>\n",
              "    </tr>\n",
              "    <tr>\n",
              "      <th>PC2</th>\n",
              "      <td>0.053066</td>\n",
              "    </tr>\n",
              "    <tr>\n",
              "      <th>PC3</th>\n",
              "      <td>0.017103</td>\n",
              "    </tr>\n",
              "  </tbody>\n",
              "</table>\n",
              "</div>\n",
              "      <button class=\"colab-df-convert\" onclick=\"convertToInteractive('df-a481cf94-8abb-47e2-89be-d7eb2c50cd4d')\"\n",
              "              title=\"Convert this dataframe to an interactive table.\"\n",
              "              style=\"display:none;\">\n",
              "        \n",
              "  <svg xmlns=\"http://www.w3.org/2000/svg\" height=\"24px\"viewBox=\"0 0 24 24\"\n",
              "       width=\"24px\">\n",
              "    <path d=\"M0 0h24v24H0V0z\" fill=\"none\"/>\n",
              "    <path d=\"M18.56 5.44l.94 2.06.94-2.06 2.06-.94-2.06-.94-.94-2.06-.94 2.06-2.06.94zm-11 1L8.5 8.5l.94-2.06 2.06-.94-2.06-.94L8.5 2.5l-.94 2.06-2.06.94zm10 10l.94 2.06.94-2.06 2.06-.94-2.06-.94-.94-2.06-.94 2.06-2.06.94z\"/><path d=\"M17.41 7.96l-1.37-1.37c-.4-.4-.92-.59-1.43-.59-.52 0-1.04.2-1.43.59L10.3 9.45l-7.72 7.72c-.78.78-.78 2.05 0 2.83L4 21.41c.39.39.9.59 1.41.59.51 0 1.02-.2 1.41-.59l7.78-7.78 2.81-2.81c.8-.78.8-2.07 0-2.86zM5.41 20L4 18.59l7.72-7.72 1.47 1.35L5.41 20z\"/>\n",
              "  </svg>\n",
              "      </button>\n",
              "      \n",
              "  <style>\n",
              "    .colab-df-container {\n",
              "      display:flex;\n",
              "      flex-wrap:wrap;\n",
              "      gap: 12px;\n",
              "    }\n",
              "\n",
              "    .colab-df-convert {\n",
              "      background-color: #E8F0FE;\n",
              "      border: none;\n",
              "      border-radius: 50%;\n",
              "      cursor: pointer;\n",
              "      display: none;\n",
              "      fill: #1967D2;\n",
              "      height: 32px;\n",
              "      padding: 0 0 0 0;\n",
              "      width: 32px;\n",
              "    }\n",
              "\n",
              "    .colab-df-convert:hover {\n",
              "      background-color: #E2EBFA;\n",
              "      box-shadow: 0px 1px 2px rgba(60, 64, 67, 0.3), 0px 1px 3px 1px rgba(60, 64, 67, 0.15);\n",
              "      fill: #174EA6;\n",
              "    }\n",
              "\n",
              "    [theme=dark] .colab-df-convert {\n",
              "      background-color: #3B4455;\n",
              "      fill: #D2E3FC;\n",
              "    }\n",
              "\n",
              "    [theme=dark] .colab-df-convert:hover {\n",
              "      background-color: #434B5C;\n",
              "      box-shadow: 0px 1px 3px 1px rgba(0, 0, 0, 0.15);\n",
              "      filter: drop-shadow(0px 1px 2px rgba(0, 0, 0, 0.3));\n",
              "      fill: #FFFFFF;\n",
              "    }\n",
              "  </style>\n",
              "\n",
              "      <script>\n",
              "        const buttonEl =\n",
              "          document.querySelector('#df-a481cf94-8abb-47e2-89be-d7eb2c50cd4d button.colab-df-convert');\n",
              "        buttonEl.style.display =\n",
              "          google.colab.kernel.accessAllowed ? 'block' : 'none';\n",
              "\n",
              "        async function convertToInteractive(key) {\n",
              "          const element = document.querySelector('#df-a481cf94-8abb-47e2-89be-d7eb2c50cd4d');\n",
              "          const dataTable =\n",
              "            await google.colab.kernel.invokeFunction('convertToInteractive',\n",
              "                                                     [key], {});\n",
              "          if (!dataTable) return;\n",
              "\n",
              "          const docLinkHtml = 'Like what you see? Visit the ' +\n",
              "            '<a target=\"_blank\" href=https://colab.research.google.com/notebooks/data_table.ipynb>data table notebook</a>'\n",
              "            + ' to learn more about interactive tables.';\n",
              "          element.innerHTML = '';\n",
              "          dataTable['output_type'] = 'display_data';\n",
              "          await google.colab.output.renderOutput(dataTable, element);\n",
              "          const docLink = document.createElement('div');\n",
              "          docLink.innerHTML = docLinkHtml;\n",
              "          element.appendChild(docLink);\n",
              "        }\n",
              "      </script>\n",
              "    </div>\n",
              "  </div>\n",
              "  "
            ],
            "text/plain": [
              "      V_ratio\n",
              "PC1  0.924619\n",
              "PC2  0.053066\n",
              "PC3  0.017103"
            ]
          },
          "metadata": {},
          "execution_count": 8
        }
      ]
    },
    {
      "cell_type": "code",
      "source": [
        "# 줄어든 차원으로 iris 데이터 시각화 하기\n",
        "fig = plt.figure(1, figsize = (8, 6))\n",
        "ax = Axes3D(fig, elev = -150, azim = 110)\n",
        "X_reduced = PCA(n_components = 3).fit_transform(iris.data)\n",
        "ax.scatter(\n",
        "    X_reduced[:, 0],\n",
        "    X_reduced[:, 1],\n",
        "    X_reduced[:, 2],\n",
        "    c = y,\n",
        "    cmap = plt.cm.Set1,\n",
        "    edgecolor = 'k',\n",
        "    s = 40\n",
        ")\n",
        "ax.set_title(\"First three PCA directions\")\n",
        "ax.set_xlabel('1st eigenvector')\n",
        "ax.w_xaxis.set_ticklabels([])\n",
        "ax.set_ylabel('2nd eigenvector')\n",
        "ax.w_yaxis.set_ticklabels([])\n",
        "ax.set_zlabel('3rd eigenvector')\n",
        "ax.w_zaxis.set_ticklabels([])\n",
        "plt.show()"
      ],
      "metadata": {
        "colab": {
          "base_uri": "https://localhost:8080/",
          "height": 463
        },
        "id": "Ve-qyAbZZo7w",
        "outputId": "030fd51d-b5df-4a71-d4e9-0bc227912927"
      },
      "execution_count": 11,
      "outputs": [
        {
          "output_type": "display_data",
          "data": {
            "image/png": "[encoded data removed]",
            "text/plain": [
              "<Figure size 576x432 with 1 Axes>"
            ]
          },
          "metadata": {
            "needs_background": "light"
          }
        }
      ]
    },
    {
      "cell_type": "code",
      "source": [
        "#  랜덤 PCA\n",
        "rnd_pca = PCA(n_components = 3, svd_solver = 'randomized', random_state = 42)\n",
        "X_reduced_rnd = rnd_pca.fit_transform(X)\n",
        "X_reduced_rnd"
      ],
      "metadata": {
        "colab": {
          "base_uri": "https://localhost:8080/"
        },
        "id": "qx9Q8mGaZo_r",
        "outputId": "0e8410fb-cbff-49be-b9c6-94a405c6350e"
      },
      "execution_count": 13,
      "outputs": [
        {
          "output_type": "execute_result",
          "data": {
            "text/plain": [
              "array([[-2.68412563,  0.31939725, -0.02791483],\n",
              "       [-2.71414169, -0.17700123, -0.21046427],\n",
              "       [-2.88899057, -0.14494943,  0.01790026],\n",
              "       [-2.74534286, -0.31829898,  0.03155937],\n",
              "       [-2.72871654,  0.32675451,  0.09007924],\n",
              "       [-2.28085963,  0.74133045,  0.16867766],\n",
              "       [-2.82053775, -0.08946138,  0.25789216],\n",
              "       [-2.62614497,  0.16338496, -0.02187932],\n",
              "       [-2.88638273, -0.57831175,  0.02075957],\n",
              "       [-2.6727558 , -0.11377425, -0.19763272],\n",
              "       [-2.50694709,  0.6450689 , -0.07531801],\n",
              "       [-2.61275523,  0.01472994,  0.10215026],\n",
              "       [-2.78610927, -0.235112  , -0.20684443],\n",
              "       [-3.22380374, -0.51139459,  0.06129967],\n",
              "       [-2.64475039,  1.17876464, -0.15162752],\n",
              "       [-2.38603903,  1.33806233,  0.2777769 ],\n",
              "       [-2.62352788,  0.81067951,  0.13818323],\n",
              "       [-2.64829671,  0.31184914,  0.02666832],\n",
              "       [-2.19982032,  0.87283904, -0.12030552],\n",
              "       [-2.5879864 ,  0.51356031,  0.21366517],\n",
              "       [-2.31025622,  0.39134594, -0.23944404],\n",
              "       [-2.54370523,  0.43299606,  0.20845723],\n",
              "       [-3.21593942,  0.13346807,  0.29239675],\n",
              "       [-2.30273318,  0.09870885,  0.03912326],\n",
              "       [-2.35575405, -0.03728186,  0.12502108],\n",
              "       [-2.50666891, -0.14601688, -0.25342004],\n",
              "       [-2.46882007,  0.13095149,  0.09491058],\n",
              "       [-2.56231991,  0.36771886, -0.07849421],\n",
              "       [-2.63953472,  0.31203998, -0.1459089 ],\n",
              "       [-2.63198939, -0.19696122,  0.04077108],\n",
              "       [-2.58739848, -0.20431849, -0.07722299],\n",
              "       [-2.4099325 ,  0.41092426, -0.14552497],\n",
              "       [-2.64886233,  0.81336382,  0.22566915],\n",
              "       [-2.59873675,  1.09314576,  0.15781081],\n",
              "       [-2.63692688, -0.12132235, -0.14304958],\n",
              "       [-2.86624165,  0.06936447, -0.16433231],\n",
              "       [-2.62523805,  0.59937002, -0.26835038],\n",
              "       [-2.80068412,  0.26864374,  0.09369908],\n",
              "       [-2.98050204, -0.48795834,  0.07292705],\n",
              "       [-2.59000631,  0.22904384, -0.0800823 ],\n",
              "       [-2.77010243,  0.26352753,  0.07724769],\n",
              "       [-2.84936871, -0.94096057, -0.34923038],\n",
              "       [-2.99740655, -0.34192606,  0.19250921],\n",
              "       [-2.40561449,  0.18887143,  0.26386795],\n",
              "       [-2.20948924,  0.43666314,  0.29874275],\n",
              "       [-2.71445143, -0.2502082 , -0.09767814],\n",
              "       [-2.53814826,  0.50377114,  0.16670564],\n",
              "       [-2.83946217, -0.22794557,  0.08372685],\n",
              "       [-2.54308575,  0.57941002, -0.01711502],\n",
              "       [-2.70335978,  0.10770608, -0.08929401],\n",
              "       [ 1.28482569,  0.68516047, -0.40656803],\n",
              "       [ 0.93248853,  0.31833364, -0.01801419],\n",
              "       [ 1.46430232,  0.50426282, -0.33832576],\n",
              "       [ 0.18331772, -0.82795901, -0.17959139],\n",
              "       [ 1.08810326,  0.07459068, -0.3077579 ],\n",
              "       [ 0.64166908, -0.41824687,  0.04107609],\n",
              "       [ 1.09506066,  0.28346827,  0.16981024],\n",
              "       [-0.74912267, -1.00489096,  0.01230292],\n",
              "       [ 1.04413183,  0.2283619 , -0.41533608],\n",
              "       [-0.0087454 , -0.72308191,  0.28114143],\n",
              "       [-0.50784088, -1.26597119, -0.26981718],\n",
              "       [ 0.51169856, -0.10398124,  0.13054775],\n",
              "       [ 0.26497651, -0.55003646, -0.69414683],\n",
              "       [ 0.98493451, -0.12481785, -0.06211441],\n",
              "       [-0.17392537, -0.25485421,  0.09045769],\n",
              "       [ 0.92786078,  0.46717949, -0.31462098],\n",
              "       [ 0.66028376, -0.35296967,  0.32802753],\n",
              "       [ 0.23610499, -0.33361077, -0.27116184],\n",
              "       [ 0.94473373, -0.54314555, -0.49951905],\n",
              "       [ 0.04522698, -0.58383438, -0.2350021 ],\n",
              "       [ 1.11628318, -0.08461685,  0.45962099],\n",
              "       [ 0.35788842, -0.06892503, -0.22985389],\n",
              "       [ 1.29818388, -0.32778731, -0.34785435],\n",
              "       [ 0.92172892, -0.18273779, -0.23107178],\n",
              "       [ 0.71485333,  0.14905594, -0.32180094],\n",
              "       [ 0.90017437,  0.32850447, -0.31620907],\n",
              "       [ 1.33202444,  0.24444088, -0.52170278],\n",
              "       [ 1.55780216,  0.26749545, -0.16492098],\n",
              "       [ 0.81329065, -0.1633503 ,  0.0354245 ],\n",
              "       [-0.30558378, -0.36826219, -0.31849158],\n",
              "       [-0.06812649, -0.70517213, -0.24421381],\n",
              "       [-0.18962247, -0.68028676, -0.30642056],\n",
              "       [ 0.13642871, -0.31403244, -0.17724277],\n",
              "       [ 1.38002644, -0.42095429,  0.01616713],\n",
              "       [ 0.58800644, -0.48428742,  0.4444335 ],\n",
              "       [ 0.80685831,  0.19418231,  0.38896306],\n",
              "       [ 1.22069088,  0.40761959, -0.23716701],\n",
              "       [ 0.81509524, -0.37203706, -0.61472084],\n",
              "       [ 0.24595768, -0.2685244 ,  0.18836681],\n",
              "       [ 0.16641322, -0.68192672, -0.06000923],\n",
              "       [ 0.46480029, -0.67071154, -0.02430686],\n",
              "       [ 0.8908152 , -0.03446444, -0.00994693],\n",
              "       [ 0.23054802, -0.40438585, -0.22941024],\n",
              "       [-0.70453176, -1.01224823, -0.10569115],\n",
              "       [ 0.35698149, -0.50491009,  0.01661717],\n",
              "       [ 0.33193448, -0.21265468,  0.08320429],\n",
              "       [ 0.37621565, -0.29321893,  0.07799635],\n",
              "       [ 0.64257601,  0.01773819, -0.20539497],\n",
              "       [-0.90646986, -0.75609337, -0.01259965],\n",
              "       [ 0.29900084, -0.34889781,  0.01058166],\n",
              "       [ 2.53119273, -0.00984911,  0.76016543],\n",
              "       [ 1.41523588, -0.57491635,  0.29632253],\n",
              "       [ 2.61667602,  0.34390315, -0.11078788],\n",
              "       [ 1.97153105, -0.1797279 ,  0.10842466],\n",
              "       [ 2.35000592, -0.04026095,  0.28538956],\n",
              "       [ 3.39703874,  0.55083667, -0.34843756],\n",
              "       [ 0.52123224, -1.19275873,  0.5456593 ],\n",
              "       [ 2.93258707,  0.3555    , -0.42023994],\n",
              "       [ 2.32122882, -0.2438315 , -0.34830439],\n",
              "       [ 2.91675097,  0.78279195,  0.42333542],\n",
              "       [ 1.66177415,  0.24222841,  0.24244019],\n",
              "       [ 1.80340195, -0.21563762, -0.03764817],\n",
              "       [ 2.1655918 ,  0.21627559,  0.03332664],\n",
              "       [ 1.34616358, -0.77681835,  0.28190288],\n",
              "       [ 1.58592822, -0.53964071,  0.62902933],\n",
              "       [ 1.90445637,  0.11925069,  0.47963982],\n",
              "       [ 1.94968906,  0.04194326,  0.04418617],\n",
              "       [ 3.48705536,  1.17573933,  0.13389487],\n",
              "       [ 3.79564542,  0.25732297, -0.51376776],\n",
              "       [ 1.30079171, -0.76114964, -0.34499504],\n",
              "       [ 2.42781791,  0.37819601,  0.21911932],\n",
              "       [ 1.19900111, -0.60609153,  0.51185551],\n",
              "       [ 3.49992004,  0.4606741 , -0.57318224],\n",
              "       [ 1.38876613, -0.20439933, -0.06452276],\n",
              "       [ 2.2754305 ,  0.33499061,  0.28615009],\n",
              "       [ 2.61409047,  0.56090136, -0.20553452],\n",
              "       [ 1.25850816, -0.17970479,  0.0458477 ],\n",
              "       [ 1.29113206, -0.11666865,  0.23125646],\n",
              "       [ 2.12360872, -0.20972948,  0.15418002],\n",
              "       [ 2.38800302,  0.4646398 , -0.44953019],\n",
              "       [ 2.84167278,  0.37526917, -0.49889808],\n",
              "       [ 3.23067366,  1.37416509, -0.11454821],\n",
              "       [ 2.15943764, -0.21727758,  0.20876317],\n",
              "       [ 1.44416124, -0.14341341, -0.15323389],\n",
              "       [ 1.78129481, -0.49990168, -0.17287519],\n",
              "       [ 3.07649993,  0.68808568, -0.33559229],\n",
              "       [ 2.14424331,  0.1400642 ,  0.73487894],\n",
              "       [ 1.90509815,  0.04930053,  0.16218024],\n",
              "       [ 1.16932634, -0.16499026,  0.28183584],\n",
              "       [ 2.10761114,  0.37228787,  0.02729113],\n",
              "       [ 2.31415471,  0.18365128,  0.32269375],\n",
              "       [ 1.9222678 ,  0.40920347,  0.1135866 ],\n",
              "       [ 1.41523588, -0.57491635,  0.29632253],\n",
              "       [ 2.56301338,  0.2778626 ,  0.29256952],\n",
              "       [ 2.41874618,  0.3047982 ,  0.50448266],\n",
              "       [ 1.94410979,  0.1875323 ,  0.17782509],\n",
              "       [ 1.52716661, -0.37531698, -0.12189817],\n",
              "       [ 1.76434572,  0.07885885,  0.13048163],\n",
              "       [ 1.90094161,  0.11662796,  0.72325156],\n",
              "       [ 1.39018886, -0.28266094,  0.36290965]])"
            ]
          },
          "metadata": {},
          "execution_count": 13
        }
      ]
    },
    {
      "cell_type": "code",
      "source": [
        "# 점진적 PCA\n",
        "from sklearn.decomposition import IncrementalPCA\n",
        "import numpy as np\n",
        "n_batches = 10\n",
        "inc_pca = IncrementalPCA(n_components = 3)\n",
        "for X_batch in np.array_split(X, n_batches):\n",
        "    inc_pca.partial_fit(X_batch)\n",
        "\n",
        "X_reduced_inc = inc_pca.transform(X)"
      ],
      "metadata": {
        "id": "iXr-JFRkfNBM"
      },
      "execution_count": 16,
      "outputs": []
    },
    {
      "cell_type": "code",
      "source": [
        "X_reduced_inc"
      ],
      "metadata": {
        "colab": {
          "base_uri": "https://localhost:8080/"
        },
        "id": "FGe1qQ4WfNFz",
        "outputId": "bfa7dac1-3ce8-4b03-933b-fcffc5b626c6"
      },
      "execution_count": 18,
      "outputs": [
        {
          "output_type": "execute_result",
          "data": {
            "text/plain": [
              "array([[-2.68412075e+00,  3.19410679e-01, -2.83185072e-02],\n",
              "       [-2.71414633e+00, -1.77030861e-01, -2.15843428e-01],\n",
              "       [-2.88899594e+00, -1.44888267e-01,  1.66775353e-02],\n",
              "       [-2.74533762e+00, -3.18307958e-01,  3.59456596e-02],\n",
              "       [-2.72870898e+00,  3.26795891e-01,  9.31402092e-02],\n",
              "       [-2.28085666e+00,  7.41449389e-01,  1.69229497e-01],\n",
              "       [-2.82054573e+00, -8.92954996e-02,  2.60170682e-01],\n",
              "       [-2.62613558e+00,  1.63363159e-01, -1.94468517e-02],\n",
              "       [-2.88638673e+00, -5.78286486e-01,  2.24995640e-02],\n",
              "       [-2.67273872e+00, -1.13922197e-01, -1.94101391e-01],\n",
              "       [-2.50693354e+00,  6.45034277e-01, -7.48393630e-02],\n",
              "       [-2.61273863e+00,  1.47008509e-02,  1.10883520e-01],\n",
              "       [-2.78609985e+00, -2.35225376e-01, -2.06022674e-01],\n",
              "       [-3.22380982e+00, -5.11334209e-01,  6.26226773e-02],\n",
              "       [-2.64475096e+00,  1.17882191e+00, -1.61421281e-01],\n",
              "       [-2.38603928e+00,  1.33828034e+00,  2.75994530e-01],\n",
              "       [-2.62354927e+00,  8.10938071e-01,  1.27643622e-01],\n",
              "       [-2.64830534e+00,  3.11960126e-01,  2.18276893e-02],\n",
              "       [-2.19980764e+00,  8.72804869e-01, -1.22309318e-01],\n",
              "       [-2.58798256e+00,  5.13678796e-01,  2.16699453e-01],\n",
              "       [-2.31023686e+00,  3.91199094e-01, -2.38521720e-01],\n",
              "       [-2.54371702e+00,  4.33197962e-01,  2.05353884e-01],\n",
              "       [-3.21595400e+00,  1.33704297e-01,  2.91422140e-01],\n",
              "       [-2.30275481e+00,  9.88819454e-02,  3.03259591e-02],\n",
              "       [-2.35571918e+00, -3.74156610e-02,  1.42072927e-01],\n",
              "       [-2.50666193e+00, -1.46130133e-01, -2.55017442e-01],\n",
              "       [-2.46883160e+00,  1.31089881e-01,  9.12420101e-02],\n",
              "       [-2.56230950e+00,  3.67683578e-01, -7.78889898e-02],\n",
              "       [-2.63953252e+00,  3.12025468e-01, -1.49777223e-01],\n",
              "       [-2.63197649e+00, -1.97004779e-01,  4.78669418e-02],\n",
              "       [-2.58738826e+00, -2.04389990e-01, -7.35917745e-02],\n",
              "       [-2.40995234e+00,  4.11042328e-01, -1.59022265e-01],\n",
              "       [-2.64882566e+00,  8.13315814e-01,  2.40915403e-01],\n",
              "       [-2.59871921e+00,  1.09320292e+00,  1.62256041e-01],\n",
              "       [-2.63692331e+00, -1.21372751e-01, -1.43955195e-01],\n",
              "       [-2.86625479e+00,  6.94191105e-02, -1.73619788e-01],\n",
              "       [-2.62524149e+00,  5.99363126e-01, -2.78582782e-01],\n",
              "       [-2.80066250e+00,  2.68601376e-01,  1.02960964e-01],\n",
              "       [-2.98051000e+00, -4.87884035e-01,  7.35948600e-02],\n",
              "       [-2.58999747e+00,  2.29008228e-01, -7.94138032e-02],\n",
              "       [-2.77011660e+00,  2.63687227e-01,  7.13981720e-02],\n",
              "       [-2.84940561e+00, -9.40901482e-01, -3.66668249e-01],\n",
              "       [-2.99741025e+00, -3.41823474e-01,  1.96578390e-01],\n",
              "       [-2.40565090e+00,  1.89219054e-01,  2.53026168e-01],\n",
              "       [-2.20947454e+00,  4.36739560e-01,  3.08431525e-01],\n",
              "       [-2.71446902e+00, -2.50126483e-01, -1.05730281e-01],\n",
              "       [-2.53812482e+00,  5.03757179e-01,  1.76949725e-01],\n",
              "       [-2.83946089e+00, -2.27905507e-01,  8.70409556e-02],\n",
              "       [-2.54307164e+00,  5.79389208e-01, -1.48724115e-02],\n",
              "       [-2.70335861e+00,  1.07705050e-01, -9.13350854e-02],\n",
              "       [ 1.28485258e+00,  6.84887873e-01, -4.07328050e-01],\n",
              "       [ 9.32493064e-01,  3.18311246e-01, -1.81730824e-02],\n",
              "       [ 1.46432632e+00,  5.04017628e-01, -3.37913729e-01],\n",
              "       [ 1.83304671e-01, -8.28004937e-01, -1.84171140e-01],\n",
              "       [ 1.08810482e+00,  7.44630230e-02, -3.13710624e-01],\n",
              "       [ 6.41696014e-01, -4.18424251e-01,  5.53361254e-02],\n",
              "       [ 1.09506655e+00,  2.83501563e-01,  1.74224768e-01],\n",
              "       [-7.49132381e-01, -1.00488822e+00,  1.39084622e-02],\n",
              "       [ 1.04416197e+00,  2.28039480e-01, -4.12478204e-01],\n",
              "       [-8.76787948e-03, -7.22897406e-01,  2.81446501e-01],\n",
              "       [-5.07847473e-01, -1.26610861e+00, -2.71232611e-01],\n",
              "       [ 5.11683340e-01, -1.03858148e-01,  1.27488739e-01],\n",
              "       [ 2.64999074e-01, -5.50458212e-01, -6.95936252e-01],\n",
              "       [ 9.84960020e-01, -1.25008589e-01, -5.21007814e-02],\n",
              "       [-1.73950586e-01, -2.54689504e-01,  8.32266222e-02],\n",
              "       [ 9.27868934e-01,  4.67038897e-01, -3.20108367e-01],\n",
              "       [ 6.60288486e-01, -3.52909866e-01,  3.38579000e-01],\n",
              "       [ 2.36145393e-01, -3.33969118e-01, -2.58147056e-01],\n",
              "       [ 9.44718109e-01, -5.43281696e-01, -5.13156828e-01],\n",
              "       [ 4.52385451e-02, -5.84026029e-01, -2.31843424e-01],\n",
              "       [ 1.11626824e+00, -8.43822719e-02,  4.63289671e-01],\n",
              "       [ 3.57882666e-01, -6.89831216e-02, -2.36514025e-01],\n",
              "       [ 1.29819845e+00, -3.28034468e-01, -3.47062610e-01],\n",
              "       [ 9.21779319e-01, -1.83137762e-01, -2.13884939e-01],\n",
              "       [ 7.14866308e-01,  1.48865854e-01, -3.23733708e-01],\n",
              "       [ 9.00180955e-01,  3.28363548e-01, -3.21633180e-01],\n",
              "       [ 1.33205002e+00,  2.44104442e-01, -5.22964738e-01],\n",
              "       [ 1.55780421e+00,  2.67423932e-01, -1.68782729e-01],\n",
              "       [ 8.13291025e-01, -1.63359871e-01,  3.72194289e-02],\n",
              "       [-3.05581499e-01, -3.68411444e-01, -3.22050682e-01],\n",
              "       [-6.81225855e-02, -7.05329208e-01, -2.43764706e-01],\n",
              "       [-1.89611151e-01, -6.80506484e-01, -3.04307371e-01],\n",
              "       [ 1.36429915e-01, -3.14125885e-01, -1.78647600e-01],\n",
              "       [ 1.38004560e+00, -4.21104009e-01,  2.67609087e-02],\n",
              "       [ 5.88012279e-01, -4.84200004e-01,  4.58512903e-01],\n",
              "       [ 8.06855813e-01,  1.94340977e-01,  3.94824450e-01],\n",
              "       [ 1.22070380e+00,  4.07471831e-01, -2.38772764e-01],\n",
              "       [ 8.15102108e-01, -3.72333068e-01, -6.22320876e-01],\n",
              "       [ 2.45965050e-01, -2.68520076e-01,  1.96700731e-01],\n",
              "       [ 1.66404420e-01, -6.81944377e-01, -6.11876104e-02],\n",
              "       [ 4.64831492e-01, -6.70952225e-01, -8.25616666e-03],\n",
              "       [ 8.90836743e-01, -3.46061383e-02, -1.00548538e-03],\n",
              "       [ 2.30553192e-01, -4.04528336e-01, -2.29742896e-01],\n",
              "       [-7.04544153e-01, -1.01227343e+00, -1.07550254e-01],\n",
              "       [ 3.56988578e-01, -5.04983088e-01,  2.26219056e-02],\n",
              "       [ 3.31960893e-01, -2.12796624e-01,  9.69840522e-02],\n",
              "       [ 3.76226431e-01, -2.93277458e-01,  8.56384838e-02],\n",
              "       [ 6.42590101e-01,  1.75757159e-02, -2.03799805e-01],\n",
              "       [-9.06510344e-01, -7.55901839e-01, -2.55768859e-02],\n",
              "       [ 2.99003404e-01, -3.48935568e-01,  1.37502501e-02],\n",
              "       [ 2.53115625e+00, -9.39163962e-03,  7.60694631e-01],\n",
              "       [ 1.41521564e+00, -5.74745809e-01,  2.97133401e-01],\n",
              "       [ 2.61667665e+00,  3.43852457e-01, -1.14497530e-01],\n",
              "       [ 1.97155625e+00, -1.79870202e-01,  1.22118321e-01],\n",
              "       [ 2.34999029e+00, -4.00963403e-02,  2.85053907e-01],\n",
              "       [ 3.39707924e+00,  5.50472607e-01, -3.41557005e-01],\n",
              "       [ 5.21203214e-01, -1.19247786e+00,  5.51181229e-01],\n",
              "       [ 2.93264935e+00,  3.54975293e-01, -4.04775912e-01],\n",
              "       [ 2.32125547e+00, -2.44155389e-01, -3.42923606e-01],\n",
              "       [ 2.91672196e+00,  7.83132652e-01,  4.15863832e-01],\n",
              "       [ 1.66174715e+00,  2.42470522e-01,  2.34969762e-01],\n",
              "       [ 1.80339056e+00, -2.15619736e-01, -4.18753700e-02],\n",
              "       [ 2.16556973e+00,  2.16405932e-01,  2.38174494e-02],\n",
              "       [ 1.34612004e+00, -7.76529821e-01,  2.73866551e-01],\n",
              "       [ 1.58584258e+00, -5.38968297e-01,  6.09356148e-01],\n",
              "       [ 1.90440159e+00,  1.19729451e-01,  4.66168240e-01],\n",
              "       [ 1.94970918e+00,  4.18223868e-02,  5.32797143e-02],\n",
              "       [ 3.48710490e+00,  1.17553719e+00,  1.50952828e-01],\n",
              "       [ 3.79566812e+00,  2.56978935e-01, -5.16009217e-01],\n",
              "       [ 1.30080766e+00, -7.61432687e-01, -3.41240581e-01],\n",
              "       [ 2.42778472e+00,  3.78466113e-01,  2.07919358e-01],\n",
              "       [ 1.19895841e+00, -6.05711879e-01,  5.07912328e-01],\n",
              "       [ 3.49997533e+00,  4.60135499e-01, -5.64257214e-01],\n",
              "       [ 1.38874444e+00, -2.04325569e-01, -7.36404904e-02],\n",
              "       [ 2.27542756e+00,  3.35107363e-01,  2.89052633e-01],\n",
              "       [ 2.61414142e+00,  5.60537577e-01, -1.91523072e-01],\n",
              "       [ 1.25848305e+00, -1.79568187e-01,  3.74217571e-02],\n",
              "       [ 1.29111785e+00, -1.16524865e-01,  2.30768707e-01],\n",
              "       [ 2.12359072e+00, -2.09607075e-01,  1.51098194e-01],\n",
              "       [ 2.38806454e+00,  4.64122465e-01, -4.35591932e-01],\n",
              "       [ 2.84170669e+00,  3.74883869e-01, -4.96881369e-01],\n",
              "       [ 3.23073083e+00,  1.37384495e+00, -1.00462875e-01],\n",
              "       [ 2.15940613e+00, -2.17057629e-01,  2.01244391e-01],\n",
              "       [ 1.44419438e+00, -1.43687968e-01, -1.41794377e-01],\n",
              "       [ 1.78136877e+00, -5.00448966e-01, -1.43007856e-01],\n",
              "       [ 3.07648240e+00,  6.88077422e-01, -3.53213908e-01],\n",
              "       [ 2.14419811e+00,  1.40577877e-01,  7.30454324e-01],\n",
              "       [ 1.90512095e+00,  4.92075982e-02,  1.74738431e-01],\n",
              "       [ 1.16930660e+00, -1.64797764e-01,  2.80339190e-01],\n",
              "       [ 2.10758456e+00,  3.72453452e-01,  1.49457939e-02],\n",
              "       [ 2.31410089e+00,  1.84067312e-01,  3.06111224e-01],\n",
              "       [ 1.92219593e+00,  4.09668857e-01,  8.40487804e-02],\n",
              "       [ 1.41521564e+00, -5.74745809e-01,  2.97133401e-01],\n",
              "       [ 2.56299292e+00,  2.78076703e-01,  2.88679247e-01],\n",
              "       [ 2.41868921e+00,  3.05305148e-01,  4.89637419e-01],\n",
              "       [ 1.94404300e+00,  1.87976268e-01,  1.52887387e-01],\n",
              "       [ 1.52713325e+00, -3.75208854e-01, -1.36081355e-01],\n",
              "       [ 1.76432055e+00,  7.90377911e-02,  1.22382701e-01],\n",
              "       [ 1.90089828e+00,  1.17127703e-01,  7.19482142e-01],\n",
              "       [ 1.39018795e+00, -2.82559345e-01,  3.71495548e-01]])"
            ]
          },
          "metadata": {},
          "execution_count": 18
        }
      ]
    },
    {
      "cell_type": "markdown",
      "source": [
        "## 커널 PCA"
      ],
      "metadata": {
        "id": "QAcdxv2kjnD7"
      }
    },
    {
      "cell_type": "code",
      "source": [
        "from sklearn.decomposition import KernelPCA\n",
        "\n",
        "lin_pca = KernelPCA(n_components = 2, kernel = 'linear', fit_inverse_transform = True)\n",
        "rbf_pca = KernelPCA(n_components = 2, kernel = 'rbf', gamma = 0.0433, fit_inverse_transform = True)\n",
        "sig_pca = KernelPCA(n_components = 2, kernel = 'sigmoid', gamma = 0.001, coef0 = 1, fit_inverse_transform = True)\n",
        "\n",
        "X_reduced_lin = lin_pca.fit_transform(X)\n",
        "X_reduced_rbf = rbf_pca.fit_transform(X)\n",
        "X_reduced_sig = sig_pca.fit_transform(X)"
      ],
      "metadata": {
        "id": "wHs_ce1ofNJv"
      },
      "execution_count": 19,
      "outputs": []
    },
    {
      "cell_type": "code",
      "source": [
        "import seaborn as sns\n",
        "sns.scatterplot(x = X_reduced_lin[:, 0], y = X_reduced_lin[:, 1], hue = y)\n",
        "plt.xlabel('components_1')\n",
        "plt.ylabel('components_2')\n",
        "plt.show()"
      ],
      "metadata": {
        "colab": {
          "base_uri": "https://localhost:8080/",
          "height": 284
        },
        "id": "tSGe2Q5EfNNs",
        "outputId": "10da609f-dc67-44d8-e96c-19f29f11541b"
      },
      "execution_count": 20,
      "outputs": [
        {
          "output_type": "display_data",
          "data": {
            "image/png": "[encoded data removed]",
            "text/plain": [
              "<Figure size 432x288 with 1 Axes>"
            ]
          },
          "metadata": {
            "needs_background": "light"
          }
        }
      ]
    },
    {
      "cell_type": "code",
      "source": [
        "sns.scatterplot(x = X_reduced_rbf[:, 0], y = X_reduced_rbf[:, 1], hue = y)\n",
        "plt.xlabel('components_1')\n",
        "plt.ylabel('components_2')\n",
        "plt.show()"
      ],
      "metadata": {
        "colab": {
          "base_uri": "https://localhost:8080/",
          "height": 280
        },
        "id": "QYe0P7wQfNRd",
        "outputId": "44455713-8bfc-48ab-b905-fbf42453b4ec"
      },
      "execution_count": 22,
      "outputs": [
        {
          "output_type": "display_data",
          "data": {
            "image/png": "[encoded data removed]",
            "text/plain": [
              "<Figure size 432x288 with 1 Axes>"
            ]
          },
          "metadata": {
            "needs_background": "light"
          }
        }
      ]
    },
    {
      "cell_type": "code",
      "source": [
        "sns.scatterplot(x = X_reduced_sig[:, 0], y = X_reduced_sig[:, 1], hue = y)\n",
        "plt.xlabel('components_1')\n",
        "plt.ylabel('components_2')\n",
        "plt.show()"
      ],
      "metadata": {
        "colab": {
          "base_uri": "https://localhost:8080/",
          "height": 280
        },
        "id": "DlJeXxL3fNVW",
        "outputId": "8cbebf2b-3efe-485b-b17e-c70256f0efd6"
      },
      "execution_count": 23,
      "outputs": [
        {
          "output_type": "display_data",
          "data": {
            "image/png": "[encoded data removed]",
            "text/plain": [
              "<Figure size 432x288 with 1 Axes>"
            ]
          },
          "metadata": {
            "needs_background": "light"
          }
        }
      ]
    },
    {
      "cell_type": "markdown",
      "source": [
        "## PCA 평가 방법"
      ],
      "metadata": {
        "id": "ctbGf8ugle3R"
      }
    },
    {
      "cell_type": "code",
      "source": [
        "# 지도학습 모델과 함께 사용\n",
        "from sklearn.model_selection import GridSearchCV\n",
        "from sklearn.linear_model import LogisticRegression\n",
        "from sklearn.pipeline import Pipeline\n",
        "\n",
        "clf = Pipeline([\n",
        "                ('kpca', KernelPCA(n_components = 2)),\n",
        "                ('log_reg', LogisticRegression(solver = 'lbfgs'))\n",
        "])\n",
        "\n",
        "param_grid = [{\n",
        "    'kpca__gamma' : np.linspace(0.03, 0.05, 10),\n",
        "    'kpca__kernel' : ['rbf', 'sigmoid']\n",
        "}]\n",
        "\n",
        "grid_search = GridSearchCV(clf, param_grid, cv = 3)\n",
        "grid_search.fit(X, y)"
      ],
      "metadata": {
        "colab": {
          "base_uri": "https://localhost:8080/"
        },
        "id": "BkZ4ohRslMAd",
        "outputId": "5b120c1b-b3b2-4022-c2e2-a0126e8de73a"
      },
      "execution_count": 27,
      "outputs": [
        {
          "output_type": "execute_result",
          "data": {
            "text/plain": [
              "GridSearchCV(cv=3,\n",
              "             estimator=Pipeline(steps=[('kpca', KernelPCA(n_components=2)),\n",
              "                                       ('log_reg', LogisticRegression())]),\n",
              "             param_grid=[{'kpca__gamma': array([0.03      , 0.03222222, 0.03444444, 0.03666667, 0.03888889,\n",
              "       0.04111111, 0.04333333, 0.04555556, 0.04777778, 0.05      ]),\n",
              "                          'kpca__kernel': ['rbf', 'sigmoid']}])"
            ]
          },
          "metadata": {},
          "execution_count": 27
        }
      ]
    },
    {
      "cell_type": "code",
      "source": [
        "# 재구성 오차\n",
        "rbf_pca = KernelPCA(n_components = 2, kernel = 'rbf', gamma = 0.0433, fit_inverse_transform = True)\n",
        "X_reduced = rbf_pca.fit_transform(X)\n",
        "X_preimage = rbf_pca.inverse_transform(X_reduced)\n",
        "\n",
        "from sklearn.metrics import mean_squared_error\n",
        "\n",
        "mean_squared_error(X, X_preimage)"
      ],
      "metadata": {
        "colab": {
          "base_uri": "https://localhost:8080/"
        },
        "id": "FuqUscI7lME8",
        "outputId": "e5c0d5eb-29e2-4cb7-8c26-77d942218477"
      },
      "execution_count": 30,
      "outputs": [
        {
          "output_type": "execute_result",
          "data": {
            "text/plain": [
              "0.158830063017041"
            ]
          },
          "metadata": {},
          "execution_count": 30
        }
      ]
    },
    {
      "cell_type": "markdown",
      "source": [
        "## 차원 수 선택"
      ],
      "metadata": {
        "id": "9KPB76UIociF"
      }
    },
    {
      "cell_type": "code",
      "source": [
        "pca = PCA()\n",
        "pca.fit(X)\n",
        "cumsum = np.cumsum(pca.explained_variance_ratio_)\n",
        "d = np.argmax(cumsum >= 0.95) + 1\n",
        "d"
      ],
      "metadata": {
        "colab": {
          "base_uri": "https://localhost:8080/"
        },
        "id": "-2CwFZHzlMIz",
        "outputId": "aa761b08-5337-44d5-b630-69caeb795238"
      },
      "execution_count": 31,
      "outputs": [
        {
          "output_type": "execute_result",
          "data": {
            "text/plain": [
              "2"
            ]
          },
          "metadata": {},
          "execution_count": 31
        }
      ]
    },
    {
      "cell_type": "markdown",
      "source": [
        "# LDA"
      ],
      "metadata": {
        "id": "qIrLKmY1o-xs"
      }
    },
    {
      "cell_type": "code",
      "source": [
        "from sklearn.discriminant_analysis import LinearDiscriminantAnalysis\n",
        "\n",
        "lda = LinearDiscriminantAnalysis(n_components = 2)\n",
        "lda.fit(X, y)\n",
        "X_reduced_lda = lda.transform(X\n",
        ")"
      ],
      "metadata": {
        "id": "fzs44WxOlMM1"
      },
      "execution_count": 32,
      "outputs": []
    },
    {
      "cell_type": "code",
      "source": [
        "X_reduced_lda"
      ],
      "metadata": {
        "colab": {
          "base_uri": "https://localhost:8080/"
        },
        "id": "EAR_7rtOx15c",
        "outputId": "0ae29373-420e-4aa1-af8d-1e4f29f120a5"
      },
      "execution_count": 33,
      "outputs": [
        {
          "output_type": "execute_result",
          "data": {
            "text/plain": [
              "array([[ 8.06179978e+00,  3.00420621e-01],\n",
              "       [ 7.12868772e+00, -7.86660426e-01],\n",
              "       [ 7.48982797e+00, -2.65384488e-01],\n",
              "       [ 6.81320057e+00, -6.70631068e-01],\n",
              "       [ 8.13230933e+00,  5.14462530e-01],\n",
              "       [ 7.70194674e+00,  1.46172097e+00],\n",
              "       [ 7.21261762e+00,  3.55836209e-01],\n",
              "       [ 7.60529355e+00, -1.16338380e-02],\n",
              "       [ 6.56055159e+00, -1.01516362e+00],\n",
              "       [ 7.34305989e+00, -9.47319209e-01],\n",
              "       [ 8.39738652e+00,  6.47363392e-01],\n",
              "       [ 7.21929685e+00, -1.09646389e-01],\n",
              "       [ 7.32679599e+00, -1.07298943e+00],\n",
              "       [ 7.57247066e+00, -8.05464137e-01],\n",
              "       [ 9.84984300e+00,  1.58593698e+00],\n",
              "       [ 9.15823890e+00,  2.73759647e+00],\n",
              "       [ 8.58243141e+00,  1.83448945e+00],\n",
              "       [ 7.78075375e+00,  5.84339407e-01],\n",
              "       [ 8.07835876e+00,  9.68580703e-01],\n",
              "       [ 8.02097451e+00,  1.14050366e+00],\n",
              "       [ 7.49680227e+00, -1.88377220e-01],\n",
              "       [ 7.58648117e+00,  1.20797032e+00],\n",
              "       [ 8.68104293e+00,  8.77590154e-01],\n",
              "       [ 6.25140358e+00,  4.39696367e-01],\n",
              "       [ 6.55893336e+00, -3.89222752e-01],\n",
              "       [ 6.77138315e+00, -9.70634453e-01],\n",
              "       [ 6.82308032e+00,  4.63011612e-01],\n",
              "       [ 7.92461638e+00,  2.09638715e-01],\n",
              "       [ 7.99129024e+00,  8.63787128e-02],\n",
              "       [ 6.82946447e+00, -5.44960851e-01],\n",
              "       [ 6.75895493e+00, -7.59002759e-01],\n",
              "       [ 7.37495254e+00,  5.65844592e-01],\n",
              "       [ 9.12634625e+00,  1.22443267e+00],\n",
              "       [ 9.46768199e+00,  1.82522635e+00],\n",
              "       [ 7.06201386e+00, -6.63400423e-01],\n",
              "       [ 7.95876243e+00, -1.64961722e-01],\n",
              "       [ 8.61367201e+00,  4.03253602e-01],\n",
              "       [ 8.33041759e+00,  2.28133530e-01],\n",
              "       [ 6.93412007e+00, -7.05519379e-01],\n",
              "       [ 7.68823131e+00, -9.22362309e-03],\n",
              "       [ 7.91793715e+00,  6.75121313e-01],\n",
              "       [ 5.66188065e+00, -1.93435524e+00],\n",
              "       [ 7.24101468e+00, -2.72615132e-01],\n",
              "       [ 6.41443556e+00,  1.24730131e+00],\n",
              "       [ 6.85944381e+00,  1.05165396e+00],\n",
              "       [ 6.76470393e+00, -5.05151855e-01],\n",
              "       [ 8.08189937e+00,  7.63392750e-01],\n",
              "       [ 7.18676904e+00, -3.60986823e-01],\n",
              "       [ 8.31444876e+00,  6.44953177e-01],\n",
              "       [ 7.67196741e+00, -1.34893840e-01],\n",
              "       [-1.45927545e+00,  2.85437643e-02],\n",
              "       [-1.79770574e+00,  4.84385502e-01],\n",
              "       [-2.41694888e+00, -9.27840307e-02],\n",
              "       [-2.26247349e+00, -1.58725251e+00],\n",
              "       [-2.54867836e+00, -4.72204898e-01],\n",
              "       [-2.42996725e+00, -9.66132066e-01],\n",
              "       [-2.44848456e+00,  7.95961954e-01],\n",
              "       [-2.22666513e-01, -1.58467318e+00],\n",
              "       [-1.75020123e+00, -8.21180130e-01],\n",
              "       [-1.95842242e+00, -3.51563753e-01],\n",
              "       [-1.19376031e+00, -2.63445570e+00],\n",
              "       [-1.85892567e+00,  3.19006544e-01],\n",
              "       [-1.15809388e+00, -2.64340991e+00],\n",
              "       [-2.66605725e+00, -6.42504540e-01],\n",
              "       [-3.78367218e-01,  8.66389312e-02],\n",
              "       [-1.20117255e+00,  8.44373592e-02],\n",
              "       [-2.76810246e+00,  3.21995363e-02],\n",
              "       [-7.76854039e-01, -1.65916185e+00],\n",
              "       [-3.49805433e+00, -1.68495616e+00],\n",
              "       [-1.09042788e+00, -1.62658350e+00],\n",
              "       [-3.71589615e+00,  1.04451442e+00],\n",
              "       [-9.97610366e-01, -4.90530602e-01],\n",
              "       [-3.83525931e+00, -1.40595806e+00],\n",
              "       [-2.25741249e+00, -1.42679423e+00],\n",
              "       [-1.25571326e+00, -5.46424197e-01],\n",
              "       [-1.43755762e+00, -1.34424979e-01],\n",
              "       [-2.45906137e+00, -9.35277280e-01],\n",
              "       [-3.51848495e+00,  1.60588866e-01],\n",
              "       [-2.58979871e+00, -1.74611728e-01],\n",
              "       [ 3.07487884e-01, -1.31887146e+00],\n",
              "       [-1.10669179e+00, -1.75225371e+00],\n",
              "       [-6.05524589e-01, -1.94298038e+00],\n",
              "       [-8.98703769e-01, -9.04940034e-01],\n",
              "       [-4.49846635e+00, -8.82749915e-01],\n",
              "       [-2.93397799e+00,  2.73791065e-02],\n",
              "       [-2.10360821e+00,  1.19156767e+00],\n",
              "       [-2.14258208e+00,  8.87797815e-02],\n",
              "       [-2.47945603e+00, -1.94073927e+00],\n",
              "       [-1.32552574e+00, -1.62869550e-01],\n",
              "       [-1.95557887e+00, -1.15434826e+00],\n",
              "       [-2.40157020e+00, -1.59458341e+00],\n",
              "       [-2.29248878e+00, -3.32860296e-01],\n",
              "       [-1.27227224e+00, -1.21458428e+00],\n",
              "       [-2.93176055e-01, -1.79871509e+00],\n",
              "       [-2.00598883e+00, -9.05418042e-01],\n",
              "       [-1.18166311e+00, -5.37570242e-01],\n",
              "       [-1.61615645e+00, -4.70103580e-01],\n",
              "       [-1.42158879e+00, -5.51244626e-01],\n",
              "       [ 4.75973788e-01, -7.99905482e-01],\n",
              "       [-1.54948259e+00, -5.93363582e-01],\n",
              "       [-7.83947399e+00,  2.13973345e+00],\n",
              "       [-5.50747997e+00, -3.58139892e-02],\n",
              "       [-6.29200850e+00,  4.67175777e-01],\n",
              "       [-5.60545633e+00, -3.40738058e-01],\n",
              "       [-6.85055995e+00,  8.29825394e-01],\n",
              "       [-7.41816784e+00, -1.73117995e-01],\n",
              "       [-4.67799541e+00, -4.99095015e-01],\n",
              "       [-6.31692685e+00, -9.68980756e-01],\n",
              "       [-6.32773684e+00, -1.38328993e+00],\n",
              "       [-6.85281335e+00,  2.71758963e+00],\n",
              "       [-4.44072512e+00,  1.34723692e+00],\n",
              "       [-5.45009572e+00, -2.07736942e-01],\n",
              "       [-5.66033713e+00,  8.32713617e-01],\n",
              "       [-5.95823722e+00, -9.40175447e-02],\n",
              "       [-6.75926282e+00,  1.60023206e+00],\n",
              "       [-5.80704331e+00,  2.01019882e+00],\n",
              "       [-5.06601233e+00, -2.62733839e-02],\n",
              "       [-6.60881882e+00,  1.75163587e+00],\n",
              "       [-9.17147486e+00, -7.48255067e-01],\n",
              "       [-4.76453569e+00, -2.15573720e+00],\n",
              "       [-6.27283915e+00,  1.64948141e+00],\n",
              "       [-5.36071189e+00,  6.46120732e-01],\n",
              "       [-7.58119982e+00, -9.80722934e-01],\n",
              "       [-4.37150279e+00, -1.21297458e-01],\n",
              "       [-5.72317531e+00,  1.29327553e+00],\n",
              "       [-5.27915920e+00, -4.24582377e-02],\n",
              "       [-4.08087208e+00,  1.85936572e-01],\n",
              "       [-4.07703640e+00,  5.23238483e-01],\n",
              "       [-6.51910397e+00,  2.96976389e-01],\n",
              "       [-4.58371942e+00, -8.56815813e-01],\n",
              "       [-6.22824009e+00, -7.12719638e-01],\n",
              "       [-5.22048773e+00,  1.46819509e+00],\n",
              "       [-6.80015000e+00,  5.80895175e-01],\n",
              "       [-3.81515972e+00, -9.42985932e-01],\n",
              "       [-5.10748966e+00, -2.13059000e+00],\n",
              "       [-6.79671631e+00,  8.63090395e-01],\n",
              "       [-6.52449599e+00,  2.44503527e+00],\n",
              "       [-4.99550279e+00,  1.87768525e-01],\n",
              "       [-3.93985300e+00,  6.14020389e-01],\n",
              "       [-5.20383090e+00,  1.14476808e+00],\n",
              "       [-6.65308685e+00,  1.80531976e+00],\n",
              "       [-5.10555946e+00,  1.99218201e+00],\n",
              "       [-5.50747997e+00, -3.58139892e-02],\n",
              "       [-6.79601924e+00,  1.46068695e+00],\n",
              "       [-6.84735943e+00,  2.42895067e+00],\n",
              "       [-5.64500346e+00,  1.67771734e+00],\n",
              "       [-5.17956460e+00, -3.63475041e-01],\n",
              "       [-4.96774090e+00,  8.21140550e-01],\n",
              "       [-5.88614539e+00,  2.34509051e+00],\n",
              "       [-4.68315426e+00,  3.32033811e-01]])"
            ]
          },
          "metadata": {},
          "execution_count": 33
        }
      ]
    },
    {
      "cell_type": "markdown",
      "source": [
        ""
      ],
      "metadata": {
        "id": "pzX8IFuFy3AA"
      }
    },
    {
      "cell_type": "code",
      "source": [
        ""
      ],
      "metadata": {
        "id": "LCMUn8jbx19v"
      },
      "execution_count": null,
      "outputs": []
    },
    {
      "cell_type": "code",
      "source": [
        ""
      ],
      "metadata": {
        "id": "Qy8t0a5Sx2B2"
      },
      "execution_count": null,
      "outputs": []
    },
    {
      "cell_type": "code",
      "source": [
        ""
      ],
      "metadata": {
        "id": "bekypd8Ax2Fg"
      },
      "execution_count": null,
      "outputs": []
    },
    {
      "cell_type": "code",
      "source": [
        ""
      ],
      "metadata": {
        "id": "MRxFOeuDx2Jb"
      },
      "execution_count": null,
      "outputs": []
    },
    {
      "cell_type": "code",
      "source": [
        ""
      ],
      "metadata": {
        "id": "c7o61WTCx2NO"
      },
      "execution_count": null,
      "outputs": []
    },
    {
      "cell_type": "code",
      "source": [
        ""
      ],
      "metadata": {
        "id": "RQfLlxySx2RA"
      },
      "execution_count": null,
      "outputs": []
    },
    {
      "cell_type": "code",
      "source": [
        ""
      ],
      "metadata": {
        "id": "7yTMhHhux2U0"
      },
      "execution_count": null,
      "outputs": []
    },
    {
      "cell_type": "code",
      "source": [
        ""
      ],
      "metadata": {
        "id": "tirAbpPJx2Ye"
      },
      "execution_count": null,
      "outputs": []
    },
    {
      "cell_type": "code",
      "source": [
        ""
      ],
      "metadata": {
        "id": "UaJpHcCxx2cP"
      },
      "execution_count": null,
      "outputs": []
    },
    {
      "cell_type": "code",
      "source": [
        ""
      ],
      "metadata": {
        "id": "X-2D8jFOx2gk"
      },
      "execution_count": null,
      "outputs": []
    },
    {
      "cell_type": "code",
      "source": [
        ""
      ],
      "metadata": {
        "id": "uRx4medrlMQl"
      },
      "execution_count": null,
      "outputs": []
    }
  ]
}