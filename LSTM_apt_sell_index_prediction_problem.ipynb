{
  "nbformat": 4,
  "nbformat_minor": 0,
  "metadata": {
    "colab": {
      "name": "LSTM_apt sell index prediction_problem.ipynb",
      "provenance": [],
      "collapsed_sections": [],
      "include_colab_link": true
    },
    "kernelspec": {
      "name": "python3",
      "display_name": "Python 3"
    },
    "language_info": {
      "name": "python"
    },
    "accelerator": "GPU"
  },
  "cells": [
    {
      "cell_type": "markdown",
      "metadata": {
        "id": "view-in-github",
        "colab_type": "text"
      },
      "source": [
        "<a href=\"https://colab.research.google.com/github/s2ul2/bitamin/blob/main/LSTM_apt_sell_index_prediction_problem.ipynb\" target=\"_parent\"><img src=\"https://colab.research.google.com/assets/colab-badge.svg\" alt=\"Open In Colab\"/></a>"
      ]
    },
    {
      "cell_type": "code",
      "source": [
        "from __future__ import absolute_import, division, print_function, unicode_literals\n",
        "\n",
        "try:\n",
        "  %tensorflow_version 2.x\n",
        "except Exception:\n",
        "  pass"
      ],
      "metadata": {
        "id": "lC1LDcLz37-a"
      },
      "execution_count": 1,
      "outputs": []
    },
    {
      "cell_type": "code",
      "source": [
        "from IPython.display import Image\n",
        "\n",
        "import tensorflow as tf\n",
        "from tensorflow.keras.layers import Input, Dense, LSTM\n",
        "from tensorflow.keras.models import Model\n",
        "import numpy as np\n",
        "\n",
        "# 항상 같은 결과를 갖기 위해 랜덤 시드 설정\n",
        "tf.random.set_seed(1)\n",
        "np.random.seed(1)"
      ],
      "metadata": {
        "id": "YZhHv6jgEyho"
      },
      "execution_count": 2,
      "outputs": []
    },
    {
      "cell_type": "markdown",
      "source": [
        "# 기존 Vanilla RNN의 한계"
      ],
      "metadata": {
        "id": "j91FdRSiBDsO"
      }
    },
    {
      "cell_type": "code",
      "source": [
        "Image(url= \"https://wikidocs.net/images/page/22888/lstm_image1_ver2.PNG\", width=500, height=300)"
      ],
      "metadata": {
        "colab": {
          "base_uri": "https://localhost:8080/",
          "height": 320
        },
        "id": "gm9l8fauBUFM",
        "outputId": "cfdd37c7-f506-4808-db56-6708646b720e"
      },
      "execution_count": 3,
      "outputs": [
        {
          "output_type": "execute_result",
          "data": {
            "text/plain": [
              "<IPython.core.display.Image object>"
            ],
            "text/html": [
              "<img src=\"https://wikidocs.net/images/page/22888/lstm_image1_ver2.PNG\" width=\"500\" height=\"300\"/>"
            ]
          },
          "metadata": {},
          "execution_count": 3
        }
      ]
    },
    {
      "cell_type": "markdown",
      "source": [
        "### [문제1] 기존 Vanilla RNN의 한계를 설명해주세요.\n",
        "- [답변]  gradient vanishing, gradient Exploding 문제 발생"
      ],
      "metadata": {
        "id": "7AB9v9yfBIV6"
      }
    },
    {
      "cell_type": "markdown",
      "source": [
        "# Vanilla RNN 내부 열어보기"
      ],
      "metadata": {
        "id": "1YobtKxRB5RI"
      }
    },
    {
      "cell_type": "code",
      "source": [
        "Image(url=\"https://wikidocs.net/images/page/22888/vanilla_rnn_ver2.PNG\", width=400, height=300)"
      ],
      "metadata": {
        "colab": {
          "base_uri": "https://localhost:8080/",
          "height": 320
        },
        "id": "-rL_HxX9CgEW",
        "outputId": "9f17b14c-f83d-422d-898f-b2974559e491"
      },
      "execution_count": 4,
      "outputs": [
        {
          "output_type": "execute_result",
          "data": {
            "text/plain": [
              "<IPython.core.display.Image object>"
            ],
            "text/html": [
              "<img src=\"https://wikidocs.net/images/page/22888/vanilla_rnn_ver2.PNG\" width=\"400\" height=\"300\"/>"
            ]
          },
          "metadata": {},
          "execution_count": 4
        }
      ]
    },
    {
      "cell_type": "markdown",
      "source": [
        "LSTM에 대해서 이해해보기 전에 Vanilla RNN의 뚜껑을 열어보겠습니다. 위의 그림은 Vanilla RNN의 내부 구조를 보여줍니다. (편향 b는 생략했습니다.) 위의 그림에 편향 b를 그린다면 xt 옆에 tanh로 향하는 또 하나의 입력선을 그리면 됩니다.\n",
        "$$h_{t} = tanh(W_{x}x_{t} + W_{h}h_{t−1} + b)$$\n",
        "\n",
        "Vanilla RNN은 xt와 ht−1이라는 두 개의 입력이 각각의 가중치와 곱해져서 메모리 셀의 입력이 됩니다. 그리고 이를 하이퍼볼릭탄젠트 함수의 입력으로 사용하고 이 값은 은닉층의 출력인 은닉 상태가 됩니다.\n",
        "\n"
      ],
      "metadata": {
        "id": "bn1nR523B_Hu"
      }
    },
    {
      "cell_type": "markdown",
      "source": [
        "# LSTM"
      ],
      "metadata": {
        "id": "N0-w4kymE7BI"
      }
    },
    {
      "cell_type": "code",
      "source": [
        "Image(url=\"https://wikidocs.net/images/page/22888/vaniila_rnn_and_different_lstm_ver2.PNG\")"
      ],
      "metadata": {
        "colab": {
          "base_uri": "https://localhost:8080/",
          "height": 350
        },
        "id": "-xp58zjpDZd6",
        "outputId": "23c3c974-942f-4448-d49a-0b465c16900a"
      },
      "execution_count": 5,
      "outputs": [
        {
          "output_type": "execute_result",
          "data": {
            "text/plain": [
              "<IPython.core.display.Image object>"
            ],
            "text/html": [
              "<img src=\"https://wikidocs.net/images/page/22888/vaniila_rnn_and_different_lstm_ver2.PNG\"/>"
            ]
          },
          "metadata": {},
          "execution_count": 5
        }
      ]
    },
    {
      "cell_type": "markdown",
      "source": [
        "위의 그림은 LSTM의 전체적인 내부의 모습을 보여줍니다. 전통적인 RNN의 단점을 보완한 RNN의 일종을 LSTM(Long Short-Term Memory)이라고 합니다. LSTM은 은닉층의 메모리 셀에 input gate, forget gate, output gate를 추가하여 불필요한 기억을 지우고, 기억해야할 것들을 정합니다. 요약하면 LSTM은 은닉 상태(hidden state)를 계산하는 식이 전통적인 Vanilla RNN보다 조금 더 복잡해졌으며 셀 상태(cell state)라는 값을 추가하였습니다. 위의 그림에서는 t시점의 셀 상태를 Ct로 표현하고 있습니다. LSTM은 RNN과 비교하여 긴 시퀀스의 입력을 처리하는데 탁월한 성능을 보입니다."
      ],
      "metadata": {
        "id": "uTs30_IKE-MA"
      }
    },
    {
      "cell_type": "code",
      "source": [
        "Image(url=\"https://wikidocs.net/images/page/22888/cellstate.PNG\")"
      ],
      "metadata": {
        "colab": {
          "base_uri": "https://localhost:8080/",
          "height": 190
        },
        "id": "KeCZFahpEG4t",
        "outputId": "6367097c-288b-4713-bb02-85df5d914347"
      },
      "execution_count": 6,
      "outputs": [
        {
          "output_type": "execute_result",
          "data": {
            "text/plain": [
              "<IPython.core.display.Image object>"
            ],
            "text/html": [
              "<img src=\"https://wikidocs.net/images/page/22888/cellstate.PNG\"/>"
            ]
          },
          "metadata": {},
          "execution_count": 6
        }
      ]
    },
    {
      "cell_type": "markdown",
      "source": [
        "셀 상태는 위의 그림에서 왼쪽에서 오른쪽으로 가는 굵은 선입니다. 셀 상태 또한 이전에 배운 은닉 상태처럼 이전 시점의 셀 상태가 다음 시점의 셀 상태를 구하기 위한 입력으로서 사용됩니다.\n",
        "\n",
        "은닉 상태의 값과 셀 상태의 값을 구하기 위해서 새로 추가 된 3개의 게이트를 사용합니다. 각 게이트는 forget gate, input gate, output gate라고 부르며 이 3개의 게이트에는 공통적으로 시그모이드 함수가 존재합니다. 시그모이드 함수를 지나면 0과 1사이의 값이 나오게 되는데 이 값들을 가지고 게이트를 조절합니다. 아래의 내용을 참고로 각 게이트에 대해서 알아보겠습니다."
      ],
      "metadata": {
        "id": "Uu7qCtTXEHKY"
      }
    },
    {
      "cell_type": "markdown",
      "source": [
        "### (1) input gate"
      ],
      "metadata": {
        "id": "-klx9SUNElBl"
      }
    },
    {
      "cell_type": "code",
      "source": [
        "Image(url=\"https://wikidocs.net/images/page/22888/inputgate.PNG\")"
      ],
      "metadata": {
        "colab": {
          "base_uri": "https://localhost:8080/",
          "height": 252
        },
        "id": "oOeoEdkjEiut",
        "outputId": "3ecd23e6-192f-4ca4-be8a-8c14a011bcbc"
      },
      "execution_count": 7,
      "outputs": [
        {
          "output_type": "execute_result",
          "data": {
            "text/plain": [
              "<IPython.core.display.Image object>"
            ],
            "text/html": [
              "<img src=\"https://wikidocs.net/images/page/22888/inputgate.PNG\"/>"
            ]
          },
          "metadata": {},
          "execution_count": 7
        }
      ]
    },
    {
      "cell_type": "markdown",
      "source": [
        "$$i_{t}=σ(W_{xi}x_{t}+W_{hi}h_{t-1}+b_{i})$$\n",
        "\n",
        "$$g_{t}=tanh(W_{xg}x_{t}+W_{hg}h_{t-1}+b_{g})$$\n",
        "\n",
        "input gate는 현재 정보를 기억하기 위한 게이트입니다. 우선 현재 시점 t의 x값과 input gate로 이어지는 가중치 Wxi를 곱한 값과 이전 시점 t-1의 은닉 상태가 input gate로 이어지는 가중치 Whi를 곱한 값을 더하여 시그모이드 함수를 지납니다. 이를 it라고 합니다. \n",
        "\n",
        "그리고 xt와 input gate로 이어지는 가중치 Wxg를 곱한 값과 ht-1이 input gate로 이어지는 가중치 Whg를 곱한 값을 더하여 tanh함수를 지납니다. 이를 gt라고 합니다. \n",
        "\n",
        "시그모이드 함수를 지나 0과 1사이의 값을 가지는 it와 tanh함수를 지나 -1과 1사이의 값을 가지는 gt. 이 두 개의 값을 가지고 이번에 선택된 기억할 정보의 양을 정하는데, 구체적으로 어떻게 결정하는지는 추후 설명하도록 하겠습니다."
      ],
      "metadata": {
        "id": "yWbZcRRAEe46"
      }
    },
    {
      "cell_type": "markdown",
      "source": [
        "### (2) forget gate"
      ],
      "metadata": {
        "id": "JWLhZiy-HYLw"
      }
    },
    {
      "cell_type": "code",
      "source": [
        "Image(url=\"https://wikidocs.net/images/page/22888/forgetgate.PNG\")"
      ],
      "metadata": {
        "colab": {
          "base_uri": "https://localhost:8080/",
          "height": 261
        },
        "id": "GbLBAFqpHboj",
        "outputId": "983b4358-f594-4070-c118-8bf4f2993216"
      },
      "execution_count": 8,
      "outputs": [
        {
          "output_type": "execute_result",
          "data": {
            "text/plain": [
              "<IPython.core.display.Image object>"
            ],
            "text/html": [
              "<img src=\"https://wikidocs.net/images/page/22888/forgetgate.PNG\"/>"
            ]
          },
          "metadata": {},
          "execution_count": 8
        }
      ]
    },
    {
      "cell_type": "markdown",
      "source": [
        "### [문제2] forget gate에 대한 수식을 xt, ht-1등을 이용하여 입력해주세요.\n",
        "$$f_{t}=σ(W_{xf}x_{t}+W_{hf}h_{t-1}+b_{f})$$\n",
        "\n",
        "forget gate는 기억을 삭제하기 위한 게이트입니다. xt와 ht-1이 시그모이드 함수를 지나게 됩니다. 그러면 0과 1사이의 값이 나오게 되는데, 이 값이 곧 삭제 과정을 거친 정보의 양입니다. 0에 가까울수록 정보가 많이 삭제된 것이고 1에 가까울수록 정보를 온전히 기억한 것입니다. 이를 가지고 셀 상태를 구하게 됩니다."
      ],
      "metadata": {
        "id": "sFEinI91Hj_O"
      }
    },
    {
      "cell_type": "markdown",
      "source": [
        "### (3) 셀 상태(cell state)"
      ],
      "metadata": {
        "id": "3DINZm_qIHA4"
      }
    },
    {
      "cell_type": "code",
      "source": [
        "Image(url=\"https://wikidocs.net/images/page/22888/cellstate2.PNG\")"
      ],
      "metadata": {
        "colab": {
          "base_uri": "https://localhost:8080/",
          "height": 267
        },
        "id": "_Q3I3SHHIKwu",
        "outputId": "47d5bc54-3b8d-4fad-dab7-44a4e6c4894b"
      },
      "execution_count": null,
      "outputs": [
        {
          "output_type": "execute_result",
          "data": {
            "text/html": [
              "<img src=\"https://wikidocs.net/images/page/22888/cellstate2.PNG\"/>"
            ],
            "text/plain": [
              "<IPython.core.display.Image object>"
            ]
          },
          "metadata": {},
          "execution_count": 9
        }
      ]
    },
    {
      "cell_type": "markdown",
      "source": [
        "$$C_{t}=f_{t}∘C_{t-1}+i_{t}∘g_{t}$$\n",
        "\n",
        "셀 상태 Ct를 구하는 방법을 설명하도록 하겠습니다. 첫 번째 항을 보면, forget gate에서 일부 기억을 잃은 상태입니다. input gate에서 구한 it, gt 두 개의 값에 대해서 원소별 곱을 진행합니다. 원소별 곱이란 같은 크기의 두 행렬이 있을 때, 같은 위치의 성분끼리 곱하는 것을 말합니다. 식으로 $∘$라고 표현합니다. 이것이 이번에 선택된 기억할 값입니다. \n",
        "\n",
        "input gate에서 선택된 기억을 forget gate의 결과값과 더합니다. 이 값을 현재 시점 t의 셀 상태라고 하며, 이 값은 다음 t+1 시점의 LSTM셀로 넘겨집니다.\n",
        "\n",
        "forget gate와 input gate의 영향력을 이해해봅시다. 만약 forget gate의 출력값인 ft가 0이 된다면, 이전 시점의 셀 상태의 값인 Ct-1은 현재 시점의 셀 상태의 값을 결정하기 위한 영향력이 0이 되면서 오직 input gate의 결과만이 현재 시점의 셀 상태 Ct값을 결정합니다. 이는 forget gate가 완전히 닫히고 input gate를 연 상태를 의미합니다. 반대로 input gate의 it값을 0이라고 한다면, 현재 시점의 셀 상태의 값 Ct는 오직 이전 시점의 셀 상태의 값 Ct-1의 값에만 의존하게 됩니다. 이는 input gate를 완전히 닫고 forget gate를 연 상태를 의미합니다. 결과적으로 forget gate는 이전 시점의 입력을 얼마나 반영할지를 의미하고, 입력 게이트는 현재 시점의 입력을 얼마나 반영할지를 결정합니다."
      ],
      "metadata": {
        "id": "eJYQBSs1IK56"
      }
    },
    {
      "cell_type": "markdown",
      "source": [
        "### (4) output gate와 은닉 상태 (hidden state)"
      ],
      "metadata": {
        "id": "2kee2cVwKEmA"
      }
    },
    {
      "cell_type": "code",
      "source": [
        "Image(url=\"https://wikidocs.net/images/page/22888/outputgateandhiddenstate.PNG\")"
      ],
      "metadata": {
        "colab": {
          "base_uri": "https://localhost:8080/",
          "height": 265
        },
        "id": "WZEjHqYbKE6b",
        "outputId": "dd4d19d9-5027-4e84-f4c7-2461d7db49c6"
      },
      "execution_count": null,
      "outputs": [
        {
          "output_type": "execute_result",
          "data": {
            "text/html": [
              "<img src=\"https://wikidocs.net/images/page/22888/outputgateandhiddenstate.PNG\"/>"
            ],
            "text/plain": [
              "<IPython.core.display.Image object>"
            ]
          },
          "metadata": {},
          "execution_count": 10
        }
      ]
    },
    {
      "cell_type": "markdown",
      "source": [
        "$$o_{t}=σ(W_{xo}x_{t}+W_{ho}h_{t-1}+b_{o})$$\n",
        "$$h_{t}=o_{t}∘tanh(c_{t})$$\n",
        "\n",
        "output gate는 xt와 ht-1이 시그모이드 함수를 지난 값입니다. 이는 현재 시점 t의 은닉 상태, ht를 결정하는데 쓰이게 됩니다. 셀 상태의 값이 tanh함수를 지나 -1과 1사이의 값이 되고, 해당 값은 output gate값과 연산이 되면서, 값이 걸러지는 효과가 발생하여 은닉 상태가 됩니다. 이 값은 출력층으로도 향하게 됩니다. "
      ],
      "metadata": {
        "id": "Ro9Lxjw3KFBm"
      }
    },
    {
      "cell_type": "markdown",
      "source": [
        "### [문제3] LSTM에서 sigmoid, tanh와 같은 정규화 기능의 함수를 사용하는 이유는 무엇일까요?"
      ],
      "metadata": {
        "id": "zBO1Y9S-lhkD"
      }
    },
    {
      "cell_type": "markdown",
      "source": [
        "- [답변] 정보를 얼마나 사용할지 결정하고자,,?"
      ],
      "metadata": {
        "id": "cTl6vNrOmTXw"
      }
    },
    {
      "cell_type": "markdown",
      "source": [
        "LSTM cell을 다시 요약하자면 아래 그림과 같습니다."
      ],
      "metadata": {
        "id": "QdPQTkPkK65J"
      }
    },
    {
      "cell_type": "code",
      "source": [
        "Image(url= \"https://raw.githubusercontent.com/captainchargers/deeplearning/master/img/lstm_detail.png\", width=500, height=300)"
      ],
      "metadata": {
        "colab": {
          "base_uri": "https://localhost:8080/",
          "height": 322
        },
        "id": "SfExic7bEymA",
        "outputId": "e50efd95-439e-42a0-e4af-b25215982747"
      },
      "execution_count": null,
      "outputs": [
        {
          "output_type": "execute_result",
          "data": {
            "text/html": [
              "<img src=\"https://raw.githubusercontent.com/captainchargers/deeplearning/master/img/lstm_detail.png\" width=\"500\" height=\"300\"/>"
            ],
            "text/plain": [
              "<IPython.core.display.Image object>"
            ]
          },
          "metadata": {},
          "execution_count": 11
        }
      ]
    },
    {
      "cell_type": "markdown",
      "source": [
        "### [문제4] LSTM은 overfitting에 취약할 수 있는데, 그 이유는 무엇일까요?"
      ],
      "metadata": {
        "id": "0-bF3ZQgrgZD"
      }
    },
    {
      "cell_type": "markdown",
      "source": [
        "- [답변] 파라미터 수가 RNN보다 많기 때문에 데이터가 적을 경우 오버피팅이 발생하기 쉽다."
      ],
      "metadata": {
        "id": "efqbxkGur1nH"
      }
    },
    {
      "cell_type": "markdown",
      "source": [
        "텐서플로우 사용 시, 이미 LSTM은 구현되어 있기 때문에 직접 구현하실 필요는 없습니다.\n",
        "텐서플로우 LSTM을 사용 시 아래 그림만 잘 이해하셔도, 사용에 큰 무리가 없습니다."
      ],
      "metadata": {
        "id": "sCOCyg9pFC4h"
      }
    },
    {
      "cell_type": "code",
      "source": [
        "Image(url= \"https://raw.githubusercontent.com/captainchargers/deeplearning/master/img/lstm_cell2.png\", width=500, height=300)"
      ],
      "metadata": {
        "colab": {
          "base_uri": "https://localhost:8080/",
          "height": 320
        },
        "id": "Oe0JzwAZFDbZ",
        "outputId": "7368605a-2b72-4b34-ef15-00e101f0eab0"
      },
      "execution_count": 9,
      "outputs": [
        {
          "output_type": "execute_result",
          "data": {
            "text/plain": [
              "<IPython.core.display.Image object>"
            ],
            "text/html": [
              "<img src=\"https://raw.githubusercontent.com/captainchargers/deeplearning/master/img/lstm_cell2.png\" width=\"500\" height=\"300\"/>"
            ]
          },
          "metadata": {},
          "execution_count": 9
        }
      ]
    },
    {
      "cell_type": "markdown",
      "source": [
        "아래 코드를 실행하여 LSTM의 출력값(y) 및 상태값(hidden state), 메모리셀(memory cell)값을 출력할 수 있습니다."
      ],
      "metadata": {
        "id": "6vVD4zOfFTEg"
      }
    },
    {
      "cell_type": "code",
      "source": [
        "# 입력값의 형태를 지정합니다.\n",
        "inputs = Input(shape=(1,2)) # (timestep, feature_dimension)\n",
        "\n",
        "lstm_out, hidden_state, cell_state = LSTM(units=1, return_state=True)(inputs) # LSTM 셀의 속성을 지정합니다. units=1: 1차원 벡터의 출력값을 지정한다는 의미입니다.\n",
        "                                                                              # return_state=True: LSTM 셀의 상태값, 메모리셀을 출력하도록 지정합니다.\n",
        "model = Model(inputs=inputs, outputs=[lstm_out, hidden_state, cell_state])"
      ],
      "metadata": {
        "id": "mQiLaItFFVnZ"
      },
      "execution_count": 10,
      "outputs": []
    },
    {
      "cell_type": "code",
      "source": [
        "# input 예시\n",
        "data = np.array([\n",
        "    [ [1,0] ]\n",
        "])"
      ],
      "metadata": {
        "id": "UEAU_CEJFgNb"
      },
      "execution_count": 11,
      "outputs": []
    },
    {
      "cell_type": "code",
      "source": [
        "# 출력값, 상태값, 메모리셀 프린트\n",
        "lstm_out, hidden_state, cell_state  = model.predict(data)\n",
        "print(\"lstm_out: \",lstm_out)\n",
        "print(\"hidden_state: \",hidden_state)\n",
        "print(\"cell_state: \",cell_state)"
      ],
      "metadata": {
        "colab": {
          "base_uri": "https://localhost:8080/"
        },
        "id": "IrafMck0FgPi",
        "outputId": "d2f2e4ac-6fca-44af-a1a6-fd5cac422bf4"
      },
      "execution_count": 12,
      "outputs": [
        {
          "output_type": "stream",
          "name": "stdout",
          "text": [
            "lstm_out:  [[0.04041995]]\n",
            "hidden_state:  [[0.04041995]]\n",
            "cell_state:  [[0.08670978]]\n"
          ]
        }
      ]
    },
    {
      "cell_type": "markdown",
      "source": [
        "# [실습] LSTM을 이용하여 아파트 지수 예측하기"
      ],
      "metadata": {
        "id": "56NC7yXrhWHv"
      }
    },
    {
      "cell_type": "markdown",
      "source": [
        "## 데이터 업로드하기"
      ],
      "metadata": {
        "id": "jAdqATe2k-3h"
      }
    },
    {
      "cell_type": "markdown",
      "source": [
        "LSTM을 이용하여 아파트 지수를 예측해보는 실습을 해보겠습니다! 📈\n",
        "\n",
        "이를 위해 우리는 한국감정원에서 배포하는 전국주택가격지수 중에서 강남구의 아파트 거래가격 지수를 사용하겠습니다."
      ],
      "metadata": {
        "id": "tLLdoWBFhmyR"
      }
    },
    {
      "cell_type": "code",
      "source": [
        "import pandas as pd\n",
        "import numpy as np\n",
        "\n",
        "%matplotlib inline\n",
        "import matplotlib.pyplot as plt"
      ],
      "metadata": {
        "id": "beb_qCdj38JW"
      },
      "execution_count": 13,
      "outputs": []
    },
    {
      "cell_type": "code",
      "source": [
        "# mounting google drive to colab\n",
        "from google.colab import drive\n",
        "drive.mount('/content/drive')"
      ],
      "metadata": {
        "colab": {
          "base_uri": "https://localhost:8080/"
        },
        "id": "XYXKGFAN15dL",
        "outputId": "edbcf07f-8574-48fe-e21e-f0fd8dfc819b"
      },
      "execution_count": 16,
      "outputs": [
        {
          "output_type": "stream",
          "name": "stdout",
          "text": [
            "Mounted at /content/drive\n"
          ]
        }
      ]
    },
    {
      "cell_type": "code",
      "source": [
        "%cd /content/drive/MyDrive/비타민/2학기/4week_LSTM/3조 복습과제"
      ],
      "metadata": {
        "colab": {
          "base_uri": "https://localhost:8080/"
        },
        "id": "PeQQHkFf-6DG",
        "outputId": "3b1c359b-59a6-4c98-d473-1df1110274f1"
      },
      "execution_count": 20,
      "outputs": [
        {
          "output_type": "stream",
          "name": "stdout",
          "text": [
            "/content/drive/MyDrive/비타민/2학기/4week_LSTM/3조 복습과제\n"
          ]
        }
      ]
    },
    {
      "cell_type": "code",
      "source": [
        "df = pd.read_csv('aptsellindex_gangnamgu.csv', parse_dates =[\"date\"], index_col =\"date\", engine='python', encoding='euc-kr', dtype={'trade_price_idx_value':'float'}) \n",
        "df.head()"
      ],
      "metadata": {
        "id": "ztETQm3PiEjX",
        "colab": {
          "base_uri": "https://localhost:8080/",
          "height": 238
        },
        "outputId": "78acc567-f772-47f6-b110-cc38fc16c417"
      },
      "execution_count": 22,
      "outputs": [
        {
          "output_type": "execute_result",
          "data": {
            "text/plain": [
              "            trade_price_idx_value\n",
              "date                             \n",
              "2006-01-01                   74.2\n",
              "2006-02-01                   75.8\n",
              "2006-03-01                   78.1\n",
              "2006-04-01                   81.4\n",
              "2006-05-01                   83.6"
            ],
            "text/html": [
              "\n",
              "  <div id=\"df-27a047ca-659e-4b9a-9067-8068abe76604\">\n",
              "    <div class=\"colab-df-container\">\n",
              "      <div>\n",
              "<style scoped>\n",
              "    .dataframe tbody tr th:only-of-type {\n",
              "        vertical-align: middle;\n",
              "    }\n",
              "\n",
              "    .dataframe tbody tr th {\n",
              "        vertical-align: top;\n",
              "    }\n",
              "\n",
              "    .dataframe thead th {\n",
              "        text-align: right;\n",
              "    }\n",
              "</style>\n",
              "<table border=\"1\" class=\"dataframe\">\n",
              "  <thead>\n",
              "    <tr style=\"text-align: right;\">\n",
              "      <th></th>\n",
              "      <th>trade_price_idx_value</th>\n",
              "    </tr>\n",
              "    <tr>\n",
              "      <th>date</th>\n",
              "      <th></th>\n",
              "    </tr>\n",
              "  </thead>\n",
              "  <tbody>\n",
              "    <tr>\n",
              "      <th>2006-01-01</th>\n",
              "      <td>74.2</td>\n",
              "    </tr>\n",
              "    <tr>\n",
              "      <th>2006-02-01</th>\n",
              "      <td>75.8</td>\n",
              "    </tr>\n",
              "    <tr>\n",
              "      <th>2006-03-01</th>\n",
              "      <td>78.1</td>\n",
              "    </tr>\n",
              "    <tr>\n",
              "      <th>2006-04-01</th>\n",
              "      <td>81.4</td>\n",
              "    </tr>\n",
              "    <tr>\n",
              "      <th>2006-05-01</th>\n",
              "      <td>83.6</td>\n",
              "    </tr>\n",
              "  </tbody>\n",
              "</table>\n",
              "</div>\n",
              "      <button class=\"colab-df-convert\" onclick=\"convertToInteractive('df-27a047ca-659e-4b9a-9067-8068abe76604')\"\n",
              "              title=\"Convert this dataframe to an interactive table.\"\n",
              "              style=\"display:none;\">\n",
              "        \n",
              "  <svg xmlns=\"http://www.w3.org/2000/svg\" height=\"24px\"viewBox=\"0 0 24 24\"\n",
              "       width=\"24px\">\n",
              "    <path d=\"M0 0h24v24H0V0z\" fill=\"none\"/>\n",
              "    <path d=\"M18.56 5.44l.94 2.06.94-2.06 2.06-.94-2.06-.94-.94-2.06-.94 2.06-2.06.94zm-11 1L8.5 8.5l.94-2.06 2.06-.94-2.06-.94L8.5 2.5l-.94 2.06-2.06.94zm10 10l.94 2.06.94-2.06 2.06-.94-2.06-.94-.94-2.06-.94 2.06-2.06.94z\"/><path d=\"M17.41 7.96l-1.37-1.37c-.4-.4-.92-.59-1.43-.59-.52 0-1.04.2-1.43.59L10.3 9.45l-7.72 7.72c-.78.78-.78 2.05 0 2.83L4 21.41c.39.39.9.59 1.41.59.51 0 1.02-.2 1.41-.59l7.78-7.78 2.81-2.81c.8-.78.8-2.07 0-2.86zM5.41 20L4 18.59l7.72-7.72 1.47 1.35L5.41 20z\"/>\n",
              "  </svg>\n",
              "      </button>\n",
              "      \n",
              "  <style>\n",
              "    .colab-df-container {\n",
              "      display:flex;\n",
              "      flex-wrap:wrap;\n",
              "      gap: 12px;\n",
              "    }\n",
              "\n",
              "    .colab-df-convert {\n",
              "      background-color: #E8F0FE;\n",
              "      border: none;\n",
              "      border-radius: 50%;\n",
              "      cursor: pointer;\n",
              "      display: none;\n",
              "      fill: #1967D2;\n",
              "      height: 32px;\n",
              "      padding: 0 0 0 0;\n",
              "      width: 32px;\n",
              "    }\n",
              "\n",
              "    .colab-df-convert:hover {\n",
              "      background-color: #E2EBFA;\n",
              "      box-shadow: 0px 1px 2px rgba(60, 64, 67, 0.3), 0px 1px 3px 1px rgba(60, 64, 67, 0.15);\n",
              "      fill: #174EA6;\n",
              "    }\n",
              "\n",
              "    [theme=dark] .colab-df-convert {\n",
              "      background-color: #3B4455;\n",
              "      fill: #D2E3FC;\n",
              "    }\n",
              "\n",
              "    [theme=dark] .colab-df-convert:hover {\n",
              "      background-color: #434B5C;\n",
              "      box-shadow: 0px 1px 3px 1px rgba(0, 0, 0, 0.15);\n",
              "      filter: drop-shadow(0px 1px 2px rgba(0, 0, 0, 0.3));\n",
              "      fill: #FFFFFF;\n",
              "    }\n",
              "  </style>\n",
              "\n",
              "      <script>\n",
              "        const buttonEl =\n",
              "          document.querySelector('#df-27a047ca-659e-4b9a-9067-8068abe76604 button.colab-df-convert');\n",
              "        buttonEl.style.display =\n",
              "          google.colab.kernel.accessAllowed ? 'block' : 'none';\n",
              "\n",
              "        async function convertToInteractive(key) {\n",
              "          const element = document.querySelector('#df-27a047ca-659e-4b9a-9067-8068abe76604');\n",
              "          const dataTable =\n",
              "            await google.colab.kernel.invokeFunction('convertToInteractive',\n",
              "                                                     [key], {});\n",
              "          if (!dataTable) return;\n",
              "\n",
              "          const docLinkHtml = 'Like what you see? Visit the ' +\n",
              "            '<a target=\"_blank\" href=https://colab.research.google.com/notebooks/data_table.ipynb>data table notebook</a>'\n",
              "            + ' to learn more about interactive tables.';\n",
              "          element.innerHTML = '';\n",
              "          dataTable['output_type'] = 'display_data';\n",
              "          await google.colab.output.renderOutput(dataTable, element);\n",
              "          const docLink = document.createElement('div');\n",
              "          docLink.innerHTML = docLinkHtml;\n",
              "          element.appendChild(docLink);\n",
              "        }\n",
              "      </script>\n",
              "    </div>\n",
              "  </div>\n",
              "  "
            ]
          },
          "metadata": {},
          "execution_count": 22
        }
      ]
    },
    {
      "cell_type": "markdown",
      "source": [
        "df는 다음과 같이 날짜(data)와 그 달의 강남구 아파트 매매 지수(trade_price_idx_value)가 있는 간단한 형식으로 되어있습니다."
      ],
      "metadata": {
        "id": "hWw5RlAZjtqH"
      }
    },
    {
      "cell_type": "code",
      "source": [
        "df"
      ],
      "metadata": {
        "id": "r2MNJJ9qiErL",
        "colab": {
          "base_uri": "https://localhost:8080/",
          "height": 455
        },
        "outputId": "2b9698a0-96b3-47ef-cd2e-9431d4d15def"
      },
      "execution_count": 23,
      "outputs": [
        {
          "output_type": "execute_result",
          "data": {
            "text/plain": [
              "            trade_price_idx_value\n",
              "date                             \n",
              "2006-01-01                   74.2\n",
              "2006-02-01                   75.8\n",
              "2006-03-01                   78.1\n",
              "2006-04-01                   81.4\n",
              "2006-05-01                   83.6\n",
              "...                           ...\n",
              "2018-10-01                  109.7\n",
              "2018-12-01                  109.3\n",
              "2019-01-01                  108.3\n",
              "2019-02-01                  107.5\n",
              "2019-03-01                  106.7\n",
              "\n",
              "[165 rows x 1 columns]"
            ],
            "text/html": [
              "\n",
              "  <div id=\"df-05b2161b-3c53-40b5-bc80-fd1ef4826914\">\n",
              "    <div class=\"colab-df-container\">\n",
              "      <div>\n",
              "<style scoped>\n",
              "    .dataframe tbody tr th:only-of-type {\n",
              "        vertical-align: middle;\n",
              "    }\n",
              "\n",
              "    .dataframe tbody tr th {\n",
              "        vertical-align: top;\n",
              "    }\n",
              "\n",
              "    .dataframe thead th {\n",
              "        text-align: right;\n",
              "    }\n",
              "</style>\n",
              "<table border=\"1\" class=\"dataframe\">\n",
              "  <thead>\n",
              "    <tr style=\"text-align: right;\">\n",
              "      <th></th>\n",
              "      <th>trade_price_idx_value</th>\n",
              "    </tr>\n",
              "    <tr>\n",
              "      <th>date</th>\n",
              "      <th></th>\n",
              "    </tr>\n",
              "  </thead>\n",
              "  <tbody>\n",
              "    <tr>\n",
              "      <th>2006-01-01</th>\n",
              "      <td>74.2</td>\n",
              "    </tr>\n",
              "    <tr>\n",
              "      <th>2006-02-01</th>\n",
              "      <td>75.8</td>\n",
              "    </tr>\n",
              "    <tr>\n",
              "      <th>2006-03-01</th>\n",
              "      <td>78.1</td>\n",
              "    </tr>\n",
              "    <tr>\n",
              "      <th>2006-04-01</th>\n",
              "      <td>81.4</td>\n",
              "    </tr>\n",
              "    <tr>\n",
              "      <th>2006-05-01</th>\n",
              "      <td>83.6</td>\n",
              "    </tr>\n",
              "    <tr>\n",
              "      <th>...</th>\n",
              "      <td>...</td>\n",
              "    </tr>\n",
              "    <tr>\n",
              "      <th>2018-10-01</th>\n",
              "      <td>109.7</td>\n",
              "    </tr>\n",
              "    <tr>\n",
              "      <th>2018-12-01</th>\n",
              "      <td>109.3</td>\n",
              "    </tr>\n",
              "    <tr>\n",
              "      <th>2019-01-01</th>\n",
              "      <td>108.3</td>\n",
              "    </tr>\n",
              "    <tr>\n",
              "      <th>2019-02-01</th>\n",
              "      <td>107.5</td>\n",
              "    </tr>\n",
              "    <tr>\n",
              "      <th>2019-03-01</th>\n",
              "      <td>106.7</td>\n",
              "    </tr>\n",
              "  </tbody>\n",
              "</table>\n",
              "<p>165 rows × 1 columns</p>\n",
              "</div>\n",
              "      <button class=\"colab-df-convert\" onclick=\"convertToInteractive('df-05b2161b-3c53-40b5-bc80-fd1ef4826914')\"\n",
              "              title=\"Convert this dataframe to an interactive table.\"\n",
              "              style=\"display:none;\">\n",
              "        \n",
              "  <svg xmlns=\"http://www.w3.org/2000/svg\" height=\"24px\"viewBox=\"0 0 24 24\"\n",
              "       width=\"24px\">\n",
              "    <path d=\"M0 0h24v24H0V0z\" fill=\"none\"/>\n",
              "    <path d=\"M18.56 5.44l.94 2.06.94-2.06 2.06-.94-2.06-.94-.94-2.06-.94 2.06-2.06.94zm-11 1L8.5 8.5l.94-2.06 2.06-.94-2.06-.94L8.5 2.5l-.94 2.06-2.06.94zm10 10l.94 2.06.94-2.06 2.06-.94-2.06-.94-.94-2.06-.94 2.06-2.06.94z\"/><path d=\"M17.41 7.96l-1.37-1.37c-.4-.4-.92-.59-1.43-.59-.52 0-1.04.2-1.43.59L10.3 9.45l-7.72 7.72c-.78.78-.78 2.05 0 2.83L4 21.41c.39.39.9.59 1.41.59.51 0 1.02-.2 1.41-.59l7.78-7.78 2.81-2.81c.8-.78.8-2.07 0-2.86zM5.41 20L4 18.59l7.72-7.72 1.47 1.35L5.41 20z\"/>\n",
              "  </svg>\n",
              "      </button>\n",
              "      \n",
              "  <style>\n",
              "    .colab-df-container {\n",
              "      display:flex;\n",
              "      flex-wrap:wrap;\n",
              "      gap: 12px;\n",
              "    }\n",
              "\n",
              "    .colab-df-convert {\n",
              "      background-color: #E8F0FE;\n",
              "      border: none;\n",
              "      border-radius: 50%;\n",
              "      cursor: pointer;\n",
              "      display: none;\n",
              "      fill: #1967D2;\n",
              "      height: 32px;\n",
              "      padding: 0 0 0 0;\n",
              "      width: 32px;\n",
              "    }\n",
              "\n",
              "    .colab-df-convert:hover {\n",
              "      background-color: #E2EBFA;\n",
              "      box-shadow: 0px 1px 2px rgba(60, 64, 67, 0.3), 0px 1px 3px 1px rgba(60, 64, 67, 0.15);\n",
              "      fill: #174EA6;\n",
              "    }\n",
              "\n",
              "    [theme=dark] .colab-df-convert {\n",
              "      background-color: #3B4455;\n",
              "      fill: #D2E3FC;\n",
              "    }\n",
              "\n",
              "    [theme=dark] .colab-df-convert:hover {\n",
              "      background-color: #434B5C;\n",
              "      box-shadow: 0px 1px 3px 1px rgba(0, 0, 0, 0.15);\n",
              "      filter: drop-shadow(0px 1px 2px rgba(0, 0, 0, 0.3));\n",
              "      fill: #FFFFFF;\n",
              "    }\n",
              "  </style>\n",
              "\n",
              "      <script>\n",
              "        const buttonEl =\n",
              "          document.querySelector('#df-05b2161b-3c53-40b5-bc80-fd1ef4826914 button.colab-df-convert');\n",
              "        buttonEl.style.display =\n",
              "          google.colab.kernel.accessAllowed ? 'block' : 'none';\n",
              "\n",
              "        async function convertToInteractive(key) {\n",
              "          const element = document.querySelector('#df-05b2161b-3c53-40b5-bc80-fd1ef4826914');\n",
              "          const dataTable =\n",
              "            await google.colab.kernel.invokeFunction('convertToInteractive',\n",
              "                                                     [key], {});\n",
              "          if (!dataTable) return;\n",
              "\n",
              "          const docLinkHtml = 'Like what you see? Visit the ' +\n",
              "            '<a target=\"_blank\" href=https://colab.research.google.com/notebooks/data_table.ipynb>data table notebook</a>'\n",
              "            + ' to learn more about interactive tables.';\n",
              "          element.innerHTML = '';\n",
              "          dataTable['output_type'] = 'display_data';\n",
              "          await google.colab.output.renderOutput(dataTable, element);\n",
              "          const docLink = document.createElement('div');\n",
              "          docLink.innerHTML = docLinkHtml;\n",
              "          element.appendChild(docLink);\n",
              "        }\n",
              "      </script>\n",
              "    </div>\n",
              "  </div>\n",
              "  "
            ]
          },
          "metadata": {},
          "execution_count": 23
        }
      ]
    },
    {
      "cell_type": "code",
      "source": [
        "df.info()"
      ],
      "metadata": {
        "id": "5KuGAjlpj-pl",
        "colab": {
          "base_uri": "https://localhost:8080/"
        },
        "outputId": "67f68368-2053-406a-87ac-0cfbcc490ddb"
      },
      "execution_count": 24,
      "outputs": [
        {
          "output_type": "stream",
          "name": "stdout",
          "text": [
            "<class 'pandas.core.frame.DataFrame'>\n",
            "DatetimeIndex: 165 entries, 2006-01-01 to 2019-03-01\n",
            "Data columns (total 1 columns):\n",
            " #   Column                 Non-Null Count  Dtype  \n",
            "---  ------                 --------------  -----  \n",
            " 0   trade_price_idx_value  165 non-null    float64\n",
            "dtypes: float64(1)\n",
            "memory usage: 2.6 KB\n"
          ]
        }
      ]
    },
    {
      "cell_type": "markdown",
      "source": [
        "df의 ['trade_price_idx_value']를 plot하여 데이터 흐름을 살펴봅시다."
      ],
      "metadata": {
        "id": "3UXvEfWekGmQ"
      }
    },
    {
      "cell_type": "code",
      "source": [
        "df['trade_price_idx_value'].plot()"
      ],
      "metadata": {
        "id": "fRd2o34mj-r7",
        "colab": {
          "base_uri": "https://localhost:8080/",
          "height": 287
        },
        "outputId": "49289a84-8046-425e-91fc-44d1b1a9052e"
      },
      "execution_count": 25,
      "outputs": [
        {
          "output_type": "execute_result",
          "data": {
            "text/plain": [
              "<matplotlib.axes._subplots.AxesSubplot at 0x7fbe73cef290>"
            ]
          },
          "metadata": {},
          "execution_count": 25
        },
        {
          "output_type": "display_data",
          "data": {
            "text/plain": [
              "<Figure size 432x288 with 1 Axes>"
            ],
            "image/png": "[encoded data removed]"
          },
          "metadata": {
            "needs_background": "light"
          }
        }
      ]
    },
    {
      "cell_type": "markdown",
      "source": [
        "## train 데이터, test 데이터 분리하기"
      ],
      "metadata": {
        "id": "BvSFtfszlDuq"
      }
    },
    {
      "cell_type": "markdown",
      "source": [
        "이제 데이터를 train 데이터, test 데이터로 분리합니다. 2017년 1월 1일까지의 데이터를 train 데이터(blue line), 그 이후의 데이터를 test 데이터(yellow line)로 분리하도록 하겠습니다."
      ],
      "metadata": {
        "id": "yqA0SSFyjqdv"
      }
    },
    {
      "cell_type": "code",
      "source": [
        "# pd.Timestamp를 이용하여 괄호 안의 날짜를 기준으로 df를 split합니다.\n",
        "split_date = pd.Timestamp('01-01-2017')\n",
        "\n",
        "train = df.loc[:split_date, ['trade_price_idx_value']]\n",
        "test = df.loc[split_date:, ['trade_price_idx_value']]\n",
        "\n",
        "ax = train.plot()\n",
        "test.plot(ax=ax)\n",
        "plt.legend(['train', 'test'])"
      ],
      "metadata": {
        "id": "G5Et9ZsOjnz6",
        "colab": {
          "base_uri": "https://localhost:8080/",
          "height": 287
        },
        "outputId": "be14dda3-3ad3-41e1-8ddd-b53c6a671c0f"
      },
      "execution_count": 26,
      "outputs": [
        {
          "output_type": "execute_result",
          "data": {
            "text/plain": [
              "<matplotlib.legend.Legend at 0x7fbe73c40d50>"
            ]
          },
          "metadata": {},
          "execution_count": 26
        },
        {
          "output_type": "display_data",
          "data": {
            "text/plain": [
              "<Figure size 432x288 with 1 Axes>"
            ],
            "image/png": "[encoded data removed]"
          },
          "metadata": {
            "needs_background": "light"
          }
        }
      ]
    },
    {
      "cell_type": "markdown",
      "source": [
        "## 데이터 scaling"
      ],
      "metadata": {
        "id": "jrMt7fLClKj5"
      }
    },
    {
      "cell_type": "markdown",
      "source": [
        "sklearn framework preprocessing 패키지의 MinMaxScaler 클래스를 사용하여 데이터를 스케일링 합니다. MinMaxScalar(X)는 데이터의 최대값이 1, 최소값이 0이 되도록 변환합니다. 이렇게 데이터의 scale을 맞추면 weight의 scale도 일관성 있게 나올 수 있습니다."
      ],
      "metadata": {
        "id": "AiOpih5XlV57"
      }
    },
    {
      "cell_type": "code",
      "source": [
        "from sklearn.preprocessing import MinMaxScaler\n",
        "\n",
        "scaler = MinMaxScaler()\n",
        "\n",
        "train_scaled = scaler.fit_transform(train) # fit: model의 분포 계산 -> transform: 계산한 분포를 기준으로 data transform\n",
        "test_scaled = scaler.transform(test) # transform 시 이용하는 min, max value,...등은 train data 기준으로 transform\n",
        "\n",
        "print(\"train_scaled...\")\n",
        "print(train_scaled)\n",
        "print(\"=====\"*10)\n",
        "print(\"test_scaled...\")\n",
        "print(test_scaled)\n",
        "print()\n",
        "print(\"train_scaled data type: \", type(train_scaled))"
      ],
      "metadata": {
        "id": "etGGz6BAlTi3",
        "colab": {
          "base_uri": "https://localhost:8080/"
        },
        "outputId": "02fc0fc4-b33f-4afb-894f-0edcd548a67e"
      },
      "execution_count": 27,
      "outputs": [
        {
          "output_type": "stream",
          "name": "stdout",
          "text": [
            "train_scaled...\n",
            "[[0.        ]\n",
            " [0.07272727]\n",
            " [0.17727273]\n",
            " [0.32727273]\n",
            " [0.42727273]\n",
            " [0.43636364]\n",
            " [0.42727273]\n",
            " [0.42272727]\n",
            " [0.43636364]\n",
            " [0.52272727]\n",
            " [0.76363636]\n",
            " [0.86818182]\n",
            " [0.90909091]\n",
            " [0.90909091]\n",
            " [0.90454545]\n",
            " [0.87272727]\n",
            " [0.84545455]\n",
            " [0.84090909]\n",
            " [0.85      ]\n",
            " [0.85      ]\n",
            " [0.85      ]\n",
            " [0.85454545]\n",
            " [0.86363636]\n",
            " [0.85909091]\n",
            " [0.86818182]\n",
            " [0.87727273]\n",
            " [0.89090909]\n",
            " [0.91818182]\n",
            " [0.93636364]\n",
            " [0.94545455]\n",
            " [0.93181818]\n",
            " [0.91363636]\n",
            " [0.91363636]\n",
            " [0.87272727]\n",
            " [0.77272727]\n",
            " [0.60454545]\n",
            " [0.55909091]\n",
            " [0.59545455]\n",
            " [0.59545455]\n",
            " [0.63636364]\n",
            " [0.65      ]\n",
            " [0.68636364]\n",
            " [0.75454545]\n",
            " [0.79090909]\n",
            " [0.85909091]\n",
            " [0.87272727]\n",
            " [0.85909091]\n",
            " [0.85909091]\n",
            " [0.86363636]\n",
            " [0.87727273]\n",
            " [0.88181818]\n",
            " [0.87727273]\n",
            " [0.84545455]\n",
            " [0.82727273]\n",
            " [0.81818182]\n",
            " [0.79090909]\n",
            " [0.78636364]\n",
            " [0.78181818]\n",
            " [0.77272727]\n",
            " [0.78636364]\n",
            " [0.79545455]\n",
            " [0.81818182]\n",
            " [0.82727273]\n",
            " [0.82272727]\n",
            " [0.82272727]\n",
            " [0.81818182]\n",
            " [0.80454545]\n",
            " [0.80454545]\n",
            " [0.79545455]\n",
            " [0.78636364]\n",
            " [0.77727273]\n",
            " [0.76818182]\n",
            " [0.72272727]\n",
            " [0.71363636]\n",
            " [0.68636364]\n",
            " [0.63181818]\n",
            " [0.60909091]\n",
            " [0.55909091]\n",
            " [0.53636364]\n",
            " [0.47272727]\n",
            " [0.40909091]\n",
            " [0.34545455]\n",
            " [0.33181818]\n",
            " [0.26818182]\n",
            " [0.22272727]\n",
            " [0.20454545]\n",
            " [0.20909091]\n",
            " [0.24090909]\n",
            " [0.27272727]\n",
            " [0.25454545]\n",
            " [0.22727273]\n",
            " [0.20454545]\n",
            " [0.22272727]\n",
            " [0.23636364]\n",
            " [0.23181818]\n",
            " [0.22727273]\n",
            " [0.24090909]\n",
            " [0.26818182]\n",
            " [0.29545455]\n",
            " [0.29090909]\n",
            " [0.29090909]\n",
            " [0.29090909]\n",
            " [0.29545455]\n",
            " [0.31363636]\n",
            " [0.34545455]\n",
            " [0.35909091]\n",
            " [0.35909091]\n",
            " [0.35454545]\n",
            " [0.36818182]\n",
            " [0.39545455]\n",
            " [0.44545455]\n",
            " [0.48181818]\n",
            " [0.51363636]\n",
            " [0.59545455]\n",
            " [0.7       ]\n",
            " [0.80454545]\n",
            " [0.71818182]\n",
            " [0.70454545]\n",
            " [0.79545455]\n",
            " [0.69545455]\n",
            " [0.78636364]\n",
            " [0.70909091]\n",
            " [0.79545455]\n",
            " [0.73636364]\n",
            " [0.81818182]\n",
            " [0.85454545]\n",
            " [0.78181818]\n",
            " [0.88181818]\n",
            " [0.81363636]\n",
            " [0.93636364]\n",
            " [0.88636364]\n",
            " [0.95454545]\n",
            " [0.98636364]\n",
            " [0.97272727]\n",
            " [1.        ]\n",
            " [0.99090909]\n",
            " [0.96363636]]\n",
            "==================================================\n",
            "test_scaled...\n",
            "[[0.98636364]\n",
            " [0.95454545]\n",
            " [1.        ]\n",
            " [0.97272727]\n",
            " [0.98636364]\n",
            " [1.00909091]\n",
            " [1.09090909]\n",
            " [1.08181818]\n",
            " [1.13636364]\n",
            " [1.13181818]\n",
            " [1.17272727]\n",
            " [1.17272727]\n",
            " [1.45      ]\n",
            " [1.53636364]\n",
            " [1.58636364]\n",
            " [1.48636364]\n",
            " [1.5       ]\n",
            " [1.59545455]\n",
            " [1.58636364]\n",
            " [1.49090909]\n",
            " [1.58636364]\n",
            " [1.7       ]\n",
            " [1.72272727]\n",
            " [1.61363636]\n",
            " [1.59545455]\n",
            " [1.55      ]\n",
            " [1.51363636]\n",
            " [1.47727273]]\n",
            "\n",
            "train_scaled data type:  <class 'numpy.ndarray'>\n"
          ]
        }
      ]
    },
    {
      "cell_type": "markdown",
      "source": [
        "위에서 알 수 있듯이, train_scaled, test_scaled의 data type은 ndarray입니다. 하지만, \bscaling이 완료된 데이터들은 다시 pandas dataframe 데이터 타입으로 변환하는 것이 좋습니다. pandas는 시계열 자료에 대한 다양한 기능을 제공하여 LSTM에서 사용하는 window(추후 설명)를 만들기 유용하기 때문입니다."
      ],
      "metadata": {
        "id": "duJF-lZJmUgA"
      }
    },
    {
      "cell_type": "code",
      "source": [
        "train_scaled_df = pd.DataFrame(train_scaled, columns=['trade_price_idx_value'], index=train.index)\n",
        "test_scaled_df = pd.DataFrame(test_scaled, columns=['trade_price_idx_value'], index=test.index)\n",
        "\n",
        "train_scaled_df.head()"
      ],
      "metadata": {
        "id": "A0Dfbd3plTle",
        "colab": {
          "base_uri": "https://localhost:8080/",
          "height": 238
        },
        "outputId": "8e571069-9f82-42e6-e727-8c7e38b62d78"
      },
      "execution_count": 28,
      "outputs": [
        {
          "output_type": "execute_result",
          "data": {
            "text/plain": [
              "            trade_price_idx_value\n",
              "date                             \n",
              "2006-01-01               0.000000\n",
              "2006-02-01               0.072727\n",
              "2006-03-01               0.177273\n",
              "2006-04-01               0.327273\n",
              "2006-05-01               0.427273"
            ],
            "text/html": [
              "\n",
              "  <div id=\"df-2a887300-1430-4be7-a42d-45275714dda3\">\n",
              "    <div class=\"colab-df-container\">\n",
              "      <div>\n",
              "<style scoped>\n",
              "    .dataframe tbody tr th:only-of-type {\n",
              "        vertical-align: middle;\n",
              "    }\n",
              "\n",
              "    .dataframe tbody tr th {\n",
              "        vertical-align: top;\n",
              "    }\n",
              "\n",
              "    .dataframe thead th {\n",
              "        text-align: right;\n",
              "    }\n",
              "</style>\n",
              "<table border=\"1\" class=\"dataframe\">\n",
              "  <thead>\n",
              "    <tr style=\"text-align: right;\">\n",
              "      <th></th>\n",
              "      <th>trade_price_idx_value</th>\n",
              "    </tr>\n",
              "    <tr>\n",
              "      <th>date</th>\n",
              "      <th></th>\n",
              "    </tr>\n",
              "  </thead>\n",
              "  <tbody>\n",
              "    <tr>\n",
              "      <th>2006-01-01</th>\n",
              "      <td>0.000000</td>\n",
              "    </tr>\n",
              "    <tr>\n",
              "      <th>2006-02-01</th>\n",
              "      <td>0.072727</td>\n",
              "    </tr>\n",
              "    <tr>\n",
              "      <th>2006-03-01</th>\n",
              "      <td>0.177273</td>\n",
              "    </tr>\n",
              "    <tr>\n",
              "      <th>2006-04-01</th>\n",
              "      <td>0.327273</td>\n",
              "    </tr>\n",
              "    <tr>\n",
              "      <th>2006-05-01</th>\n",
              "      <td>0.427273</td>\n",
              "    </tr>\n",
              "  </tbody>\n",
              "</table>\n",
              "</div>\n",
              "      <button class=\"colab-df-convert\" onclick=\"convertToInteractive('df-2a887300-1430-4be7-a42d-45275714dda3')\"\n",
              "              title=\"Convert this dataframe to an interactive table.\"\n",
              "              style=\"display:none;\">\n",
              "        \n",
              "  <svg xmlns=\"http://www.w3.org/2000/svg\" height=\"24px\"viewBox=\"0 0 24 24\"\n",
              "       width=\"24px\">\n",
              "    <path d=\"M0 0h24v24H0V0z\" fill=\"none\"/>\n",
              "    <path d=\"M18.56 5.44l.94 2.06.94-2.06 2.06-.94-2.06-.94-.94-2.06-.94 2.06-2.06.94zm-11 1L8.5 8.5l.94-2.06 2.06-.94-2.06-.94L8.5 2.5l-.94 2.06-2.06.94zm10 10l.94 2.06.94-2.06 2.06-.94-2.06-.94-.94-2.06-.94 2.06-2.06.94z\"/><path d=\"M17.41 7.96l-1.37-1.37c-.4-.4-.92-.59-1.43-.59-.52 0-1.04.2-1.43.59L10.3 9.45l-7.72 7.72c-.78.78-.78 2.05 0 2.83L4 21.41c.39.39.9.59 1.41.59.51 0 1.02-.2 1.41-.59l7.78-7.78 2.81-2.81c.8-.78.8-2.07 0-2.86zM5.41 20L4 18.59l7.72-7.72 1.47 1.35L5.41 20z\"/>\n",
              "  </svg>\n",
              "      </button>\n",
              "      \n",
              "  <style>\n",
              "    .colab-df-container {\n",
              "      display:flex;\n",
              "      flex-wrap:wrap;\n",
              "      gap: 12px;\n",
              "    }\n",
              "\n",
              "    .colab-df-convert {\n",
              "      background-color: #E8F0FE;\n",
              "      border: none;\n",
              "      border-radius: 50%;\n",
              "      cursor: pointer;\n",
              "      display: none;\n",
              "      fill: #1967D2;\n",
              "      height: 32px;\n",
              "      padding: 0 0 0 0;\n",
              "      width: 32px;\n",
              "    }\n",
              "\n",
              "    .colab-df-convert:hover {\n",
              "      background-color: #E2EBFA;\n",
              "      box-shadow: 0px 1px 2px rgba(60, 64, 67, 0.3), 0px 1px 3px 1px rgba(60, 64, 67, 0.15);\n",
              "      fill: #174EA6;\n",
              "    }\n",
              "\n",
              "    [theme=dark] .colab-df-convert {\n",
              "      background-color: #3B4455;\n",
              "      fill: #D2E3FC;\n",
              "    }\n",
              "\n",
              "    [theme=dark] .colab-df-convert:hover {\n",
              "      background-color: #434B5C;\n",
              "      box-shadow: 0px 1px 3px 1px rgba(0, 0, 0, 0.15);\n",
              "      filter: drop-shadow(0px 1px 2px rgba(0, 0, 0, 0.3));\n",
              "      fill: #FFFFFF;\n",
              "    }\n",
              "  </style>\n",
              "\n",
              "      <script>\n",
              "        const buttonEl =\n",
              "          document.querySelector('#df-2a887300-1430-4be7-a42d-45275714dda3 button.colab-df-convert');\n",
              "        buttonEl.style.display =\n",
              "          google.colab.kernel.accessAllowed ? 'block' : 'none';\n",
              "\n",
              "        async function convertToInteractive(key) {\n",
              "          const element = document.querySelector('#df-2a887300-1430-4be7-a42d-45275714dda3');\n",
              "          const dataTable =\n",
              "            await google.colab.kernel.invokeFunction('convertToInteractive',\n",
              "                                                     [key], {});\n",
              "          if (!dataTable) return;\n",
              "\n",
              "          const docLinkHtml = 'Like what you see? Visit the ' +\n",
              "            '<a target=\"_blank\" href=https://colab.research.google.com/notebooks/data_table.ipynb>data table notebook</a>'\n",
              "            + ' to learn more about interactive tables.';\n",
              "          element.innerHTML = '';\n",
              "          dataTable['output_type'] = 'display_data';\n",
              "          await google.colab.output.renderOutput(dataTable, element);\n",
              "          const docLink = document.createElement('div');\n",
              "          docLink.innerHTML = docLinkHtml;\n",
              "          element.appendChild(docLink);\n",
              "        }\n",
              "      </script>\n",
              "    </div>\n",
              "  </div>\n",
              "  "
            ]
          },
          "metadata": {},
          "execution_count": 28
        }
      ]
    },
    {
      "cell_type": "markdown",
      "source": [
        "## sliding window 구성하기"
      ],
      "metadata": {
        "id": "vd5w5Kjmm9I8"
      }
    },
    {
      "cell_type": "markdown",
      "source": [
        "window는 LSTM을 훈련하기 위한 단위로 고정된 사이즈를 가집니다. window가 12개라면 과거 시간 데이터 12개를 사용해서 다음 시간 단위의 값을 예측하게 됩니다. 현재 실험 데이터의 경우 과거의 시간 단위 12개 부동산 지수들이 훈련 속성들이 되고 현재 시간의 부동산 지수가 target이 됩니다. 쉽게 말하면, 이번 달의 부동산 지수를 예측하기 위해 제일 최근 과거 12개의 데이터를 이용하겠다는 것입니다.\n",
        "\n",
        "dataframe의 shift 연산을 사용하면 인덱스는 그대로 두고 데이터만 시간 단위로 이동할 수 있어 sliding window 타입의 데이터를 구성하기에 용이합니다. 예를 들어 shift(1)을 하면 바로 다음 시간 인덱스로 데이터가 이동하며 shift(-1)을 하면 바로 이전 시간 인덱스로 데이터가 이동합니다. 아래 예시를 보면서 자세히 설명해보겠습니다."
      ],
      "metadata": {
        "id": "ViCfq2nEnCje"
      }
    },
    {
      "cell_type": "code",
      "source": [
        "# sliding window는 12로(12 moth = 1 year) 설정하였습니다.\n",
        "sliding_window = 12\n",
        "for i in range(1, 1+sliding_window):\n",
        "    # shitf(i)를 하면 (해당 데이터의 index + i)의 index로 이동하여 데이터를 붙여넣습니다.\n",
        "    train_scaled_df['shift_{}'.format(i)] = train_scaled_df['trade_price_idx_value'].shift(i)\n",
        "    test_scaled_df['shift_{}'.format(i)] = test_scaled_df['trade_price_idx_value'].shift(i)\n",
        "\n",
        "train_scaled_df.head(13)"
      ],
      "metadata": {
        "id": "iaVStVDolTmj",
        "colab": {
          "base_uri": "https://localhost:8080/",
          "height": 488
        },
        "outputId": "590d1526-de65-4006-cf60-aed5ba91bd37"
      },
      "execution_count": 29,
      "outputs": [
        {
          "output_type": "execute_result",
          "data": {
            "text/plain": [
              "            trade_price_idx_value   shift_1   shift_2   shift_3   shift_4  \\\n",
              "date                                                                        \n",
              "2006-01-01               0.000000       NaN       NaN       NaN       NaN   \n",
              "2006-02-01               0.072727  0.000000       NaN       NaN       NaN   \n",
              "2006-03-01               0.177273  0.072727  0.000000       NaN       NaN   \n",
              "2006-04-01               0.327273  0.177273  0.072727  0.000000       NaN   \n",
              "2006-05-01               0.427273  0.327273  0.177273  0.072727  0.000000   \n",
              "2006-06-01               0.436364  0.427273  0.327273  0.177273  0.072727   \n",
              "2006-07-01               0.427273  0.436364  0.427273  0.327273  0.177273   \n",
              "2006-08-01               0.422727  0.427273  0.436364  0.427273  0.327273   \n",
              "2006-09-01               0.436364  0.422727  0.427273  0.436364  0.427273   \n",
              "2006-10-01               0.522727  0.436364  0.422727  0.427273  0.436364   \n",
              "2006-11-01               0.763636  0.522727  0.436364  0.422727  0.427273   \n",
              "2006-12-01               0.868182  0.763636  0.522727  0.436364  0.422727   \n",
              "2007-01-01               0.909091  0.868182  0.763636  0.522727  0.436364   \n",
              "\n",
              "             shift_5   shift_6   shift_7   shift_8   shift_9  shift_10  \\\n",
              "date                                                                     \n",
              "2006-01-01       NaN       NaN       NaN       NaN       NaN       NaN   \n",
              "2006-02-01       NaN       NaN       NaN       NaN       NaN       NaN   \n",
              "2006-03-01       NaN       NaN       NaN       NaN       NaN       NaN   \n",
              "2006-04-01       NaN       NaN       NaN       NaN       NaN       NaN   \n",
              "2006-05-01       NaN       NaN       NaN       NaN       NaN       NaN   \n",
              "2006-06-01  0.000000       NaN       NaN       NaN       NaN       NaN   \n",
              "2006-07-01  0.072727  0.000000       NaN       NaN       NaN       NaN   \n",
              "2006-08-01  0.177273  0.072727  0.000000       NaN       NaN       NaN   \n",
              "2006-09-01  0.327273  0.177273  0.072727  0.000000       NaN       NaN   \n",
              "2006-10-01  0.427273  0.327273  0.177273  0.072727  0.000000       NaN   \n",
              "2006-11-01  0.436364  0.427273  0.327273  0.177273  0.072727  0.000000   \n",
              "2006-12-01  0.427273  0.436364  0.427273  0.327273  0.177273  0.072727   \n",
              "2007-01-01  0.422727  0.427273  0.436364  0.427273  0.327273  0.177273   \n",
              "\n",
              "            shift_11  shift_12  \n",
              "date                            \n",
              "2006-01-01       NaN       NaN  \n",
              "2006-02-01       NaN       NaN  \n",
              "2006-03-01       NaN       NaN  \n",
              "2006-04-01       NaN       NaN  \n",
              "2006-05-01       NaN       NaN  \n",
              "2006-06-01       NaN       NaN  \n",
              "2006-07-01       NaN       NaN  \n",
              "2006-08-01       NaN       NaN  \n",
              "2006-09-01       NaN       NaN  \n",
              "2006-10-01       NaN       NaN  \n",
              "2006-11-01       NaN       NaN  \n",
              "2006-12-01  0.000000       NaN  \n",
              "2007-01-01  0.072727       0.0  "
            ],
            "text/html": [
              "\n",
              "  <div id=\"df-95dd1924-792c-4c6b-b608-18a1e2d9aebb\">\n",
              "    <div class=\"colab-df-container\">\n",
              "      <div>\n",
              "<style scoped>\n",
              "    .dataframe tbody tr th:only-of-type {\n",
              "        vertical-align: middle;\n",
              "    }\n",
              "\n",
              "    .dataframe tbody tr th {\n",
              "        vertical-align: top;\n",
              "    }\n",
              "\n",
              "    .dataframe thead th {\n",
              "        text-align: right;\n",
              "    }\n",
              "</style>\n",
              "<table border=\"1\" class=\"dataframe\">\n",
              "  <thead>\n",
              "    <tr style=\"text-align: right;\">\n",
              "      <th></th>\n",
              "      <th>trade_price_idx_value</th>\n",
              "      <th>shift_1</th>\n",
              "      <th>shift_2</th>\n",
              "      <th>shift_3</th>\n",
              "      <th>shift_4</th>\n",
              "      <th>shift_5</th>\n",
              "      <th>shift_6</th>\n",
              "      <th>shift_7</th>\n",
              "      <th>shift_8</th>\n",
              "      <th>shift_9</th>\n",
              "      <th>shift_10</th>\n",
              "      <th>shift_11</th>\n",
              "      <th>shift_12</th>\n",
              "    </tr>\n",
              "    <tr>\n",
              "      <th>date</th>\n",
              "      <th></th>\n",
              "      <th></th>\n",
              "      <th></th>\n",
              "      <th></th>\n",
              "      <th></th>\n",
              "      <th></th>\n",
              "      <th></th>\n",
              "      <th></th>\n",
              "      <th></th>\n",
              "      <th></th>\n",
              "      <th></th>\n",
              "      <th></th>\n",
              "      <th></th>\n",
              "    </tr>\n",
              "  </thead>\n",
              "  <tbody>\n",
              "    <tr>\n",
              "      <th>2006-01-01</th>\n",
              "      <td>0.000000</td>\n",
              "      <td>NaN</td>\n",
              "      <td>NaN</td>\n",
              "      <td>NaN</td>\n",
              "      <td>NaN</td>\n",
              "      <td>NaN</td>\n",
              "      <td>NaN</td>\n",
              "      <td>NaN</td>\n",
              "      <td>NaN</td>\n",
              "      <td>NaN</td>\n",
              "      <td>NaN</td>\n",
              "      <td>NaN</td>\n",
              "      <td>NaN</td>\n",
              "    </tr>\n",
              "    <tr>\n",
              "      <th>2006-02-01</th>\n",
              "      <td>0.072727</td>\n",
              "      <td>0.000000</td>\n",
              "      <td>NaN</td>\n",
              "      <td>NaN</td>\n",
              "      <td>NaN</td>\n",
              "      <td>NaN</td>\n",
              "      <td>NaN</td>\n",
              "      <td>NaN</td>\n",
              "      <td>NaN</td>\n",
              "      <td>NaN</td>\n",
              "      <td>NaN</td>\n",
              "      <td>NaN</td>\n",
              "      <td>NaN</td>\n",
              "    </tr>\n",
              "    <tr>\n",
              "      <th>2006-03-01</th>\n",
              "      <td>0.177273</td>\n",
              "      <td>0.072727</td>\n",
              "      <td>0.000000</td>\n",
              "      <td>NaN</td>\n",
              "      <td>NaN</td>\n",
              "      <td>NaN</td>\n",
              "      <td>NaN</td>\n",
              "      <td>NaN</td>\n",
              "      <td>NaN</td>\n",
              "      <td>NaN</td>\n",
              "      <td>NaN</td>\n",
              "      <td>NaN</td>\n",
              "      <td>NaN</td>\n",
              "    </tr>\n",
              "    <tr>\n",
              "      <th>2006-04-01</th>\n",
              "      <td>0.327273</td>\n",
              "      <td>0.177273</td>\n",
              "      <td>0.072727</td>\n",
              "      <td>0.000000</td>\n",
              "      <td>NaN</td>\n",
              "      <td>NaN</td>\n",
              "      <td>NaN</td>\n",
              "      <td>NaN</td>\n",
              "      <td>NaN</td>\n",
              "      <td>NaN</td>\n",
              "      <td>NaN</td>\n",
              "      <td>NaN</td>\n",
              "      <td>NaN</td>\n",
              "    </tr>\n",
              "    <tr>\n",
              "      <th>2006-05-01</th>\n",
              "      <td>0.427273</td>\n",
              "      <td>0.327273</td>\n",
              "      <td>0.177273</td>\n",
              "      <td>0.072727</td>\n",
              "      <td>0.000000</td>\n",
              "      <td>NaN</td>\n",
              "      <td>NaN</td>\n",
              "      <td>NaN</td>\n",
              "      <td>NaN</td>\n",
              "      <td>NaN</td>\n",
              "      <td>NaN</td>\n",
              "      <td>NaN</td>\n",
              "      <td>NaN</td>\n",
              "    </tr>\n",
              "    <tr>\n",
              "      <th>2006-06-01</th>\n",
              "      <td>0.436364</td>\n",
              "      <td>0.427273</td>\n",
              "      <td>0.327273</td>\n",
              "      <td>0.177273</td>\n",
              "      <td>0.072727</td>\n",
              "      <td>0.000000</td>\n",
              "      <td>NaN</td>\n",
              "      <td>NaN</td>\n",
              "      <td>NaN</td>\n",
              "      <td>NaN</td>\n",
              "      <td>NaN</td>\n",
              "      <td>NaN</td>\n",
              "      <td>NaN</td>\n",
              "    </tr>\n",
              "    <tr>\n",
              "      <th>2006-07-01</th>\n",
              "      <td>0.427273</td>\n",
              "      <td>0.436364</td>\n",
              "      <td>0.427273</td>\n",
              "      <td>0.327273</td>\n",
              "      <td>0.177273</td>\n",
              "      <td>0.072727</td>\n",
              "      <td>0.000000</td>\n",
              "      <td>NaN</td>\n",
              "      <td>NaN</td>\n",
              "      <td>NaN</td>\n",
              "      <td>NaN</td>\n",
              "      <td>NaN</td>\n",
              "      <td>NaN</td>\n",
              "    </tr>\n",
              "    <tr>\n",
              "      <th>2006-08-01</th>\n",
              "      <td>0.422727</td>\n",
              "      <td>0.427273</td>\n",
              "      <td>0.436364</td>\n",
              "      <td>0.427273</td>\n",
              "      <td>0.327273</td>\n",
              "      <td>0.177273</td>\n",
              "      <td>0.072727</td>\n",
              "      <td>0.000000</td>\n",
              "      <td>NaN</td>\n",
              "      <td>NaN</td>\n",
              "      <td>NaN</td>\n",
              "      <td>NaN</td>\n",
              "      <td>NaN</td>\n",
              "    </tr>\n",
              "    <tr>\n",
              "      <th>2006-09-01</th>\n",
              "      <td>0.436364</td>\n",
              "      <td>0.422727</td>\n",
              "      <td>0.427273</td>\n",
              "      <td>0.436364</td>\n",
              "      <td>0.427273</td>\n",
              "      <td>0.327273</td>\n",
              "      <td>0.177273</td>\n",
              "      <td>0.072727</td>\n",
              "      <td>0.000000</td>\n",
              "      <td>NaN</td>\n",
              "      <td>NaN</td>\n",
              "      <td>NaN</td>\n",
              "      <td>NaN</td>\n",
              "    </tr>\n",
              "    <tr>\n",
              "      <th>2006-10-01</th>\n",
              "      <td>0.522727</td>\n",
              "      <td>0.436364</td>\n",
              "      <td>0.422727</td>\n",
              "      <td>0.427273</td>\n",
              "      <td>0.436364</td>\n",
              "      <td>0.427273</td>\n",
              "      <td>0.327273</td>\n",
              "      <td>0.177273</td>\n",
              "      <td>0.072727</td>\n",
              "      <td>0.000000</td>\n",
              "      <td>NaN</td>\n",
              "      <td>NaN</td>\n",
              "      <td>NaN</td>\n",
              "    </tr>\n",
              "    <tr>\n",
              "      <th>2006-11-01</th>\n",
              "      <td>0.763636</td>\n",
              "      <td>0.522727</td>\n",
              "      <td>0.436364</td>\n",
              "      <td>0.422727</td>\n",
              "      <td>0.427273</td>\n",
              "      <td>0.436364</td>\n",
              "      <td>0.427273</td>\n",
              "      <td>0.327273</td>\n",
              "      <td>0.177273</td>\n",
              "      <td>0.072727</td>\n",
              "      <td>0.000000</td>\n",
              "      <td>NaN</td>\n",
              "      <td>NaN</td>\n",
              "    </tr>\n",
              "    <tr>\n",
              "      <th>2006-12-01</th>\n",
              "      <td>0.868182</td>\n",
              "      <td>0.763636</td>\n",
              "      <td>0.522727</td>\n",
              "      <td>0.436364</td>\n",
              "      <td>0.422727</td>\n",
              "      <td>0.427273</td>\n",
              "      <td>0.436364</td>\n",
              "      <td>0.427273</td>\n",
              "      <td>0.327273</td>\n",
              "      <td>0.177273</td>\n",
              "      <td>0.072727</td>\n",
              "      <td>0.000000</td>\n",
              "      <td>NaN</td>\n",
              "    </tr>\n",
              "    <tr>\n",
              "      <th>2007-01-01</th>\n",
              "      <td>0.909091</td>\n",
              "      <td>0.868182</td>\n",
              "      <td>0.763636</td>\n",
              "      <td>0.522727</td>\n",
              "      <td>0.436364</td>\n",
              "      <td>0.422727</td>\n",
              "      <td>0.427273</td>\n",
              "      <td>0.436364</td>\n",
              "      <td>0.427273</td>\n",
              "      <td>0.327273</td>\n",
              "      <td>0.177273</td>\n",
              "      <td>0.072727</td>\n",
              "      <td>0.0</td>\n",
              "    </tr>\n",
              "  </tbody>\n",
              "</table>\n",
              "</div>\n",
              "      <button class=\"colab-df-convert\" onclick=\"convertToInteractive('df-95dd1924-792c-4c6b-b608-18a1e2d9aebb')\"\n",
              "              title=\"Convert this dataframe to an interactive table.\"\n",
              "              style=\"display:none;\">\n",
              "        \n",
              "  <svg xmlns=\"http://www.w3.org/2000/svg\" height=\"24px\"viewBox=\"0 0 24 24\"\n",
              "       width=\"24px\">\n",
              "    <path d=\"M0 0h24v24H0V0z\" fill=\"none\"/>\n",
              "    <path d=\"M18.56 5.44l.94 2.06.94-2.06 2.06-.94-2.06-.94-.94-2.06-.94 2.06-2.06.94zm-11 1L8.5 8.5l.94-2.06 2.06-.94-2.06-.94L8.5 2.5l-.94 2.06-2.06.94zm10 10l.94 2.06.94-2.06 2.06-.94-2.06-.94-.94-2.06-.94 2.06-2.06.94z\"/><path d=\"M17.41 7.96l-1.37-1.37c-.4-.4-.92-.59-1.43-.59-.52 0-1.04.2-1.43.59L10.3 9.45l-7.72 7.72c-.78.78-.78 2.05 0 2.83L4 21.41c.39.39.9.59 1.41.59.51 0 1.02-.2 1.41-.59l7.78-7.78 2.81-2.81c.8-.78.8-2.07 0-2.86zM5.41 20L4 18.59l7.72-7.72 1.47 1.35L5.41 20z\"/>\n",
              "  </svg>\n",
              "      </button>\n",
              "      \n",
              "  <style>\n",
              "    .colab-df-container {\n",
              "      display:flex;\n",
              "      flex-wrap:wrap;\n",
              "      gap: 12px;\n",
              "    }\n",
              "\n",
              "    .colab-df-convert {\n",
              "      background-color: #E8F0FE;\n",
              "      border: none;\n",
              "      border-radius: 50%;\n",
              "      cursor: pointer;\n",
              "      display: none;\n",
              "      fill: #1967D2;\n",
              "      height: 32px;\n",
              "      padding: 0 0 0 0;\n",
              "      width: 32px;\n",
              "    }\n",
              "\n",
              "    .colab-df-convert:hover {\n",
              "      background-color: #E2EBFA;\n",
              "      box-shadow: 0px 1px 2px rgba(60, 64, 67, 0.3), 0px 1px 3px 1px rgba(60, 64, 67, 0.15);\n",
              "      fill: #174EA6;\n",
              "    }\n",
              "\n",
              "    [theme=dark] .colab-df-convert {\n",
              "      background-color: #3B4455;\n",
              "      fill: #D2E3FC;\n",
              "    }\n",
              "\n",
              "    [theme=dark] .colab-df-convert:hover {\n",
              "      background-color: #434B5C;\n",
              "      box-shadow: 0px 1px 3px 1px rgba(0, 0, 0, 0.15);\n",
              "      filter: drop-shadow(0px 1px 2px rgba(0, 0, 0, 0.3));\n",
              "      fill: #FFFFFF;\n",
              "    }\n",
              "  </style>\n",
              "\n",
              "      <script>\n",
              "        const buttonEl =\n",
              "          document.querySelector('#df-95dd1924-792c-4c6b-b608-18a1e2d9aebb button.colab-df-convert');\n",
              "        buttonEl.style.display =\n",
              "          google.colab.kernel.accessAllowed ? 'block' : 'none';\n",
              "\n",
              "        async function convertToInteractive(key) {\n",
              "          const element = document.querySelector('#df-95dd1924-792c-4c6b-b608-18a1e2d9aebb');\n",
              "          const dataTable =\n",
              "            await google.colab.kernel.invokeFunction('convertToInteractive',\n",
              "                                                     [key], {});\n",
              "          if (!dataTable) return;\n",
              "\n",
              "          const docLinkHtml = 'Like what you see? Visit the ' +\n",
              "            '<a target=\"_blank\" href=https://colab.research.google.com/notebooks/data_table.ipynb>data table notebook</a>'\n",
              "            + ' to learn more about interactive tables.';\n",
              "          element.innerHTML = '';\n",
              "          dataTable['output_type'] = 'display_data';\n",
              "          await google.colab.output.renderOutput(dataTable, element);\n",
              "          const docLink = document.createElement('div');\n",
              "          docLink.innerHTML = docLinkHtml;\n",
              "          element.appendChild(docLink);\n",
              "        }\n",
              "      </script>\n",
              "    </div>\n",
              "  </div>\n",
              "  "
            ]
          },
          "metadata": {},
          "execution_count": 29
        }
      ]
    },
    {
      "cell_type": "markdown",
      "source": [
        "shift_1 칼럼을 살펴보면, 데이터 값이 다음 시간 인덱스로 한칸씩 이동한 것을 확인할 수 있습니다. 이렇게 구성된 데이터에서 dropna로 NaN값을 포함한 데이터를 제거하고 model에 주입할 것입니다."
      ],
      "metadata": {
        "id": "qHFHdRHtpDqu"
      }
    },
    {
      "cell_type": "markdown",
      "source": [
        "## 데이터에서 NaN값 제거하기"
      ],
      "metadata": {
        "id": "TFoTUGf5pWjj"
      }
    },
    {
      "cell_type": "markdown",
      "source": [
        "이제 dropna 함수로 \bNaN 값을 제거하고 각각의 train 데이터와 test 데이터는 X(input)와 y(target) 열으로 분리합니다. \n",
        "drop함수는 특정 열이나 칼럼을 제거하는 기능을 합니다 "
      ],
      "metadata": {
        "id": "IwD3zTMuqPmx"
      }
    },
    {
      "cell_type": "code",
      "source": [
        "X_train = train_scaled_df.dropna().drop('trade_price_idx_value', axis=1) # axis=1은 열을 제거하겠다는 의미입니다.\n",
        "y_train = train_scaled_df.dropna()[['trade_price_idx_value']]"
      ],
      "metadata": {
        "id": "_nU139v_pPw2"
      },
      "execution_count": 36,
      "outputs": []
    },
    {
      "cell_type": "markdown",
      "source": [
        "### [문제5] test data에 대해서도 train data에서 했던 것처럼 dropna 함수로 NaN 값을 제거하고 drop 함수를 이용하여 X_test, y_test로 분리해주세요!"
      ],
      "metadata": {
        "id": "SSrjGNCLTx2l"
      }
    },
    {
      "cell_type": "code",
      "source": [
        "# [답변]\n",
        "X_test = test_scaled_df.dropna().drop('trade_price_idx_value', axis=1) # axis=1은 열을 제거하겠다는 의미입니다.\n",
        "y_test = test_scaled_df.dropna()[['trade_price_idx_value']]\n"
      ],
      "metadata": {
        "id": "ozbPs2qGTyJj"
      },
      "execution_count": 37,
      "outputs": []
    },
    {
      "cell_type": "code",
      "source": [
        "X_train.head()"
      ],
      "metadata": {
        "id": "S_xxvZWip7sG",
        "colab": {
          "base_uri": "https://localhost:8080/",
          "height": 238
        },
        "outputId": "52f40bdd-dec3-41ca-b7fc-c752f0a9e782"
      },
      "execution_count": 38,
      "outputs": [
        {
          "output_type": "execute_result",
          "data": {
            "text/plain": [
              "             shift_1   shift_2   shift_3   shift_4   shift_5   shift_6  \\\n",
              "date                                                                     \n",
              "2007-01-01  0.868182  0.763636  0.522727  0.436364  0.422727  0.427273   \n",
              "2007-02-01  0.909091  0.868182  0.763636  0.522727  0.436364  0.422727   \n",
              "2007-03-01  0.909091  0.909091  0.868182  0.763636  0.522727  0.436364   \n",
              "2007-04-01  0.904545  0.909091  0.909091  0.868182  0.763636  0.522727   \n",
              "2007-05-01  0.872727  0.904545  0.909091  0.909091  0.868182  0.763636   \n",
              "\n",
              "             shift_7   shift_8   shift_9  shift_10  shift_11  shift_12  \n",
              "date                                                                    \n",
              "2007-01-01  0.436364  0.427273  0.327273  0.177273  0.072727  0.000000  \n",
              "2007-02-01  0.427273  0.436364  0.427273  0.327273  0.177273  0.072727  \n",
              "2007-03-01  0.422727  0.427273  0.436364  0.427273  0.327273  0.177273  \n",
              "2007-04-01  0.436364  0.422727  0.427273  0.436364  0.427273  0.327273  \n",
              "2007-05-01  0.522727  0.436364  0.422727  0.427273  0.436364  0.427273  "
            ],
            "text/html": [
              "\n",
              "  <div id=\"df-3feb7a33-3c03-4484-bc20-5900a4254481\">\n",
              "    <div class=\"colab-df-container\">\n",
              "      <div>\n",
              "<style scoped>\n",
              "    .dataframe tbody tr th:only-of-type {\n",
              "        vertical-align: middle;\n",
              "    }\n",
              "\n",
              "    .dataframe tbody tr th {\n",
              "        vertical-align: top;\n",
              "    }\n",
              "\n",
              "    .dataframe thead th {\n",
              "        text-align: right;\n",
              "    }\n",
              "</style>\n",
              "<table border=\"1\" class=\"dataframe\">\n",
              "  <thead>\n",
              "    <tr style=\"text-align: right;\">\n",
              "      <th></th>\n",
              "      <th>shift_1</th>\n",
              "      <th>shift_2</th>\n",
              "      <th>shift_3</th>\n",
              "      <th>shift_4</th>\n",
              "      <th>shift_5</th>\n",
              "      <th>shift_6</th>\n",
              "      <th>shift_7</th>\n",
              "      <th>shift_8</th>\n",
              "      <th>shift_9</th>\n",
              "      <th>shift_10</th>\n",
              "      <th>shift_11</th>\n",
              "      <th>shift_12</th>\n",
              "    </tr>\n",
              "    <tr>\n",
              "      <th>date</th>\n",
              "      <th></th>\n",
              "      <th></th>\n",
              "      <th></th>\n",
              "      <th></th>\n",
              "      <th></th>\n",
              "      <th></th>\n",
              "      <th></th>\n",
              "      <th></th>\n",
              "      <th></th>\n",
              "      <th></th>\n",
              "      <th></th>\n",
              "      <th></th>\n",
              "    </tr>\n",
              "  </thead>\n",
              "  <tbody>\n",
              "    <tr>\n",
              "      <th>2007-01-01</th>\n",
              "      <td>0.868182</td>\n",
              "      <td>0.763636</td>\n",
              "      <td>0.522727</td>\n",
              "      <td>0.436364</td>\n",
              "      <td>0.422727</td>\n",
              "      <td>0.427273</td>\n",
              "      <td>0.436364</td>\n",
              "      <td>0.427273</td>\n",
              "      <td>0.327273</td>\n",
              "      <td>0.177273</td>\n",
              "      <td>0.072727</td>\n",
              "      <td>0.000000</td>\n",
              "    </tr>\n",
              "    <tr>\n",
              "      <th>2007-02-01</th>\n",
              "      <td>0.909091</td>\n",
              "      <td>0.868182</td>\n",
              "      <td>0.763636</td>\n",
              "      <td>0.522727</td>\n",
              "      <td>0.436364</td>\n",
              "      <td>0.422727</td>\n",
              "      <td>0.427273</td>\n",
              "      <td>0.436364</td>\n",
              "      <td>0.427273</td>\n",
              "      <td>0.327273</td>\n",
              "      <td>0.177273</td>\n",
              "      <td>0.072727</td>\n",
              "    </tr>\n",
              "    <tr>\n",
              "      <th>2007-03-01</th>\n",
              "      <td>0.909091</td>\n",
              "      <td>0.909091</td>\n",
              "      <td>0.868182</td>\n",
              "      <td>0.763636</td>\n",
              "      <td>0.522727</td>\n",
              "      <td>0.436364</td>\n",
              "      <td>0.422727</td>\n",
              "      <td>0.427273</td>\n",
              "      <td>0.436364</td>\n",
              "      <td>0.427273</td>\n",
              "      <td>0.327273</td>\n",
              "      <td>0.177273</td>\n",
              "    </tr>\n",
              "    <tr>\n",
              "      <th>2007-04-01</th>\n",
              "      <td>0.904545</td>\n",
              "      <td>0.909091</td>\n",
              "      <td>0.909091</td>\n",
              "      <td>0.868182</td>\n",
              "      <td>0.763636</td>\n",
              "      <td>0.522727</td>\n",
              "      <td>0.436364</td>\n",
              "      <td>0.422727</td>\n",
              "      <td>0.427273</td>\n",
              "      <td>0.436364</td>\n",
              "      <td>0.427273</td>\n",
              "      <td>0.327273</td>\n",
              "    </tr>\n",
              "    <tr>\n",
              "      <th>2007-05-01</th>\n",
              "      <td>0.872727</td>\n",
              "      <td>0.904545</td>\n",
              "      <td>0.909091</td>\n",
              "      <td>0.909091</td>\n",
              "      <td>0.868182</td>\n",
              "      <td>0.763636</td>\n",
              "      <td>0.522727</td>\n",
              "      <td>0.436364</td>\n",
              "      <td>0.422727</td>\n",
              "      <td>0.427273</td>\n",
              "      <td>0.436364</td>\n",
              "      <td>0.427273</td>\n",
              "    </tr>\n",
              "  </tbody>\n",
              "</table>\n",
              "</div>\n",
              "      <button class=\"colab-df-convert\" onclick=\"convertToInteractive('df-3feb7a33-3c03-4484-bc20-5900a4254481')\"\n",
              "              title=\"Convert this dataframe to an interactive table.\"\n",
              "              style=\"display:none;\">\n",
              "        \n",
              "  <svg xmlns=\"http://www.w3.org/2000/svg\" height=\"24px\"viewBox=\"0 0 24 24\"\n",
              "       width=\"24px\">\n",
              "    <path d=\"M0 0h24v24H0V0z\" fill=\"none\"/>\n",
              "    <path d=\"M18.56 5.44l.94 2.06.94-2.06 2.06-.94-2.06-.94-.94-2.06-.94 2.06-2.06.94zm-11 1L8.5 8.5l.94-2.06 2.06-.94-2.06-.94L8.5 2.5l-.94 2.06-2.06.94zm10 10l.94 2.06.94-2.06 2.06-.94-2.06-.94-.94-2.06-.94 2.06-2.06.94z\"/><path d=\"M17.41 7.96l-1.37-1.37c-.4-.4-.92-.59-1.43-.59-.52 0-1.04.2-1.43.59L10.3 9.45l-7.72 7.72c-.78.78-.78 2.05 0 2.83L4 21.41c.39.39.9.59 1.41.59.51 0 1.02-.2 1.41-.59l7.78-7.78 2.81-2.81c.8-.78.8-2.07 0-2.86zM5.41 20L4 18.59l7.72-7.72 1.47 1.35L5.41 20z\"/>\n",
              "  </svg>\n",
              "      </button>\n",
              "      \n",
              "  <style>\n",
              "    .colab-df-container {\n",
              "      display:flex;\n",
              "      flex-wrap:wrap;\n",
              "      gap: 12px;\n",
              "    }\n",
              "\n",
              "    .colab-df-convert {\n",
              "      background-color: #E8F0FE;\n",
              "      border: none;\n",
              "      border-radius: 50%;\n",
              "      cursor: pointer;\n",
              "      display: none;\n",
              "      fill: #1967D2;\n",
              "      height: 32px;\n",
              "      padding: 0 0 0 0;\n",
              "      width: 32px;\n",
              "    }\n",
              "\n",
              "    .colab-df-convert:hover {\n",
              "      background-color: #E2EBFA;\n",
              "      box-shadow: 0px 1px 2px rgba(60, 64, 67, 0.3), 0px 1px 3px 1px rgba(60, 64, 67, 0.15);\n",
              "      fill: #174EA6;\n",
              "    }\n",
              "\n",
              "    [theme=dark] .colab-df-convert {\n",
              "      background-color: #3B4455;\n",
              "      fill: #D2E3FC;\n",
              "    }\n",
              "\n",
              "    [theme=dark] .colab-df-convert:hover {\n",
              "      background-color: #434B5C;\n",
              "      box-shadow: 0px 1px 3px 1px rgba(0, 0, 0, 0.15);\n",
              "      filter: drop-shadow(0px 1px 2px rgba(0, 0, 0, 0.3));\n",
              "      fill: #FFFFFF;\n",
              "    }\n",
              "  </style>\n",
              "\n",
              "      <script>\n",
              "        const buttonEl =\n",
              "          document.querySelector('#df-3feb7a33-3c03-4484-bc20-5900a4254481 button.colab-df-convert');\n",
              "        buttonEl.style.display =\n",
              "          google.colab.kernel.accessAllowed ? 'block' : 'none';\n",
              "\n",
              "        async function convertToInteractive(key) {\n",
              "          const element = document.querySelector('#df-3feb7a33-3c03-4484-bc20-5900a4254481');\n",
              "          const dataTable =\n",
              "            await google.colab.kernel.invokeFunction('convertToInteractive',\n",
              "                                                     [key], {});\n",
              "          if (!dataTable) return;\n",
              "\n",
              "          const docLinkHtml = 'Like what you see? Visit the ' +\n",
              "            '<a target=\"_blank\" href=https://colab.research.google.com/notebooks/data_table.ipynb>data table notebook</a>'\n",
              "            + ' to learn more about interactive tables.';\n",
              "          element.innerHTML = '';\n",
              "          dataTable['output_type'] = 'display_data';\n",
              "          await google.colab.output.renderOutput(dataTable, element);\n",
              "          const docLink = document.createElement('div');\n",
              "          docLink.innerHTML = docLinkHtml;\n",
              "          element.appendChild(docLink);\n",
              "        }\n",
              "      </script>\n",
              "    </div>\n",
              "  </div>\n",
              "  "
            ]
          },
          "metadata": {},
          "execution_count": 38
        }
      ]
    },
    {
      "cell_type": "code",
      "source": [
        "y_train.head()"
      ],
      "metadata": {
        "id": "FGm61kU_p9iS",
        "colab": {
          "base_uri": "https://localhost:8080/",
          "height": 238
        },
        "outputId": "386f0523-d9ef-4925-d640-2cf39e0ab4fa"
      },
      "execution_count": 39,
      "outputs": [
        {
          "output_type": "execute_result",
          "data": {
            "text/plain": [
              "            trade_price_idx_value\n",
              "date                             \n",
              "2007-01-01               0.909091\n",
              "2007-02-01               0.909091\n",
              "2007-03-01               0.904545\n",
              "2007-04-01               0.872727\n",
              "2007-05-01               0.845455"
            ],
            "text/html": [
              "\n",
              "  <div id=\"df-67f6bde9-30a2-4e2f-a1ff-30bf861933de\">\n",
              "    <div class=\"colab-df-container\">\n",
              "      <div>\n",
              "<style scoped>\n",
              "    .dataframe tbody tr th:only-of-type {\n",
              "        vertical-align: middle;\n",
              "    }\n",
              "\n",
              "    .dataframe tbody tr th {\n",
              "        vertical-align: top;\n",
              "    }\n",
              "\n",
              "    .dataframe thead th {\n",
              "        text-align: right;\n",
              "    }\n",
              "</style>\n",
              "<table border=\"1\" class=\"dataframe\">\n",
              "  <thead>\n",
              "    <tr style=\"text-align: right;\">\n",
              "      <th></th>\n",
              "      <th>trade_price_idx_value</th>\n",
              "    </tr>\n",
              "    <tr>\n",
              "      <th>date</th>\n",
              "      <th></th>\n",
              "    </tr>\n",
              "  </thead>\n",
              "  <tbody>\n",
              "    <tr>\n",
              "      <th>2007-01-01</th>\n",
              "      <td>0.909091</td>\n",
              "    </tr>\n",
              "    <tr>\n",
              "      <th>2007-02-01</th>\n",
              "      <td>0.909091</td>\n",
              "    </tr>\n",
              "    <tr>\n",
              "      <th>2007-03-01</th>\n",
              "      <td>0.904545</td>\n",
              "    </tr>\n",
              "    <tr>\n",
              "      <th>2007-04-01</th>\n",
              "      <td>0.872727</td>\n",
              "    </tr>\n",
              "    <tr>\n",
              "      <th>2007-05-01</th>\n",
              "      <td>0.845455</td>\n",
              "    </tr>\n",
              "  </tbody>\n",
              "</table>\n",
              "</div>\n",
              "      <button class=\"colab-df-convert\" onclick=\"convertToInteractive('df-67f6bde9-30a2-4e2f-a1ff-30bf861933de')\"\n",
              "              title=\"Convert this dataframe to an interactive table.\"\n",
              "              style=\"display:none;\">\n",
              "        \n",
              "  <svg xmlns=\"http://www.w3.org/2000/svg\" height=\"24px\"viewBox=\"0 0 24 24\"\n",
              "       width=\"24px\">\n",
              "    <path d=\"M0 0h24v24H0V0z\" fill=\"none\"/>\n",
              "    <path d=\"M18.56 5.44l.94 2.06.94-2.06 2.06-.94-2.06-.94-.94-2.06-.94 2.06-2.06.94zm-11 1L8.5 8.5l.94-2.06 2.06-.94-2.06-.94L8.5 2.5l-.94 2.06-2.06.94zm10 10l.94 2.06.94-2.06 2.06-.94-2.06-.94-.94-2.06-.94 2.06-2.06.94z\"/><path d=\"M17.41 7.96l-1.37-1.37c-.4-.4-.92-.59-1.43-.59-.52 0-1.04.2-1.43.59L10.3 9.45l-7.72 7.72c-.78.78-.78 2.05 0 2.83L4 21.41c.39.39.9.59 1.41.59.51 0 1.02-.2 1.41-.59l7.78-7.78 2.81-2.81c.8-.78.8-2.07 0-2.86zM5.41 20L4 18.59l7.72-7.72 1.47 1.35L5.41 20z\"/>\n",
              "  </svg>\n",
              "      </button>\n",
              "      \n",
              "  <style>\n",
              "    .colab-df-container {\n",
              "      display:flex;\n",
              "      flex-wrap:wrap;\n",
              "      gap: 12px;\n",
              "    }\n",
              "\n",
              "    .colab-df-convert {\n",
              "      background-color: #E8F0FE;\n",
              "      border: none;\n",
              "      border-radius: 50%;\n",
              "      cursor: pointer;\n",
              "      display: none;\n",
              "      fill: #1967D2;\n",
              "      height: 32px;\n",
              "      padding: 0 0 0 0;\n",
              "      width: 32px;\n",
              "    }\n",
              "\n",
              "    .colab-df-convert:hover {\n",
              "      background-color: #E2EBFA;\n",
              "      box-shadow: 0px 1px 2px rgba(60, 64, 67, 0.3), 0px 1px 3px 1px rgba(60, 64, 67, 0.15);\n",
              "      fill: #174EA6;\n",
              "    }\n",
              "\n",
              "    [theme=dark] .colab-df-convert {\n",
              "      background-color: #3B4455;\n",
              "      fill: #D2E3FC;\n",
              "    }\n",
              "\n",
              "    [theme=dark] .colab-df-convert:hover {\n",
              "      background-color: #434B5C;\n",
              "      box-shadow: 0px 1px 3px 1px rgba(0, 0, 0, 0.15);\n",
              "      filter: drop-shadow(0px 1px 2px rgba(0, 0, 0, 0.3));\n",
              "      fill: #FFFFFF;\n",
              "    }\n",
              "  </style>\n",
              "\n",
              "      <script>\n",
              "        const buttonEl =\n",
              "          document.querySelector('#df-67f6bde9-30a2-4e2f-a1ff-30bf861933de button.colab-df-convert');\n",
              "        buttonEl.style.display =\n",
              "          google.colab.kernel.accessAllowed ? 'block' : 'none';\n",
              "\n",
              "        async function convertToInteractive(key) {\n",
              "          const element = document.querySelector('#df-67f6bde9-30a2-4e2f-a1ff-30bf861933de');\n",
              "          const dataTable =\n",
              "            await google.colab.kernel.invokeFunction('convertToInteractive',\n",
              "                                                     [key], {});\n",
              "          if (!dataTable) return;\n",
              "\n",
              "          const docLinkHtml = 'Like what you see? Visit the ' +\n",
              "            '<a target=\"_blank\" href=https://colab.research.google.com/notebooks/data_table.ipynb>data table notebook</a>'\n",
              "            + ' to learn more about interactive tables.';\n",
              "          element.innerHTML = '';\n",
              "          dataTable['output_type'] = 'display_data';\n",
              "          await google.colab.output.renderOutput(dataTable, element);\n",
              "          const docLink = document.createElement('div');\n",
              "          docLink.innerHTML = docLinkHtml;\n",
              "          element.appendChild(docLink);\n",
              "        }\n",
              "      </script>\n",
              "    </div>\n",
              "  </div>\n",
              "  "
            ]
          },
          "metadata": {},
          "execution_count": 39
        }
      ]
    },
    {
      "cell_type": "markdown",
      "source": [
        "## train / test 데이터 전처리 완료 확인"
      ],
      "metadata": {
        "id": "BtaKsG5jqi-4"
      }
    },
    {
      "cell_type": "markdown",
      "source": [
        "이제 model에 직접적으로 주입하기 위한 최종적인 data로 변형하기 위해, dataframe 타입이었던 train / test 데이터들을 values 를 사용하여 dataframe의 numpy 표현형만 가져옵니다. sklearn을 비롯한 기계학습 패키지들은 일반적으로 train / test 데이터로 numpy의 ndarray 타입을 지원합니다. values를 사용하기 전의 X_train은 DataFrame 타입이였지만 values를 사용한 후 numpy.ndarray로 변경된 것을 확인할 수 있습니다."
      ],
      "metadata": {
        "id": "FRw7LkfLqp5I"
      }
    },
    {
      "cell_type": "code",
      "source": [
        "print(\"Before X_train type: \", type(X_train))\n",
        "X_train = X_train.values\n",
        "print(\"After X_train type: \", type(X_train))\n",
        "print()\n",
        "print(\"Before X_test type: \", type(X_test))\n",
        "X_test= X_test.values\n",
        "print(\"After X_test type: \", type(X_test))\n",
        "print()\n",
        "print(\"Before y_train type: \", type(y_train))\n",
        "y_train = y_train.values\n",
        "print(\"After y_train type: \", type(y_train))\n",
        "print()\n",
        "print(\"Before y_test type: \", type(y_test))\n",
        "y_test = y_test.values\n",
        "print(\"After y_test type: \", type(y_test))\n",
        "print()\n",
        "print(\"X_train.shape: \", X_train.shape)\n",
        "print(\"y_train.shape\", y_train.shape)\n",
        "print(\"X_test.shape: \", X_test.shape)\n",
        "print(\"y_test.shape: \", y_test.shape)"
      ],
      "metadata": {
        "id": "rCauy918p9rY",
        "colab": {
          "base_uri": "https://localhost:8080/"
        },
        "outputId": "d327f303-84a6-44a2-f238-5b1b54c51cff"
      },
      "execution_count": 42,
      "outputs": [
        {
          "output_type": "stream",
          "name": "stdout",
          "text": [
            "Before X_train type:  <class 'pandas.core.frame.DataFrame'>\n",
            "After X_train type:  <class 'numpy.ndarray'>\n",
            "\n",
            "Before X_test type:  <class 'pandas.core.frame.DataFrame'>\n",
            "After X_test type:  <class 'numpy.ndarray'>\n",
            "\n",
            "Before y_train type:  <class 'pandas.core.frame.DataFrame'>\n",
            "After y_train type:  <class 'numpy.ndarray'>\n",
            "\n",
            "Before y_test type:  <class 'pandas.core.frame.DataFrame'>\n",
            "After y_test type:  <class 'numpy.ndarray'>\n",
            "\n",
            "X_train.shape:  (125, 12)\n",
            "y_train.shape (125, 1)\n",
            "X_test.shape:  (16, 12)\n",
            "y_test.shape:  (16, 1)\n"
          ]
        }
      ]
    },
    {
      "cell_type": "markdown",
      "source": [
        "훈련데이터 X_train은 125개의 데이터 개수와 12개의 slot을 가진것을 확인 할 수 있습니다. 훈련값 y_train은 역시 125개의 데이터 개수와 1개의 target 값을 가지고 있습니다. \n",
        "\n",
        "여기서 최종 train 데이터를 생성하기 위해서는 keras의 LSTM에서 필요로 하는 3차원 데이터로 변환을 시켜줘야 합니다. 즉, 최종 데이터의 shape이 (size, time step, feature) 형태로 나타나야 합니다. 이번 실험의 경우 속성이 아파트 지수 한가지 이기 때문에 1을 입력하지만 n 개의 속성을 사용할 경우 feature 순서에 n의 값을 입력하면 됩니다."
      ],
      "metadata": {
        "id": "PCO1yVBlr5Gj"
      }
    },
    {
      "cell_type": "code",
      "source": [
        "'''\n",
        "size: X_train.shape[0]은 X_train data의 개수를 의미합니다. batch단위로 학습을 진행할 때는 batch_size로 설정해주면 됩니다.\n",
        "time step: sliding window는 12로 설정했기 때문에 time step은 12로 설정해주어야합니다.\n",
        "feature: input data의 dimension을 의미하는데, 현재는 아파트 지수로 dimension이 1이므로 1로 설정해주어야합니다.\n",
        "'''\n",
        "\n",
        "X_train_t = X_train.reshape(X_train.shape[0], 12, 1)\n",
        "X_test_t = X_test.reshape(X_test.shape[0], 12, 1)\n",
        "\n",
        "print(\"preprocessed data\")\n",
        "print(\"X_train_t.shape: \", X_train_t.shape)\n",
        "print()\n",
        "print(\"X_train_t:\")\n",
        "print(X_train_t)\n",
        "print()\n",
        "print(\"y_train.shape: \", y_train.shape)\n",
        "print()\n",
        "print(\"y_train:\")\n",
        "print(y_train)"
      ],
      "metadata": {
        "id": "In4ay8P3p9tu",
        "colab": {
          "base_uri": "https://localhost:8080/"
        },
        "outputId": "c6c77c41-7ff8-4e46-b98e-f008b76d5d24"
      },
      "execution_count": 43,
      "outputs": [
        {
          "output_type": "stream",
          "name": "stdout",
          "text": [
            "preprocessed data\n",
            "X_train_t.shape:  (125, 12, 1)\n",
            "\n",
            "X_train_t:\n",
            "[[[0.86818182]\n",
            "  [0.76363636]\n",
            "  [0.52272727]\n",
            "  ...\n",
            "  [0.17727273]\n",
            "  [0.07272727]\n",
            "  [0.        ]]\n",
            "\n",
            " [[0.90909091]\n",
            "  [0.86818182]\n",
            "  [0.76363636]\n",
            "  ...\n",
            "  [0.32727273]\n",
            "  [0.17727273]\n",
            "  [0.07272727]]\n",
            "\n",
            " [[0.90909091]\n",
            "  [0.90909091]\n",
            "  [0.86818182]\n",
            "  ...\n",
            "  [0.42727273]\n",
            "  [0.32727273]\n",
            "  [0.17727273]]\n",
            "\n",
            " ...\n",
            "\n",
            " [[0.97272727]\n",
            "  [0.98636364]\n",
            "  [0.95454545]\n",
            "  ...\n",
            "  [0.81818182]\n",
            "  [0.73636364]\n",
            "  [0.79545455]]\n",
            "\n",
            " [[1.        ]\n",
            "  [0.97272727]\n",
            "  [0.98636364]\n",
            "  ...\n",
            "  [0.85454545]\n",
            "  [0.81818182]\n",
            "  [0.73636364]]\n",
            "\n",
            " [[0.99090909]\n",
            "  [1.        ]\n",
            "  [0.97272727]\n",
            "  ...\n",
            "  [0.78181818]\n",
            "  [0.85454545]\n",
            "  [0.81818182]]]\n",
            "\n",
            "y_train.shape:  (125, 1)\n",
            "\n",
            "y_train:\n",
            "[[0.90909091]\n",
            " [0.90909091]\n",
            " [0.90454545]\n",
            " [0.87272727]\n",
            " [0.84545455]\n",
            " [0.84090909]\n",
            " [0.85      ]\n",
            " [0.85      ]\n",
            " [0.85      ]\n",
            " [0.85454545]\n",
            " [0.86363636]\n",
            " [0.85909091]\n",
            " [0.86818182]\n",
            " [0.87727273]\n",
            " [0.89090909]\n",
            " [0.91818182]\n",
            " [0.93636364]\n",
            " [0.94545455]\n",
            " [0.93181818]\n",
            " [0.91363636]\n",
            " [0.91363636]\n",
            " [0.87272727]\n",
            " [0.77272727]\n",
            " [0.60454545]\n",
            " [0.55909091]\n",
            " [0.59545455]\n",
            " [0.59545455]\n",
            " [0.63636364]\n",
            " [0.65      ]\n",
            " [0.68636364]\n",
            " [0.75454545]\n",
            " [0.79090909]\n",
            " [0.85909091]\n",
            " [0.87272727]\n",
            " [0.85909091]\n",
            " [0.85909091]\n",
            " [0.86363636]\n",
            " [0.87727273]\n",
            " [0.88181818]\n",
            " [0.87727273]\n",
            " [0.84545455]\n",
            " [0.82727273]\n",
            " [0.81818182]\n",
            " [0.79090909]\n",
            " [0.78636364]\n",
            " [0.78181818]\n",
            " [0.77272727]\n",
            " [0.78636364]\n",
            " [0.79545455]\n",
            " [0.81818182]\n",
            " [0.82727273]\n",
            " [0.82272727]\n",
            " [0.82272727]\n",
            " [0.81818182]\n",
            " [0.80454545]\n",
            " [0.80454545]\n",
            " [0.79545455]\n",
            " [0.78636364]\n",
            " [0.77727273]\n",
            " [0.76818182]\n",
            " [0.72272727]\n",
            " [0.71363636]\n",
            " [0.68636364]\n",
            " [0.63181818]\n",
            " [0.60909091]\n",
            " [0.55909091]\n",
            " [0.53636364]\n",
            " [0.47272727]\n",
            " [0.40909091]\n",
            " [0.34545455]\n",
            " [0.33181818]\n",
            " [0.26818182]\n",
            " [0.22272727]\n",
            " [0.20454545]\n",
            " [0.20909091]\n",
            " [0.24090909]\n",
            " [0.27272727]\n",
            " [0.25454545]\n",
            " [0.22727273]\n",
            " [0.20454545]\n",
            " [0.22272727]\n",
            " [0.23636364]\n",
            " [0.23181818]\n",
            " [0.22727273]\n",
            " [0.24090909]\n",
            " [0.26818182]\n",
            " [0.29545455]\n",
            " [0.29090909]\n",
            " [0.29090909]\n",
            " [0.29090909]\n",
            " [0.29545455]\n",
            " [0.31363636]\n",
            " [0.34545455]\n",
            " [0.35909091]\n",
            " [0.35909091]\n",
            " [0.35454545]\n",
            " [0.36818182]\n",
            " [0.39545455]\n",
            " [0.44545455]\n",
            " [0.48181818]\n",
            " [0.51363636]\n",
            " [0.59545455]\n",
            " [0.7       ]\n",
            " [0.80454545]\n",
            " [0.71818182]\n",
            " [0.70454545]\n",
            " [0.79545455]\n",
            " [0.69545455]\n",
            " [0.78636364]\n",
            " [0.70909091]\n",
            " [0.79545455]\n",
            " [0.73636364]\n",
            " [0.81818182]\n",
            " [0.85454545]\n",
            " [0.78181818]\n",
            " [0.88181818]\n",
            " [0.81363636]\n",
            " [0.93636364]\n",
            " [0.88636364]\n",
            " [0.95454545]\n",
            " [0.98636364]\n",
            " [0.97272727]\n",
            " [1.        ]\n",
            " [0.99090909]\n",
            " [0.96363636]]\n"
          ]
        }
      ]
    },
    {
      "cell_type": "markdown",
      "source": [
        "## LSTM model 생성하기 & Train\n",
        "\n"
      ],
      "metadata": {
        "id": "8aT-LFzss--N"
      }
    },
    {
      "cell_type": "code",
      "source": [
        "from keras.layers import LSTM, Dense\n",
        "from keras.models import Sequential\n",
        "from keras.callbacks import EarlyStopping\n",
        "import keras.backend as K "
      ],
      "metadata": {
        "id": "PlnTCbw3tFlY"
      },
      "execution_count": 44,
      "outputs": []
    },
    {
      "cell_type": "code",
      "source": [
        "K.clear_session()"
      ],
      "metadata": {
        "id": "j-eraIIxtSft"
      },
      "execution_count": 47,
      "outputs": []
    },
    {
      "cell_type": "markdown",
      "source": [
        "- 모델을 요약하자면 다음과 같습니다.\n",
        "\n",
        "1.   `20 units (memory cell dimension)을 가진 LSTM layer`\n",
        "2.   `Dense layer (output)`\n",
        "\n",
        "12개의 과거 아파트 지수 데이터를 이용하여 그 다음 아파트 지수를 예측하는 모델을 생성할 것입니다. \n",
        "\n",
        "이를 위해 12개의 time step을 가지는 LSTM 레이어를 model에 추가합니다. 이 때 units는 20으로 설정했습니다. (ht, Ct, ...의 dimension) keras는 input이 어떤 shape으로 들어올지에 대한 정보가 필요하고 이를 알려주는 것이  input_shape 파라미터입니다. 이 때, data size는 중요하지 않으므로 (timestep, feature)의 튜플 형태로 입력해주면 됩니다. \n",
        "\n",
        "이어서, Dense 레이어 하나를 추가합니다. 마지막 LSTM cell의 output(hidden_state)에서 예측하고자 하는 target(그 다음 아파트 지수)의 개수가 하나이므로 Dense(1)을 출력으로 사용합니다."
      ],
      "metadata": {
        "id": "X3Rqyao2tpWF"
      }
    },
    {
      "cell_type": "markdown",
      "source": [
        "###[문제6] 위 설명에 맞게 LSTM, Dense layer의 parameter를 지정해주세요!"
      ],
      "metadata": {
        "id": "rRT92otoXIJ-"
      }
    },
    {
      "cell_type": "code",
      "source": [
        "model = Sequential() # Sequeatial Model \n",
        "model.add(LSTM(units=20, input_shape= (12, 1))) # input_shape: (timestep, feature) \n",
        "model.add(Dense(1)) # output_shape: 1"
      ],
      "metadata": {
        "id": "XD4WnEtytFpQ"
      },
      "execution_count": 48,
      "outputs": []
    },
    {
      "cell_type": "markdown",
      "source": [
        "summary 메소드로 모델 구성 내용을 확인해봅시다."
      ],
      "metadata": {
        "id": "Nrc_xT1t-9lp"
      }
    },
    {
      "cell_type": "code",
      "source": [
        "model.summary()"
      ],
      "metadata": {
        "id": "KrcJ92SytFq9",
        "colab": {
          "base_uri": "https://localhost:8080/"
        },
        "outputId": "e3598a0e-b8e6-455b-e153-1ac780ae12e1"
      },
      "execution_count": 49,
      "outputs": [
        {
          "output_type": "stream",
          "name": "stdout",
          "text": [
            "Model: \"sequential\"\n",
            "_________________________________________________________________\n",
            " Layer (type)                Output Shape              Param #   \n",
            "=================================================================\n",
            " lstm (LSTM)                 (None, 20)                1760      \n",
            "                                                                 \n",
            " dense (Dense)               (None, 1)                 21        \n",
            "                                                                 \n",
            "=================================================================\n",
            "Total params: 1,781\n",
            "Trainable params: 1,781\n",
            "Non-trainable params: 0\n",
            "_________________________________________________________________\n"
          ]
        }
      ]
    },
    {
      "cell_type": "markdown",
      "source": [
        "### [문제7] 위의 model summary를 보시고, LSTM layer의 parameter수가 어떻게 해서 도출되었는지 설명해주세요.\n",
        "\n",
        "- [답변]"
      ],
      "metadata": {
        "id": "dBOMM5TUQ90U"
      }
    },
    {
      "cell_type": "markdown",
      "source": [
        "compile에는 중요한 3가지 parameter가 있습니다.\n",
        "\n",
        "\n",
        "*   optimizer : train optimizer를 설정합니다.\n",
        "*   loss : optimization 과정에서 사용될 loss function을 설정합니다.\n",
        "*   metrics : training을 모니터링하기 위해 사용됩니다.  \n",
        "\n",
        "본 실습에서는 예측할 값이 연속된 값(regression)이므로 mean_squared_error를 loss 값으로 설정하고 optimizer는 adam을 이용합니다."
      ],
      "metadata": {
        "id": "_uwfbbNL-O7l"
      }
    },
    {
      "cell_type": "markdown",
      "source": [
        "### [문제8] loss와 optimizer를 위에서 제시한 값으로 설정해주세요!"
      ],
      "metadata": {
        "id": "ed7BdcFBXRfY"
      }
    },
    {
      "cell_type": "code",
      "source": [
        "model.compile(loss='mse', optimizer='adam')"
      ],
      "metadata": {
        "id": "adTPE7EY-GuS"
      },
      "execution_count": 50,
      "outputs": []
    },
    {
      "cell_type": "markdown",
      "source": [
        "training 과정에서 한 번에 주입하는 데이터가 너무 많을 경우 전체 데이터를 메모리에 올리기 힘들 뿐만 아니라, 수렴하기 힘들다는 문제가 있습니다. 그렇기 때문에 큰 덩어리를 일정크기의 작은 덩어리로 잘라서 모델에 넣어서 학습시키는데, 이 작은 덩어리의 크기를 batch size라고 합니다. 본 실습에서는 batch_size=32로 설정하여 model을 training시키겠습니다. 또한, epochs를 100으로 하고, debug 정보는 출력하되 진행 정보만 확인할 수 있도록 verbose=1을 설정했습니다. 아래 cell을 실행시키면 training 결과 화면으로 epoch이 증가할때마다 loss값이 줄어드는 것을 확인할 수 있습니다."
      ],
      "metadata": {
        "id": "CFySQel2rjcY"
      }
    },
    {
      "cell_type": "code",
      "source": [
        "early_stop = EarlyStopping(monitor='loss', patience=1, verbose=1)\n",
        "\n",
        "model.fit(X_train_t, y_train, epochs=100,\n",
        "          batch_size=32, verbose=1, callbacks=[early_stop])"
      ],
      "metadata": {
        "id": "rlafvZecwUR_",
        "colab": {
          "base_uri": "https://localhost:8080/"
        },
        "outputId": "3faed77a-dfb2-40e1-8d10-d42447c459a1"
      },
      "execution_count": 51,
      "outputs": [
        {
          "output_type": "stream",
          "name": "stdout",
          "text": [
            "Epoch 1/100\n",
            "4/4 [==============================] - 4s 8ms/step - loss: 0.4433\n",
            "Epoch 2/100\n",
            "4/4 [==============================] - 0s 7ms/step - loss: 0.3616\n",
            "Epoch 3/100\n",
            "4/4 [==============================] - 0s 6ms/step - loss: 0.2838\n",
            "Epoch 4/100\n",
            "4/4 [==============================] - 0s 6ms/step - loss: 0.2139\n",
            "Epoch 5/100\n",
            "4/4 [==============================] - 0s 6ms/step - loss: 0.1528\n",
            "Epoch 6/100\n",
            "4/4 [==============================] - 0s 9ms/step - loss: 0.1006\n",
            "Epoch 7/100\n",
            "4/4 [==============================] - 0s 7ms/step - loss: 0.0592\n",
            "Epoch 8/100\n",
            "4/4 [==============================] - 0s 6ms/step - loss: 0.0352\n",
            "Epoch 9/100\n",
            "4/4 [==============================] - 0s 7ms/step - loss: 0.0297\n",
            "Epoch 10/100\n",
            "4/4 [==============================] - 0s 6ms/step - loss: 0.0345\n",
            "Epoch 10: early stopping\n"
          ]
        },
        {
          "output_type": "execute_result",
          "data": {
            "text/plain": [
              "<keras.callbacks.History at 0x7fbe4b610590>"
            ]
          },
          "metadata": {},
          "execution_count": 51
        }
      ]
    },
    {
      "cell_type": "markdown",
      "source": [
        "## Test"
      ],
      "metadata": {
        "id": "kd3E0-LQxXAe"
      }
    },
    {
      "cell_type": "markdown",
      "source": [
        "evaluate 메소드를 사용하여 compile에서 사용했던 metric, mse 값이 얼마나 나오는지 확인해봅시다!"
      ],
      "metadata": {
        "id": "Maz-96PDxAap"
      }
    },
    {
      "cell_type": "code",
      "source": [
        "mse_loss = model.evaluate(X_test_t, y_test, batch_size=32)\n",
        "print(\"Test MSE_loss: \", mse_loss)"
      ],
      "metadata": {
        "id": "ZnChy3Mhw4XD",
        "colab": {
          "base_uri": "https://localhost:8080/"
        },
        "outputId": "539d0ec4-c437-48a6-e9ce-e937f6bec297"
      },
      "execution_count": 52,
      "outputs": [
        {
          "output_type": "stream",
          "name": "stdout",
          "text": [
            "1/1 [==============================] - 1s 519ms/step - loss: 0.1055\n",
            "Test MSE_loss:  0.10553786158561707\n"
          ]
        }
      ]
    },
    {
      "cell_type": "markdown",
      "source": [
        "## 결과 시각화"
      ],
      "metadata": {
        "id": "fmcBI3jSxxOc"
      }
    },
    {
      "cell_type": "code",
      "source": [
        "%matplotlib inline\n",
        "import matplotlib.pyplot as plt\n",
        "\n",
        "y_pred = model.predict(X_test_t, batch_size=32)\n",
        "plt.plot(y_test, y_test)\n",
        "plt.scatter(y_test, y_pred)\n",
        "plt.xlabel(\"Price Index: $Y_i$\")\n",
        "plt.ylabel(\"Predicted price Index: $\\hat{Y}_i$\")\n",
        "plt.title(\"Prices vs Predicted price Index: $Y_i$ vs $\\hat{Y}_i$\")"
      ],
      "metadata": {
        "id": "Fxv6Kimfxz_e",
        "colab": {
          "base_uri": "https://localhost:8080/",
          "height": 323
        },
        "outputId": "8acefaa5-33dc-498c-ac18-09837623ef8a"
      },
      "execution_count": 53,
      "outputs": [
        {
          "output_type": "execute_result",
          "data": {
            "text/plain": [
              "Text(0.5, 1.0, 'Prices vs Predicted price Index: $Y_i$ vs $\\\\hat{Y}_i$')"
            ]
          },
          "metadata": {},
          "execution_count": 53
        },
        {
          "output_type": "display_data",
          "data": {
            "text/plain": [
              "<Figure size 432x288 with 1 Axes>"
            ],
            "image/png": "[encoded data removed]"
          },
          "metadata": {
            "needs_background": "light"
          }
        }
      ]
    },
    {
      "cell_type": "markdown",
      "source": [
        "원래 값과 예측 값이 일치하면 직선에 가깝게 분포가 되는데 결과는 그리 만족스럽지 않은 것 같습니다. 실제 강남 부동산 지수보다 예측 부동산 지수가 전반적으로 낮게 나오고 있습니다. 그 원인은 아마도 훈련 데이터 들이 대부분 부동산 침체기 시기 데이터를 사용 되었고 최근 데이터인 테스트 데이터는 훈련 데이터에는 없던 높은 지수가 많아서인 것으로 생각됩니다. 훈련 데이터를 최근 데이터까지 포함해서 좀더 범위를 높이면 성능은 좀 더 좋아질 것이라 생각됩니다."
      ],
      "metadata": {
        "id": "kVpavzkcyLIu"
      }
    }
  ]
}