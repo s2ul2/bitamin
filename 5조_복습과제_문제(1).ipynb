{
  "nbformat": 4,
  "nbformat_minor": 0,
  "metadata": {
    "kernelspec": {
      "display_name": "Python 3",
      "language": "python",
      "name": "python3"
    },
    "language_info": {
      "codemirror_mode": {
        "name": "ipython",
        "version": 3
      },
      "file_extension": ".py",
      "mimetype": "text/x-python",
      "name": "python",
      "nbconvert_exporter": "python",
      "pygments_lexer": "ipython3",
      "version": "3.8.5"
    },
    "colab": {
      "name": "5조_복습과제_문제(1).ipynb",
      "provenance": [],
      "collapsed_sections": [
        "15OHQPt3EOxl"
      ],
      "include_colab_link": true
    }
  },
  "cells": [
    {
      "cell_type": "markdown",
      "metadata": {
        "id": "view-in-github",
        "colab_type": "text"
      },
      "source": [
        "<a href=\"https://colab.research.google.com/github/s2ul2/bitamin/blob/main/5%EC%A1%B0_%EB%B3%B5%EC%8A%B5%EA%B3%BC%EC%A0%9C_%EB%AC%B8%EC%A0%9C(1).ipynb\" target=\"_parent\"><img src=\"https://colab.research.google.com/assets/colab-badge.svg\" alt=\"Open In Colab\"/></a>"
      ]
    },
    {
      "cell_type": "markdown",
      "metadata": {
        "id": "0ksQYtgmEOwk"
      },
      "source": [
        "## 1. 선형회귀 복습과제 \n",
        "advertising.csv 데이터 분포를 보고 선형회귀와 적합한 데이터로 선형회귀모형을 만들어 보자!<br>\n",
        "(kaggle 데이터 이용)"
      ]
    },
    {
      "cell_type": "code",
      "metadata": {
        "colab": {
          "base_uri": "https://localhost:8080/"
        },
        "id": "OzV5lL7bHFrx",
        "outputId": "354ad22d-5cd4-48bc-b210-e6699b65689e"
      },
      "source": [
        "from google.colab import drive\n",
        "drive.mount('/content/drive')"
      ],
      "execution_count": 1,
      "outputs": [
        {
          "output_type": "stream",
          "name": "stdout",
          "text": [
            "Mounted at /content/drive\n"
          ]
        }
      ]
    },
    {
      "cell_type": "code",
      "metadata": {
        "colab": {
          "base_uri": "https://localhost:8080/",
          "height": 419
        },
        "id": "jgNr4MK6EOwt",
        "outputId": "87c8cd22-0f73-40a1-c1f8-0a614e74daa9"
      },
      "source": [
        "import pandas as pd\n",
        "import numpy as np\n",
        "import matplotlib.pyplot as plt\n",
        "import seaborn as sns\n",
        "\n",
        "ad = pd.read_csv(\"/content/drive/MyDrive/비타민/7/advertising.csv\", sep=',')\n",
        "ad.columns = [\"TV\",\"Radio\",\"Newspaper\",\"Sales\"]\n",
        "ad"
      ],
      "execution_count": 2,
      "outputs": [
        {
          "output_type": "execute_result",
          "data": {
            "text/html": [
              "<div>\n",
              "<style scoped>\n",
              "    .dataframe tbody tr th:only-of-type {\n",
              "        vertical-align: middle;\n",
              "    }\n",
              "\n",
              "    .dataframe tbody tr th {\n",
              "        vertical-align: top;\n",
              "    }\n",
              "\n",
              "    .dataframe thead th {\n",
              "        text-align: right;\n",
              "    }\n",
              "</style>\n",
              "<table border=\"1\" class=\"dataframe\">\n",
              "  <thead>\n",
              "    <tr style=\"text-align: right;\">\n",
              "      <th></th>\n",
              "      <th>TV</th>\n",
              "      <th>Radio</th>\n",
              "      <th>Newspaper</th>\n",
              "      <th>Sales</th>\n",
              "    </tr>\n",
              "  </thead>\n",
              "  <tbody>\n",
              "    <tr>\n",
              "      <th>0</th>\n",
              "      <td>230.1</td>\n",
              "      <td>37.8</td>\n",
              "      <td>69.2</td>\n",
              "      <td>22.1</td>\n",
              "    </tr>\n",
              "    <tr>\n",
              "      <th>1</th>\n",
              "      <td>44.5</td>\n",
              "      <td>39.3</td>\n",
              "      <td>45.1</td>\n",
              "      <td>10.4</td>\n",
              "    </tr>\n",
              "    <tr>\n",
              "      <th>2</th>\n",
              "      <td>17.2</td>\n",
              "      <td>45.9</td>\n",
              "      <td>69.3</td>\n",
              "      <td>12.0</td>\n",
              "    </tr>\n",
              "    <tr>\n",
              "      <th>3</th>\n",
              "      <td>151.5</td>\n",
              "      <td>41.3</td>\n",
              "      <td>58.5</td>\n",
              "      <td>16.5</td>\n",
              "    </tr>\n",
              "    <tr>\n",
              "      <th>4</th>\n",
              "      <td>180.8</td>\n",
              "      <td>10.8</td>\n",
              "      <td>58.4</td>\n",
              "      <td>17.9</td>\n",
              "    </tr>\n",
              "    <tr>\n",
              "      <th>...</th>\n",
              "      <td>...</td>\n",
              "      <td>...</td>\n",
              "      <td>...</td>\n",
              "      <td>...</td>\n",
              "    </tr>\n",
              "    <tr>\n",
              "      <th>195</th>\n",
              "      <td>38.2</td>\n",
              "      <td>3.7</td>\n",
              "      <td>13.8</td>\n",
              "      <td>7.6</td>\n",
              "    </tr>\n",
              "    <tr>\n",
              "      <th>196</th>\n",
              "      <td>94.2</td>\n",
              "      <td>4.9</td>\n",
              "      <td>8.1</td>\n",
              "      <td>14.0</td>\n",
              "    </tr>\n",
              "    <tr>\n",
              "      <th>197</th>\n",
              "      <td>177.0</td>\n",
              "      <td>9.3</td>\n",
              "      <td>6.4</td>\n",
              "      <td>14.8</td>\n",
              "    </tr>\n",
              "    <tr>\n",
              "      <th>198</th>\n",
              "      <td>283.6</td>\n",
              "      <td>42.0</td>\n",
              "      <td>66.2</td>\n",
              "      <td>25.5</td>\n",
              "    </tr>\n",
              "    <tr>\n",
              "      <th>199</th>\n",
              "      <td>232.1</td>\n",
              "      <td>8.6</td>\n",
              "      <td>8.7</td>\n",
              "      <td>18.4</td>\n",
              "    </tr>\n",
              "  </tbody>\n",
              "</table>\n",
              "<p>200 rows × 4 columns</p>\n",
              "</div>"
            ],
            "text/plain": [
              "        TV  Radio  Newspaper  Sales\n",
              "0    230.1   37.8       69.2   22.1\n",
              "1     44.5   39.3       45.1   10.4\n",
              "2     17.2   45.9       69.3   12.0\n",
              "3    151.5   41.3       58.5   16.5\n",
              "4    180.8   10.8       58.4   17.9\n",
              "..     ...    ...        ...    ...\n",
              "195   38.2    3.7       13.8    7.6\n",
              "196   94.2    4.9        8.1   14.0\n",
              "197  177.0    9.3        6.4   14.8\n",
              "198  283.6   42.0       66.2   25.5\n",
              "199  232.1    8.6        8.7   18.4\n",
              "\n",
              "[200 rows x 4 columns]"
            ]
          },
          "metadata": {},
          "execution_count": 2
        }
      ]
    },
    {
      "cell_type": "code",
      "metadata": {
        "colab": {
          "base_uri": "https://localhost:8080/",
          "height": 321
        },
        "id": "FNlIrjByEOwx",
        "outputId": "638ad004-152d-4dd9-e1a7-968eddd1ba9c"
      },
      "source": [
        "sns.pairplot(ad, x_vars=['TV', 'Newspaper', 'Radio'], y_vars=['Sales'], height=4)"
      ],
      "execution_count": 3,
      "outputs": [
        {
          "output_type": "execute_result",
          "data": {
            "text/plain": [
              "<seaborn.axisgrid.PairGrid at 0x7f70012a0110>"
            ]
          },
          "metadata": {},
          "execution_count": 3
        },
        {
          "output_type": "display_data",
          "data": {
            "image/png": "[encoded data removed]",
            "text/plain": [
              "<Figure size 864x288 with 3 Axes>"
            ]
          },
          "metadata": {
            "needs_background": "light"
          }
        }
      ]
    },
    {
      "cell_type": "markdown",
      "metadata": {
        "id": "xiCS1fLzEOwy"
      },
      "source": [
        "#### 1-1. TV, Newspaper, Radio 중 Sales와 가장 선형 관계를 갖는 데이터를 찾아 '___'안에 넣어 코드를 돌려주세요."
      ]
    },
    {
      "cell_type": "code",
      "metadata": {
        "colab": {
          "base_uri": "https://localhost:8080/"
        },
        "id": "Zb1BbwMHEOw0",
        "outputId": "841edfbb-4d7e-45eb-9a8c-5ba158f0b552"
      },
      "source": [
        "# 데이터 셋 가공\n",
        "x_data = np.array(ad[['TV']], dtype=np.float32)\n",
        "y_data = np.array(ad['Sales'], dtype=np.float32)\n",
        "\n",
        "print(x_data.shape)\n",
        "print(y_data.shape)\n",
        "\n",
        "x_data = x_data.reshape((-1, 1))\n",
        "y_data = y_data.reshape((-1, 1))\n",
        "\n",
        "print(x_data.shape)\n",
        "print(y_data.shape)"
      ],
      "execution_count": 4,
      "outputs": [
        {
          "output_type": "stream",
          "name": "stdout",
          "text": [
            "(200, 1)\n",
            "(200,)\n",
            "(200, 1)\n",
            "(200, 1)\n"
          ]
        }
      ]
    },
    {
      "cell_type": "code",
      "metadata": {
        "colab": {
          "base_uri": "https://localhost:8080/"
        },
        "id": "k_42fbkZEOw1",
        "outputId": "d86b2186-f9d1-4f92-8a53-7386a448bf29"
      },
      "source": [
        "# 데이터 셋을 학습 데이터와 검증 데이터로 분할\n",
        "from sklearn.model_selection import train_test_split\n",
        "x_train, x_val, y_train, y_val = train_test_split(x_data, y_data, test_size=0.2, random_state=2021)\n",
        "\n",
        "print(x_train.shape, x_val.shape)\n",
        "print(y_train.shape, y_val.shape)"
      ],
      "execution_count": 5,
      "outputs": [
        {
          "output_type": "stream",
          "name": "stdout",
          "text": [
            "(160, 1) (40, 1)\n",
            "(160, 1) (40, 1)\n"
          ]
        }
      ]
    },
    {
      "cell_type": "markdown",
      "metadata": {
        "id": "Kzxs2AFMEOw2"
      },
      "source": [
        "#### 1-2. regplot으로 산점도와 선형회귀선을 표시하시오."
      ]
    },
    {
      "cell_type": "code",
      "metadata": {
        "colab": {
          "base_uri": "https://localhost:8080/"
        },
        "id": "RVP36sTuMPYb",
        "outputId": "f9f3f399-e255-4d77-f116-b78bc7d07062"
      },
      "source": [
        "ad.columns"
      ],
      "execution_count": 6,
      "outputs": [
        {
          "output_type": "execute_result",
          "data": {
            "text/plain": [
              "Index(['TV', 'Radio', 'Newspaper', 'Sales'], dtype='object')"
            ]
          },
          "metadata": {},
          "execution_count": 6
        }
      ]
    },
    {
      "cell_type": "code",
      "metadata": {
        "colab": {
          "base_uri": "https://localhost:8080/",
          "height": 606
        },
        "id": "j6anm-EGEOw3",
        "outputId": "b46728b4-5868-4cb7-a780-2e5bff576f60"
      },
      "source": [
        "plot_cols = ['Sales', 'TV', 'Radio', 'Newspaper']\n",
        "plt.figure(figsize = (10, 10))\n",
        "for idx, col in enumerate(plot_cols[1:]):\n",
        "    ax1 = plt.subplot(2, 2, idx + 1)\n",
        "    sns.regplot(x = col, y = plot_cols[0], data = ad, ax = ax1)\n",
        "plt.show()"
      ],
      "execution_count": 7,
      "outputs": [
        {
          "output_type": "display_data",
          "data": {
            "image/png": "[encoded data removed]",
            "text/plain": [
              "<Figure size 720x720 with 3 Axes>"
            ]
          },
          "metadata": {
            "needs_background": "light"
          }
        }
      ]
    },
    {
      "cell_type": "markdown",
      "metadata": {
        "id": "ynsJhFmDEOw4"
      },
      "source": [
        "#### 1-3. LinearRegression을 이용하여 회귀계수(기울기)와 상수항(절편)을 구하시오."
      ]
    },
    {
      "cell_type": "code",
      "metadata": {
        "colab": {
          "base_uri": "https://localhost:8080/"
        },
        "id": "p0HRroQwN9oL",
        "outputId": "c2dffc06-4e5d-4f07-a3e6-bc93de6d610f"
      },
      "source": [
        "from sklearn.linear_model import LinearRegression\n",
        "lr = LinearRegression()\n",
        "lr.fit(x_train, y_train)\n",
        "\n",
        "print(\"회귀계수(기울기) : \", np.round(lr.coef_, 1))\n",
        "print(\"상수항(절편) : \", np.round(lr.intercept_, 1))"
      ],
      "execution_count": 8,
      "outputs": [
        {
          "output_type": "stream",
          "name": "stdout",
          "text": [
            "회귀계수(기울기) :  [[0.1]]\n",
            "상수항(절편) :  [6.9]\n"
          ]
        }
      ]
    },
    {
      "cell_type": "markdown",
      "metadata": {
        "id": "EcFkR-WnEOw6"
      },
      "source": [
        "#### 1-4. x_train과  x_val 데이터로 각각 예측을 진행하고, 성능평가를 진행하시오(MSE사용)"
      ]
    },
    {
      "cell_type": "code",
      "metadata": {
        "colab": {
          "base_uri": "https://localhost:8080/",
          "height": 320
        },
        "id": "VB90VV3jPtV4",
        "outputId": "85898c5b-293e-46b5-c47b-1c152a4f98c5"
      },
      "source": [
        "y_val_pred = lr.predict(x_val)\n",
        "\n",
        "plt.figure(figsize = (10, 5))\n",
        "plt.scatter(x_val, y_val)\n",
        "plt.scatter(x_val, y_val_pred, c = 'r')\n",
        "plt.show()"
      ],
      "execution_count": 9,
      "outputs": [
        {
          "output_type": "display_data",
          "data": {
            "image/png": "[encoded data removed]",
            "text/plain": [
              "<Figure size 720x360 with 1 Axes>"
            ]
          },
          "metadata": {
            "needs_background": "light"
          }
        }
      ]
    },
    {
      "cell_type": "code",
      "metadata": {
        "colab": {
          "base_uri": "https://localhost:8080/"
        },
        "id": "F2e3XgJgEOw7",
        "outputId": "b60c0b3a-2d94-41ab-a971-369d936918ca"
      },
      "source": [
        "from sklearn.metrics import mean_squared_error\n",
        "y_train_pred = lr.predict(x_train)\n",
        "\n",
        "train_mse = mean_squared_error(y_train, y_train_pred)\n",
        "print('Train MSE : %.4f' %train_mse)\n",
        "test_mse = mean_squared_error(y_val, y_val_pred)\n",
        "print('Test MSE : %.4f' %test_mse)"
      ],
      "execution_count": 10,
      "outputs": [
        {
          "output_type": "stream",
          "name": "stdout",
          "text": [
            "Train MSE : 5.1410\n",
            "Test MSE : 5.5272\n"
          ]
        }
      ]
    },
    {
      "cell_type": "markdown",
      "metadata": {
        "id": "g89mfZnuEOw8"
      },
      "source": [
        "## 2. 로버스트 회귀 과제 \n",
        "#### housing.data.txt를 이용해서 LSTAT와 MEDV의 선형회귀 모형과 RANSAC 회귀 모형의 기울기와 y절편을 비교해보자! (회귀 발표 ppt 14~15p를 참고*)"
      ]
    },
    {
      "cell_type": "code",
      "metadata": {
        "scrolled": true,
        "id": "c2Ihfla1EOw8",
        "colab": {
          "base_uri": "https://localhost:8080/",
          "height": 204
        },
        "outputId": "7ed89b2e-0e7c-4412-9c0a-ae000b0fd87b"
      },
      "source": [
        "df = pd.read_csv(\"/content/drive/MyDrive/비타민/7/housing.data.txt\", header=None, sep='\\s+')\n",
        "df.columns = [\"CRIM\", \"ZN\", \"INDUS\", \"CHAS\", \"NOX\", \"RM\", \"AGE\",\\\n",
        "              \"DIS\", \"RAD\", \"TAX\", \"PTRATIO\", \"B\", \"LSTAT\", \"MEDV\"]\n",
        "df.head()"
      ],
      "execution_count": 15,
      "outputs": [
        {
          "output_type": "execute_result",
          "data": {
            "text/html": [
              "<div>\n",
              "<style scoped>\n",
              "    .dataframe tbody tr th:only-of-type {\n",
              "        vertical-align: middle;\n",
              "    }\n",
              "\n",
              "    .dataframe tbody tr th {\n",
              "        vertical-align: top;\n",
              "    }\n",
              "\n",
              "    .dataframe thead th {\n",
              "        text-align: right;\n",
              "    }\n",
              "</style>\n",
              "<table border=\"1\" class=\"dataframe\">\n",
              "  <thead>\n",
              "    <tr style=\"text-align: right;\">\n",
              "      <th></th>\n",
              "      <th>CRIM</th>\n",
              "      <th>ZN</th>\n",
              "      <th>INDUS</th>\n",
              "      <th>CHAS</th>\n",
              "      <th>NOX</th>\n",
              "      <th>RM</th>\n",
              "      <th>AGE</th>\n",
              "      <th>DIS</th>\n",
              "      <th>RAD</th>\n",
              "      <th>TAX</th>\n",
              "      <th>PTRATIO</th>\n",
              "      <th>B</th>\n",
              "      <th>LSTAT</th>\n",
              "      <th>MEDV</th>\n",
              "    </tr>\n",
              "  </thead>\n",
              "  <tbody>\n",
              "    <tr>\n",
              "      <th>0</th>\n",
              "      <td>0.00632</td>\n",
              "      <td>18.0</td>\n",
              "      <td>2.31</td>\n",
              "      <td>0</td>\n",
              "      <td>0.538</td>\n",
              "      <td>6.575</td>\n",
              "      <td>65.2</td>\n",
              "      <td>4.0900</td>\n",
              "      <td>1</td>\n",
              "      <td>296.0</td>\n",
              "      <td>15.3</td>\n",
              "      <td>396.90</td>\n",
              "      <td>4.98</td>\n",
              "      <td>24.0</td>\n",
              "    </tr>\n",
              "    <tr>\n",
              "      <th>1</th>\n",
              "      <td>0.02731</td>\n",
              "      <td>0.0</td>\n",
              "      <td>7.07</td>\n",
              "      <td>0</td>\n",
              "      <td>0.469</td>\n",
              "      <td>6.421</td>\n",
              "      <td>78.9</td>\n",
              "      <td>4.9671</td>\n",
              "      <td>2</td>\n",
              "      <td>242.0</td>\n",
              "      <td>17.8</td>\n",
              "      <td>396.90</td>\n",
              "      <td>9.14</td>\n",
              "      <td>21.6</td>\n",
              "    </tr>\n",
              "    <tr>\n",
              "      <th>2</th>\n",
              "      <td>0.02729</td>\n",
              "      <td>0.0</td>\n",
              "      <td>7.07</td>\n",
              "      <td>0</td>\n",
              "      <td>0.469</td>\n",
              "      <td>7.185</td>\n",
              "      <td>61.1</td>\n",
              "      <td>4.9671</td>\n",
              "      <td>2</td>\n",
              "      <td>242.0</td>\n",
              "      <td>17.8</td>\n",
              "      <td>392.83</td>\n",
              "      <td>4.03</td>\n",
              "      <td>34.7</td>\n",
              "    </tr>\n",
              "    <tr>\n",
              "      <th>3</th>\n",
              "      <td>0.03237</td>\n",
              "      <td>0.0</td>\n",
              "      <td>2.18</td>\n",
              "      <td>0</td>\n",
              "      <td>0.458</td>\n",
              "      <td>6.998</td>\n",
              "      <td>45.8</td>\n",
              "      <td>6.0622</td>\n",
              "      <td>3</td>\n",
              "      <td>222.0</td>\n",
              "      <td>18.7</td>\n",
              "      <td>394.63</td>\n",
              "      <td>2.94</td>\n",
              "      <td>33.4</td>\n",
              "    </tr>\n",
              "    <tr>\n",
              "      <th>4</th>\n",
              "      <td>0.06905</td>\n",
              "      <td>0.0</td>\n",
              "      <td>2.18</td>\n",
              "      <td>0</td>\n",
              "      <td>0.458</td>\n",
              "      <td>7.147</td>\n",
              "      <td>54.2</td>\n",
              "      <td>6.0622</td>\n",
              "      <td>3</td>\n",
              "      <td>222.0</td>\n",
              "      <td>18.7</td>\n",
              "      <td>396.90</td>\n",
              "      <td>5.33</td>\n",
              "      <td>36.2</td>\n",
              "    </tr>\n",
              "  </tbody>\n",
              "</table>\n",
              "</div>"
            ],
            "text/plain": [
              "      CRIM    ZN  INDUS  CHAS    NOX  ...    TAX  PTRATIO       B  LSTAT  MEDV\n",
              "0  0.00632  18.0   2.31     0  0.538  ...  296.0     15.3  396.90   4.98  24.0\n",
              "1  0.02731   0.0   7.07     0  0.469  ...  242.0     17.8  396.90   9.14  21.6\n",
              "2  0.02729   0.0   7.07     0  0.469  ...  242.0     17.8  392.83   4.03  34.7\n",
              "3  0.03237   0.0   2.18     0  0.458  ...  222.0     18.7  394.63   2.94  33.4\n",
              "4  0.06905   0.0   2.18     0  0.458  ...  222.0     18.7  396.90   5.33  36.2\n",
              "\n",
              "[5 rows x 14 columns]"
            ]
          },
          "metadata": {},
          "execution_count": 15
        }
      ]
    },
    {
      "cell_type": "markdown",
      "metadata": {
        "id": "Be7GcRY3EOw9"
      },
      "source": [
        "#### 2-1. 선형회귀 모형을 구했을 때 기울기와 절편을 구하시오."
      ]
    },
    {
      "cell_type": "code",
      "metadata": {
        "id": "ZNL_c5PSEOw-",
        "colab": {
          "base_uri": "https://localhost:8080/"
        },
        "outputId": "9059b4c7-c34b-4ddc-ab48-ff37659d2722"
      },
      "source": [
        "from sklearn.linear_model import LinearRegression\n",
        "slr = LinearRegression(fit_intercept = True)\n",
        "X = df[['LSTAT']].values\n",
        "y = df['MEDV'].values\n",
        "slr.fit(X, y)\n",
        "print(\"회귀계수(기울기) : \", slr.coef_[0])\n",
        "print(\"상수항(절편) : \", slr.intercept_)"
      ],
      "execution_count": 24,
      "outputs": [
        {
          "output_type": "stream",
          "name": "stdout",
          "text": [
            "회귀계수(기울기) :  -0.9500493537579906\n",
            "상수항(절편) :  34.5538408793831\n"
          ]
        }
      ]
    },
    {
      "cell_type": "markdown",
      "metadata": {
        "id": "aCgU2f_qEOw_"
      },
      "source": [
        "#### 2-2. RANSAC Regressor으로 구했을 때 기울기와 절편을 구하시오."
      ]
    },
    {
      "cell_type": "code",
      "metadata": {
        "id": "NzWCyZ2nEOxA",
        "colab": {
          "base_uri": "https://localhost:8080/"
        },
        "outputId": "9b4dccec-47e2-472f-f1ce-9ea71d6668f4"
      },
      "source": [
        "from sklearn.linear_model import RANSACRegressor\n",
        "ransac = RANSACRegressor(LinearRegression(),\n",
        "                         max_trials = 100,\n",
        "                         min_samples = 50,\n",
        "                         loss = 'absolute_loss',\n",
        "                         residual_threshold = 5.0,\n",
        "                         random_state = 0)\n",
        "\n",
        "ransac.fit(X, y)\n",
        "\n",
        "print(\"회귀계수(기울기) : \", ransac.estimator_.coef_[0])\n",
        "print(\"상수항(절편) : \", ransac.estimator_.intercept_)"
      ],
      "execution_count": 26,
      "outputs": [
        {
          "output_type": "stream",
          "name": "stdout",
          "text": [
            "회귀계수(기울기) :  -0.7463512014001276\n",
            "상수항(절편) :  29.881856925699854\n"
          ]
        }
      ]
    },
    {
      "cell_type": "markdown",
      "metadata": {
        "id": "hjX2OWP3EOxB"
      },
      "source": [
        "## * 선형회귀 규제화\n",
        "### 선형회귀 모형을 토대로 규제화를 연습해봅시다!"
      ]
    },
    {
      "cell_type": "markdown",
      "metadata": {
        "id": "veGL1y1WEOxE"
      },
      "source": [
        "#####  auto-mpg.csv를 이용하여 만든 회귀모형에 규제화를 적용하고 규제화 이전과 이후의 계수를 비교해보자! (직접 입력) "
      ]
    },
    {
      "cell_type": "code",
      "metadata": {
        "id": "3-Qry2q9EOxK",
        "colab": {
          "base_uri": "https://localhost:8080/",
          "height": 419
        },
        "outputId": "471db386-8abf-44c2-a816-ab0c73e1f330"
      },
      "source": [
        "import pandas as pd\n",
        "import numpy as np\n",
        "import matplotlib.pyplot as plt\n",
        "\n",
        "# csv파일을 데이터프레임으로 변환\n",
        "df=pd.read_csv('/content/drive/MyDrive/비타민/7/auto-mpg.csv')\n",
        "df"
      ],
      "execution_count": 27,
      "outputs": [
        {
          "output_type": "execute_result",
          "data": {
            "text/html": [
              "<div>\n",
              "<style scoped>\n",
              "    .dataframe tbody tr th:only-of-type {\n",
              "        vertical-align: middle;\n",
              "    }\n",
              "\n",
              "    .dataframe tbody tr th {\n",
              "        vertical-align: top;\n",
              "    }\n",
              "\n",
              "    .dataframe thead th {\n",
              "        text-align: right;\n",
              "    }\n",
              "</style>\n",
              "<table border=\"1\" class=\"dataframe\">\n",
              "  <thead>\n",
              "    <tr style=\"text-align: right;\">\n",
              "      <th></th>\n",
              "      <th>mpg</th>\n",
              "      <th>cylinders</th>\n",
              "      <th>displacement</th>\n",
              "      <th>horsepower</th>\n",
              "      <th>weight</th>\n",
              "      <th>acceleration</th>\n",
              "      <th>model year</th>\n",
              "      <th>origin</th>\n",
              "      <th>car name</th>\n",
              "    </tr>\n",
              "  </thead>\n",
              "  <tbody>\n",
              "    <tr>\n",
              "      <th>0</th>\n",
              "      <td>18.0</td>\n",
              "      <td>8</td>\n",
              "      <td>307.0</td>\n",
              "      <td>130</td>\n",
              "      <td>3504</td>\n",
              "      <td>12.0</td>\n",
              "      <td>70</td>\n",
              "      <td>1</td>\n",
              "      <td>chevrolet chevelle malibu</td>\n",
              "    </tr>\n",
              "    <tr>\n",
              "      <th>1</th>\n",
              "      <td>15.0</td>\n",
              "      <td>8</td>\n",
              "      <td>350.0</td>\n",
              "      <td>165</td>\n",
              "      <td>3693</td>\n",
              "      <td>11.5</td>\n",
              "      <td>70</td>\n",
              "      <td>1</td>\n",
              "      <td>buick skylark 320</td>\n",
              "    </tr>\n",
              "    <tr>\n",
              "      <th>2</th>\n",
              "      <td>18.0</td>\n",
              "      <td>8</td>\n",
              "      <td>318.0</td>\n",
              "      <td>150</td>\n",
              "      <td>3436</td>\n",
              "      <td>11.0</td>\n",
              "      <td>70</td>\n",
              "      <td>1</td>\n",
              "      <td>plymouth satellite</td>\n",
              "    </tr>\n",
              "    <tr>\n",
              "      <th>3</th>\n",
              "      <td>16.0</td>\n",
              "      <td>8</td>\n",
              "      <td>304.0</td>\n",
              "      <td>150</td>\n",
              "      <td>3433</td>\n",
              "      <td>12.0</td>\n",
              "      <td>70</td>\n",
              "      <td>1</td>\n",
              "      <td>amc rebel sst</td>\n",
              "    </tr>\n",
              "    <tr>\n",
              "      <th>4</th>\n",
              "      <td>17.0</td>\n",
              "      <td>8</td>\n",
              "      <td>302.0</td>\n",
              "      <td>140</td>\n",
              "      <td>3449</td>\n",
              "      <td>10.5</td>\n",
              "      <td>70</td>\n",
              "      <td>1</td>\n",
              "      <td>ford torino</td>\n",
              "    </tr>\n",
              "    <tr>\n",
              "      <th>...</th>\n",
              "      <td>...</td>\n",
              "      <td>...</td>\n",
              "      <td>...</td>\n",
              "      <td>...</td>\n",
              "      <td>...</td>\n",
              "      <td>...</td>\n",
              "      <td>...</td>\n",
              "      <td>...</td>\n",
              "      <td>...</td>\n",
              "    </tr>\n",
              "    <tr>\n",
              "      <th>393</th>\n",
              "      <td>27.0</td>\n",
              "      <td>4</td>\n",
              "      <td>140.0</td>\n",
              "      <td>86</td>\n",
              "      <td>2790</td>\n",
              "      <td>15.6</td>\n",
              "      <td>82</td>\n",
              "      <td>1</td>\n",
              "      <td>ford mustang gl</td>\n",
              "    </tr>\n",
              "    <tr>\n",
              "      <th>394</th>\n",
              "      <td>44.0</td>\n",
              "      <td>4</td>\n",
              "      <td>97.0</td>\n",
              "      <td>52</td>\n",
              "      <td>2130</td>\n",
              "      <td>24.6</td>\n",
              "      <td>82</td>\n",
              "      <td>2</td>\n",
              "      <td>vw pickup</td>\n",
              "    </tr>\n",
              "    <tr>\n",
              "      <th>395</th>\n",
              "      <td>32.0</td>\n",
              "      <td>4</td>\n",
              "      <td>135.0</td>\n",
              "      <td>84</td>\n",
              "      <td>2295</td>\n",
              "      <td>11.6</td>\n",
              "      <td>82</td>\n",
              "      <td>1</td>\n",
              "      <td>dodge rampage</td>\n",
              "    </tr>\n",
              "    <tr>\n",
              "      <th>396</th>\n",
              "      <td>28.0</td>\n",
              "      <td>4</td>\n",
              "      <td>120.0</td>\n",
              "      <td>79</td>\n",
              "      <td>2625</td>\n",
              "      <td>18.6</td>\n",
              "      <td>82</td>\n",
              "      <td>1</td>\n",
              "      <td>ford ranger</td>\n",
              "    </tr>\n",
              "    <tr>\n",
              "      <th>397</th>\n",
              "      <td>31.0</td>\n",
              "      <td>4</td>\n",
              "      <td>119.0</td>\n",
              "      <td>82</td>\n",
              "      <td>2720</td>\n",
              "      <td>19.4</td>\n",
              "      <td>82</td>\n",
              "      <td>1</td>\n",
              "      <td>chevy s-10</td>\n",
              "    </tr>\n",
              "  </tbody>\n",
              "</table>\n",
              "<p>398 rows × 9 columns</p>\n",
              "</div>"
            ],
            "text/plain": [
              "      mpg  cylinders  ...  origin                   car name\n",
              "0    18.0          8  ...       1  chevrolet chevelle malibu\n",
              "1    15.0          8  ...       1          buick skylark 320\n",
              "2    18.0          8  ...       1         plymouth satellite\n",
              "3    16.0          8  ...       1              amc rebel sst\n",
              "4    17.0          8  ...       1                ford torino\n",
              "..    ...        ...  ...     ...                        ...\n",
              "393  27.0          4  ...       1            ford mustang gl\n",
              "394  44.0          4  ...       2                  vw pickup\n",
              "395  32.0          4  ...       1              dodge rampage\n",
              "396  28.0          4  ...       1                ford ranger\n",
              "397  31.0          4  ...       1                 chevy s-10\n",
              "\n",
              "[398 rows x 9 columns]"
            ]
          },
          "metadata": {},
          "execution_count": 27
        }
      ]
    },
    {
      "cell_type": "code",
      "metadata": {
        "id": "wkDgz32IEOxM"
      },
      "source": [
        "# column명 바꾸기\n",
        "df.columns = ['mpg', 'cylinders', 'displacement', 'horsepower', 'weight',\n",
        "             'acceleration', 'model year', 'origin', 'name']\n",
        "\n",
        "# housepower datatype을 float형태로 바꾸기\n",
        "df['horsepower'].replace('?', np.nan, inplace=True)\n",
        "df.dropna(subset=['horsepower'], axis=0, inplace=True)\n",
        "df['horsepower'] = df['horsepower'].astype('float')"
      ],
      "execution_count": 42,
      "outputs": []
    },
    {
      "cell_type": "code",
      "metadata": {
        "id": "_2V1Im21EOxO"
      },
      "source": [
        "X = df[['cylinders', 'displacement', 'horsepower', 'weight', 'acceleration']].values\n",
        "y = df['mpg'].values"
      ],
      "execution_count": 45,
      "outputs": []
    },
    {
      "cell_type": "markdown",
      "metadata": {
        "id": "0Jbm2ZoyEOxP"
      },
      "source": [
        "문제 1.\n",
        "* 전체 데이터를 Training data와 test data로 분리해주세요\n",
        "* 전체 data를 traning data(70%)와 test data(30%)로 나누고 , random state는 1로 설정해주세요.\n",
        "* X에 대해서 StandardScaler로 scaling도 진행해주세요."
      ]
    },
    {
      "cell_type": "code",
      "metadata": {
        "id": "fZux2bnzEOxQ"
      },
      "source": [
        "# training data와  test data 분리 \n",
        "from sklearn.model_selection import train_test_split\n",
        "X_train, X_test, y_train, y_test = train_test_split(X, y, test_size=0.3, random_state=1)\n",
        "\n",
        "# 답안: scaling\n",
        "from sklearn.preprocessing import StandardScaler\n",
        "scaler = StandardScaler()\n",
        "X_train_sc = scaler.fit_transform(X_train)\n",
        "X_test_sc = scaler.transform(X_test)"
      ],
      "execution_count": 52,
      "outputs": []
    },
    {
      "cell_type": "markdown",
      "metadata": {
        "id": "_IhYihIaEOxS"
      },
      "source": [
        "일반 선형회귀는 다음과 같은 계수를 산출합니다."
      ]
    },
    {
      "cell_type": "code",
      "metadata": {
        "id": "0OHcMo7TEOxS",
        "colab": {
          "base_uri": "https://localhost:8080/",
          "height": 204
        },
        "outputId": "be7cc71b-fd87-49fa-d761-ee84719e1a86"
      },
      "source": [
        "from sklearn.linear_model import LinearRegression\n",
        "\n",
        "model_LR = LinearRegression(n_jobs=-1)\n",
        "model_LR.fit(X_train, y_train)\n",
        "pd.DataFrame(model_LR.coef_,\n",
        "            index = ['cylinders', 'displacement', 'horsepower', 'weight', 'acceleration'], \n",
        "             columns = ['Linear regression 계수'])"
      ],
      "execution_count": 50,
      "outputs": [
        {
          "output_type": "execute_result",
          "data": {
            "text/html": [
              "<div>\n",
              "<style scoped>\n",
              "    .dataframe tbody tr th:only-of-type {\n",
              "        vertical-align: middle;\n",
              "    }\n",
              "\n",
              "    .dataframe tbody tr th {\n",
              "        vertical-align: top;\n",
              "    }\n",
              "\n",
              "    .dataframe thead th {\n",
              "        text-align: right;\n",
              "    }\n",
              "</style>\n",
              "<table border=\"1\" class=\"dataframe\">\n",
              "  <thead>\n",
              "    <tr style=\"text-align: right;\">\n",
              "      <th></th>\n",
              "      <th>Linear regression 계수</th>\n",
              "    </tr>\n",
              "  </thead>\n",
              "  <tbody>\n",
              "    <tr>\n",
              "      <th>cylinders</th>\n",
              "      <td>-0.118256</td>\n",
              "    </tr>\n",
              "    <tr>\n",
              "      <th>displacement</th>\n",
              "      <td>-0.004993</td>\n",
              "    </tr>\n",
              "    <tr>\n",
              "      <th>horsepower</th>\n",
              "      <td>-0.029330</td>\n",
              "    </tr>\n",
              "    <tr>\n",
              "      <th>weight</th>\n",
              "      <td>-0.005315</td>\n",
              "    </tr>\n",
              "    <tr>\n",
              "      <th>acceleration</th>\n",
              "      <td>0.148552</td>\n",
              "    </tr>\n",
              "  </tbody>\n",
              "</table>\n",
              "</div>"
            ],
            "text/plain": [
              "              Linear regression 계수\n",
              "cylinders                -0.118256\n",
              "displacement             -0.004993\n",
              "horsepower               -0.029330\n",
              "weight                   -0.005315\n",
              "acceleration              0.148552"
            ]
          },
          "metadata": {},
          "execution_count": 50
        }
      ]
    },
    {
      "cell_type": "markdown",
      "metadata": {
        "id": "n0Z2HbbzEOxU"
      },
      "source": [
        "문제 2. alpha가 각각 0.01, 1, 100일 때의 Ridge, LASSO regression 모형을 만들어준 다음,  \n",
        "      학습시키세요. (random state는 1로 설정)"
      ]
    },
    {
      "cell_type": "code",
      "metadata": {
        "id": "RIkKZ88HEOxW",
        "colab": {
          "base_uri": "https://localhost:8080/"
        },
        "outputId": "1e1261b9-e3a2-4f08-f3e9-92b7a8d46ae0"
      },
      "source": [
        "from sklearn.linear_model import Ridge, Lasso, ElasticNet\n",
        "\n",
        "model_Ridge_0_01 = Ridge(alpha = 0.01, random_state = 1)## alpha가 0.01일 때 Ridge Regression\n",
        "model_Ridge_1 = Ridge(alpha = 1, random_state = 1)## alpha가 1일 때 Ridge Regression\n",
        "model_Ridge_100 = Ridge(alpha = 100, random_state = 1)## alpha가 100일 때 Ridge Regression\n",
        "model_Lasso_0_01 = Lasso(alpha = 0.01, random_state = 1)## alpha가 0.01일 때 LASSO Regression\n",
        "model_Lasso_1 = Lasso(alpha = 1, random_state = 1)## alpha가 1일 때 LASSO Regression\n",
        "model_Lasso_100 = Lasso(alpha = 100, random_state = 1)## alpha가 100일 때 LASSO Regression\n",
        "\n",
        "# 6개의 모형 training\n",
        "\n",
        "model_Ridge_0_01.fit(X_train, y_train)\n",
        "model_Ridge_1.fit(X_train, y_train)\n",
        "model_Ridge_100.fit(X_train, y_train)\n",
        "model_Lasso_0_01.fit(X_train, y_train)\n",
        "model_Lasso_1.fit(X_train, y_train)\n",
        "model_Lasso_100.fit(X_train, y_train)\n",
        "\n"
      ],
      "execution_count": 56,
      "outputs": [
        {
          "output_type": "execute_result",
          "data": {
            "text/plain": [
              "Lasso(alpha=100, copy_X=True, fit_intercept=True, max_iter=1000,\n",
              "      normalize=False, positive=False, precompute=False, random_state=1,\n",
              "      selection='cyclic', tol=0.0001, warm_start=False)"
            ]
          },
          "metadata": {},
          "execution_count": 56
        }
      ]
    },
    {
      "cell_type": "markdown",
      "metadata": {
        "id": "KQaUUXh8EOxW"
      },
      "source": [
        "문제 3. r2 score를 사용하여 각 모델의 설명력을 평가하고 비교해주세요."
      ]
    },
    {
      "cell_type": "code",
      "metadata": {
        "id": "ELEiIYCuEOxX",
        "colab": {
          "base_uri": "https://localhost:8080/"
        },
        "outputId": "f68961ea-8c5c-4031-cd82-baf54091d999"
      },
      "source": [
        "from sklearn.metrics import r2_score\n",
        "model_list = [model_Ridge_0_01, model_Ridge_1, model_Ridge_100,\n",
        "              model_Lasso_0_01, model_Lasso_1, model_Lasso_100]\n",
        "\n",
        "def print_r2_score(model):\n",
        "    print(F\"{r2_score(y_test, model.predict(X_test)):.5f} --- {model}\") ##____에 r2 score관련 코드를 작성하세요.\n",
        "\n",
        "for model in model_list:\n",
        "    print_r2_score(model)\n",
        "#출력 결과는 아래와 같음."
      ],
      "execution_count": 60,
      "outputs": [
        {
          "output_type": "stream",
          "name": "stdout",
          "text": [
            "0.72188 --- Ridge(alpha=0.01, copy_X=True, fit_intercept=True, max_iter=None,\n",
            "      normalize=False, random_state=1, solver='auto', tol=0.001)\n",
            "0.72188 --- Ridge(alpha=1, copy_X=True, fit_intercept=True, max_iter=None, normalize=False,\n",
            "      random_state=1, solver='auto', tol=0.001)\n",
            "0.72221 --- Ridge(alpha=100, copy_X=True, fit_intercept=True, max_iter=None,\n",
            "      normalize=False, random_state=1, solver='auto', tol=0.001)\n",
            "0.72177 --- Lasso(alpha=0.01, copy_X=True, fit_intercept=True, max_iter=1000,\n",
            "      normalize=False, positive=False, precompute=False, random_state=1,\n",
            "      selection='cyclic', tol=0.0001, warm_start=False)\n",
            "0.72797 --- Lasso(alpha=1, copy_X=True, fit_intercept=True, max_iter=1000, normalize=False,\n",
            "      positive=False, precompute=False, random_state=1, selection='cyclic',\n",
            "      tol=0.0001, warm_start=False)\n",
            "0.71441 --- Lasso(alpha=100, copy_X=True, fit_intercept=True, max_iter=1000,\n",
            "      normalize=False, positive=False, precompute=False, random_state=1,\n",
            "      selection='cyclic', tol=0.0001, warm_start=False)\n"
          ]
        }
      ]
    },
    {
      "cell_type": "markdown",
      "metadata": {
        "id": "H9dsJo3dEOxY"
      },
      "source": [
        "# 3 . 와인 분류 #\n",
        "당신은 와인 회사에 취직했습니다. \n",
        "회사는 당신에게 자사의 와인 중, 레드 와인과 화이트 와인을 구분할 수 있는 모델을 \n",
        "개발해야 월급을 준다고 합니다\n",
        "\n",
        "얼른 만들어봅시다! "
      ]
    },
    {
      "cell_type": "code",
      "metadata": {
        "id": "tFjj6WwnEOxY"
      },
      "source": [
        "import pandas as pd\n",
        "import matplotlib.pyplot as plt\n",
        "import seaborn as sns\n",
        "from sklearn.linear_model import LogisticRegression\n",
        "from sklearn import metrics\n",
        "from sklearn.metrics import confusion_matrix, accuracy_score, precision_score, recall_score, f1_score, roc_curve, roc_auc_score\n",
        "from sklearn.preprocessing import StandardScaler\n",
        "from sklearn.model_selection import train_test_split\n",
        "\n",
        "# 필요한 데이터 파일은 카페에 함께 업로드 해놨습니다 # \n",
        "# 다운받으시고 원하시는 방식대로 올바른 경로를 입력해서 파일을 읽어주세요! #\n",
        "df = pd.read_csv('/content/drive/MyDrive/비타민/7/wine.csv', header=None)"
      ],
      "execution_count": 62,
      "outputs": []
    },
    {
      "cell_type": "code",
      "metadata": {
        "id": "CVfOWqEkEOxZ",
        "colab": {
          "base_uri": "https://localhost:8080/",
          "height": 204
        },
        "outputId": "c86ccc45-0790-4095-f10b-0879a290eb6b"
      },
      "source": [
        "df.columns = ['fixed acidity', 'volatile acidity','citric acid','residual sugar'\n",
        "            ,'chlorides','free sulfur dioxide','total sulfur dioxide','density'\n",
        "             ,'pH','sulphates','alcohol','quality','class']\n",
        "df.head()"
      ],
      "execution_count": 63,
      "outputs": [
        {
          "output_type": "execute_result",
          "data": {
            "text/html": [
              "<div>\n",
              "<style scoped>\n",
              "    .dataframe tbody tr th:only-of-type {\n",
              "        vertical-align: middle;\n",
              "    }\n",
              "\n",
              "    .dataframe tbody tr th {\n",
              "        vertical-align: top;\n",
              "    }\n",
              "\n",
              "    .dataframe thead th {\n",
              "        text-align: right;\n",
              "    }\n",
              "</style>\n",
              "<table border=\"1\" class=\"dataframe\">\n",
              "  <thead>\n",
              "    <tr style=\"text-align: right;\">\n",
              "      <th></th>\n",
              "      <th>fixed acidity</th>\n",
              "      <th>volatile acidity</th>\n",
              "      <th>citric acid</th>\n",
              "      <th>residual sugar</th>\n",
              "      <th>chlorides</th>\n",
              "      <th>free sulfur dioxide</th>\n",
              "      <th>total sulfur dioxide</th>\n",
              "      <th>density</th>\n",
              "      <th>pH</th>\n",
              "      <th>sulphates</th>\n",
              "      <th>alcohol</th>\n",
              "      <th>quality</th>\n",
              "      <th>class</th>\n",
              "    </tr>\n",
              "  </thead>\n",
              "  <tbody>\n",
              "    <tr>\n",
              "      <th>0</th>\n",
              "      <td>7.4</td>\n",
              "      <td>0.70</td>\n",
              "      <td>0.00</td>\n",
              "      <td>1.9</td>\n",
              "      <td>0.076</td>\n",
              "      <td>11.0</td>\n",
              "      <td>34.0</td>\n",
              "      <td>0.9978</td>\n",
              "      <td>3.51</td>\n",
              "      <td>0.56</td>\n",
              "      <td>9.4</td>\n",
              "      <td>5</td>\n",
              "      <td>1</td>\n",
              "    </tr>\n",
              "    <tr>\n",
              "      <th>1</th>\n",
              "      <td>7.8</td>\n",
              "      <td>0.88</td>\n",
              "      <td>0.00</td>\n",
              "      <td>2.6</td>\n",
              "      <td>0.098</td>\n",
              "      <td>25.0</td>\n",
              "      <td>67.0</td>\n",
              "      <td>0.9968</td>\n",
              "      <td>3.20</td>\n",
              "      <td>0.68</td>\n",
              "      <td>9.8</td>\n",
              "      <td>5</td>\n",
              "      <td>1</td>\n",
              "    </tr>\n",
              "    <tr>\n",
              "      <th>2</th>\n",
              "      <td>7.8</td>\n",
              "      <td>0.76</td>\n",
              "      <td>0.04</td>\n",
              "      <td>2.3</td>\n",
              "      <td>0.092</td>\n",
              "      <td>15.0</td>\n",
              "      <td>54.0</td>\n",
              "      <td>0.9970</td>\n",
              "      <td>3.26</td>\n",
              "      <td>0.65</td>\n",
              "      <td>9.8</td>\n",
              "      <td>5</td>\n",
              "      <td>1</td>\n",
              "    </tr>\n",
              "    <tr>\n",
              "      <th>3</th>\n",
              "      <td>11.2</td>\n",
              "      <td>0.28</td>\n",
              "      <td>0.56</td>\n",
              "      <td>1.9</td>\n",
              "      <td>0.075</td>\n",
              "      <td>17.0</td>\n",
              "      <td>60.0</td>\n",
              "      <td>0.9980</td>\n",
              "      <td>3.16</td>\n",
              "      <td>0.58</td>\n",
              "      <td>9.8</td>\n",
              "      <td>6</td>\n",
              "      <td>1</td>\n",
              "    </tr>\n",
              "    <tr>\n",
              "      <th>4</th>\n",
              "      <td>7.4</td>\n",
              "      <td>0.70</td>\n",
              "      <td>0.00</td>\n",
              "      <td>1.9</td>\n",
              "      <td>0.076</td>\n",
              "      <td>11.0</td>\n",
              "      <td>34.0</td>\n",
              "      <td>0.9978</td>\n",
              "      <td>3.51</td>\n",
              "      <td>0.56</td>\n",
              "      <td>9.4</td>\n",
              "      <td>5</td>\n",
              "      <td>1</td>\n",
              "    </tr>\n",
              "  </tbody>\n",
              "</table>\n",
              "</div>"
            ],
            "text/plain": [
              "   fixed acidity  volatile acidity  citric acid  ...  alcohol  quality  class\n",
              "0            7.4              0.70         0.00  ...      9.4        5      1\n",
              "1            7.8              0.88         0.00  ...      9.8        5      1\n",
              "2            7.8              0.76         0.04  ...      9.8        5      1\n",
              "3           11.2              0.28         0.56  ...      9.8        6      1\n",
              "4            7.4              0.70         0.00  ...      9.4        5      1\n",
              "\n",
              "[5 rows x 13 columns]"
            ]
          },
          "metadata": {},
          "execution_count": 63
        }
      ]
    },
    {
      "cell_type": "code",
      "metadata": {
        "id": "afG37bXTEOxZ",
        "colab": {
          "base_uri": "https://localhost:8080/"
        },
        "outputId": "0a0405c4-c6fe-43db-e420-64d7140bbc7f"
      },
      "source": [
        "# 결측값 확인 #\n",
        "df.info()\n",
        "print('\\n결측값의 수\\n',df.isnull().sum())\n",
        "print('shape : ', df.shape)"
      ],
      "execution_count": 64,
      "outputs": [
        {
          "output_type": "stream",
          "name": "stdout",
          "text": [
            "<class 'pandas.core.frame.DataFrame'>\n",
            "RangeIndex: 6497 entries, 0 to 6496\n",
            "Data columns (total 13 columns):\n",
            " #   Column                Non-Null Count  Dtype  \n",
            "---  ------                --------------  -----  \n",
            " 0   fixed acidity         6497 non-null   float64\n",
            " 1   volatile acidity      6497 non-null   float64\n",
            " 2   citric acid           6497 non-null   float64\n",
            " 3   residual sugar        6497 non-null   float64\n",
            " 4   chlorides             6497 non-null   float64\n",
            " 5   free sulfur dioxide   6497 non-null   float64\n",
            " 6   total sulfur dioxide  6497 non-null   float64\n",
            " 7   density               6497 non-null   float64\n",
            " 8   pH                    6497 non-null   float64\n",
            " 9   sulphates             6497 non-null   float64\n",
            " 10  alcohol               6497 non-null   float64\n",
            " 11  quality               6497 non-null   int64  \n",
            " 12  class                 6497 non-null   int64  \n",
            "dtypes: float64(11), int64(2)\n",
            "memory usage: 660.0 KB\n",
            "\n",
            "결측값의 수\n",
            " fixed acidity           0\n",
            "volatile acidity        0\n",
            "citric acid             0\n",
            "residual sugar          0\n",
            "chlorides               0\n",
            "free sulfur dioxide     0\n",
            "total sulfur dioxide    0\n",
            "density                 0\n",
            "pH                      0\n",
            "sulphates               0\n",
            "alcohol                 0\n",
            "quality                 0\n",
            "class                   0\n",
            "dtype: int64\n",
            "shape :  (6497, 13)\n"
          ]
        }
      ]
    },
    {
      "cell_type": "code",
      "metadata": {
        "id": "mmvs8tWlEOxa",
        "colab": {
          "base_uri": "https://localhost:8080/",
          "height": 297
        },
        "outputId": "0d02b525-426d-440a-e4c2-f7004fd9e563"
      },
      "source": [
        "df.describe()"
      ],
      "execution_count": 65,
      "outputs": [
        {
          "output_type": "execute_result",
          "data": {
            "text/html": [
              "<div>\n",
              "<style scoped>\n",
              "    .dataframe tbody tr th:only-of-type {\n",
              "        vertical-align: middle;\n",
              "    }\n",
              "\n",
              "    .dataframe tbody tr th {\n",
              "        vertical-align: top;\n",
              "    }\n",
              "\n",
              "    .dataframe thead th {\n",
              "        text-align: right;\n",
              "    }\n",
              "</style>\n",
              "<table border=\"1\" class=\"dataframe\">\n",
              "  <thead>\n",
              "    <tr style=\"text-align: right;\">\n",
              "      <th></th>\n",
              "      <th>fixed acidity</th>\n",
              "      <th>volatile acidity</th>\n",
              "      <th>citric acid</th>\n",
              "      <th>residual sugar</th>\n",
              "      <th>chlorides</th>\n",
              "      <th>free sulfur dioxide</th>\n",
              "      <th>total sulfur dioxide</th>\n",
              "      <th>density</th>\n",
              "      <th>pH</th>\n",
              "      <th>sulphates</th>\n",
              "      <th>alcohol</th>\n",
              "      <th>quality</th>\n",
              "      <th>class</th>\n",
              "    </tr>\n",
              "  </thead>\n",
              "  <tbody>\n",
              "    <tr>\n",
              "      <th>count</th>\n",
              "      <td>6497.000000</td>\n",
              "      <td>6497.000000</td>\n",
              "      <td>6497.000000</td>\n",
              "      <td>6497.000000</td>\n",
              "      <td>6497.000000</td>\n",
              "      <td>6497.000000</td>\n",
              "      <td>6497.000000</td>\n",
              "      <td>6497.000000</td>\n",
              "      <td>6497.000000</td>\n",
              "      <td>6497.000000</td>\n",
              "      <td>6497.000000</td>\n",
              "      <td>6497.000000</td>\n",
              "      <td>6497.000000</td>\n",
              "    </tr>\n",
              "    <tr>\n",
              "      <th>mean</th>\n",
              "      <td>7.215307</td>\n",
              "      <td>0.339666</td>\n",
              "      <td>0.318633</td>\n",
              "      <td>5.443235</td>\n",
              "      <td>0.056034</td>\n",
              "      <td>30.525319</td>\n",
              "      <td>115.744574</td>\n",
              "      <td>0.994697</td>\n",
              "      <td>3.218501</td>\n",
              "      <td>0.531268</td>\n",
              "      <td>10.491801</td>\n",
              "      <td>5.818378</td>\n",
              "      <td>0.246114</td>\n",
              "    </tr>\n",
              "    <tr>\n",
              "      <th>std</th>\n",
              "      <td>1.296434</td>\n",
              "      <td>0.164636</td>\n",
              "      <td>0.145318</td>\n",
              "      <td>4.757804</td>\n",
              "      <td>0.035034</td>\n",
              "      <td>17.749400</td>\n",
              "      <td>56.521855</td>\n",
              "      <td>0.002999</td>\n",
              "      <td>0.160787</td>\n",
              "      <td>0.148806</td>\n",
              "      <td>1.192712</td>\n",
              "      <td>0.873255</td>\n",
              "      <td>0.430779</td>\n",
              "    </tr>\n",
              "    <tr>\n",
              "      <th>min</th>\n",
              "      <td>3.800000</td>\n",
              "      <td>0.080000</td>\n",
              "      <td>0.000000</td>\n",
              "      <td>0.600000</td>\n",
              "      <td>0.009000</td>\n",
              "      <td>1.000000</td>\n",
              "      <td>6.000000</td>\n",
              "      <td>0.987110</td>\n",
              "      <td>2.720000</td>\n",
              "      <td>0.220000</td>\n",
              "      <td>8.000000</td>\n",
              "      <td>3.000000</td>\n",
              "      <td>0.000000</td>\n",
              "    </tr>\n",
              "    <tr>\n",
              "      <th>25%</th>\n",
              "      <td>6.400000</td>\n",
              "      <td>0.230000</td>\n",
              "      <td>0.250000</td>\n",
              "      <td>1.800000</td>\n",
              "      <td>0.038000</td>\n",
              "      <td>17.000000</td>\n",
              "      <td>77.000000</td>\n",
              "      <td>0.992340</td>\n",
              "      <td>3.110000</td>\n",
              "      <td>0.430000</td>\n",
              "      <td>9.500000</td>\n",
              "      <td>5.000000</td>\n",
              "      <td>0.000000</td>\n",
              "    </tr>\n",
              "    <tr>\n",
              "      <th>50%</th>\n",
              "      <td>7.000000</td>\n",
              "      <td>0.290000</td>\n",
              "      <td>0.310000</td>\n",
              "      <td>3.000000</td>\n",
              "      <td>0.047000</td>\n",
              "      <td>29.000000</td>\n",
              "      <td>118.000000</td>\n",
              "      <td>0.994890</td>\n",
              "      <td>3.210000</td>\n",
              "      <td>0.510000</td>\n",
              "      <td>10.300000</td>\n",
              "      <td>6.000000</td>\n",
              "      <td>0.000000</td>\n",
              "    </tr>\n",
              "    <tr>\n",
              "      <th>75%</th>\n",
              "      <td>7.700000</td>\n",
              "      <td>0.400000</td>\n",
              "      <td>0.390000</td>\n",
              "      <td>8.100000</td>\n",
              "      <td>0.065000</td>\n",
              "      <td>41.000000</td>\n",
              "      <td>156.000000</td>\n",
              "      <td>0.996990</td>\n",
              "      <td>3.320000</td>\n",
              "      <td>0.600000</td>\n",
              "      <td>11.300000</td>\n",
              "      <td>6.000000</td>\n",
              "      <td>0.000000</td>\n",
              "    </tr>\n",
              "    <tr>\n",
              "      <th>max</th>\n",
              "      <td>15.900000</td>\n",
              "      <td>1.580000</td>\n",
              "      <td>1.660000</td>\n",
              "      <td>65.800000</td>\n",
              "      <td>0.611000</td>\n",
              "      <td>289.000000</td>\n",
              "      <td>440.000000</td>\n",
              "      <td>1.038980</td>\n",
              "      <td>4.010000</td>\n",
              "      <td>2.000000</td>\n",
              "      <td>14.900000</td>\n",
              "      <td>9.000000</td>\n",
              "      <td>1.000000</td>\n",
              "    </tr>\n",
              "  </tbody>\n",
              "</table>\n",
              "</div>"
            ],
            "text/plain": [
              "       fixed acidity  volatile acidity  ...      quality        class\n",
              "count    6497.000000       6497.000000  ...  6497.000000  6497.000000\n",
              "mean        7.215307          0.339666  ...     5.818378     0.246114\n",
              "std         1.296434          0.164636  ...     0.873255     0.430779\n",
              "min         3.800000          0.080000  ...     3.000000     0.000000\n",
              "25%         6.400000          0.230000  ...     5.000000     0.000000\n",
              "50%         7.000000          0.290000  ...     6.000000     0.000000\n",
              "75%         7.700000          0.400000  ...     6.000000     0.000000\n",
              "max        15.900000          1.580000  ...     9.000000     1.000000\n",
              "\n",
              "[8 rows x 13 columns]"
            ]
          },
          "metadata": {},
          "execution_count": 65
        }
      ]
    },
    {
      "cell_type": "markdown",
      "metadata": {
        "id": "PTSt9tPCEOxb"
      },
      "source": [
        "### 3-1 다음의 boxplot을 보고, 너무 과한 outlier를 어떻게 처리하면 좋을지 자유롭게 서술해주세요!\n",
        "수많은 outlier들이 속해있는 표본들을 모두 지워버리는 게 정답일까요? boxplot바깥의 표본이 너무 많으니 이를 데이터의 일부로 받아들이고 너무 과한 것만 지우는 게 정답일까요?  여러분의 생각을 자유롭게 서술해주세요!"
      ]
    },
    {
      "cell_type": "code",
      "metadata": {
        "id": "IFnJXYXFEOxb",
        "colab": {
          "base_uri": "https://localhost:8080/",
          "height": 625
        },
        "outputId": "206b0b5d-ad6a-4108-df39-23a95b545117"
      },
      "source": [
        "fig, axs = plt.subplots(nrows = 3, figsize = (10,8))\n",
        "\n",
        "sns.boxplot(df['residual sugar'], ax = axs[0])\n",
        "sns.boxplot(df['free sulfur dioxide'], ax = axs[1])\n",
        "sns.boxplot(df['total sulfur dioxide'], ax = axs[2])\n",
        "fig.subplots_adjust(hspace=1)\n",
        "plt.show()"
      ],
      "execution_count": 66,
      "outputs": [
        {
          "output_type": "stream",
          "name": "stderr",
          "text": [
            "/usr/local/lib/python3.7/dist-packages/seaborn/_decorators.py:43: FutureWarning: Pass the following variable as a keyword arg: x. From version 0.12, the only valid positional argument will be `data`, and passing other arguments without an explicit keyword will result in an error or misinterpretation.\n",
            "  FutureWarning\n",
            "/usr/local/lib/python3.7/dist-packages/seaborn/_decorators.py:43: FutureWarning: Pass the following variable as a keyword arg: x. From version 0.12, the only valid positional argument will be `data`, and passing other arguments without an explicit keyword will result in an error or misinterpretation.\n",
            "  FutureWarning\n",
            "/usr/local/lib/python3.7/dist-packages/seaborn/_decorators.py:43: FutureWarning: Pass the following variable as a keyword arg: x. From version 0.12, the only valid positional argument will be `data`, and passing other arguments without an explicit keyword will result in an error or misinterpretation.\n",
            "  FutureWarning\n"
          ]
        },
        {
          "output_type": "display_data",
          "data": {
            "image/png": "[encoded data removed]",
            "text/plain": [
              "<Figure size 720x576 with 3 Axes>"
            ]
          },
          "metadata": {
            "needs_background": "light"
          }
        }
      ]
    },
    {
      "cell_type": "markdown",
      "metadata": {
        "id": "hORdC9C0EOxc"
      },
      "source": [
        "##### 문제 part #####\n",
        "각 column에서 boxplot으로부터 가장 멀리 떨어진 index를 drop한다."
      ]
    },
    {
      "cell_type": "markdown",
      "metadata": {
        "id": "9IoBmYbQEOxf"
      },
      "source": [
        "#### 3-2 당신은 그냥 너무 큰 outlier가 있는 와인을 지워버리기로 결정합니다! 아래와 같은 과정으로 지워버린 후에 이제 나머지 전처리를 진행하고자 합니다\n",
        "모델의 학습을 위해 Standard Scaler를 이용해 정규화를 진행해준 뒤, train 과 test 세트를 분리해주세요! (단, test_size = 0.2, random_state=42로 진행해주세요!)"
      ]
    },
    {
      "cell_type": "code",
      "metadata": {
        "id": "2GqmCcTxEOxf",
        "colab": {
          "base_uri": "https://localhost:8080/"
        },
        "outputId": "63fe783c-c1d2-4171-c544-158791e7a968"
      },
      "source": [
        "## 2개만 줄어든 이유는 free dioxide와 total dioxide 각각 너무 큰 outlier가 나온 게 같은 index여서 그렇습니당\n",
        "print('삭제 전 shape : ', df.shape)\n",
        "df.drop(df[df['residual sugar'] == 65.800000].index, inplace= True) \n",
        "df.drop(df[df['free sulfur dioxide'] == 289.000000].index, inplace= True)\n",
        "df.drop(df[df['total sulfur dioxide'] == 440.000000].index, inplace= True)\n",
        "print('삭제 후 shape : ',df.shape)"
      ],
      "execution_count": 67,
      "outputs": [
        {
          "output_type": "stream",
          "name": "stdout",
          "text": [
            "삭제 전 shape :  (6497, 13)\n",
            "삭제 후 shape :  (6495, 13)\n"
          ]
        }
      ]
    },
    {
      "cell_type": "code",
      "metadata": {
        "scrolled": false,
        "id": "cYb-wX4-EOxg",
        "colab": {
          "base_uri": "https://localhost:8080/",
          "height": 625
        },
        "outputId": "3af7aad0-5f25-43b6-d194-b6643e808687"
      },
      "source": [
        "fig, axs = plt.subplots(nrows = 3, figsize = (10,8))\n",
        "\n",
        "sns.boxplot(df['residual sugar'], ax = axs[0])\n",
        "sns.boxplot(df['free sulfur dioxide'], ax = axs[1])\n",
        "sns.boxplot(df['total sulfur dioxide'], ax = axs[2])\n",
        "fig.subplots_adjust(hspace=1)\n",
        "plt.show()"
      ],
      "execution_count": 68,
      "outputs": [
        {
          "output_type": "stream",
          "name": "stderr",
          "text": [
            "/usr/local/lib/python3.7/dist-packages/seaborn/_decorators.py:43: FutureWarning: Pass the following variable as a keyword arg: x. From version 0.12, the only valid positional argument will be `data`, and passing other arguments without an explicit keyword will result in an error or misinterpretation.\n",
            "  FutureWarning\n",
            "/usr/local/lib/python3.7/dist-packages/seaborn/_decorators.py:43: FutureWarning: Pass the following variable as a keyword arg: x. From version 0.12, the only valid positional argument will be `data`, and passing other arguments without an explicit keyword will result in an error or misinterpretation.\n",
            "  FutureWarning\n",
            "/usr/local/lib/python3.7/dist-packages/seaborn/_decorators.py:43: FutureWarning: Pass the following variable as a keyword arg: x. From version 0.12, the only valid positional argument will be `data`, and passing other arguments without an explicit keyword will result in an error or misinterpretation.\n",
            "  FutureWarning\n"
          ]
        },
        {
          "output_type": "display_data",
          "data": {
            "image/png": "[encoded data removed]",
            "text/plain": [
              "<Figure size 720x576 with 3 Axes>"
            ]
          },
          "metadata": {
            "needs_background": "light"
          }
        }
      ]
    },
    {
      "cell_type": "code",
      "metadata": {
        "id": "giOcx064EOxh"
      },
      "source": [
        "df_features = df.iloc[:,:-1]\n",
        "df_labels = df['class']"
      ],
      "execution_count": 71,
      "outputs": []
    },
    {
      "cell_type": "code",
      "metadata": {
        "id": "WGlfqHgGEOxh"
      },
      "source": [
        "### 답안 작성 part ###\n",
        "\n",
        "# 스케일링\n",
        "from sklearn.preprocessing import StandardScaler\n",
        "scaler = StandardScaler()\n",
        "df_scaled = scaler.fit_transform(df_features)\n",
        "df_scaled = pd.DataFrame(df_scaled, columns = df_features.columns)\n",
        "# train, test 분리\n",
        "from sklearn.model_selection import train_test_split\n",
        "x_train, x_test, y_train, y_test = train_test_split(df_scaled, df_labels, test_size=0.2, random_state=42)"
      ],
      "execution_count": 78,
      "outputs": []
    },
    {
      "cell_type": "markdown",
      "metadata": {
        "id": "dn5CqanlEOxi"
      },
      "source": [
        "### 3-2 Logistic Regression을 이용해 모델에 데이터를 학습시키고, 그 결과를 아래의 get_clf_eval 함수를 이용해 확인해주세요"
      ]
    },
    {
      "cell_type": "code",
      "metadata": {
        "scrolled": false,
        "id": "HW2SnmuqEOxj"
      },
      "source": [
        "### 답안 작성 part ###\n",
        "from sklearn.linear_model import LogisticRegression\n",
        "lr = LogisticRegression()\n",
        "lr.fit(x_train, y_train)\n",
        "preds = lr.predict(x_test)"
      ],
      "execution_count": 81,
      "outputs": []
    },
    {
      "cell_type": "code",
      "metadata": {
        "id": "8mdaaQiBEOxj",
        "colab": {
          "base_uri": "https://localhost:8080/"
        },
        "outputId": "ec67d87b-7efe-47a8-8d36-3e181d90ef42"
      },
      "source": [
        "def get_clf_eval(y_test, pred=None, pred_proba=None):\n",
        "    confusion = confusion_matrix( y_test, preds)\n",
        "    accuracy = accuracy_score(y_test , preds)\n",
        "    precision = precision_score(y_test , preds)\n",
        "    recall = recall_score(y_test , preds)\n",
        "    f1 = f1_score(y_test,preds)\n",
        "    print('오차 행렬')\n",
        "    print(confusion)\n",
        "    print('정확도: {0:.4f}, 정밀도: {1:.4f}, 재현율: {2:.4f},F1: {3:.4f}'.format(accuracy, precision, recall, f1))\n",
        "get_clf_eval(y_test,preds)"
      ],
      "execution_count": 82,
      "outputs": [
        {
          "output_type": "stream",
          "name": "stdout",
          "text": [
            "오차 행렬\n",
            "[[954   3]\n",
            " [  5 337]]\n",
            "정확도: 0.9938, 정밀도: 0.9912, 재현율: 0.9854,F1: 0.9883\n"
          ]
        }
      ]
    },
    {
      "cell_type": "markdown",
      "metadata": {
        "id": "Zv4rjsznEOxl"
      },
      "source": [
        "### 3-3 모델의 정확도가 꽤나 높게 나왔습니다. Logistic Regression은 어떤 원리로 작동하길래 회귀 임에도 불구하고 이진분류에 있어 이렇게 높은 정확도를 낼 수 있었는지 서술해주세요! "
      ]
    },
    {
      "cell_type": "markdown",
      "metadata": {
        "id": "15OHQPt3EOxl"
      },
      "source": [
        "#### 답안 작성 part ####\n"
      ]
    },
    {
      "cell_type": "markdown",
      "metadata": {
        "id": "qvotJLBREOxm"
      },
      "source": [
        "## * 로지스틱 회귀의 규제화\n",
        "문제1. 위에서 구한 와인분류 Logistic regression에 대해 규제화를 시행하기 위해,  \n",
        "penalty가 'l1', 'l2'이고, C(=1/alpha)값이 10, 1, 0인 logistic regression 모형을 6개 만들어주세요."
      ]
    },
    {
      "cell_type": "code",
      "metadata": {
        "id": "rXNaD_kGEOxm"
      },
      "source": [
        "LR_l2_10 = LogisticRegression(penalty = 'l2', C = 10.0)\n",
        "LR_l2_1 = LogisticRegression(penalty = 'l2', C = 1.0)\n",
        "LR_l2_0_1 = LogisticRegression(penalty = 'l2', C = 0.1)\n",
        "LR_l1_10 = LogisticRegression(penalty = 'l1', C = 10.0, solver = 'liblinear')\n",
        "LR_l1_1 = LogisticRegression(penalty = 'l1', C = 1.0, solver = 'liblinear')\n",
        "LR_l1_0_1 = LogisticRegression(penalty = 'l1', C = 0.1, solver = 'liblinear')\n",
        "\n"
      ],
      "execution_count": 83,
      "outputs": []
    },
    {
      "cell_type": "markdown",
      "metadata": {
        "id": "OXtNGpxJEOxn"
      },
      "source": [
        "문제2. 위의 6개 모형을 training data로 학습시키고, 각 모형의 정확도를 구하세요."
      ]
    },
    {
      "cell_type": "code",
      "metadata": {
        "id": "c9NoeH0nEOxn",
        "colab": {
          "base_uri": "https://localhost:8080/"
        },
        "outputId": "3b1af50a-7741-4738-dc18-cf66323d08f3"
      },
      "source": [
        "model_list = [LR_l2_10, LR_l2_1, LR_l2_0_1, LR_l1_10, LR_l1_1, LR_l1_0_1]\n",
        "\n",
        "def print_accuracy_after_penalty(model):\n",
        "    model.fit(x_train, y_train)\n",
        "    print(F'Training accuracy with {model.penalty} and λ={model.C}:', model.score(x_train, y_train))\n",
        "    print(F'Test accuracy with {model.penalty} and λ={model.C}:', model.score(x_test, y_test))\n",
        "    print('-'*60)\n",
        "    \n",
        "for model in model_list:\n",
        "    print_accuracy_after_penalty(model)"
      ],
      "execution_count": 84,
      "outputs": [
        {
          "output_type": "stream",
          "name": "stdout",
          "text": [
            "Training accuracy with l2 and λ=10.0: 0.9957659738260201\n",
            "Test accuracy with l2 and λ=10.0: 0.9946112394149346\n",
            "------------------------------------------------------------\n",
            "Training accuracy with l2 and λ=1.0: 0.9953810623556582\n",
            "Test accuracy with l2 and λ=1.0: 0.993841416474211\n",
            "------------------------------------------------------------\n",
            "Training accuracy with l2 and λ=0.1: 0.9932640492686682\n",
            "Test accuracy with l2 and λ=0.1: 0.9892224788298691\n",
            "------------------------------------------------------------\n",
            "Training accuracy with l1 and λ=10.0: 0.9955735180908392\n",
            "Test accuracy with l1 and λ=10.0: 0.993841416474211\n",
            "------------------------------------------------------------\n",
            "Training accuracy with l1 and λ=1.0: 0.9955735180908392\n",
            "Test accuracy with l1 and λ=1.0: 0.9946112394149346\n",
            "------------------------------------------------------------\n",
            "Training accuracy with l1 and λ=0.1: 0.9949961508852964\n",
            "Test accuracy with l1 and λ=0.1: 0.99153194765204\n",
            "------------------------------------------------------------\n"
          ]
        }
      ]
    },
    {
      "cell_type": "markdown",
      "metadata": {
        "id": "0VE9OB8oEOxn"
      },
      "source": [
        "문제3. Ridge와 LASSO를 비교하세요."
      ]
    },
    {
      "cell_type": "markdown",
      "metadata": {
        "id": "YDIsbqpcEOxo"
      },
      "source": [
        "* 공통점: 기존 LSE 방식에서 penalty를 더해 bias를 감수하면서 variance를 낮춰 예측 정확도를 높인다.\n",
        "* 차이점(2가지 이상): \n",
        "** 릿지는 변수를 선택할 수 없지만 라쏘는 변수 선택이 가능하다.\n",
        "** 릿지는 closed form이 존재하지만 라쏘는 존재하지 않다."
      ]
    },
    {
      "cell_type": "markdown",
      "metadata": {
        "id": "AOyaZCt2EOxo"
      },
      "source": [
        "# 4. 소프트맥스 문제\n",
        "\n",
        "\n",
        "**4-1 로지스틱 회귀와 소프트맥스 회귀에 대해 설명해주세요**"
      ]
    },
    {
      "cell_type": "markdown",
      "metadata": {
        "id": "HY5Q3--IEOxo"
      },
      "source": [
        ""
      ]
    },
    {
      "cell_type": "code",
      "metadata": {
        "id": "Dm5KB97-EOxp"
      },
      "source": [
        "import pandas as pd\n",
        "import seaborn as sns\n",
        "from sklearn.preprocessing import StandardScaler\n",
        "from sklearn.model_selection import train_test_split"
      ],
      "execution_count": 85,
      "outputs": []
    },
    {
      "cell_type": "code",
      "metadata": {
        "id": "MjYzyk1REOxp",
        "colab": {
          "base_uri": "https://localhost:8080/",
          "height": 204
        },
        "outputId": "27fc8e55-0a33-468f-9369-9bfe713cf6e9"
      },
      "source": [
        "##데이터셋 불러오기\n",
        "iris = sns.load_dataset('iris')\n",
        "iris.head()"
      ],
      "execution_count": 86,
      "outputs": [
        {
          "output_type": "execute_result",
          "data": {
            "text/html": [
              "<div>\n",
              "<style scoped>\n",
              "    .dataframe tbody tr th:only-of-type {\n",
              "        vertical-align: middle;\n",
              "    }\n",
              "\n",
              "    .dataframe tbody tr th {\n",
              "        vertical-align: top;\n",
              "    }\n",
              "\n",
              "    .dataframe thead th {\n",
              "        text-align: right;\n",
              "    }\n",
              "</style>\n",
              "<table border=\"1\" class=\"dataframe\">\n",
              "  <thead>\n",
              "    <tr style=\"text-align: right;\">\n",
              "      <th></th>\n",
              "      <th>sepal_length</th>\n",
              "      <th>sepal_width</th>\n",
              "      <th>petal_length</th>\n",
              "      <th>petal_width</th>\n",
              "      <th>species</th>\n",
              "    </tr>\n",
              "  </thead>\n",
              "  <tbody>\n",
              "    <tr>\n",
              "      <th>0</th>\n",
              "      <td>5.1</td>\n",
              "      <td>3.5</td>\n",
              "      <td>1.4</td>\n",
              "      <td>0.2</td>\n",
              "      <td>setosa</td>\n",
              "    </tr>\n",
              "    <tr>\n",
              "      <th>1</th>\n",
              "      <td>4.9</td>\n",
              "      <td>3.0</td>\n",
              "      <td>1.4</td>\n",
              "      <td>0.2</td>\n",
              "      <td>setosa</td>\n",
              "    </tr>\n",
              "    <tr>\n",
              "      <th>2</th>\n",
              "      <td>4.7</td>\n",
              "      <td>3.2</td>\n",
              "      <td>1.3</td>\n",
              "      <td>0.2</td>\n",
              "      <td>setosa</td>\n",
              "    </tr>\n",
              "    <tr>\n",
              "      <th>3</th>\n",
              "      <td>4.6</td>\n",
              "      <td>3.1</td>\n",
              "      <td>1.5</td>\n",
              "      <td>0.2</td>\n",
              "      <td>setosa</td>\n",
              "    </tr>\n",
              "    <tr>\n",
              "      <th>4</th>\n",
              "      <td>5.0</td>\n",
              "      <td>3.6</td>\n",
              "      <td>1.4</td>\n",
              "      <td>0.2</td>\n",
              "      <td>setosa</td>\n",
              "    </tr>\n",
              "  </tbody>\n",
              "</table>\n",
              "</div>"
            ],
            "text/plain": [
              "   sepal_length  sepal_width  petal_length  petal_width species\n",
              "0           5.1          3.5           1.4          0.2  setosa\n",
              "1           4.9          3.0           1.4          0.2  setosa\n",
              "2           4.7          3.2           1.3          0.2  setosa\n",
              "3           4.6          3.1           1.5          0.2  setosa\n",
              "4           5.0          3.6           1.4          0.2  setosa"
            ]
          },
          "metadata": {},
          "execution_count": 86
        }
      ]
    },
    {
      "cell_type": "markdown",
      "metadata": {
        "id": "wkSN6649EOxp"
      },
      "source": [
        "- 'sepal_length' ~ 'petal_width' 4개의 변수를 통해 붓꽃의 종을 분류하는 모델을 학습하려고 합니다. "
      ]
    },
    {
      "cell_type": "markdown",
      "metadata": {
        "id": "XYUXpCNtEOxq"
      },
      "source": [
        "**4-2 데이터 분류**  "
      ]
    },
    {
      "cell_type": "code",
      "metadata": {
        "id": "somy9hQYEOxq"
      },
      "source": [
        "## X_data와 y_data로 분류해주세요.\n",
        "x_data = iris.iloc[:, :-1]\n",
        "y_data = iris.iloc[:, [-1]]"
      ],
      "execution_count": 110,
      "outputs": []
    },
    {
      "cell_type": "code",
      "metadata": {
        "id": "eySGLWwyEOxq"
      },
      "source": [
        "## X_data를 StandardScaler를 통해 정규화해주세요.\n",
        "scaler = StandardScaler()\n",
        "x_data = scaler.fit_transform(x_data)"
      ],
      "execution_count": 111,
      "outputs": []
    },
    {
      "cell_type": "code",
      "metadata": {
        "id": "0r7b7OgGEOxr"
      },
      "source": [
        "## X_data와 y_data를 학습데이터와 테스트데이터로 분류해주세요. \n",
        "## test_size = 0.2, randomstate = 10\n",
        "\n",
        "x_train, x_test, y_train, y_test = train_test_split(x_data, y_data, test_size=0.2, random_state=10)"
      ],
      "execution_count": 112,
      "outputs": []
    },
    {
      "cell_type": "markdown",
      "metadata": {
        "id": "OeSVUWagEOxs"
      },
      "source": [
        "**1-3 원 핫 인코딩**"
      ]
    },
    {
      "cell_type": "code",
      "metadata": {
        "id": "s93gfgv2EOxt"
      },
      "source": [
        "## y_train과 y_test를 원 핫 인코딩을 통해 클래스 분류해주세요.\n",
        "## 값 array 형태로 나오게 해주세요. (변환 방식은 자유롭게 하셔도 됩니다.)\n",
        "\n",
        "from sklearn.preprocessing import OneHotEncoder\n",
        "o_encoder = OneHotEncoder(sparse = False)\n",
        "y_train = o_encoder.fit_transform(y_train)\n",
        "y_test = o_encoder.fit_transform(y_test)\n"
      ],
      "execution_count": 114,
      "outputs": []
    },
    {
      "cell_type": "markdown",
      "metadata": {
        "id": "Daj8GvlOEOxt"
      },
      "source": [
        "**1-4 소프트맥스 회귀 모델학습**"
      ]
    },
    {
      "cell_type": "code",
      "metadata": {
        "id": "Y6NSa8xbEOxt"
      },
      "source": [
        "from tensorflow.keras.models import Sequential\n",
        "from tensorflow.keras.layers import Dense, Activation"
      ],
      "execution_count": 115,
      "outputs": []
    },
    {
      "cell_type": "code",
      "metadata": {
        "id": "2y_wA45iEOxu"
      },
      "source": [
        "## 입력값, 출력값과 어떤 함수를 사용할지 빈칸을 채워주세요.\n",
        "\n",
        "model = Sequential()\n",
        "model.add(Dense(input_dim= 4 , units= 3 , activation= 'softmax'))"
      ],
      "execution_count": 117,
      "outputs": []
    },
    {
      "cell_type": "code",
      "metadata": {
        "id": "QXmvDZaUEOxu",
        "colab": {
          "base_uri": "https://localhost:8080/"
        },
        "outputId": "0bf46715-128b-4914-fa1b-3c4a9d9d54c9"
      },
      "source": [
        "## 모델학습을 진행해주세요.\n",
        "## 크로스엔트로피를 사용한 경사하강법으로 최적의 회귀계수와 편향을 구합니다. \n",
        "## 가중치 갱신(batch_size)을 10개씩 하도록 설정하고 데이터셋 50번 반복 학습(epochs)하도록 설정합니다. 진행상황(verbose)은 보여지지 않게 설정해주세요. \n",
        "\n",
        "model.compile(optimizer= 'sgd' , loss='categorical_crossentropy' , metrics=['accuracy'])\n",
        "model.fit(x_train, y_train,  batch_size=10, epochs=50, verbose=0)"
      ],
      "execution_count": 118,
      "outputs": [
        {
          "output_type": "execute_result",
          "data": {
            "text/plain": [
              "<keras.callbacks.History at 0x7f6fa0334a10>"
            ]
          },
          "metadata": {},
          "execution_count": 118
        }
      ]
    },
    {
      "cell_type": "code",
      "metadata": {
        "id": "R4JlUrowEOxu",
        "colab": {
          "base_uri": "https://localhost:8080/"
        },
        "outputId": "33c87361-29ea-4167-8879-681baeb46b15"
      },
      "source": [
        "## 테스트를 진행해 정확도를 측정해주세요.\n",
        "score = model.evaluate(x_test, y_test)\n",
        "print('Test accuracy : ', score[1])"
      ],
      "execution_count": 120,
      "outputs": [
        {
          "output_type": "stream",
          "name": "stdout",
          "text": [
            "1/1 [==============================] - 0s 134ms/step - loss: 0.4379 - accuracy: 0.8667\n",
            "Test accuracy :  0.8666666746139526\n"
          ]
        }
      ]
    }
  ]
}