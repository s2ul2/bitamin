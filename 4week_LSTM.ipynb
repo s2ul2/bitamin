{
  "nbformat": 4,
  "nbformat_minor": 0,
  "metadata": {
    "colab": {
      "name": "4week_LSTM.ipynb",
      "provenance": [],
      "collapsed_sections": [],
      "authorship_tag": "ABX9TyO3IV252NeQdkJP+a9llD78",
      "include_colab_link": true
    },
    "kernelspec": {
      "name": "python3",
      "display_name": "Python 3"
    },
    "language_info": {
      "name": "python"
    },
    "accelerator": "GPU"
  },
  "cells": [
    {
      "cell_type": "markdown",
      "metadata": {
        "id": "view-in-github",
        "colab_type": "text"
      },
      "source": [
        "<a href=\"https://colab.research.google.com/github/s2ul2/bitamin/blob/main/4week_LSTM.ipynb\" target=\"_parent\"><img src=\"https://colab.research.google.com/assets/colab-badge.svg\" alt=\"Open In Colab\"/></a>"
      ]
    },
    {
      "cell_type": "markdown",
      "source": [
        "# 간단실습"
      ],
      "metadata": {
        "id": "egzrLDEBu7MD"
      }
    },
    {
      "cell_type": "code",
      "execution_count": 1,
      "metadata": {
        "id": "3nOnPA_bqfI0"
      },
      "outputs": [],
      "source": [
        "%matplotlib inline\n",
        "import matplotlib.pyplot as plt\n",
        "import numpy as np\n",
        "from tensorflow.keras.datasets import imdb\n",
        "from tensorflow.keras.preprocessing.sequence import pad_sequences\n",
        "from tensorflow.keras.models import Sequential\n",
        "from tensorflow.keras.layers import Dense, LSTM, Embedding, Dropout\n",
        "from tensorflow.keras.callbacks import EarlyStopping, ModelCheckpoint\n",
        "from tensorflow.keras.models import load_model"
      ]
    },
    {
      "cell_type": "code",
      "source": [
        "(X_train, y_train), (X_test, y_test) = imdb.load_data()"
      ],
      "metadata": {
        "colab": {
          "base_uri": "https://localhost:8080/"
        },
        "id": "Zx3aRjRkr5rZ",
        "outputId": "499020d1-74ee-43f7-911f-e31495ebc502"
      },
      "execution_count": 2,
      "outputs": [
        {
          "output_type": "stream",
          "name": "stdout",
          "text": [
            "Downloading data from https://storage.googleapis.com/tensorflow/tf-keras-datasets/imdb.npz\n",
            "17465344/17464789 [==============================] - 0s 0us/step\n",
            "17473536/17464789 [==============================] - 0s 0us/step\n"
          ]
        }
      ]
    },
    {
      "cell_type": "code",
      "source": [
        "reviews_length = [len(review) for review in X_train]\n",
        "\n",
        "plt.subplot(1, 2, 1)\n",
        "plt.boxplot(reviews_length)\n",
        "plt.subplot(1, 2, 2)\n",
        "plt.hist(reviews_length, bins = 50)\n",
        "plt.show()"
      ],
      "metadata": {
        "colab": {
          "base_uri": "https://localhost:8080/",
          "height": 265
        },
        "id": "s4IxS_Qar6Az",
        "outputId": "493dabba-869d-45cc-86d8-e2dba15a40a1"
      },
      "execution_count": 3,
      "outputs": [
        {
          "output_type": "display_data",
          "data": {
            "text/plain": [
              "<Figure size 432x288 with 2 Axes>"
            ],
            "image/png": "[encoded data removed]"
          },
          "metadata": {
            "needs_background": "light"
          }
        }
      ]
    },
    {
      "cell_type": "code",
      "source": [
        "# 각 레이블 분포 확인\n",
        "unique_elements, counts_elements = np.unique(y_train, return_counts = True)\n",
        "print('각 레이블에 대한 빈도수 : ')\n",
        "print(np.asarray((unique_elements, counts_elements))) # 부정 50% 긍정 50% 확인"
      ],
      "metadata": {
        "colab": {
          "base_uri": "https://localhost:8080/"
        },
        "id": "wrUigKdnr6G9",
        "outputId": "0358c9e1-bc80-4ff2-fe13-2126c89d7e1a"
      },
      "execution_count": 4,
      "outputs": [
        {
          "output_type": "stream",
          "name": "stdout",
          "text": [
            "각 레이블에 대한 빈도수 : \n",
            "[[    0     1]\n",
            " [12500 12500]]\n"
          ]
        }
      ]
    },
    {
      "cell_type": "code",
      "source": [
        "word_to_index = imdb.get_word_index()\n",
        "index_to_word = {}\n",
        "for k, v in word_to_index.items():\n",
        "    index_to_word[v+3] = k"
      ],
      "metadata": {
        "colab": {
          "base_uri": "https://localhost:8080/"
        },
        "id": "t50cf0iDr6K4",
        "outputId": "b16bef3c-9d87-4e71-ab58-0159086bc36e"
      },
      "execution_count": 5,
      "outputs": [
        {
          "output_type": "stream",
          "name": "stdout",
          "text": [
            "Downloading data from https://storage.googleapis.com/tensorflow/tf-keras-datasets/imdb_word_index.json\n",
            "1646592/1641221 [==============================] - 0s 0us/step\n",
            "1654784/1641221 [==============================] - 0s 0us/step\n"
          ]
        }
      ]
    },
    {
      "cell_type": "code",
      "source": [
        "# 단어 확인\n",
        "print('빈도수 상위 1등 단어 : {}'.format(index_to_word[4]))\n",
        "print('빈도수 상위 3938등 단어 : {}'.format(index_to_word[3941]))"
      ],
      "metadata": {
        "colab": {
          "base_uri": "https://localhost:8080/"
        },
        "id": "Q4EkDA-yr6P7",
        "outputId": "50ef1b30-704e-4de5-92ee-ca97b43dc90b"
      },
      "execution_count": 6,
      "outputs": [
        {
          "output_type": "stream",
          "name": "stdout",
          "text": [
            "빈도수 상위 1등 단어 : the\n",
            "빈도수 상위 3938등 단어 : suited\n"
          ]
        }
      ]
    },
    {
      "cell_type": "code",
      "source": [
        "for index, token in enumerate((\"<pad>\", \"<sos>\", \"<unk>\")):\n",
        "    index_to_word[index] = token\n",
        "\n",
        "print(' '.join([index_to_word[index] for index in X_train[0]]))"
      ],
      "metadata": {
        "colab": {
          "base_uri": "https://localhost:8080/"
        },
        "id": "JbQkNzZQr6VG",
        "outputId": "15e6899a-cb27-4ab1-b733-f30779fc749e"
      },
      "execution_count": 7,
      "outputs": [
        {
          "output_type": "stream",
          "name": "stdout",
          "text": [
            "<sos> this film was just brilliant casting location scenery story direction everyone's really suited the part they played and you could just imagine being there robert redford's is an amazing actor and now the same being director norman's father came from the same scottish island as myself so i loved the fact there was a real connection with this film the witty remarks throughout the film were great it was just brilliant so much that i bought the film as soon as it was released for retail and would recommend it to everyone to watch and the fly fishing was amazing really cried at the end it was so sad and you know what they say if you cry at a film it must have been good and this definitely was also congratulations to the two little boy's that played the part's of norman and paul they were just brilliant children are often left out of the praising list i think because the stars that play them all grown up are such a big profile for the whole film but these children are amazing and should be praised for what they have done don't you think the whole story was so lovely because it was true and was someone's life after all that was shared with us all\n"
          ]
        }
      ]
    },
    {
      "cell_type": "code",
      "source": [
        "# 모델 구축\n",
        "vocab_size = 10000\n",
        "(X_train, y_train), (X_test, y_test) = imdb.load_data(num_words = vocab_size)"
      ],
      "metadata": {
        "id": "KYJ3MHlJr6aJ"
      },
      "execution_count": 8,
      "outputs": []
    },
    {
      "cell_type": "code",
      "source": [
        "max_len = 500\n",
        "X_train = pad_sequences(X_train, maxlen = max_len)\n",
        "X_test = pad_sequences(X_test, maxlen = max_len)\n",
        "\n",
        "print(X_train.shape, X_test.shape)"
      ],
      "metadata": {
        "colab": {
          "base_uri": "https://localhost:8080/"
        },
        "id": "yg9RyzaAr6ek",
        "outputId": "e41cb45c-d37a-4382-c2fb-2d60a4a9e041"
      },
      "execution_count": 9,
      "outputs": [
        {
          "output_type": "stream",
          "name": "stdout",
          "text": [
            "(25000, 500) (25000, 500)\n"
          ]
        }
      ]
    },
    {
      "cell_type": "code",
      "source": [
        "model = Sequential()\n",
        "model.add(Embedding(vocab_size, 128, input_length = max_len))\n",
        "model.add(LSTM(128))\n",
        "model.add(Dropout(0.2))\n",
        "model.add(Dense(128, activation = 'relu'))\n",
        "model.add(Dropout(0.25))\n",
        "model.add(Dense(1, activation = 'sigmoid'))\n",
        "\n",
        "model.compile(optimizer = 'adam', loss = 'binary_crossentropy', metrics = ['accuracy'])\n",
        "model.summary()"
      ],
      "metadata": {
        "colab": {
          "base_uri": "https://localhost:8080/"
        },
        "id": "Cl7QVYejts8Q",
        "outputId": "964bcb0e-001d-45bc-ad82-712b7814ad91"
      },
      "execution_count": 10,
      "outputs": [
        {
          "output_type": "stream",
          "name": "stdout",
          "text": [
            "Model: \"sequential\"\n",
            "_________________________________________________________________\n",
            " Layer (type)                Output Shape              Param #   \n",
            "=================================================================\n",
            " embedding (Embedding)       (None, 500, 128)          1280000   \n",
            "                                                                 \n",
            " lstm (LSTM)                 (None, 128)               131584    \n",
            "                                                                 \n",
            " dropout (Dropout)           (None, 128)               0         \n",
            "                                                                 \n",
            " dense (Dense)               (None, 128)               16512     \n",
            "                                                                 \n",
            " dropout_1 (Dropout)         (None, 128)               0         \n",
            "                                                                 \n",
            " dense_1 (Dense)             (None, 1)                 129       \n",
            "                                                                 \n",
            "=================================================================\n",
            "Total params: 1,428,225\n",
            "Trainable params: 1,428,225\n",
            "Non-trainable params: 0\n",
            "_________________________________________________________________\n"
          ]
        }
      ]
    },
    {
      "cell_type": "code",
      "source": [
        "# 모델 검증\n",
        "es = EarlyStopping(monitor = 'val_loss', verbose = 1, patience = 4)\n",
        "mc = ModelCheckpoint('LSTM_model.h5', monitor = 'val_loss', verbose = 1, save_est_only = True)"
      ],
      "metadata": {
        "id": "FwhUkG2pttBv"
      },
      "execution_count": 11,
      "outputs": []
    },
    {
      "cell_type": "code",
      "source": [
        "# 모델 훈련\n",
        "model.compile(optimizer = 'adam', loss = 'binary_crossentropy', metrics = ['accuracy'])\n",
        "history = model.fit(X_train, y_train, epochs = 10, callbacks = [es, mc], batch_size = 60, validation_split = 0.2)"
      ],
      "metadata": {
        "colab": {
          "base_uri": "https://localhost:8080/"
        },
        "id": "DLLEW6LUttHQ",
        "outputId": "071304c6-65dd-4cc5-b93f-ade40b8260a1"
      },
      "execution_count": 12,
      "outputs": [
        {
          "output_type": "stream",
          "name": "stdout",
          "text": [
            "Epoch 1/10\n",
            "334/334 [==============================] - ETA: 0s - loss: 0.4200 - accuracy: 0.8007\n",
            "Epoch 1: saving model to LSTM_model.h5\n",
            "334/334 [==============================] - 40s 96ms/step - loss: 0.4200 - accuracy: 0.8007 - val_loss: 0.3275 - val_accuracy: 0.8664\n",
            "Epoch 2/10\n",
            "334/334 [==============================] - ETA: 0s - loss: 0.2401 - accuracy: 0.9093\n",
            "Epoch 2: saving model to LSTM_model.h5\n",
            "334/334 [==============================] - 32s 96ms/step - loss: 0.2401 - accuracy: 0.9093 - val_loss: 0.3126 - val_accuracy: 0.8632\n",
            "Epoch 3/10\n",
            "334/334 [==============================] - ETA: 0s - loss: 0.1778 - accuracy: 0.9362\n",
            "Epoch 3: saving model to LSTM_model.h5\n",
            "334/334 [==============================] - 32s 96ms/step - loss: 0.1778 - accuracy: 0.9362 - val_loss: 0.3892 - val_accuracy: 0.8586\n",
            "Epoch 4/10\n",
            "334/334 [==============================] - ETA: 0s - loss: 0.1257 - accuracy: 0.9549\n",
            "Epoch 4: saving model to LSTM_model.h5\n",
            "334/334 [==============================] - 33s 100ms/step - loss: 0.1257 - accuracy: 0.9549 - val_loss: 0.4661 - val_accuracy: 0.8652\n",
            "Epoch 5/10\n",
            "334/334 [==============================] - ETA: 0s - loss: 0.0906 - accuracy: 0.9675\n",
            "Epoch 5: saving model to LSTM_model.h5\n",
            "334/334 [==============================] - 32s 96ms/step - loss: 0.0906 - accuracy: 0.9675 - val_loss: 0.4930 - val_accuracy: 0.8586\n",
            "Epoch 6/10\n",
            "334/334 [==============================] - ETA: 0s - loss: 0.0910 - accuracy: 0.9674\n",
            "Epoch 6: saving model to LSTM_model.h5\n",
            "334/334 [==============================] - 32s 96ms/step - loss: 0.0910 - accuracy: 0.9674 - val_loss: 0.4929 - val_accuracy: 0.8506\n",
            "Epoch 6: early stopping\n"
          ]
        }
      ]
    },
    {
      "cell_type": "code",
      "source": [
        "loss, accuracy = model.evaluate(X_test, y_test)\n",
        "print('손실률 : ', loss)\n",
        "print(\"정확도 : \", accuracy)"
      ],
      "metadata": {
        "colab": {
          "base_uri": "https://localhost:8080/"
        },
        "id": "jTSfWVhittMJ",
        "outputId": "8d242328-9819-4fba-de68-ac1cf891a02e"
      },
      "execution_count": 13,
      "outputs": [
        {
          "output_type": "stream",
          "name": "stdout",
          "text": [
            "782/782 [==============================] - 30s 38ms/step - loss: 0.5094 - accuracy: 0.8453\n",
            "손실률 :  0.5094176530838013\n",
            "정확도 :  0.8453199863433838\n"
          ]
        }
      ]
    },
    {
      "cell_type": "markdown",
      "source": [
        "# 실습"
      ],
      "metadata": {
        "id": "aydT5DYgu4Gp"
      }
    },
    {
      "cell_type": "code",
      "source": [
        "import pandas as pd\n",
        "import numpy as np\n",
        "import seaborn as sns\n",
        "import warnings\n",
        "import os\n",
        "\n",
        "%matplotlib inline\n",
        "warnings.filterwarnings('ignore')"
      ],
      "metadata": {
        "id": "fMljNHfVttRZ"
      },
      "execution_count": 16,
      "outputs": []
    },
    {
      "cell_type": "code",
      "source": [
        "! pip install finance-datareader # 주가 데이터 제공해 주는 라이브러리"
      ],
      "metadata": {
        "colab": {
          "base_uri": "https://localhost:8080/"
        },
        "id": "b-1ewguHvTCT",
        "outputId": "9414d06e-7b39-42bf-e9e7-55aa1c5e946c"
      },
      "execution_count": 17,
      "outputs": [
        {
          "output_type": "stream",
          "name": "stdout",
          "text": [
            "Collecting finance-datareader\n",
            "  Downloading finance_datareader-0.9.33-py3-none-any.whl (48 kB)\n",
            "\u001b[?25l\r\u001b[K     |██████▊                         | 10 kB 23.3 MB/s eta 0:00:01\r\u001b[K     |█████████████▍                  | 20 kB 8.5 MB/s eta 0:00:01\r\u001b[K     |████████████████████▏           | 30 kB 7.3 MB/s eta 0:00:01\r\u001b[K     |██████████████████████████▉     | 40 kB 3.6 MB/s eta 0:00:01\r\u001b[K     |████████████████████████████████| 48 kB 2.6 MB/s \n",
            "\u001b[?25hRequirement already satisfied: tqdm in /usr/local/lib/python3.7/dist-packages (from finance-datareader) (4.63.0)\n",
            "Requirement already satisfied: lxml in /usr/local/lib/python3.7/dist-packages (from finance-datareader) (4.2.6)\n",
            "Requirement already satisfied: requests>=2.3.0 in /usr/local/lib/python3.7/dist-packages (from finance-datareader) (2.23.0)\n",
            "Requirement already satisfied: pandas>=0.19.2 in /usr/local/lib/python3.7/dist-packages (from finance-datareader) (1.3.5)\n",
            "Collecting requests-file\n",
            "  Downloading requests_file-1.5.1-py2.py3-none-any.whl (3.7 kB)\n",
            "Requirement already satisfied: numpy>=1.17.3 in /usr/local/lib/python3.7/dist-packages (from pandas>=0.19.2->finance-datareader) (1.21.5)\n",
            "Requirement already satisfied: pytz>=2017.3 in /usr/local/lib/python3.7/dist-packages (from pandas>=0.19.2->finance-datareader) (2018.9)\n",
            "Requirement already satisfied: python-dateutil>=2.7.3 in /usr/local/lib/python3.7/dist-packages (from pandas>=0.19.2->finance-datareader) (2.8.2)\n",
            "Requirement already satisfied: six>=1.5 in /usr/local/lib/python3.7/dist-packages (from python-dateutil>=2.7.3->pandas>=0.19.2->finance-datareader) (1.15.0)\n",
            "Requirement already satisfied: urllib3!=1.25.0,!=1.25.1,<1.26,>=1.21.1 in /usr/local/lib/python3.7/dist-packages (from requests>=2.3.0->finance-datareader) (1.24.3)\n",
            "Requirement already satisfied: certifi>=2017.4.17 in /usr/local/lib/python3.7/dist-packages (from requests>=2.3.0->finance-datareader) (2021.10.8)\n",
            "Requirement already satisfied: idna<3,>=2.5 in /usr/local/lib/python3.7/dist-packages (from requests>=2.3.0->finance-datareader) (2.10)\n",
            "Requirement already satisfied: chardet<4,>=3.0.2 in /usr/local/lib/python3.7/dist-packages (from requests>=2.3.0->finance-datareader) (3.0.4)\n",
            "Installing collected packages: requests-file, finance-datareader\n",
            "Successfully installed finance-datareader-0.9.33 requests-file-1.5.1\n"
          ]
        }
      ]
    },
    {
      "cell_type": "code",
      "source": [
        "import FinanceDataReader as fdr\n",
        "\n",
        "# 삼성전자 코드\n",
        "STOCK_CODE = '005930'\n",
        "dataset = fdr.DataReader(STOCK_CODE, start = '2010-01-01', end = '2021-12-30')\n"
      ],
      "metadata": {
        "id": "7hdCxpvMvTTh"
      },
      "execution_count": 18,
      "outputs": []
    },
    {
      "cell_type": "code",
      "source": [
        "fig, ax = plt.subplots(2, 2)\n",
        "fig.set_size_inches(16, 9)\n",
        "color = ['r', 'g', 'b', 'c']\n",
        "for i, col in enumerate(dataset.columns[:-2]):\n",
        "    pos = ax[i//2, i%2]\n",
        "    pos.plot(dataset.index, dataset[col], c= color[i])\n",
        "    pos.set_xlabel('time')\n",
        "    pos.set_ylabel('price')\n",
        "    pos.tick_params(axis = 'x', rotation = 45)\n",
        "plt.tight_layout()\n",
        "plt.show()"
      ],
      "metadata": {
        "colab": {
          "base_uri": "https://localhost:8080/",
          "height": 657
        },
        "id": "I9ihfLTuvTYg",
        "outputId": "ad639ee8-b1c6-457c-f4fb-830b7654d54c"
      },
      "execution_count": 19,
      "outputs": [
        {
          "output_type": "display_data",
          "data": {
            "text/plain": [
              "<Figure size 1152x648 with 4 Axes>"
            ],
            "image/png": "[encoded data removed]"
          },
          "metadata": {
            "needs_background": "light"
          }
        }
      ]
    },
    {
      "cell_type": "code",
      "source": [
        "# 데이터 전처리\n",
        "dataset[dataset['Open'] == 0]\n",
        "\n",
        "# 0데이터 제거\n",
        "drop_idx = dataset[dataset['Open'] == 0].index\n",
        "dataset.drop(drop_idx, axis = 0, inplace = True)"
      ],
      "metadata": {
        "id": "lzoJGsf_vTdJ"
      },
      "execution_count": 23,
      "outputs": []
    },
    {
      "cell_type": "code",
      "source": [
        "from sklearn.preprocessing import MinMaxScaler\n",
        "\n",
        "MM = MinMaxScaler()\n",
        "scaled = MM.fit_transform(dataset.iloc[:, :4])\n",
        "dataset_scaled = pd.DataFrame(scaled, columns = dataset.columns[:-2])\n",
        "dataset_scaled.head()"
      ],
      "metadata": {
        "colab": {
          "base_uri": "https://localhost:8080/",
          "height": 206
        },
        "id": "4faei1DivTg1",
        "outputId": "acbe14cb-b1a4-42c9-bf7c-957a52ca11af"
      },
      "execution_count": 25,
      "outputs": [
        {
          "output_type": "execute_result",
          "data": {
            "text/plain": [
              "       Open      High       Low     Close\n",
              "0  0.031062  0.027034  0.033658  0.033333\n",
              "1  0.037066  0.031861  0.037602  0.036693\n",
              "2  0.037849  0.034757  0.040494  0.041602\n",
              "3  0.040981  0.034757  0.037076  0.034367\n",
              "4  0.035500  0.029930  0.035235  0.036434"
            ],
            "text/html": [
              "\n",
              "  <div id=\"df-dff96d7b-2b7c-422f-970a-fa22ca200a42\">\n",
              "    <div class=\"colab-df-container\">\n",
              "      <div>\n",
              "<style scoped>\n",
              "    .dataframe tbody tr th:only-of-type {\n",
              "        vertical-align: middle;\n",
              "    }\n",
              "\n",
              "    .dataframe tbody tr th {\n",
              "        vertical-align: top;\n",
              "    }\n",
              "\n",
              "    .dataframe thead th {\n",
              "        text-align: right;\n",
              "    }\n",
              "</style>\n",
              "<table border=\"1\" class=\"dataframe\">\n",
              "  <thead>\n",
              "    <tr style=\"text-align: right;\">\n",
              "      <th></th>\n",
              "      <th>Open</th>\n",
              "      <th>High</th>\n",
              "      <th>Low</th>\n",
              "      <th>Close</th>\n",
              "    </tr>\n",
              "  </thead>\n",
              "  <tbody>\n",
              "    <tr>\n",
              "      <th>0</th>\n",
              "      <td>0.031062</td>\n",
              "      <td>0.027034</td>\n",
              "      <td>0.033658</td>\n",
              "      <td>0.033333</td>\n",
              "    </tr>\n",
              "    <tr>\n",
              "      <th>1</th>\n",
              "      <td>0.037066</td>\n",
              "      <td>0.031861</td>\n",
              "      <td>0.037602</td>\n",
              "      <td>0.036693</td>\n",
              "    </tr>\n",
              "    <tr>\n",
              "      <th>2</th>\n",
              "      <td>0.037849</td>\n",
              "      <td>0.034757</td>\n",
              "      <td>0.040494</td>\n",
              "      <td>0.041602</td>\n",
              "    </tr>\n",
              "    <tr>\n",
              "      <th>3</th>\n",
              "      <td>0.040981</td>\n",
              "      <td>0.034757</td>\n",
              "      <td>0.037076</td>\n",
              "      <td>0.034367</td>\n",
              "    </tr>\n",
              "    <tr>\n",
              "      <th>4</th>\n",
              "      <td>0.035500</td>\n",
              "      <td>0.029930</td>\n",
              "      <td>0.035235</td>\n",
              "      <td>0.036434</td>\n",
              "    </tr>\n",
              "  </tbody>\n",
              "</table>\n",
              "</div>\n",
              "      <button class=\"colab-df-convert\" onclick=\"convertToInteractive('df-dff96d7b-2b7c-422f-970a-fa22ca200a42')\"\n",
              "              title=\"Convert this dataframe to an interactive table.\"\n",
              "              style=\"display:none;\">\n",
              "        \n",
              "  <svg xmlns=\"http://www.w3.org/2000/svg\" height=\"24px\"viewBox=\"0 0 24 24\"\n",
              "       width=\"24px\">\n",
              "    <path d=\"M0 0h24v24H0V0z\" fill=\"none\"/>\n",
              "    <path d=\"M18.56 5.44l.94 2.06.94-2.06 2.06-.94-2.06-.94-.94-2.06-.94 2.06-2.06.94zm-11 1L8.5 8.5l.94-2.06 2.06-.94-2.06-.94L8.5 2.5l-.94 2.06-2.06.94zm10 10l.94 2.06.94-2.06 2.06-.94-2.06-.94-.94-2.06-.94 2.06-2.06.94z\"/><path d=\"M17.41 7.96l-1.37-1.37c-.4-.4-.92-.59-1.43-.59-.52 0-1.04.2-1.43.59L10.3 9.45l-7.72 7.72c-.78.78-.78 2.05 0 2.83L4 21.41c.39.39.9.59 1.41.59.51 0 1.02-.2 1.41-.59l7.78-7.78 2.81-2.81c.8-.78.8-2.07 0-2.86zM5.41 20L4 18.59l7.72-7.72 1.47 1.35L5.41 20z\"/>\n",
              "  </svg>\n",
              "      </button>\n",
              "      \n",
              "  <style>\n",
              "    .colab-df-container {\n",
              "      display:flex;\n",
              "      flex-wrap:wrap;\n",
              "      gap: 12px;\n",
              "    }\n",
              "\n",
              "    .colab-df-convert {\n",
              "      background-color: #E8F0FE;\n",
              "      border: none;\n",
              "      border-radius: 50%;\n",
              "      cursor: pointer;\n",
              "      display: none;\n",
              "      fill: #1967D2;\n",
              "      height: 32px;\n",
              "      padding: 0 0 0 0;\n",
              "      width: 32px;\n",
              "    }\n",
              "\n",
              "    .colab-df-convert:hover {\n",
              "      background-color: #E2EBFA;\n",
              "      box-shadow: 0px 1px 2px rgba(60, 64, 67, 0.3), 0px 1px 3px 1px rgba(60, 64, 67, 0.15);\n",
              "      fill: #174EA6;\n",
              "    }\n",
              "\n",
              "    [theme=dark] .colab-df-convert {\n",
              "      background-color: #3B4455;\n",
              "      fill: #D2E3FC;\n",
              "    }\n",
              "\n",
              "    [theme=dark] .colab-df-convert:hover {\n",
              "      background-color: #434B5C;\n",
              "      box-shadow: 0px 1px 3px 1px rgba(0, 0, 0, 0.15);\n",
              "      filter: drop-shadow(0px 1px 2px rgba(0, 0, 0, 0.3));\n",
              "      fill: #FFFFFF;\n",
              "    }\n",
              "  </style>\n",
              "\n",
              "      <script>\n",
              "        const buttonEl =\n",
              "          document.querySelector('#df-dff96d7b-2b7c-422f-970a-fa22ca200a42 button.colab-df-convert');\n",
              "        buttonEl.style.display =\n",
              "          google.colab.kernel.accessAllowed ? 'block' : 'none';\n",
              "\n",
              "        async function convertToInteractive(key) {\n",
              "          const element = document.querySelector('#df-dff96d7b-2b7c-422f-970a-fa22ca200a42');\n",
              "          const dataTable =\n",
              "            await google.colab.kernel.invokeFunction('convertToInteractive',\n",
              "                                                     [key], {});\n",
              "          if (!dataTable) return;\n",
              "\n",
              "          const docLinkHtml = 'Like what you see? Visit the ' +\n",
              "            '<a target=\"_blank\" href=https://colab.research.google.com/notebooks/data_table.ipynb>data table notebook</a>'\n",
              "            + ' to learn more about interactive tables.';\n",
              "          element.innerHTML = '';\n",
              "          dataTable['output_type'] = 'display_data';\n",
              "          await google.colab.output.renderOutput(dataTable, element);\n",
              "          const docLink = document.createElement('div');\n",
              "          docLink.innerHTML = docLinkHtml;\n",
              "          element.appendChild(docLink);\n",
              "        }\n",
              "      </script>\n",
              "    </div>\n",
              "  </div>\n",
              "  "
            ]
          },
          "metadata": {},
          "execution_count": 25
        }
      ]
    },
    {
      "cell_type": "code",
      "source": [
        "# 데이터 변환\n",
        "def make_windowed_dataset(dataset, start_index, end_index, time_step, target_size, step, single_step = False):\n",
        "    target = dataset['Close'].values\n",
        "    dataset = dataset.to_numpy()\n",
        "    data = []\n",
        "    labels = []\n",
        "    start_index = start_index + time_step\n",
        "    if end_index is None:\n",
        "        end_index = dataset.shape[0] - time_step\n",
        "    for i in range(start_index, end_index):\n",
        "        indexs = range(i - time_step, i, step)\n",
        "        data.append(dataset[indexs])\n",
        "\n",
        "        if single_step:\n",
        "            labels.append(target[i + target_size])\n",
        "        else:\n",
        "            labels.append(target[i : i + target_size])\n",
        "    return np.array(data), np.array(labels)"
      ],
      "metadata": {
        "id": "BHk0cL_svTk2"
      },
      "execution_count": 30,
      "outputs": []
    },
    {
      "cell_type": "code",
      "source": [
        "time_step = 30\n",
        "train_size = int(dataset.shape[0] + 0.85)\n",
        "x_train_single, y_train_single = make_windowed_dataset(dataset_scaled, 0, train_size, time_step, 0, 1, single_step = True)\n",
        "\n",
        "x_test_single, y_test_single = make_windowed_dataset(dataset_scaled, train_size, None, time_step, 0, 1, single_step = True)\n"
      ],
      "metadata": {
        "id": "AEzJZjdZvTpS"
      },
      "execution_count": 31,
      "outputs": []
    },
    {
      "cell_type": "code",
      "source": [
        "# 데이터 시각화\n",
        "fig, ax = plt.subplots(1, figsize = (10, 6))\n",
        "ax.plot(range(len(y_train_single)), y_train_single, c = 'b', label = 'Training Data')\n",
        "ax.plot(range(len(y_train_single), len(y_test_single) + len(y_train_single)), y_test_single, c = 'r', label = 'Test Data')\n",
        "plt.legend()\n",
        "plt.show()"
      ],
      "metadata": {
        "colab": {
          "base_uri": "https://localhost:8080/",
          "height": 374
        },
        "id": "fDOcsW6MvTs7",
        "outputId": "a07ec40c-d3a2-4dc3-a631-735bad0962b0"
      },
      "execution_count": 35,
      "outputs": [
        {
          "output_type": "display_data",
          "data": {
            "text/plain": [
              "<Figure size 720x432 with 1 Axes>"
            ],
            "image/png": "[encoded data removed]"
          },
          "metadata": {
            "needs_background": "light"
          }
        }
      ]
    },
    {
      "cell_type": "code",
      "source": [
        "import tensorflow as tf\n",
        "from tensorflow.keras.optimizers import Adam\n",
        "from tensorflow.keras.losses import Huber\n",
        "tf.random.set_seed(42)\n",
        "np.random.seed(42)"
      ],
      "metadata": {
        "id": "HSbqXeCjvT02"
      },
      "execution_count": 36,
      "outputs": []
    },
    {
      "cell_type": "code",
      "source": [
        "# LSTM 모델 구축\n",
        "LSTM_model = tf.keras.models.Sequential()\n",
        "LSTM_model.add(tf.keras.layers.LSTM(100, activation = 'tanh', input_shape = (time_step, 4)))\n",
        "LSTM_model.add(tf.keras.layers.Dense(1, activation = 'linear'))\n",
        "\n",
        "loss = Huber()\n",
        "LSTM_model.compile(optimizer = Adam(13 - 4), loss = loss, metrics = ['mse'])"
      ],
      "metadata": {
        "id": "VVFOwLx3ze96"
      },
      "execution_count": 38,
      "outputs": []
    },
    {
      "cell_type": "code",
      "source": [
        "earlystopping = EarlyStopping(monitor = 'val_loss', patience = 10)\n",
        "\n",
        "filename = os.path.join('LSTM, LSTM.ckpt')\n",
        "checkpoint = ModelCheckpoint(filename, \n",
        "                             save_weights_only = True,\n",
        "                             save_best_only = True,\n",
        "                             monitor = 'val_loss', verbose = 1)"
      ],
      "metadata": {
        "id": "hR3ejx0PzfDt"
      },
      "execution_count": 41,
      "outputs": []
    },
    {
      "cell_type": "code",
      "source": [
        "epoch = 200\n",
        "batch_size = 32\n",
        "LSTM_model_history = LSTM_model.fit(x_train_single, y_train_single, epochs = epoch, batch_size = batch_size,\n",
        "                                    validation_data = (x_test_single, y_test_single), verbose = 2,\n",
        "                                    callbacks = [checkpoint, earlystopping])"
      ],
      "metadata": {
        "colab": {
          "base_uri": "https://localhost:8080/"
        },
        "id": "h58f7wVHzfJw",
        "outputId": "e1d18812-54a8-433b-f4f5-b15ca1a7e9e7"
      },
      "execution_count": 42,
      "outputs": [
        {
          "output_type": "stream",
          "name": "stdout",
          "text": [
            "Epoch 1/200\n",
            "WARNING:tensorflow:Can save best model only with val_loss available, skipping.\n",
            "WARNING:tensorflow:Early stopping conditioned on metric `val_loss` which is not available. Available metrics are: loss,mse\n",
            "92/92 - 5s - loss: 88.6192 - mse: 12472.0928 - 5s/epoch - 56ms/step\n",
            "Epoch 2/200\n",
            "WARNING:tensorflow:Can save best model only with val_loss available, skipping.\n",
            "WARNING:tensorflow:Early stopping conditioned on metric `val_loss` which is not available. Available metrics are: loss,mse\n",
            "92/92 - 1s - loss: 70.9537 - mse: 5829.7739 - 977ms/epoch - 11ms/step\n",
            "Epoch 3/200\n",
            "WARNING:tensorflow:Can save best model only with val_loss available, skipping.\n",
            "WARNING:tensorflow:Early stopping conditioned on metric `val_loss` which is not available. Available metrics are: loss,mse\n",
            "92/92 - 1s - loss: 71.2688 - mse: 5878.9766 - 974ms/epoch - 11ms/step\n",
            "Epoch 4/200\n",
            "WARNING:tensorflow:Can save best model only with val_loss available, skipping.\n",
            "WARNING:tensorflow:Early stopping conditioned on metric `val_loss` which is not available. Available metrics are: loss,mse\n",
            "92/92 - 1s - loss: 70.7841 - mse: 5802.8472 - 979ms/epoch - 11ms/step\n",
            "Epoch 5/200\n",
            "WARNING:tensorflow:Can save best model only with val_loss available, skipping.\n",
            "WARNING:tensorflow:Early stopping conditioned on metric `val_loss` which is not available. Available metrics are: loss,mse\n",
            "92/92 - 1s - loss: 71.2037 - mse: 5868.0938 - 944ms/epoch - 10ms/step\n",
            "Epoch 6/200\n",
            "WARNING:tensorflow:Can save best model only with val_loss available, skipping.\n",
            "WARNING:tensorflow:Early stopping conditioned on metric `val_loss` which is not available. Available metrics are: loss,mse\n",
            "92/92 - 1s - loss: 70.7423 - mse: 5795.9502 - 1s/epoch - 11ms/step\n",
            "Epoch 7/200\n",
            "WARNING:tensorflow:Can save best model only with val_loss available, skipping.\n",
            "WARNING:tensorflow:Early stopping conditioned on metric `val_loss` which is not available. Available metrics are: loss,mse\n",
            "92/92 - 1s - loss: 71.1849 - mse: 5865.2686 - 1s/epoch - 14ms/step\n",
            "Epoch 8/200\n",
            "WARNING:tensorflow:Can save best model only with val_loss available, skipping.\n",
            "WARNING:tensorflow:Early stopping conditioned on metric `val_loss` which is not available. Available metrics are: loss,mse\n",
            "92/92 - 1s - loss: 70.7319 - mse: 5794.5864 - 1s/epoch - 11ms/step\n",
            "Epoch 9/200\n",
            "WARNING:tensorflow:Can save best model only with val_loss available, skipping.\n",
            "WARNING:tensorflow:Early stopping conditioned on metric `val_loss` which is not available. Available metrics are: loss,mse\n",
            "92/92 - 1s - loss: 71.1602 - mse: 5861.5977 - 1s/epoch - 11ms/step\n",
            "Epoch 10/200\n",
            "WARNING:tensorflow:Can save best model only with val_loss available, skipping.\n",
            "WARNING:tensorflow:Early stopping conditioned on metric `val_loss` which is not available. Available metrics are: loss,mse\n",
            "92/92 - 1s - loss: 70.7082 - mse: 5790.4956 - 965ms/epoch - 10ms/step\n",
            "Epoch 11/200\n",
            "WARNING:tensorflow:Can save best model only with val_loss available, skipping.\n",
            "WARNING:tensorflow:Early stopping conditioned on metric `val_loss` which is not available. Available metrics are: loss,mse\n",
            "92/92 - 1s - loss: 71.1546 - mse: 5860.4370 - 998ms/epoch - 11ms/step\n",
            "Epoch 12/200\n",
            "WARNING:tensorflow:Can save best model only with val_loss available, skipping.\n",
            "WARNING:tensorflow:Early stopping conditioned on metric `val_loss` which is not available. Available metrics are: loss,mse\n",
            "92/92 - 1s - loss: 70.7058 - mse: 5790.0225 - 988ms/epoch - 11ms/step\n",
            "Epoch 13/200\n",
            "WARNING:tensorflow:Can save best model only with val_loss available, skipping.\n",
            "WARNING:tensorflow:Early stopping conditioned on metric `val_loss` which is not available. Available metrics are: loss,mse\n",
            "92/92 - 1s - loss: 71.1531 - mse: 5860.3071 - 988ms/epoch - 11ms/step\n",
            "Epoch 14/200\n",
            "WARNING:tensorflow:Can save best model only with val_loss available, skipping.\n",
            "WARNING:tensorflow:Early stopping conditioned on metric `val_loss` which is not available. Available metrics are: loss,mse\n",
            "92/92 - 1s - loss: 70.7013 - mse: 5789.5034 - 987ms/epoch - 11ms/step\n",
            "Epoch 15/200\n",
            "WARNING:tensorflow:Can save best model only with val_loss available, skipping.\n",
            "WARNING:tensorflow:Early stopping conditioned on metric `val_loss` which is not available. Available metrics are: loss,mse\n",
            "92/92 - 1s - loss: 71.1409 - mse: 5858.8711 - 987ms/epoch - 11ms/step\n",
            "Epoch 16/200\n",
            "WARNING:tensorflow:Can save best model only with val_loss available, skipping.\n",
            "WARNING:tensorflow:Early stopping conditioned on metric `val_loss` which is not available. Available metrics are: loss,mse\n",
            "92/92 - 1s - loss: 70.7037 - mse: 5789.6948 - 1s/epoch - 11ms/step\n",
            "Epoch 17/200\n",
            "WARNING:tensorflow:Can save best model only with val_loss available, skipping.\n",
            "WARNING:tensorflow:Early stopping conditioned on metric `val_loss` which is not available. Available metrics are: loss,mse\n",
            "92/92 - 1s - loss: 71.1429 - mse: 5858.4150 - 1s/epoch - 11ms/step\n",
            "Epoch 18/200\n",
            "WARNING:tensorflow:Can save best model only with val_loss available, skipping.\n",
            "WARNING:tensorflow:Early stopping conditioned on metric `val_loss` which is not available. Available metrics are: loss,mse\n",
            "92/92 - 1s - loss: 70.6991 - mse: 5789.4126 - 967ms/epoch - 11ms/step\n",
            "Epoch 19/200\n",
            "WARNING:tensorflow:Can save best model only with val_loss available, skipping.\n",
            "WARNING:tensorflow:Early stopping conditioned on metric `val_loss` which is not available. Available metrics are: loss,mse\n",
            "92/92 - 1s - loss: 71.1439 - mse: 5858.7407 - 1s/epoch - 11ms/step\n",
            "Epoch 20/200\n",
            "WARNING:tensorflow:Can save best model only with val_loss available, skipping.\n",
            "WARNING:tensorflow:Early stopping conditioned on metric `val_loss` which is not available. Available metrics are: loss,mse\n",
            "92/92 - 1s - loss: 70.6880 - mse: 5787.2290 - 990ms/epoch - 11ms/step\n",
            "Epoch 21/200\n",
            "WARNING:tensorflow:Can save best model only with val_loss available, skipping.\n",
            "WARNING:tensorflow:Early stopping conditioned on metric `val_loss` which is not available. Available metrics are: loss,mse\n",
            "92/92 - 1s - loss: 71.1423 - mse: 5858.5615 - 990ms/epoch - 11ms/step\n",
            "Epoch 22/200\n",
            "WARNING:tensorflow:Can save best model only with val_loss available, skipping.\n",
            "WARNING:tensorflow:Early stopping conditioned on metric `val_loss` which is not available. Available metrics are: loss,mse\n",
            "92/92 - 1s - loss: 70.6966 - mse: 5788.8516 - 1s/epoch - 11ms/step\n",
            "Epoch 23/200\n",
            "WARNING:tensorflow:Can save best model only with val_loss available, skipping.\n",
            "WARNING:tensorflow:Early stopping conditioned on metric `val_loss` which is not available. Available metrics are: loss,mse\n",
            "92/92 - 1s - loss: 71.1496 - mse: 5859.3472 - 965ms/epoch - 10ms/step\n",
            "Epoch 24/200\n",
            "WARNING:tensorflow:Can save best model only with val_loss available, skipping.\n",
            "WARNING:tensorflow:Early stopping conditioned on metric `val_loss` which is not available. Available metrics are: loss,mse\n",
            "92/92 - 1s - loss: 70.7004 - mse: 5789.8350 - 981ms/epoch - 11ms/step\n",
            "Epoch 25/200\n",
            "WARNING:tensorflow:Can save best model only with val_loss available, skipping.\n",
            "WARNING:tensorflow:Early stopping conditioned on metric `val_loss` which is not available. Available metrics are: loss,mse\n",
            "92/92 - 1s - loss: 71.1349 - mse: 5857.2378 - 973ms/epoch - 11ms/step\n",
            "Epoch 26/200\n",
            "WARNING:tensorflow:Can save best model only with val_loss available, skipping.\n",
            "WARNING:tensorflow:Early stopping conditioned on metric `val_loss` which is not available. Available metrics are: loss,mse\n",
            "92/92 - 1s - loss: 70.6956 - mse: 5788.3755 - 1s/epoch - 13ms/step\n",
            "Epoch 27/200\n",
            "WARNING:tensorflow:Can save best model only with val_loss available, skipping.\n",
            "WARNING:tensorflow:Early stopping conditioned on metric `val_loss` which is not available. Available metrics are: loss,mse\n",
            "92/92 - 1s - loss: 71.1373 - mse: 5858.1387 - 1s/epoch - 15ms/step\n",
            "Epoch 28/200\n",
            "WARNING:tensorflow:Can save best model only with val_loss available, skipping.\n",
            "WARNING:tensorflow:Early stopping conditioned on metric `val_loss` which is not available. Available metrics are: loss,mse\n",
            "92/92 - 1s - loss: 70.6882 - mse: 5787.3301 - 984ms/epoch - 11ms/step\n",
            "Epoch 29/200\n",
            "WARNING:tensorflow:Can save best model only with val_loss available, skipping.\n",
            "WARNING:tensorflow:Early stopping conditioned on metric `val_loss` which is not available. Available metrics are: loss,mse\n",
            "92/92 - 1s - loss: 71.1387 - mse: 5857.6553 - 1s/epoch - 11ms/step\n",
            "Epoch 30/200\n",
            "WARNING:tensorflow:Can save best model only with val_loss available, skipping.\n",
            "WARNING:tensorflow:Early stopping conditioned on metric `val_loss` which is not available. Available metrics are: loss,mse\n",
            "92/92 - 1s - loss: 70.6831 - mse: 5787.1831 - 985ms/epoch - 11ms/step\n",
            "Epoch 31/200\n",
            "WARNING:tensorflow:Can save best model only with val_loss available, skipping.\n",
            "WARNING:tensorflow:Early stopping conditioned on metric `val_loss` which is not available. Available metrics are: loss,mse\n",
            "92/92 - 1s - loss: 71.1336 - mse: 5856.9663 - 978ms/epoch - 11ms/step\n",
            "Epoch 32/200\n",
            "WARNING:tensorflow:Can save best model only with val_loss available, skipping.\n",
            "WARNING:tensorflow:Early stopping conditioned on metric `val_loss` which is not available. Available metrics are: loss,mse\n",
            "92/92 - 1s - loss: 70.6947 - mse: 5788.6924 - 974ms/epoch - 11ms/step\n",
            "Epoch 33/200\n",
            "WARNING:tensorflow:Can save best model only with val_loss available, skipping.\n",
            "WARNING:tensorflow:Early stopping conditioned on metric `val_loss` which is not available. Available metrics are: loss,mse\n",
            "92/92 - 1s - loss: 71.1362 - mse: 5857.6851 - 958ms/epoch - 10ms/step\n",
            "Epoch 34/200\n",
            "WARNING:tensorflow:Can save best model only with val_loss available, skipping.\n",
            "WARNING:tensorflow:Early stopping conditioned on metric `val_loss` which is not available. Available metrics are: loss,mse\n",
            "92/92 - 1s - loss: 70.6888 - mse: 5787.1797 - 996ms/epoch - 11ms/step\n",
            "Epoch 35/200\n",
            "WARNING:tensorflow:Can save best model only with val_loss available, skipping.\n",
            "WARNING:tensorflow:Early stopping conditioned on metric `val_loss` which is not available. Available metrics are: loss,mse\n",
            "92/92 - 1s - loss: 71.1374 - mse: 5857.6279 - 990ms/epoch - 11ms/step\n",
            "Epoch 36/200\n",
            "WARNING:tensorflow:Can save best model only with val_loss available, skipping.\n",
            "WARNING:tensorflow:Early stopping conditioned on metric `val_loss` which is not available. Available metrics are: loss,mse\n",
            "92/92 - 1s - loss: 70.6920 - mse: 5788.3115 - 975ms/epoch - 11ms/step\n",
            "Epoch 37/200\n",
            "WARNING:tensorflow:Can save best model only with val_loss available, skipping.\n",
            "WARNING:tensorflow:Early stopping conditioned on metric `val_loss` which is not available. Available metrics are: loss,mse\n",
            "92/92 - 1s - loss: 71.1337 - mse: 5857.2866 - 1s/epoch - 11ms/step\n",
            "Epoch 38/200\n",
            "WARNING:tensorflow:Can save best model only with val_loss available, skipping.\n",
            "WARNING:tensorflow:Early stopping conditioned on metric `val_loss` which is not available. Available metrics are: loss,mse\n",
            "92/92 - 1s - loss: 70.6905 - mse: 5787.6279 - 972ms/epoch - 11ms/step\n",
            "Epoch 39/200\n",
            "WARNING:tensorflow:Can save best model only with val_loss available, skipping.\n",
            "WARNING:tensorflow:Early stopping conditioned on metric `val_loss` which is not available. Available metrics are: loss,mse\n",
            "92/92 - 1s - loss: 71.1400 - mse: 5858.2388 - 987ms/epoch - 11ms/step\n",
            "Epoch 40/200\n",
            "WARNING:tensorflow:Can save best model only with val_loss available, skipping.\n",
            "WARNING:tensorflow:Early stopping conditioned on metric `val_loss` which is not available. Available metrics are: loss,mse\n",
            "92/92 - 1s - loss: 70.6873 - mse: 5787.4072 - 982ms/epoch - 11ms/step\n",
            "Epoch 41/200\n",
            "WARNING:tensorflow:Can save best model only with val_loss available, skipping.\n",
            "WARNING:tensorflow:Early stopping conditioned on metric `val_loss` which is not available. Available metrics are: loss,mse\n",
            "92/92 - 1s - loss: 71.1329 - mse: 5857.1411 - 991ms/epoch - 11ms/step\n",
            "Epoch 42/200\n",
            "WARNING:tensorflow:Can save best model only with val_loss available, skipping.\n",
            "WARNING:tensorflow:Early stopping conditioned on metric `val_loss` which is not available. Available metrics are: loss,mse\n",
            "92/92 - 1s - loss: 70.6861 - mse: 5787.8237 - 974ms/epoch - 11ms/step\n",
            "Epoch 43/200\n",
            "WARNING:tensorflow:Can save best model only with val_loss available, skipping.\n",
            "WARNING:tensorflow:Early stopping conditioned on metric `val_loss` which is not available. Available metrics are: loss,mse\n",
            "92/92 - 1s - loss: 71.1392 - mse: 5858.3877 - 951ms/epoch - 10ms/step\n",
            "Epoch 44/200\n",
            "WARNING:tensorflow:Can save best model only with val_loss available, skipping.\n",
            "WARNING:tensorflow:Early stopping conditioned on metric `val_loss` which is not available. Available metrics are: loss,mse\n",
            "92/92 - 1s - loss: 70.6906 - mse: 5787.8184 - 963ms/epoch - 10ms/step\n",
            "Epoch 45/200\n",
            "WARNING:tensorflow:Can save best model only with val_loss available, skipping.\n",
            "WARNING:tensorflow:Early stopping conditioned on metric `val_loss` which is not available. Available metrics are: loss,mse\n",
            "92/92 - 1s - loss: 71.1352 - mse: 5857.4863 - 982ms/epoch - 11ms/step\n",
            "Epoch 46/200\n",
            "WARNING:tensorflow:Can save best model only with val_loss available, skipping.\n",
            "WARNING:tensorflow:Early stopping conditioned on metric `val_loss` which is not available. Available metrics are: loss,mse\n",
            "92/92 - 1s - loss: 70.6996 - mse: 5789.5820 - 1s/epoch - 11ms/step\n",
            "Epoch 47/200\n",
            "WARNING:tensorflow:Can save best model only with val_loss available, skipping.\n",
            "WARNING:tensorflow:Early stopping conditioned on metric `val_loss` which is not available. Available metrics are: loss,mse\n",
            "92/92 - 1s - loss: 71.1304 - mse: 5856.6670 - 985ms/epoch - 11ms/step\n",
            "Epoch 48/200\n",
            "WARNING:tensorflow:Can save best model only with val_loss available, skipping.\n",
            "WARNING:tensorflow:Early stopping conditioned on metric `val_loss` which is not available. Available metrics are: loss,mse\n",
            "92/92 - 1s - loss: 70.6901 - mse: 5787.7529 - 983ms/epoch - 11ms/step\n",
            "Epoch 49/200\n",
            "WARNING:tensorflow:Can save best model only with val_loss available, skipping.\n",
            "WARNING:tensorflow:Early stopping conditioned on metric `val_loss` which is not available. Available metrics are: loss,mse\n",
            "92/92 - 1s - loss: 71.1342 - mse: 5856.9653 - 967ms/epoch - 11ms/step\n",
            "Epoch 50/200\n",
            "WARNING:tensorflow:Can save best model only with val_loss available, skipping.\n",
            "WARNING:tensorflow:Early stopping conditioned on metric `val_loss` which is not available. Available metrics are: loss,mse\n",
            "92/92 - 1s - loss: 70.6937 - mse: 5788.3501 - 965ms/epoch - 10ms/step\n",
            "Epoch 51/200\n",
            "WARNING:tensorflow:Can save best model only with val_loss available, skipping.\n",
            "WARNING:tensorflow:Early stopping conditioned on metric `val_loss` which is not available. Available metrics are: loss,mse\n",
            "92/92 - 1s - loss: 71.1283 - mse: 5856.6001 - 1s/epoch - 11ms/step\n",
            "Epoch 52/200\n",
            "WARNING:tensorflow:Can save best model only with val_loss available, skipping.\n",
            "WARNING:tensorflow:Early stopping conditioned on metric `val_loss` which is not available. Available metrics are: loss,mse\n",
            "92/92 - 1s - loss: 70.6890 - mse: 5787.8486 - 972ms/epoch - 11ms/step\n",
            "Epoch 53/200\n",
            "WARNING:tensorflow:Can save best model only with val_loss available, skipping.\n",
            "WARNING:tensorflow:Early stopping conditioned on metric `val_loss` which is not available. Available metrics are: loss,mse\n",
            "92/92 - 1s - loss: 71.1333 - mse: 5857.1494 - 985ms/epoch - 11ms/step\n",
            "Epoch 54/200\n",
            "WARNING:tensorflow:Can save best model only with val_loss available, skipping.\n",
            "WARNING:tensorflow:Early stopping conditioned on metric `val_loss` which is not available. Available metrics are: loss,mse\n",
            "92/92 - 1s - loss: 70.6837 - mse: 5786.9990 - 954ms/epoch - 10ms/step\n",
            "Epoch 55/200\n",
            "WARNING:tensorflow:Can save best model only with val_loss available, skipping.\n",
            "WARNING:tensorflow:Early stopping conditioned on metric `val_loss` which is not available. Available metrics are: loss,mse\n",
            "92/92 - 1s - loss: 71.1343 - mse: 5857.5044 - 987ms/epoch - 11ms/step\n",
            "Epoch 56/200\n",
            "WARNING:tensorflow:Can save best model only with val_loss available, skipping.\n",
            "WARNING:tensorflow:Early stopping conditioned on metric `val_loss` which is not available. Available metrics are: loss,mse\n",
            "92/92 - 1s - loss: 70.6960 - mse: 5788.4253 - 993ms/epoch - 11ms/step\n",
            "Epoch 57/200\n",
            "WARNING:tensorflow:Can save best model only with val_loss available, skipping.\n",
            "WARNING:tensorflow:Early stopping conditioned on metric `val_loss` which is not available. Available metrics are: loss,mse\n",
            "92/92 - 1s - loss: 71.1187 - mse: 5855.1597 - 966ms/epoch - 11ms/step\n",
            "Epoch 58/200\n",
            "WARNING:tensorflow:Can save best model only with val_loss available, skipping.\n",
            "WARNING:tensorflow:Early stopping conditioned on metric `val_loss` which is not available. Available metrics are: loss,mse\n",
            "92/92 - 1s - loss: 70.6892 - mse: 5787.7104 - 1s/epoch - 11ms/step\n",
            "Epoch 59/200\n",
            "WARNING:tensorflow:Can save best model only with val_loss available, skipping.\n",
            "WARNING:tensorflow:Early stopping conditioned on metric `val_loss` which is not available. Available metrics are: loss,mse\n",
            "92/92 - 1s - loss: 71.1281 - mse: 5856.5488 - 1s/epoch - 11ms/step\n",
            "Epoch 60/200\n",
            "WARNING:tensorflow:Can save best model only with val_loss available, skipping.\n",
            "WARNING:tensorflow:Early stopping conditioned on metric `val_loss` which is not available. Available metrics are: loss,mse\n",
            "92/92 - 1s - loss: 70.6856 - mse: 5787.4634 - 1s/epoch - 11ms/step\n",
            "Epoch 61/200\n",
            "WARNING:tensorflow:Can save best model only with val_loss available, skipping.\n",
            "WARNING:tensorflow:Early stopping conditioned on metric `val_loss` which is not available. Available metrics are: loss,mse\n",
            "92/92 - 1s - loss: 71.1320 - mse: 5857.4341 - 1s/epoch - 11ms/step\n",
            "Epoch 62/200\n",
            "WARNING:tensorflow:Can save best model only with val_loss available, skipping.\n",
            "WARNING:tensorflow:Early stopping conditioned on metric `val_loss` which is not available. Available metrics are: loss,mse\n",
            "92/92 - 1s - loss: 70.6862 - mse: 5787.6641 - 1s/epoch - 11ms/step\n",
            "Epoch 63/200\n",
            "WARNING:tensorflow:Can save best model only with val_loss available, skipping.\n",
            "WARNING:tensorflow:Early stopping conditioned on metric `val_loss` which is not available. Available metrics are: loss,mse\n",
            "92/92 - 1s - loss: 71.1416 - mse: 5858.6753 - 994ms/epoch - 11ms/step\n",
            "Epoch 64/200\n",
            "WARNING:tensorflow:Can save best model only with val_loss available, skipping.\n",
            "WARNING:tensorflow:Early stopping conditioned on metric `val_loss` which is not available. Available metrics are: loss,mse\n",
            "92/92 - 1s - loss: 70.6912 - mse: 5787.7578 - 978ms/epoch - 11ms/step\n",
            "Epoch 65/200\n",
            "WARNING:tensorflow:Can save best model only with val_loss available, skipping.\n",
            "WARNING:tensorflow:Early stopping conditioned on metric `val_loss` which is not available. Available metrics are: loss,mse\n",
            "92/92 - 1s - loss: 71.1320 - mse: 5856.7954 - 1s/epoch - 11ms/step\n",
            "Epoch 66/200\n",
            "WARNING:tensorflow:Can save best model only with val_loss available, skipping.\n",
            "WARNING:tensorflow:Early stopping conditioned on metric `val_loss` which is not available. Available metrics are: loss,mse\n",
            "92/92 - 1s - loss: 70.6916 - mse: 5788.3511 - 994ms/epoch - 11ms/step\n",
            "Epoch 67/200\n",
            "WARNING:tensorflow:Can save best model only with val_loss available, skipping.\n",
            "WARNING:tensorflow:Early stopping conditioned on metric `val_loss` which is not available. Available metrics are: loss,mse\n",
            "92/92 - 1s - loss: 71.1359 - mse: 5857.6270 - 975ms/epoch - 11ms/step\n",
            "Epoch 68/200\n",
            "WARNING:tensorflow:Can save best model only with val_loss available, skipping.\n",
            "WARNING:tensorflow:Early stopping conditioned on metric `val_loss` which is not available. Available metrics are: loss,mse\n",
            "92/92 - 1s - loss: 70.6799 - mse: 5786.2729 - 1s/epoch - 16ms/step\n",
            "Epoch 69/200\n",
            "WARNING:tensorflow:Can save best model only with val_loss available, skipping.\n",
            "WARNING:tensorflow:Early stopping conditioned on metric `val_loss` which is not available. Available metrics are: loss,mse\n",
            "92/92 - 1s - loss: 71.1396 - mse: 5858.0200 - 1s/epoch - 12ms/step\n",
            "Epoch 70/200\n",
            "WARNING:tensorflow:Can save best model only with val_loss available, skipping.\n",
            "WARNING:tensorflow:Early stopping conditioned on metric `val_loss` which is not available. Available metrics are: loss,mse\n",
            "92/92 - 1s - loss: 70.6919 - mse: 5788.0879 - 972ms/epoch - 11ms/step\n",
            "Epoch 71/200\n",
            "WARNING:tensorflow:Can save best model only with val_loss available, skipping.\n",
            "WARNING:tensorflow:Early stopping conditioned on metric `val_loss` which is not available. Available metrics are: loss,mse\n",
            "92/92 - 1s - loss: 71.1320 - mse: 5856.9595 - 1s/epoch - 11ms/step\n",
            "Epoch 72/200\n",
            "WARNING:tensorflow:Can save best model only with val_loss available, skipping.\n",
            "WARNING:tensorflow:Early stopping conditioned on metric `val_loss` which is not available. Available metrics are: loss,mse\n",
            "92/92 - 1s - loss: 70.6927 - mse: 5788.4897 - 1s/epoch - 11ms/step\n",
            "Epoch 73/200\n",
            "WARNING:tensorflow:Can save best model only with val_loss available, skipping.\n",
            "WARNING:tensorflow:Early stopping conditioned on metric `val_loss` which is not available. Available metrics are: loss,mse\n",
            "92/92 - 1s - loss: 71.1366 - mse: 5857.8218 - 1s/epoch - 11ms/step\n",
            "Epoch 74/200\n",
            "WARNING:tensorflow:Can save best model only with val_loss available, skipping.\n",
            "WARNING:tensorflow:Early stopping conditioned on metric `val_loss` which is not available. Available metrics are: loss,mse\n",
            "92/92 - 1s - loss: 70.6860 - mse: 5787.6328 - 995ms/epoch - 11ms/step\n",
            "Epoch 75/200\n",
            "WARNING:tensorflow:Can save best model only with val_loss available, skipping.\n",
            "WARNING:tensorflow:Early stopping conditioned on metric `val_loss` which is not available. Available metrics are: loss,mse\n",
            "92/92 - 1s - loss: 71.1308 - mse: 5856.9873 - 948ms/epoch - 10ms/step\n",
            "Epoch 76/200\n",
            "WARNING:tensorflow:Can save best model only with val_loss available, skipping.\n",
            "WARNING:tensorflow:Early stopping conditioned on metric `val_loss` which is not available. Available metrics are: loss,mse\n",
            "92/92 - 1s - loss: 70.6925 - mse: 5788.4468 - 984ms/epoch - 11ms/step\n",
            "Epoch 77/200\n",
            "WARNING:tensorflow:Can save best model only with val_loss available, skipping.\n",
            "WARNING:tensorflow:Early stopping conditioned on metric `val_loss` which is not available. Available metrics are: loss,mse\n",
            "92/92 - 1s - loss: 71.1342 - mse: 5857.4287 - 987ms/epoch - 11ms/step\n",
            "Epoch 78/200\n",
            "WARNING:tensorflow:Can save best model only with val_loss available, skipping.\n",
            "WARNING:tensorflow:Early stopping conditioned on metric `val_loss` which is not available. Available metrics are: loss,mse\n",
            "92/92 - 1s - loss: 70.6884 - mse: 5787.6362 - 957ms/epoch - 10ms/step\n",
            "Epoch 79/200\n",
            "WARNING:tensorflow:Can save best model only with val_loss available, skipping.\n",
            "WARNING:tensorflow:Early stopping conditioned on metric `val_loss` which is not available. Available metrics are: loss,mse\n",
            "92/92 - 1s - loss: 71.1377 - mse: 5858.1147 - 974ms/epoch - 11ms/step\n",
            "Epoch 80/200\n",
            "WARNING:tensorflow:Can save best model only with val_loss available, skipping.\n",
            "WARNING:tensorflow:Early stopping conditioned on metric `val_loss` which is not available. Available metrics are: loss,mse\n",
            "92/92 - 1s - loss: 70.6884 - mse: 5787.5044 - 967ms/epoch - 11ms/step\n",
            "Epoch 81/200\n",
            "WARNING:tensorflow:Can save best model only with val_loss available, skipping.\n",
            "WARNING:tensorflow:Early stopping conditioned on metric `val_loss` which is not available. Available metrics are: loss,mse\n",
            "92/92 - 1s - loss: 71.1286 - mse: 5857.0674 - 1s/epoch - 11ms/step\n",
            "Epoch 82/200\n",
            "WARNING:tensorflow:Can save best model only with val_loss available, skipping.\n",
            "WARNING:tensorflow:Early stopping conditioned on metric `val_loss` which is not available. Available metrics are: loss,mse\n",
            "92/92 - 1s - loss: 70.6971 - mse: 5789.1992 - 965ms/epoch - 10ms/step\n",
            "Epoch 83/200\n",
            "WARNING:tensorflow:Can save best model only with val_loss available, skipping.\n",
            "WARNING:tensorflow:Early stopping conditioned on metric `val_loss` which is not available. Available metrics are: loss,mse\n",
            "92/92 - 1s - loss: 71.1322 - mse: 5857.3682 - 1s/epoch - 11ms/step\n",
            "Epoch 84/200\n",
            "WARNING:tensorflow:Can save best model only with val_loss available, skipping.\n",
            "WARNING:tensorflow:Early stopping conditioned on metric `val_loss` which is not available. Available metrics are: loss,mse\n",
            "92/92 - 1s - loss: 70.6913 - mse: 5788.5332 - 984ms/epoch - 11ms/step\n",
            "Epoch 85/200\n",
            "WARNING:tensorflow:Can save best model only with val_loss available, skipping.\n",
            "WARNING:tensorflow:Early stopping conditioned on metric `val_loss` which is not available. Available metrics are: loss,mse\n",
            "92/92 - 1s - loss: 71.1325 - mse: 5857.3784 - 964ms/epoch - 10ms/step\n",
            "Epoch 86/200\n",
            "WARNING:tensorflow:Can save best model only with val_loss available, skipping.\n",
            "WARNING:tensorflow:Early stopping conditioned on metric `val_loss` which is not available. Available metrics are: loss,mse\n",
            "92/92 - 1s - loss: 70.6898 - mse: 5788.0630 - 1s/epoch - 11ms/step\n",
            "Epoch 87/200\n",
            "WARNING:tensorflow:Can save best model only with val_loss available, skipping.\n",
            "WARNING:tensorflow:Early stopping conditioned on metric `val_loss` which is not available. Available metrics are: loss,mse\n",
            "92/92 - 1s - loss: 71.1305 - mse: 5856.5039 - 972ms/epoch - 11ms/step\n",
            "Epoch 88/200\n",
            "WARNING:tensorflow:Can save best model only with val_loss available, skipping.\n",
            "WARNING:tensorflow:Early stopping conditioned on metric `val_loss` which is not available. Available metrics are: loss,mse\n",
            "92/92 - 1s - loss: 70.6905 - mse: 5788.0854 - 994ms/epoch - 11ms/step\n",
            "Epoch 89/200\n",
            "WARNING:tensorflow:Can save best model only with val_loss available, skipping.\n",
            "WARNING:tensorflow:Early stopping conditioned on metric `val_loss` which is not available. Available metrics are: loss,mse\n",
            "92/92 - 1s - loss: 71.1418 - mse: 5859.1880 - 986ms/epoch - 11ms/step\n",
            "Epoch 90/200\n",
            "WARNING:tensorflow:Can save best model only with val_loss available, skipping.\n",
            "WARNING:tensorflow:Early stopping conditioned on metric `val_loss` which is not available. Available metrics are: loss,mse\n",
            "92/92 - 1s - loss: 70.6919 - mse: 5788.3169 - 965ms/epoch - 10ms/step\n",
            "Epoch 91/200\n",
            "WARNING:tensorflow:Can save best model only with val_loss available, skipping.\n",
            "WARNING:tensorflow:Early stopping conditioned on metric `val_loss` which is not available. Available metrics are: loss,mse\n",
            "92/92 - 1s - loss: 71.1274 - mse: 5856.8857 - 971ms/epoch - 11ms/step\n",
            "Epoch 92/200\n",
            "WARNING:tensorflow:Can save best model only with val_loss available, skipping.\n",
            "WARNING:tensorflow:Early stopping conditioned on metric `val_loss` which is not available. Available metrics are: loss,mse\n",
            "92/92 - 1s - loss: 70.6839 - mse: 5787.2734 - 1s/epoch - 11ms/step\n",
            "Epoch 93/200\n",
            "WARNING:tensorflow:Can save best model only with val_loss available, skipping.\n",
            "WARNING:tensorflow:Early stopping conditioned on metric `val_loss` which is not available. Available metrics are: loss,mse\n",
            "92/92 - 1s - loss: 71.1272 - mse: 5856.8486 - 1s/epoch - 11ms/step\n",
            "Epoch 94/200\n",
            "WARNING:tensorflow:Can save best model only with val_loss available, skipping.\n",
            "WARNING:tensorflow:Early stopping conditioned on metric `val_loss` which is not available. Available metrics are: loss,mse\n",
            "92/92 - 1s - loss: 70.6887 - mse: 5787.8838 - 994ms/epoch - 11ms/step\n",
            "Epoch 95/200\n",
            "WARNING:tensorflow:Can save best model only with val_loss available, skipping.\n",
            "WARNING:tensorflow:Early stopping conditioned on metric `val_loss` which is not available. Available metrics are: loss,mse\n",
            "92/92 - 1s - loss: 71.1372 - mse: 5858.0234 - 954ms/epoch - 10ms/step\n",
            "Epoch 96/200\n",
            "WARNING:tensorflow:Can save best model only with val_loss available, skipping.\n",
            "WARNING:tensorflow:Early stopping conditioned on metric `val_loss` which is not available. Available metrics are: loss,mse\n",
            "92/92 - 1s - loss: 70.6896 - mse: 5788.2573 - 974ms/epoch - 11ms/step\n",
            "Epoch 97/200\n",
            "WARNING:tensorflow:Can save best model only with val_loss available, skipping.\n",
            "WARNING:tensorflow:Early stopping conditioned on metric `val_loss` which is not available. Available metrics are: loss,mse\n",
            "92/92 - 1s - loss: 71.1375 - mse: 5858.0820 - 979ms/epoch - 11ms/step\n",
            "Epoch 98/200\n",
            "WARNING:tensorflow:Can save best model only with val_loss available, skipping.\n",
            "WARNING:tensorflow:Early stopping conditioned on metric `val_loss` which is not available. Available metrics are: loss,mse\n",
            "92/92 - 1s - loss: 70.6776 - mse: 5786.4351 - 1s/epoch - 11ms/step\n",
            "Epoch 99/200\n",
            "WARNING:tensorflow:Can save best model only with val_loss available, skipping.\n",
            "WARNING:tensorflow:Early stopping conditioned on metric `val_loss` which is not available. Available metrics are: loss,mse\n",
            "92/92 - 1s - loss: 71.1343 - mse: 5857.7373 - 1s/epoch - 11ms/step\n",
            "Epoch 100/200\n",
            "WARNING:tensorflow:Can save best model only with val_loss available, skipping.\n",
            "WARNING:tensorflow:Early stopping conditioned on metric `val_loss` which is not available. Available metrics are: loss,mse\n",
            "92/92 - 1s - loss: 70.6922 - mse: 5788.5415 - 954ms/epoch - 10ms/step\n",
            "Epoch 101/200\n",
            "WARNING:tensorflow:Can save best model only with val_loss available, skipping.\n",
            "WARNING:tensorflow:Early stopping conditioned on metric `val_loss` which is not available. Available metrics are: loss,mse\n",
            "92/92 - 1s - loss: 71.1337 - mse: 5857.8540 - 986ms/epoch - 11ms/step\n",
            "Epoch 102/200\n",
            "WARNING:tensorflow:Can save best model only with val_loss available, skipping.\n",
            "WARNING:tensorflow:Early stopping conditioned on metric `val_loss` which is not available. Available metrics are: loss,mse\n",
            "92/92 - 1s - loss: 70.6812 - mse: 5786.9927 - 1s/epoch - 11ms/step\n",
            "Epoch 103/200\n",
            "WARNING:tensorflow:Can save best model only with val_loss available, skipping.\n",
            "WARNING:tensorflow:Early stopping conditioned on metric `val_loss` which is not available. Available metrics are: loss,mse\n",
            "92/92 - 1s - loss: 71.1353 - mse: 5857.7378 - 993ms/epoch - 11ms/step\n",
            "Epoch 104/200\n",
            "WARNING:tensorflow:Can save best model only with val_loss available, skipping.\n",
            "WARNING:tensorflow:Early stopping conditioned on metric `val_loss` which is not available. Available metrics are: loss,mse\n",
            "92/92 - 1s - loss: 70.6854 - mse: 5787.3115 - 993ms/epoch - 11ms/step\n",
            "Epoch 105/200\n",
            "WARNING:tensorflow:Can save best model only with val_loss available, skipping.\n",
            "WARNING:tensorflow:Early stopping conditioned on metric `val_loss` which is not available. Available metrics are: loss,mse\n",
            "92/92 - 1s - loss: 71.1345 - mse: 5857.6826 - 1s/epoch - 11ms/step\n",
            "Epoch 106/200\n",
            "WARNING:tensorflow:Can save best model only with val_loss available, skipping.\n",
            "WARNING:tensorflow:Early stopping conditioned on metric `val_loss` which is not available. Available metrics are: loss,mse\n",
            "92/92 - 1s - loss: 70.6934 - mse: 5788.9087 - 974ms/epoch - 11ms/step\n",
            "Epoch 107/200\n",
            "WARNING:tensorflow:Can save best model only with val_loss available, skipping.\n",
            "WARNING:tensorflow:Early stopping conditioned on metric `val_loss` which is not available. Available metrics are: loss,mse\n",
            "92/92 - 1s - loss: 71.1407 - mse: 5858.7734 - 1s/epoch - 14ms/step\n",
            "Epoch 108/200\n",
            "WARNING:tensorflow:Can save best model only with val_loss available, skipping.\n",
            "WARNING:tensorflow:Early stopping conditioned on metric `val_loss` which is not available. Available metrics are: loss,mse\n",
            "92/92 - 1s - loss: 70.6816 - mse: 5786.6665 - 1s/epoch - 14ms/step\n",
            "Epoch 109/200\n",
            "WARNING:tensorflow:Can save best model only with val_loss available, skipping.\n",
            "WARNING:tensorflow:Early stopping conditioned on metric `val_loss` which is not available. Available metrics are: loss,mse\n",
            "92/92 - 1s - loss: 71.1416 - mse: 5858.9253 - 1s/epoch - 11ms/step\n",
            "Epoch 110/200\n",
            "WARNING:tensorflow:Can save best model only with val_loss available, skipping.\n",
            "WARNING:tensorflow:Early stopping conditioned on metric `val_loss` which is not available. Available metrics are: loss,mse\n",
            "92/92 - 1s - loss: 70.6867 - mse: 5787.3984 - 1s/epoch - 11ms/step\n",
            "Epoch 111/200\n",
            "WARNING:tensorflow:Can save best model only with val_loss available, skipping.\n",
            "WARNING:tensorflow:Early stopping conditioned on metric `val_loss` which is not available. Available metrics are: loss,mse\n",
            "92/92 - 1s - loss: 71.1320 - mse: 5857.4873 - 999ms/epoch - 11ms/step\n",
            "Epoch 112/200\n",
            "WARNING:tensorflow:Can save best model only with val_loss available, skipping.\n",
            "WARNING:tensorflow:Early stopping conditioned on metric `val_loss` which is not available. Available metrics are: loss,mse\n",
            "92/92 - 1s - loss: 70.6886 - mse: 5787.8667 - 1s/epoch - 11ms/step\n",
            "Epoch 113/200\n",
            "WARNING:tensorflow:Can save best model only with val_loss available, skipping.\n",
            "WARNING:tensorflow:Early stopping conditioned on metric `val_loss` which is not available. Available metrics are: loss,mse\n",
            "92/92 - 1s - loss: 71.1336 - mse: 5857.2671 - 988ms/epoch - 11ms/step\n",
            "Epoch 114/200\n",
            "WARNING:tensorflow:Can save best model only with val_loss available, skipping.\n",
            "WARNING:tensorflow:Early stopping conditioned on metric `val_loss` which is not available. Available metrics are: loss,mse\n",
            "92/92 - 1s - loss: 70.6869 - mse: 5787.8545 - 976ms/epoch - 11ms/step\n",
            "Epoch 115/200\n",
            "WARNING:tensorflow:Can save best model only with val_loss available, skipping.\n",
            "WARNING:tensorflow:Early stopping conditioned on metric `val_loss` which is not available. Available metrics are: loss,mse\n",
            "92/92 - 1s - loss: 71.1415 - mse: 5858.4883 - 977ms/epoch - 11ms/step\n",
            "Epoch 116/200\n",
            "WARNING:tensorflow:Can save best model only with val_loss available, skipping.\n",
            "WARNING:tensorflow:Early stopping conditioned on metric `val_loss` which is not available. Available metrics are: loss,mse\n",
            "92/92 - 1s - loss: 70.6923 - mse: 5788.7676 - 996ms/epoch - 11ms/step\n",
            "Epoch 117/200\n",
            "WARNING:tensorflow:Can save best model only with val_loss available, skipping.\n",
            "WARNING:tensorflow:Early stopping conditioned on metric `val_loss` which is not available. Available metrics are: loss,mse\n",
            "92/92 - 1s - loss: 71.1362 - mse: 5858.4092 - 954ms/epoch - 10ms/step\n",
            "Epoch 118/200\n",
            "WARNING:tensorflow:Can save best model only with val_loss available, skipping.\n",
            "WARNING:tensorflow:Early stopping conditioned on metric `val_loss` which is not available. Available metrics are: loss,mse\n",
            "92/92 - 1s - loss: 70.6961 - mse: 5789.1016 - 964ms/epoch - 10ms/step\n",
            "Epoch 119/200\n",
            "WARNING:tensorflow:Can save best model only with val_loss available, skipping.\n",
            "WARNING:tensorflow:Early stopping conditioned on metric `val_loss` which is not available. Available metrics are: loss,mse\n",
            "92/92 - 1s - loss: 71.1300 - mse: 5857.2939 - 989ms/epoch - 11ms/step\n",
            "Epoch 120/200\n",
            "WARNING:tensorflow:Can save best model only with val_loss available, skipping.\n",
            "WARNING:tensorflow:Early stopping conditioned on metric `val_loss` which is not available. Available metrics are: loss,mse\n",
            "92/92 - 1s - loss: 70.6909 - mse: 5788.2158 - 998ms/epoch - 11ms/step\n",
            "Epoch 121/200\n",
            "WARNING:tensorflow:Can save best model only with val_loss available, skipping.\n",
            "WARNING:tensorflow:Early stopping conditioned on metric `val_loss` which is not available. Available metrics are: loss,mse\n",
            "92/92 - 1s - loss: 71.1329 - mse: 5857.5322 - 951ms/epoch - 10ms/step\n",
            "Epoch 122/200\n",
            "WARNING:tensorflow:Can save best model only with val_loss available, skipping.\n",
            "WARNING:tensorflow:Early stopping conditioned on metric `val_loss` which is not available. Available metrics are: loss,mse\n",
            "92/92 - 1s - loss: 70.6846 - mse: 5787.4961 - 1s/epoch - 11ms/step\n",
            "Epoch 123/200\n",
            "WARNING:tensorflow:Can save best model only with val_loss available, skipping.\n",
            "WARNING:tensorflow:Early stopping conditioned on metric `val_loss` which is not available. Available metrics are: loss,mse\n",
            "92/92 - 1s - loss: 71.1313 - mse: 5857.4551 - 1s/epoch - 11ms/step\n",
            "Epoch 124/200\n",
            "WARNING:tensorflow:Can save best model only with val_loss available, skipping.\n",
            "WARNING:tensorflow:Early stopping conditioned on metric `val_loss` which is not available. Available metrics are: loss,mse\n",
            "92/92 - 1s - loss: 70.6850 - mse: 5787.6216 - 968ms/epoch - 11ms/step\n",
            "Epoch 125/200\n",
            "WARNING:tensorflow:Can save best model only with val_loss available, skipping.\n",
            "WARNING:tensorflow:Early stopping conditioned on metric `val_loss` which is not available. Available metrics are: loss,mse\n",
            "92/92 - 1s - loss: 71.1337 - mse: 5857.4434 - 969ms/epoch - 11ms/step\n",
            "Epoch 126/200\n",
            "WARNING:tensorflow:Can save best model only with val_loss available, skipping.\n",
            "WARNING:tensorflow:Early stopping conditioned on metric `val_loss` which is not available. Available metrics are: loss,mse\n",
            "92/92 - 1s - loss: 70.6885 - mse: 5788.0029 - 974ms/epoch - 11ms/step\n",
            "Epoch 127/200\n",
            "WARNING:tensorflow:Can save best model only with val_loss available, skipping.\n",
            "WARNING:tensorflow:Early stopping conditioned on metric `val_loss` which is not available. Available metrics are: loss,mse\n",
            "92/92 - 1s - loss: 71.1363 - mse: 5858.2295 - 974ms/epoch - 11ms/step\n",
            "Epoch 128/200\n",
            "WARNING:tensorflow:Can save best model only with val_loss available, skipping.\n",
            "WARNING:tensorflow:Early stopping conditioned on metric `val_loss` which is not available. Available metrics are: loss,mse\n",
            "92/92 - 1s - loss: 70.6842 - mse: 5787.4160 - 975ms/epoch - 11ms/step\n",
            "Epoch 129/200\n",
            "WARNING:tensorflow:Can save best model only with val_loss available, skipping.\n",
            "WARNING:tensorflow:Early stopping conditioned on metric `val_loss` which is not available. Available metrics are: loss,mse\n",
            "92/92 - 1s - loss: 71.1346 - mse: 5857.9775 - 978ms/epoch - 11ms/step\n",
            "Epoch 130/200\n",
            "WARNING:tensorflow:Can save best model only with val_loss available, skipping.\n",
            "WARNING:tensorflow:Early stopping conditioned on metric `val_loss` which is not available. Available metrics are: loss,mse\n",
            "92/92 - 1s - loss: 70.6931 - mse: 5788.5659 - 979ms/epoch - 11ms/step\n",
            "Epoch 131/200\n",
            "WARNING:tensorflow:Can save best model only with val_loss available, skipping.\n",
            "WARNING:tensorflow:Early stopping conditioned on metric `val_loss` which is not available. Available metrics are: loss,mse\n",
            "92/92 - 1s - loss: 71.1320 - mse: 5857.5615 - 1s/epoch - 11ms/step\n",
            "Epoch 132/200\n",
            "WARNING:tensorflow:Can save best model only with val_loss available, skipping.\n",
            "WARNING:tensorflow:Early stopping conditioned on metric `val_loss` which is not available. Available metrics are: loss,mse\n",
            "92/92 - 1s - loss: 70.6819 - mse: 5786.9839 - 973ms/epoch - 11ms/step\n",
            "Epoch 133/200\n",
            "WARNING:tensorflow:Can save best model only with val_loss available, skipping.\n",
            "WARNING:tensorflow:Early stopping conditioned on metric `val_loss` which is not available. Available metrics are: loss,mse\n",
            "92/92 - 1s - loss: 71.1428 - mse: 5859.4004 - 1s/epoch - 11ms/step\n",
            "Epoch 134/200\n",
            "WARNING:tensorflow:Can save best model only with val_loss available, skipping.\n",
            "WARNING:tensorflow:Early stopping conditioned on metric `val_loss` which is not available. Available metrics are: loss,mse\n",
            "92/92 - 1s - loss: 70.6839 - mse: 5787.2480 - 964ms/epoch - 10ms/step\n",
            "Epoch 135/200\n",
            "WARNING:tensorflow:Can save best model only with val_loss available, skipping.\n",
            "WARNING:tensorflow:Early stopping conditioned on metric `val_loss` which is not available. Available metrics are: loss,mse\n",
            "92/92 - 1s - loss: 71.1373 - mse: 5858.0415 - 953ms/epoch - 10ms/step\n",
            "Epoch 136/200\n",
            "WARNING:tensorflow:Can save best model only with val_loss available, skipping.\n",
            "WARNING:tensorflow:Early stopping conditioned on metric `val_loss` which is not available. Available metrics are: loss,mse\n",
            "92/92 - 1s - loss: 70.6838 - mse: 5787.5889 - 996ms/epoch - 11ms/step\n",
            "Epoch 137/200\n",
            "WARNING:tensorflow:Can save best model only with val_loss available, skipping.\n",
            "WARNING:tensorflow:Early stopping conditioned on metric `val_loss` which is not available. Available metrics are: loss,mse\n",
            "92/92 - 1s - loss: 71.1328 - mse: 5857.7324 - 955ms/epoch - 10ms/step\n",
            "Epoch 138/200\n",
            "WARNING:tensorflow:Can save best model only with val_loss available, skipping.\n",
            "WARNING:tensorflow:Early stopping conditioned on metric `val_loss` which is not available. Available metrics are: loss,mse\n",
            "92/92 - 1s - loss: 70.6853 - mse: 5787.2979 - 982ms/epoch - 11ms/step\n",
            "Epoch 139/200\n",
            "WARNING:tensorflow:Can save best model only with val_loss available, skipping.\n",
            "WARNING:tensorflow:Early stopping conditioned on metric `val_loss` which is not available. Available metrics are: loss,mse\n",
            "92/92 - 1s - loss: 71.1412 - mse: 5859.1631 - 986ms/epoch - 11ms/step\n",
            "Epoch 140/200\n",
            "WARNING:tensorflow:Can save best model only with val_loss available, skipping.\n",
            "WARNING:tensorflow:Early stopping conditioned on metric `val_loss` which is not available. Available metrics are: loss,mse\n",
            "92/92 - 1s - loss: 70.6949 - mse: 5789.0605 - 965ms/epoch - 10ms/step\n",
            "Epoch 141/200\n",
            "WARNING:tensorflow:Can save best model only with val_loss available, skipping.\n",
            "WARNING:tensorflow:Early stopping conditioned on metric `val_loss` which is not available. Available metrics are: loss,mse\n",
            "92/92 - 1s - loss: 71.1334 - mse: 5857.7876 - 991ms/epoch - 11ms/step\n",
            "Epoch 142/200\n",
            "WARNING:tensorflow:Can save best model only with val_loss available, skipping.\n",
            "WARNING:tensorflow:Early stopping conditioned on metric `val_loss` which is not available. Available metrics are: loss,mse\n",
            "92/92 - 1s - loss: 70.6911 - mse: 5788.4766 - 946ms/epoch - 10ms/step\n",
            "Epoch 143/200\n",
            "WARNING:tensorflow:Can save best model only with val_loss available, skipping.\n",
            "WARNING:tensorflow:Early stopping conditioned on metric `val_loss` which is not available. Available metrics are: loss,mse\n",
            "92/92 - 1s - loss: 71.1356 - mse: 5857.9380 - 987ms/epoch - 11ms/step\n",
            "Epoch 144/200\n",
            "WARNING:tensorflow:Can save best model only with val_loss available, skipping.\n",
            "WARNING:tensorflow:Early stopping conditioned on metric `val_loss` which is not available. Available metrics are: loss,mse\n",
            "92/92 - 1s - loss: 70.6856 - mse: 5787.9189 - 996ms/epoch - 11ms/step\n",
            "Epoch 145/200\n",
            "WARNING:tensorflow:Can save best model only with val_loss available, skipping.\n",
            "WARNING:tensorflow:Early stopping conditioned on metric `val_loss` which is not available. Available metrics are: loss,mse\n",
            "92/92 - 1s - loss: 71.1405 - mse: 5859.2437 - 948ms/epoch - 10ms/step\n",
            "Epoch 146/200\n",
            "WARNING:tensorflow:Can save best model only with val_loss available, skipping.\n",
            "WARNING:tensorflow:Early stopping conditioned on metric `val_loss` which is not available. Available metrics are: loss,mse\n",
            "92/92 - 1s - loss: 70.6901 - mse: 5788.1147 - 970ms/epoch - 11ms/step\n",
            "Epoch 147/200\n",
            "WARNING:tensorflow:Can save best model only with val_loss available, skipping.\n",
            "WARNING:tensorflow:Early stopping conditioned on metric `val_loss` which is not available. Available metrics are: loss,mse\n",
            "92/92 - 1s - loss: 71.1402 - mse: 5859.2070 - 1s/epoch - 16ms/step\n",
            "Epoch 148/200\n",
            "WARNING:tensorflow:Can save best model only with val_loss available, skipping.\n",
            "WARNING:tensorflow:Early stopping conditioned on metric `val_loss` which is not available. Available metrics are: loss,mse\n",
            "92/92 - 1s - loss: 70.6945 - mse: 5788.6870 - 1s/epoch - 12ms/step\n",
            "Epoch 149/200\n",
            "WARNING:tensorflow:Can save best model only with val_loss available, skipping.\n",
            "WARNING:tensorflow:Early stopping conditioned on metric `val_loss` which is not available. Available metrics are: loss,mse\n",
            "92/92 - 1s - loss: 71.1357 - mse: 5857.9414 - 960ms/epoch - 10ms/step\n",
            "Epoch 150/200\n",
            "WARNING:tensorflow:Can save best model only with val_loss available, skipping.\n",
            "WARNING:tensorflow:Early stopping conditioned on metric `val_loss` which is not available. Available metrics are: loss,mse\n",
            "92/92 - 1s - loss: 70.6991 - mse: 5789.8701 - 978ms/epoch - 11ms/step\n",
            "Epoch 151/200\n",
            "WARNING:tensorflow:Can save best model only with val_loss available, skipping.\n",
            "WARNING:tensorflow:Early stopping conditioned on metric `val_loss` which is not available. Available metrics are: loss,mse\n",
            "92/92 - 1s - loss: 71.1317 - mse: 5857.6919 - 966ms/epoch - 10ms/step\n",
            "Epoch 152/200\n",
            "WARNING:tensorflow:Can save best model only with val_loss available, skipping.\n",
            "WARNING:tensorflow:Early stopping conditioned on metric `val_loss` which is not available. Available metrics are: loss,mse\n",
            "92/92 - 1s - loss: 70.6835 - mse: 5788.0410 - 963ms/epoch - 10ms/step\n",
            "Epoch 153/200\n",
            "WARNING:tensorflow:Can save best model only with val_loss available, skipping.\n",
            "WARNING:tensorflow:Early stopping conditioned on metric `val_loss` which is not available. Available metrics are: loss,mse\n",
            "92/92 - 1s - loss: 71.1359 - mse: 5858.1230 - 969ms/epoch - 11ms/step\n",
            "Epoch 154/200\n",
            "WARNING:tensorflow:Can save best model only with val_loss available, skipping.\n",
            "WARNING:tensorflow:Early stopping conditioned on metric `val_loss` which is not available. Available metrics are: loss,mse\n",
            "92/92 - 1s - loss: 70.6873 - mse: 5788.4575 - 962ms/epoch - 10ms/step\n",
            "Epoch 155/200\n",
            "WARNING:tensorflow:Can save best model only with val_loss available, skipping.\n",
            "WARNING:tensorflow:Early stopping conditioned on metric `val_loss` which is not available. Available metrics are: loss,mse\n",
            "92/92 - 1s - loss: 71.1360 - mse: 5858.2720 - 952ms/epoch - 10ms/step\n",
            "Epoch 156/200\n",
            "WARNING:tensorflow:Can save best model only with val_loss available, skipping.\n",
            "WARNING:tensorflow:Early stopping conditioned on metric `val_loss` which is not available. Available metrics are: loss,mse\n",
            "92/92 - 1s - loss: 70.6881 - mse: 5788.0308 - 981ms/epoch - 11ms/step\n",
            "Epoch 157/200\n",
            "WARNING:tensorflow:Can save best model only with val_loss available, skipping.\n",
            "WARNING:tensorflow:Early stopping conditioned on metric `val_loss` which is not available. Available metrics are: loss,mse\n",
            "92/92 - 1s - loss: 71.1386 - mse: 5858.7485 - 976ms/epoch - 11ms/step\n",
            "Epoch 158/200\n",
            "WARNING:tensorflow:Can save best model only with val_loss available, skipping.\n",
            "WARNING:tensorflow:Early stopping conditioned on metric `val_loss` which is not available. Available metrics are: loss,mse\n",
            "92/92 - 1s - loss: 70.6885 - mse: 5787.8540 - 973ms/epoch - 11ms/step\n",
            "Epoch 159/200\n",
            "WARNING:tensorflow:Can save best model only with val_loss available, skipping.\n",
            "WARNING:tensorflow:Early stopping conditioned on metric `val_loss` which is not available. Available metrics are: loss,mse\n",
            "92/92 - 1s - loss: 71.1344 - mse: 5858.1938 - 972ms/epoch - 11ms/step\n",
            "Epoch 160/200\n",
            "WARNING:tensorflow:Can save best model only with val_loss available, skipping.\n",
            "WARNING:tensorflow:Early stopping conditioned on metric `val_loss` which is not available. Available metrics are: loss,mse\n",
            "92/92 - 1s - loss: 70.6888 - mse: 5788.1494 - 966ms/epoch - 10ms/step\n",
            "Epoch 161/200\n",
            "WARNING:tensorflow:Can save best model only with val_loss available, skipping.\n",
            "WARNING:tensorflow:Early stopping conditioned on metric `val_loss` which is not available. Available metrics are: loss,mse\n",
            "92/92 - 1s - loss: 71.1357 - mse: 5858.1821 - 944ms/epoch - 10ms/step\n",
            "Epoch 162/200\n",
            "WARNING:tensorflow:Can save best model only with val_loss available, skipping.\n",
            "WARNING:tensorflow:Early stopping conditioned on metric `val_loss` which is not available. Available metrics are: loss,mse\n",
            "92/92 - 1s - loss: 70.6890 - mse: 5788.5708 - 1s/epoch - 11ms/step\n",
            "Epoch 163/200\n",
            "WARNING:tensorflow:Can save best model only with val_loss available, skipping.\n",
            "WARNING:tensorflow:Early stopping conditioned on metric `val_loss` which is not available. Available metrics are: loss,mse\n",
            "92/92 - 1s - loss: 71.1425 - mse: 5858.9800 - 997ms/epoch - 11ms/step\n",
            "Epoch 164/200\n",
            "WARNING:tensorflow:Can save best model only with val_loss available, skipping.\n",
            "WARNING:tensorflow:Early stopping conditioned on metric `val_loss` which is not available. Available metrics are: loss,mse\n",
            "92/92 - 1s - loss: 70.6791 - mse: 5786.4971 - 963ms/epoch - 10ms/step\n",
            "Epoch 165/200\n",
            "WARNING:tensorflow:Can save best model only with val_loss available, skipping.\n",
            "WARNING:tensorflow:Early stopping conditioned on metric `val_loss` which is not available. Available metrics are: loss,mse\n",
            "92/92 - 1s - loss: 71.1391 - mse: 5859.0708 - 1s/epoch - 11ms/step\n",
            "Epoch 166/200\n",
            "WARNING:tensorflow:Can save best model only with val_loss available, skipping.\n",
            "WARNING:tensorflow:Early stopping conditioned on metric `val_loss` which is not available. Available metrics are: loss,mse\n",
            "92/92 - 1s - loss: 70.6927 - mse: 5788.8828 - 979ms/epoch - 11ms/step\n",
            "Epoch 167/200\n",
            "WARNING:tensorflow:Can save best model only with val_loss available, skipping.\n",
            "WARNING:tensorflow:Early stopping conditioned on metric `val_loss` which is not available. Available metrics are: loss,mse\n",
            "92/92 - 1s - loss: 71.1329 - mse: 5857.5063 - 951ms/epoch - 10ms/step\n",
            "Epoch 168/200\n",
            "WARNING:tensorflow:Can save best model only with val_loss available, skipping.\n",
            "WARNING:tensorflow:Early stopping conditioned on metric `val_loss` which is not available. Available metrics are: loss,mse\n",
            "92/92 - 1s - loss: 70.6927 - mse: 5789.3950 - 989ms/epoch - 11ms/step\n",
            "Epoch 169/200\n",
            "WARNING:tensorflow:Can save best model only with val_loss available, skipping.\n",
            "WARNING:tensorflow:Early stopping conditioned on metric `val_loss` which is not available. Available metrics are: loss,mse\n",
            "92/92 - 1s - loss: 71.1389 - mse: 5859.1074 - 970ms/epoch - 11ms/step\n",
            "Epoch 170/200\n",
            "WARNING:tensorflow:Can save best model only with val_loss available, skipping.\n",
            "WARNING:tensorflow:Early stopping conditioned on metric `val_loss` which is not available. Available metrics are: loss,mse\n",
            "92/92 - 1s - loss: 70.6909 - mse: 5788.8174 - 967ms/epoch - 11ms/step\n",
            "Epoch 171/200\n",
            "WARNING:tensorflow:Can save best model only with val_loss available, skipping.\n",
            "WARNING:tensorflow:Early stopping conditioned on metric `val_loss` which is not available. Available metrics are: loss,mse\n",
            "92/92 - 1s - loss: 71.1405 - mse: 5859.1968 - 970ms/epoch - 11ms/step\n",
            "Epoch 172/200\n",
            "WARNING:tensorflow:Can save best model only with val_loss available, skipping.\n",
            "WARNING:tensorflow:Early stopping conditioned on metric `val_loss` which is not available. Available metrics are: loss,mse\n",
            "92/92 - 1s - loss: 70.6901 - mse: 5788.6719 - 977ms/epoch - 11ms/step\n",
            "Epoch 173/200\n",
            "WARNING:tensorflow:Can save best model only with val_loss available, skipping.\n",
            "WARNING:tensorflow:Early stopping conditioned on metric `val_loss` which is not available. Available metrics are: loss,mse\n",
            "92/92 - 1s - loss: 71.1400 - mse: 5858.7930 - 953ms/epoch - 10ms/step\n",
            "Epoch 174/200\n",
            "WARNING:tensorflow:Can save best model only with val_loss available, skipping.\n",
            "WARNING:tensorflow:Early stopping conditioned on metric `val_loss` which is not available. Available metrics are: loss,mse\n",
            "92/92 - 1s - loss: 70.6862 - mse: 5787.9058 - 973ms/epoch - 11ms/step\n",
            "Epoch 175/200\n",
            "WARNING:tensorflow:Can save best model only with val_loss available, skipping.\n",
            "WARNING:tensorflow:Early stopping conditioned on metric `val_loss` which is not available. Available metrics are: loss,mse\n",
            "92/92 - 1s - loss: 71.1376 - mse: 5859.1118 - 969ms/epoch - 11ms/step\n",
            "Epoch 176/200\n",
            "WARNING:tensorflow:Can save best model only with val_loss available, skipping.\n",
            "WARNING:tensorflow:Early stopping conditioned on metric `val_loss` which is not available. Available metrics are: loss,mse\n",
            "92/92 - 1s - loss: 70.6958 - mse: 5789.3398 - 961ms/epoch - 10ms/step\n",
            "Epoch 177/200\n",
            "WARNING:tensorflow:Can save best model only with val_loss available, skipping.\n",
            "WARNING:tensorflow:Early stopping conditioned on metric `val_loss` which is not available. Available metrics are: loss,mse\n",
            "92/92 - 1s - loss: 71.1312 - mse: 5857.8223 - 983ms/epoch - 11ms/step\n",
            "Epoch 178/200\n",
            "WARNING:tensorflow:Can save best model only with val_loss available, skipping.\n",
            "WARNING:tensorflow:Early stopping conditioned on metric `val_loss` which is not available. Available metrics are: loss,mse\n",
            "92/92 - 1s - loss: 70.6876 - mse: 5788.1597 - 977ms/epoch - 11ms/step\n",
            "Epoch 179/200\n",
            "WARNING:tensorflow:Can save best model only with val_loss available, skipping.\n",
            "WARNING:tensorflow:Early stopping conditioned on metric `val_loss` which is not available. Available metrics are: loss,mse\n",
            "92/92 - 1s - loss: 71.1440 - mse: 5859.6621 - 995ms/epoch - 11ms/step\n",
            "Epoch 180/200\n",
            "WARNING:tensorflow:Can save best model only with val_loss available, skipping.\n",
            "WARNING:tensorflow:Early stopping conditioned on metric `val_loss` which is not available. Available metrics are: loss,mse\n",
            "92/92 - 1s - loss: 70.6922 - mse: 5788.9619 - 995ms/epoch - 11ms/step\n",
            "Epoch 181/200\n",
            "WARNING:tensorflow:Can save best model only with val_loss available, skipping.\n",
            "WARNING:tensorflow:Early stopping conditioned on metric `val_loss` which is not available. Available metrics are: loss,mse\n",
            "92/92 - 1s - loss: 71.1370 - mse: 5859.1826 - 988ms/epoch - 11ms/step\n",
            "Epoch 182/200\n",
            "WARNING:tensorflow:Can save best model only with val_loss available, skipping.\n",
            "WARNING:tensorflow:Early stopping conditioned on metric `val_loss` which is not available. Available metrics are: loss,mse\n",
            "92/92 - 1s - loss: 70.6867 - mse: 5788.3628 - 1s/epoch - 11ms/step\n",
            "Epoch 183/200\n",
            "WARNING:tensorflow:Can save best model only with val_loss available, skipping.\n",
            "WARNING:tensorflow:Early stopping conditioned on metric `val_loss` which is not available. Available metrics are: loss,mse\n",
            "92/92 - 1s - loss: 71.1435 - mse: 5859.5161 - 1s/epoch - 11ms/step\n",
            "Epoch 184/200\n",
            "WARNING:tensorflow:Can save best model only with val_loss available, skipping.\n",
            "WARNING:tensorflow:Early stopping conditioned on metric `val_loss` which is not available. Available metrics are: loss,mse\n",
            "92/92 - 1s - loss: 70.6807 - mse: 5787.2773 - 989ms/epoch - 11ms/step\n",
            "Epoch 185/200\n",
            "WARNING:tensorflow:Can save best model only with val_loss available, skipping.\n",
            "WARNING:tensorflow:Early stopping conditioned on metric `val_loss` which is not available. Available metrics are: loss,mse\n",
            "92/92 - 1s - loss: 71.1400 - mse: 5858.7974 - 998ms/epoch - 11ms/step\n",
            "Epoch 186/200\n",
            "WARNING:tensorflow:Can save best model only with val_loss available, skipping.\n",
            "WARNING:tensorflow:Early stopping conditioned on metric `val_loss` which is not available. Available metrics are: loss,mse\n",
            "92/92 - 1s - loss: 70.6920 - mse: 5788.9111 - 1s/epoch - 11ms/step\n",
            "Epoch 187/200\n",
            "WARNING:tensorflow:Can save best model only with val_loss available, skipping.\n",
            "WARNING:tensorflow:Early stopping conditioned on metric `val_loss` which is not available. Available metrics are: loss,mse\n",
            "92/92 - 1s - loss: 71.1349 - mse: 5858.3027 - 966ms/epoch - 10ms/step\n",
            "Epoch 188/200\n",
            "WARNING:tensorflow:Can save best model only with val_loss available, skipping.\n",
            "WARNING:tensorflow:Early stopping conditioned on metric `val_loss` which is not available. Available metrics are: loss,mse\n",
            "92/92 - 1s - loss: 70.6809 - mse: 5787.2866 - 952ms/epoch - 10ms/step\n",
            "Epoch 189/200\n",
            "WARNING:tensorflow:Can save best model only with val_loss available, skipping.\n",
            "WARNING:tensorflow:Early stopping conditioned on metric `val_loss` which is not available. Available metrics are: loss,mse\n",
            "92/92 - 1s - loss: 71.1368 - mse: 5858.4624 - 957ms/epoch - 10ms/step\n",
            "Epoch 190/200\n",
            "WARNING:tensorflow:Can save best model only with val_loss available, skipping.\n",
            "WARNING:tensorflow:Early stopping conditioned on metric `val_loss` which is not available. Available metrics are: loss,mse\n",
            "92/92 - 1s - loss: 70.6842 - mse: 5787.5728 - 968ms/epoch - 11ms/step\n",
            "Epoch 191/200\n",
            "WARNING:tensorflow:Can save best model only with val_loss available, skipping.\n",
            "WARNING:tensorflow:Early stopping conditioned on metric `val_loss` which is not available. Available metrics are: loss,mse\n",
            "92/92 - 1s - loss: 71.1364 - mse: 5858.6680 - 1s/epoch - 11ms/step\n",
            "Epoch 192/200\n",
            "WARNING:tensorflow:Can save best model only with val_loss available, skipping.\n",
            "WARNING:tensorflow:Early stopping conditioned on metric `val_loss` which is not available. Available metrics are: loss,mse\n",
            "92/92 - 1s - loss: 70.6930 - mse: 5789.0059 - 992ms/epoch - 11ms/step\n",
            "Epoch 193/200\n",
            "WARNING:tensorflow:Can save best model only with val_loss available, skipping.\n",
            "WARNING:tensorflow:Early stopping conditioned on metric `val_loss` which is not available. Available metrics are: loss,mse\n",
            "92/92 - 1s - loss: 71.1296 - mse: 5857.8574 - 959ms/epoch - 10ms/step\n",
            "Epoch 194/200\n",
            "WARNING:tensorflow:Can save best model only with val_loss available, skipping.\n",
            "WARNING:tensorflow:Early stopping conditioned on metric `val_loss` which is not available. Available metrics are: loss,mse\n",
            "92/92 - 1s - loss: 70.6888 - mse: 5788.7251 - 988ms/epoch - 11ms/step\n",
            "Epoch 195/200\n",
            "WARNING:tensorflow:Can save best model only with val_loss available, skipping.\n",
            "WARNING:tensorflow:Early stopping conditioned on metric `val_loss` which is not available. Available metrics are: loss,mse\n",
            "92/92 - 1s - loss: 71.1438 - mse: 5859.8096 - 969ms/epoch - 11ms/step\n",
            "Epoch 196/200\n",
            "WARNING:tensorflow:Can save best model only with val_loss available, skipping.\n",
            "WARNING:tensorflow:Early stopping conditioned on metric `val_loss` which is not available. Available metrics are: loss,mse\n",
            "92/92 - 1s - loss: 70.6948 - mse: 5789.5239 - 981ms/epoch - 11ms/step\n",
            "Epoch 197/200\n",
            "WARNING:tensorflow:Can save best model only with val_loss available, skipping.\n",
            "WARNING:tensorflow:Early stopping conditioned on metric `val_loss` which is not available. Available metrics are: loss,mse\n",
            "92/92 - 1s - loss: 71.1359 - mse: 5858.4487 - 1s/epoch - 11ms/step\n",
            "Epoch 198/200\n",
            "WARNING:tensorflow:Can save best model only with val_loss available, skipping.\n",
            "WARNING:tensorflow:Early stopping conditioned on metric `val_loss` which is not available. Available metrics are: loss,mse\n",
            "92/92 - 1s - loss: 70.6879 - mse: 5788.0962 - 964ms/epoch - 10ms/step\n",
            "Epoch 199/200\n",
            "WARNING:tensorflow:Can save best model only with val_loss available, skipping.\n",
            "WARNING:tensorflow:Early stopping conditioned on metric `val_loss` which is not available. Available metrics are: loss,mse\n",
            "92/92 - 1s - loss: 71.1389 - mse: 5858.8394 - 963ms/epoch - 10ms/step\n",
            "Epoch 200/200\n",
            "WARNING:tensorflow:Can save best model only with val_loss available, skipping.\n",
            "WARNING:tensorflow:Early stopping conditioned on metric `val_loss` which is not available. Available metrics are: loss,mse\n",
            "92/92 - 1s - loss: 70.6881 - mse: 5788.4390 - 960ms/epoch - 10ms/step\n"
          ]
        }
      ]
    },
    {
      "cell_type": "code",
      "source": [
        "plot_learning_curves(LSTM_model_history.history[\"loss\", LSTM_model_history.history['val_loss']])\n",
        "plt.show()"
      ],
      "metadata": {
        "colab": {
          "base_uri": "https://localhost:8080/",
          "height": 193
        },
        "id": "Y6NeQj6fzfNt",
        "outputId": "ac3fdba5-0dac-4a56-9151-1514875c5720"
      },
      "execution_count": 43,
      "outputs": [
        {
          "output_type": "error",
          "ename": "NameError",
          "evalue": "ignored",
          "traceback": [
            "\u001b[0;31m---------------------------------------------------------------------------\u001b[0m",
            "\u001b[0;31mNameError\u001b[0m                                 Traceback (most recent call last)",
            "\u001b[0;32m<ipython-input-43-29d95fca3f0a>\u001b[0m in \u001b[0;36m<module>\u001b[0;34m()\u001b[0m\n\u001b[0;32m----> 1\u001b[0;31m \u001b[0mplot_learning_curves\u001b[0m\u001b[0;34m(\u001b[0m\u001b[0mLSTM_model_history\u001b[0m\u001b[0;34m.\u001b[0m\u001b[0mhistory\u001b[0m\u001b[0;34m[\u001b[0m\u001b[0;34m\"loss\"\u001b[0m\u001b[0;34m,\u001b[0m \u001b[0mLSTM_model_history\u001b[0m\u001b[0;34m.\u001b[0m\u001b[0mhistory\u001b[0m\u001b[0;34m[\u001b[0m\u001b[0;34m'val_loss'\u001b[0m\u001b[0;34m]\u001b[0m\u001b[0;34m]\u001b[0m\u001b[0;34m)\u001b[0m\u001b[0;34m\u001b[0m\u001b[0;34m\u001b[0m\u001b[0m\n\u001b[0m\u001b[1;32m      2\u001b[0m \u001b[0mplt\u001b[0m\u001b[0;34m.\u001b[0m\u001b[0mshow\u001b[0m\u001b[0;34m(\u001b[0m\u001b[0;34m)\u001b[0m\u001b[0;34m\u001b[0m\u001b[0;34m\u001b[0m\u001b[0m\n",
            "\u001b[0;31mNameError\u001b[0m: name 'plot_learning_curves' is not defined"
          ]
        }
      ]
    },
    {
      "cell_type": "code",
      "source": [
        "fig, ax = plt.subplots(1, figsize = (15, 12))\n",
        "ax.plot(range(len(y_train_single)), y_train_single, c = 'b', label = 'Past')\n",
        "ax.plot(range(len(y_train_single), len(y_test_single) + len(y_train_single)), y_test_single, c = 'r', label = 'True')\n",
        "ax.plot(range(len(y_train_single), len(y_test_single) + len(y_train_single)), LSTM_model.predict(x_test_single), c = 'g', label = 'LSTM Data')\n",
        "\n",
        "\n",
        "ax.set_title(\"Close data\")\n",
        "ax.set_xlabel(\"Day\")\n",
        "ax.set_ylabel(\"Closing price(scale\")\n",
        "plt.legend()\n",
        "plt.show()"
      ],
      "metadata": {
        "colab": {
          "base_uri": "https://localhost:8080/",
          "height": 1000
        },
        "id": "rWPFVVk90wEv",
        "outputId": "80172977-051f-4487-c3ad-41deffcfe465"
      },
      "execution_count": 44,
      "outputs": [
        {
          "output_type": "error",
          "ename": "ValueError",
          "evalue": "ignored",
          "traceback": [
            "\u001b[0;31m---------------------------------------------------------------------------\u001b[0m",
            "\u001b[0;31mValueError\u001b[0m                                Traceback (most recent call last)",
            "\u001b[0;32m<ipython-input-44-55f6c1fbfd19>\u001b[0m in \u001b[0;36m<module>\u001b[0;34m()\u001b[0m\n\u001b[1;32m      2\u001b[0m \u001b[0max\u001b[0m\u001b[0;34m.\u001b[0m\u001b[0mplot\u001b[0m\u001b[0;34m(\u001b[0m\u001b[0mrange\u001b[0m\u001b[0;34m(\u001b[0m\u001b[0mlen\u001b[0m\u001b[0;34m(\u001b[0m\u001b[0my_train_single\u001b[0m\u001b[0;34m)\u001b[0m\u001b[0;34m)\u001b[0m\u001b[0;34m,\u001b[0m \u001b[0my_train_single\u001b[0m\u001b[0;34m,\u001b[0m \u001b[0mc\u001b[0m \u001b[0;34m=\u001b[0m \u001b[0;34m'b'\u001b[0m\u001b[0;34m,\u001b[0m \u001b[0mlabel\u001b[0m \u001b[0;34m=\u001b[0m \u001b[0;34m'Past'\u001b[0m\u001b[0;34m)\u001b[0m\u001b[0;34m\u001b[0m\u001b[0;34m\u001b[0m\u001b[0m\n\u001b[1;32m      3\u001b[0m \u001b[0max\u001b[0m\u001b[0;34m.\u001b[0m\u001b[0mplot\u001b[0m\u001b[0;34m(\u001b[0m\u001b[0mrange\u001b[0m\u001b[0;34m(\u001b[0m\u001b[0mlen\u001b[0m\u001b[0;34m(\u001b[0m\u001b[0my_train_single\u001b[0m\u001b[0;34m)\u001b[0m\u001b[0;34m,\u001b[0m \u001b[0mlen\u001b[0m\u001b[0;34m(\u001b[0m\u001b[0my_test_single\u001b[0m\u001b[0;34m)\u001b[0m \u001b[0;34m+\u001b[0m \u001b[0mlen\u001b[0m\u001b[0;34m(\u001b[0m\u001b[0my_train_single\u001b[0m\u001b[0;34m)\u001b[0m\u001b[0;34m)\u001b[0m\u001b[0;34m,\u001b[0m \u001b[0my_test_single\u001b[0m\u001b[0;34m,\u001b[0m \u001b[0mc\u001b[0m \u001b[0;34m=\u001b[0m \u001b[0;34m'r'\u001b[0m\u001b[0;34m,\u001b[0m \u001b[0mlabel\u001b[0m \u001b[0;34m=\u001b[0m \u001b[0;34m'True'\u001b[0m\u001b[0;34m)\u001b[0m\u001b[0;34m\u001b[0m\u001b[0;34m\u001b[0m\u001b[0m\n\u001b[0;32m----> 4\u001b[0;31m \u001b[0max\u001b[0m\u001b[0;34m.\u001b[0m\u001b[0mplot\u001b[0m\u001b[0;34m(\u001b[0m\u001b[0mrange\u001b[0m\u001b[0;34m(\u001b[0m\u001b[0mlen\u001b[0m\u001b[0;34m(\u001b[0m\u001b[0my_train_single\u001b[0m\u001b[0;34m)\u001b[0m\u001b[0;34m,\u001b[0m \u001b[0mlen\u001b[0m\u001b[0;34m(\u001b[0m\u001b[0my_test_single\u001b[0m\u001b[0;34m)\u001b[0m \u001b[0;34m+\u001b[0m \u001b[0mlen\u001b[0m\u001b[0;34m(\u001b[0m\u001b[0my_train_single\u001b[0m\u001b[0;34m)\u001b[0m\u001b[0;34m)\u001b[0m\u001b[0;34m,\u001b[0m \u001b[0mLSTM_model\u001b[0m\u001b[0;34m.\u001b[0m\u001b[0mpredict\u001b[0m\u001b[0;34m(\u001b[0m\u001b[0mx_test_single\u001b[0m\u001b[0;34m)\u001b[0m\u001b[0;34m,\u001b[0m \u001b[0mc\u001b[0m \u001b[0;34m=\u001b[0m \u001b[0;34m'g'\u001b[0m\u001b[0;34m,\u001b[0m \u001b[0mlabel\u001b[0m \u001b[0;34m=\u001b[0m \u001b[0;34m'LSTM Data'\u001b[0m\u001b[0;34m)\u001b[0m\u001b[0;34m\u001b[0m\u001b[0;34m\u001b[0m\u001b[0m\n\u001b[0m\u001b[1;32m      5\u001b[0m \u001b[0;34m\u001b[0m\u001b[0m\n\u001b[1;32m      6\u001b[0m \u001b[0;34m\u001b[0m\u001b[0m\n",
            "\u001b[0;32m/usr/local/lib/python3.7/dist-packages/keras/utils/traceback_utils.py\u001b[0m in \u001b[0;36merror_handler\u001b[0;34m(*args, **kwargs)\u001b[0m\n\u001b[1;32m     65\u001b[0m     \u001b[0;32mexcept\u001b[0m \u001b[0mException\u001b[0m \u001b[0;32mas\u001b[0m \u001b[0me\u001b[0m\u001b[0;34m:\u001b[0m  \u001b[0;31m# pylint: disable=broad-except\u001b[0m\u001b[0;34m\u001b[0m\u001b[0;34m\u001b[0m\u001b[0m\n\u001b[1;32m     66\u001b[0m       \u001b[0mfiltered_tb\u001b[0m \u001b[0;34m=\u001b[0m \u001b[0m_process_traceback_frames\u001b[0m\u001b[0;34m(\u001b[0m\u001b[0me\u001b[0m\u001b[0;34m.\u001b[0m\u001b[0m__traceback__\u001b[0m\u001b[0;34m)\u001b[0m\u001b[0;34m\u001b[0m\u001b[0;34m\u001b[0m\u001b[0m\n\u001b[0;32m---> 67\u001b[0;31m       \u001b[0;32mraise\u001b[0m \u001b[0me\u001b[0m\u001b[0;34m.\u001b[0m\u001b[0mwith_traceback\u001b[0m\u001b[0;34m(\u001b[0m\u001b[0mfiltered_tb\u001b[0m\u001b[0;34m)\u001b[0m \u001b[0;32mfrom\u001b[0m \u001b[0;32mNone\u001b[0m\u001b[0;34m\u001b[0m\u001b[0;34m\u001b[0m\u001b[0m\n\u001b[0m\u001b[1;32m     68\u001b[0m     \u001b[0;32mfinally\u001b[0m\u001b[0;34m:\u001b[0m\u001b[0;34m\u001b[0m\u001b[0;34m\u001b[0m\u001b[0m\n\u001b[1;32m     69\u001b[0m       \u001b[0;32mdel\u001b[0m \u001b[0mfiltered_tb\u001b[0m\u001b[0;34m\u001b[0m\u001b[0;34m\u001b[0m\u001b[0m\n",
            "\u001b[0;32m/usr/local/lib/python3.7/dist-packages/keras/engine/training.py\u001b[0m in \u001b[0;36mpredict\u001b[0;34m(self, x, batch_size, verbose, steps, callbacks, max_queue_size, workers, use_multiprocessing)\u001b[0m\n\u001b[1;32m   1995\u001b[0m             \u001b[0mcallbacks\u001b[0m\u001b[0;34m.\u001b[0m\u001b[0mon_predict_batch_end\u001b[0m\u001b[0;34m(\u001b[0m\u001b[0mend_step\u001b[0m\u001b[0;34m,\u001b[0m \u001b[0;34m{\u001b[0m\u001b[0;34m'outputs'\u001b[0m\u001b[0;34m:\u001b[0m \u001b[0mbatch_outputs\u001b[0m\u001b[0;34m}\u001b[0m\u001b[0;34m)\u001b[0m\u001b[0;34m\u001b[0m\u001b[0;34m\u001b[0m\u001b[0m\n\u001b[1;32m   1996\u001b[0m       \u001b[0;32mif\u001b[0m \u001b[0mbatch_outputs\u001b[0m \u001b[0;32mis\u001b[0m \u001b[0;32mNone\u001b[0m\u001b[0;34m:\u001b[0m\u001b[0;34m\u001b[0m\u001b[0;34m\u001b[0m\u001b[0m\n\u001b[0;32m-> 1997\u001b[0;31m         raise ValueError('Unexpected result of `predict_function` '\n\u001b[0m\u001b[1;32m   1998\u001b[0m                          \u001b[0;34m'(Empty batch_outputs). Please use '\u001b[0m\u001b[0;34m\u001b[0m\u001b[0;34m\u001b[0m\u001b[0m\n\u001b[1;32m   1999\u001b[0m                          \u001b[0;34m'`Model.compile(..., run_eagerly=True)`, or '\u001b[0m\u001b[0;34m\u001b[0m\u001b[0;34m\u001b[0m\u001b[0m\n",
            "\u001b[0;31mValueError\u001b[0m: Unexpected result of `predict_function` (Empty batch_outputs). Please use `Model.compile(..., run_eagerly=True)`, or `tf.config.run_functions_eagerly(True)` for more information of where went wrong, or file a issue/bug to `tf.keras`."
          ]
        },
        {
          "output_type": "display_data",
          "data": {
            "text/plain": [
              "<Figure size 1080x864 with 1 Axes>"
            ],
            "image/png": "[encoded data removed]"
          },
          "metadata": {
            "needs_background": "light"
          }
        }
      ]
    },
    {
      "cell_type": "code",
      "source": [
        ""
      ],
      "metadata": {
        "id": "UpujvJXU1iPK"
      },
      "execution_count": null,
      "outputs": []
    }
  ]
}